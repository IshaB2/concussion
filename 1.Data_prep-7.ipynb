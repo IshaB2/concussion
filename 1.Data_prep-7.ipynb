{
 "cells": [
  {
   "cell_type": "code",
   "execution_count": 1,
   "metadata": {},
   "outputs": [],
   "source": [
    "import os\n",
    "import mne\n",
    "import numpy as np\n",
    "import pandas as pd\n",
    "from scipy.stats import skew, kurtosis\n",
    "from scipy.signal import find_peaks\n",
    "from mne.time_frequency import psd_array_multitaper"
   ]
  },
  {
   "cell_type": "code",
   "execution_count": 2,
   "metadata": {},
   "outputs": [],
   "source": [
    "# Path to the dataset root\n",
    "data_dir = './ds003523'\n",
    "\n",
    "# Initialize lists for features and labels\n",
    "all_features = []\n",
    "all_labels = []\n",
    "\n",
    "# Define frequency bands\n",
    "band_ranges = {\n",
    "    'delta': (0.5, 4),\n",
    "    'theta': (4, 8),\n",
    "    'alpha': (8, 13),\n",
    "    'beta': (13, 30),\n",
    "    'gamma': (30, 100)\n",
    "}\n",
    "\n",
    "\n",
    "# Load participants.tsv to get the Group labels\n",
    "participants_file = os.path.join(data_dir, 'participants.tsv')\n",
    "participants = pd.read_csv(participants_file, sep='\\t')\n",
    "# participa\n",
    "# # Map Group levels to numeric labels\n",
    "# group_mapping = {'zero': 0, 'one': 1}  # 0: mTBI, 1: Control\n",
    "# participants['Group'] = participants['Group'].map(group_mapping)\n"
   ]
  },
  {
   "cell_type": "code",
   "execution_count": 3,
   "metadata": {},
   "outputs": [
    {
     "data": {
      "text/html": [
       "<div>\n",
       "<style scoped>\n",
       "    .dataframe tbody tr th:only-of-type {\n",
       "        vertical-align: middle;\n",
       "    }\n",
       "\n",
       "    .dataframe tbody tr th {\n",
       "        vertical-align: top;\n",
       "    }\n",
       "\n",
       "    .dataframe thead th {\n",
       "        text-align: right;\n",
       "    }\n",
       "</style>\n",
       "<table border=\"1\" class=\"dataframe\">\n",
       "  <thead>\n",
       "    <tr style=\"text-align: right;\">\n",
       "      <th></th>\n",
       "      <th>participant_id</th>\n",
       "      <th>Original_ID</th>\n",
       "      <th>URSI</th>\n",
       "      <th>sex</th>\n",
       "      <th>age</th>\n",
       "      <th>Group</th>\n",
       "    </tr>\n",
       "  </thead>\n",
       "  <tbody>\n",
       "    <tr>\n",
       "      <th>0</th>\n",
       "      <td>sub-001</td>\n",
       "      <td>3044</td>\n",
       "      <td>M87102477</td>\n",
       "      <td>1</td>\n",
       "      <td>23</td>\n",
       "      <td>0</td>\n",
       "    </tr>\n",
       "    <tr>\n",
       "      <th>1</th>\n",
       "      <td>sub-002</td>\n",
       "      <td>3009</td>\n",
       "      <td>M87104171</td>\n",
       "      <td>0</td>\n",
       "      <td>30</td>\n",
       "      <td>1</td>\n",
       "    </tr>\n",
       "    <tr>\n",
       "      <th>2</th>\n",
       "      <td>sub-003</td>\n",
       "      <td>3042</td>\n",
       "      <td>M87104582</td>\n",
       "      <td>0</td>\n",
       "      <td>19</td>\n",
       "      <td>0</td>\n",
       "    </tr>\n",
       "    <tr>\n",
       "      <th>3</th>\n",
       "      <td>sub-004</td>\n",
       "      <td>3074</td>\n",
       "      <td>M87106278</td>\n",
       "      <td>0</td>\n",
       "      <td>19</td>\n",
       "      <td>0</td>\n",
       "    </tr>\n",
       "    <tr>\n",
       "      <th>4</th>\n",
       "      <td>sub-005</td>\n",
       "      <td>3076</td>\n",
       "      <td>M87107075</td>\n",
       "      <td>0</td>\n",
       "      <td>22</td>\n",
       "      <td>0</td>\n",
       "    </tr>\n",
       "    <tr>\n",
       "      <th>...</th>\n",
       "      <td>...</td>\n",
       "      <td>...</td>\n",
       "      <td>...</td>\n",
       "      <td>...</td>\n",
       "      <td>...</td>\n",
       "      <td>...</td>\n",
       "    </tr>\n",
       "    <tr>\n",
       "      <th>86</th>\n",
       "      <td>sub-087</td>\n",
       "      <td>3084</td>\n",
       "      <td>M87192041</td>\n",
       "      <td>0</td>\n",
       "      <td>34</td>\n",
       "      <td>0</td>\n",
       "    </tr>\n",
       "    <tr>\n",
       "      <th>87</th>\n",
       "      <td>sub-088</td>\n",
       "      <td>3063</td>\n",
       "      <td>M87192146</td>\n",
       "      <td>1</td>\n",
       "      <td>30</td>\n",
       "      <td>1</td>\n",
       "    </tr>\n",
       "    <tr>\n",
       "      <th>88</th>\n",
       "      <td>sub-089</td>\n",
       "      <td>3082</td>\n",
       "      <td>M87196019</td>\n",
       "      <td>0</td>\n",
       "      <td>24</td>\n",
       "      <td>0</td>\n",
       "    </tr>\n",
       "    <tr>\n",
       "      <th>89</th>\n",
       "      <td>sub-090</td>\n",
       "      <td>3007</td>\n",
       "      <td>M87196158</td>\n",
       "      <td>1</td>\n",
       "      <td>26</td>\n",
       "      <td>1</td>\n",
       "    </tr>\n",
       "    <tr>\n",
       "      <th>90</th>\n",
       "      <td>sub-091</td>\n",
       "      <td>3030</td>\n",
       "      <td>M87196898</td>\n",
       "      <td>0</td>\n",
       "      <td>18</td>\n",
       "      <td>0</td>\n",
       "    </tr>\n",
       "  </tbody>\n",
       "</table>\n",
       "<p>91 rows × 6 columns</p>\n",
       "</div>"
      ],
      "text/plain": [
       "   participant_id  Original_ID       URSI  sex  age  Group\n",
       "0         sub-001         3044  M87102477    1   23      0\n",
       "1         sub-002         3009  M87104171    0   30      1\n",
       "2         sub-003         3042  M87104582    0   19      0\n",
       "3         sub-004         3074  M87106278    0   19      0\n",
       "4         sub-005         3076  M87107075    0   22      0\n",
       "..            ...          ...        ...  ...  ...    ...\n",
       "86        sub-087         3084  M87192041    0   34      0\n",
       "87        sub-088         3063  M87192146    1   30      1\n",
       "88        sub-089         3082  M87196019    0   24      0\n",
       "89        sub-090         3007  M87196158    1   26      1\n",
       "90        sub-091         3030  M87196898    0   18      0\n",
       "\n",
       "[91 rows x 6 columns]"
      ]
     },
     "execution_count": 3,
     "metadata": {},
     "output_type": "execute_result"
    }
   ],
   "source": [
    "participants_file = os.path.join(data_dir, 'participants.tsv')\n",
    "participants = pd.read_csv(participants_file, sep='\\t')\n",
    "participants"
   ]
  },
  {
   "cell_type": "markdown",
   "metadata": {},
   "source": [
    "### Helper Functions"
   ]
  },
  {
   "cell_type": "code",
   "execution_count": 4,
   "metadata": {},
   "outputs": [],
   "source": [
    "# Function to compute additional features\n",
    "def compute_additional_features(epoch_data):\n",
    "    \"\"\"\n",
    "    Computes additional features like:\n",
    "    - Mean, variance, skewness, and kurtosis for time-domain data\n",
    "    - Line length (signal complexity)\n",
    "    \"\"\"\n",
    "    from scipy.stats import skew, kurtosis\n",
    "\n",
    "    # Mean and variance across time points\n",
    "    mean_values = epoch_data.mean(axis=1)\n",
    "    var_values = epoch_data.var(axis=1)\n",
    "\n",
    "    # Skewness and kurtosis across time points\n",
    "    skew_values = skew(epoch_data, axis=1)\n",
    "    kurtosis_values = kurtosis(epoch_data, axis=1)\n",
    "\n",
    "    # Line length (sum of absolute differences between consecutive samples)\n",
    "    line_length = np.sum(np.abs(np.diff(epoch_data, axis=1)), axis=1)\n",
    "\n",
    "    return mean_values, var_values, skew_values, kurtosis_values, line_length"
   ]
  },
  {
   "cell_type": "code",
   "execution_count": 5,
   "metadata": {},
   "outputs": [
    {
     "name": "stdout",
     "output_type": "stream",
     "text": [
      "   participant_id  Original_ID       URSI  sex  age  Group\n",
      "0         sub-001         3044  M87102477    1   23      0\n",
      "1         sub-002         3009  M87104171    0   30      1\n",
      "2         sub-003         3042  M87104582    0   19      0\n",
      "3         sub-004         3074  M87106278    0   19      0\n",
      "4         sub-005         3076  M87107075    0   22      0\n",
      "..            ...          ...        ...  ...  ...    ...\n",
      "86        sub-087         3084  M87192041    0   34      0\n",
      "87        sub-088         3063  M87192146    1   30      1\n",
      "88        sub-089         3082  M87196019    0   24      0\n",
      "89        sub-090         3007  M87196158    1   26      1\n",
      "90        sub-091         3030  M87196898    0   18      0\n",
      "\n",
      "[91 rows x 6 columns]\n",
      "   participant_id  Original_ID       URSI  sex  age  Group\n",
      "0         sub-001         3044  M87102477    1   23      0\n",
      "1         sub-002         3009  M87104171    0   30      1\n",
      "2         sub-003         3042  M87104582    0   19      0\n",
      "3         sub-004         3074  M87106278    0   19      0\n",
      "4         sub-005         3076  M87107075    0   22      0\n",
      "..            ...          ...        ...  ...  ...    ...\n",
      "86        sub-087         3084  M87192041    0   34      0\n",
      "87        sub-088         3063  M87192146    1   30      1\n",
      "88        sub-089         3082  M87196019    0   24      0\n",
      "89        sub-090         3007  M87196158    1   26      1\n",
      "90        sub-091         3030  M87196898    0   18      0\n",
      "\n",
      "[90 rows x 6 columns]\n",
      "[['sub-001' 3044 'M87102477' 1 23 0]\n",
      " ['sub-002' 3009 'M87104171' 0 30 1]\n",
      " ['sub-003' 3042 'M87104582' 0 19 0]\n",
      " ['sub-004' 3074 'M87106278' 0 19 0]\n",
      " ['sub-005' 3076 'M87107075' 0 22 0]\n",
      " ['sub-006' 3055 'M87108029' 0 22 1]\n",
      " ['sub-007' 3034 'M87108749' 0 22 0]\n",
      " ['sub-008' 3057 'M87108752' 0 39 1]\n",
      " ['sub-009' 3019 'M87108893' 0 45 1]\n",
      " ['sub-010' 3065 'M87109668' 0 21 1]\n",
      " ['sub-011' 3114 'M87110133' 0 20 0]\n",
      " ['sub-012' 3068 'M87111803' 1 49 0]\n",
      " ['sub-013' 3016 'M87111903' 0 49 0]\n",
      " ['sub-014' 3070 'M87113166' 1 29 0]\n",
      " ['sub-015' 3047 'M87114820' 1 49 1]\n",
      " ['sub-016' 3058 'M87115312' 0 28 0]\n",
      " ['sub-017' 3054 'M87115595' 0 21 0]\n",
      " ['sub-018' 3025 'M87117060' 1 55 1]\n",
      " ['sub-019' 3118 'M87117439' 0 20 0]\n",
      " ['sub-020' 3031 'M87120293' 1 50 1]\n",
      " ['sub-021' 3051 'M87122875' 0 32 1]\n",
      " ['sub-022' 3053 'M87122988' 1 51 1]\n",
      " ['sub-023' 3064 'M87123864' 0 22 0]\n",
      " ['sub-024' 3104 'M87125278' 1 27 0]\n",
      " ['sub-025' 3090 'M87125501' 0 20 0]\n",
      " ['sub-026' 3045 'M87125721' 0 18 1]\n",
      " ['sub-027' 3092 'M87127979' 0 21 0]\n",
      " ['sub-028' 3106 'M87128411' 1 20 0]\n",
      " ['sub-029' 3100 'M87128552' 1 21 0]\n",
      " ['sub-030' 3032 'M87130454' 1 48 0]\n",
      " ['sub-031' 3027 'M87130576' 1 27 1]\n",
      " ['sub-032' 3014 'M87133546' 0 26 0]\n",
      " ['sub-033' 3043 'M87134325' 1 31 1]\n",
      " ['sub-034' 3040 'M87137709' 1 30 0]\n",
      " ['sub-035' 3038 'M87137901' 0 25 0]\n",
      " ['sub-037' 3013 'M87138432' 0 50 1]\n",
      " ['sub-038' 3050 'M87139163' 0 19 0]\n",
      " ['sub-039' 3086 'M87139716' 0 21 0]\n",
      " ['sub-040' 3023 'M87141465' 1 21 1]\n",
      " ['sub-041' 3020 'M87141860' 1 34 0]\n",
      " ['sub-042' 3098 'M87146427' 0 40 0]\n",
      " ['sub-043' 3094 'M87149881' 1 52 0]\n",
      " ['sub-044' 3036 'M87150442' 0 20 0]\n",
      " ['sub-045' 3049 'M87151072' 0 18 1]\n",
      " ['sub-046' 3066 'M87151925' 1 28 0]\n",
      " ['sub-047' 3078 'M87152863' 0 34 0]\n",
      " ['sub-048' 3052 'M87153943' 0 26 0]\n",
      " ['sub-049' 3116 'M87154220' 0 43 0]\n",
      " ['sub-050' 3035 'M87155397' 0 28 1]\n",
      " ['sub-051' 3059 'M87155521' 1 23 1]\n",
      " ['sub-052' 3012 'M87156521' 1 27 0]\n",
      " ['sub-053' 3108 'M87160696' 0 49 0]\n",
      " ['sub-054' 3096 'M87161356' 0 55 0]\n",
      " ['sub-055' 3110 'M87162330' 1 29 0]\n",
      " ['sub-056' 3002 'M87164104' 1 21 0]\n",
      " ['sub-057' 3037 'M87165006' 0 21 1]\n",
      " ['sub-058' 3033 'M87165089' 0 26 1]\n",
      " ['sub-059' 3072 'M87165271' 1 55 0]\n",
      " ['sub-060' 3011 'M87165643' 0 21 1]\n",
      " ['sub-061' 3010 'M87166363' 0 27 0]\n",
      " ['sub-062' 3006 'M87166831' 0 30 0]\n",
      " ['sub-063' 3088 'M87167934' 0 43 0]\n",
      " ['sub-064' 3004 'M87169117' 1 21 0]\n",
      " ['sub-065' 3018 'M87170213' 0 21 0]\n",
      " ['sub-066' 3017 'M87170656' 0 38 1]\n",
      " ['sub-067' 3028 'M87170788' 0 23 0]\n",
      " ['sub-068' 3024 'M87171657' 1 25 0]\n",
      " ['sub-069' 3102 'M87171714' 1 43 0]\n",
      " ['sub-070' 3029 'M87175482' 0 27 1]\n",
      " ['sub-071' 3112 'M87175983' 1 34 0]\n",
      " ['sub-072' 3062 'M87177336' 0 37 0]\n",
      " ['sub-073' 3080 'M87179250' 0 25 0]\n",
      " ['sub-074' 3039 'M87180734' 1 21 1]\n",
      " ['sub-075' 3026 'M87182130' 1 20 0]\n",
      " ['sub-076' 3048 'M87182508' 1 21 0]\n",
      " ['sub-077' 3041 'M87182807' 1 20 1]\n",
      " ['sub-078' 3061 'M87183874' 1 33 1]\n",
      " ['sub-079' 3001 'M87184858' 0 25 1]\n",
      " ['sub-080' 3046 'M87185346' 0 27 0]\n",
      " ['sub-081' 3060 'M87185561' 1 22 0]\n",
      " ['sub-082' 3003 'M87187007' 1 19 1]\n",
      " ['sub-083' 3021 'M87187155' 1 38 1]\n",
      " ['sub-084' 3056 'M87189125' 0 52 0]\n",
      " ['sub-085' 3015 'M87189697' 1 20 1]\n",
      " ['sub-086' 3005 'M87189946' 1 23 1]\n",
      " ['sub-087' 3084 'M87192041' 0 34 0]\n",
      " ['sub-088' 3063 'M87192146' 1 30 1]\n",
      " ['sub-089' 3082 'M87196019' 0 24 0]\n",
      " ['sub-090' 3007 'M87196158' 1 26 1]\n",
      " ['sub-091' 3030 'M87196898' 0 18 0]]\n"
     ]
    }
   ],
   "source": [
    "# X = np.vstack(all_features)  # Features for all subjects and sessions\n",
    "# y = np.hstack(all_labels)  \n",
    "type(participants)\n",
    "print(participants)\n",
    "update_participants = participants.drop(35)\n",
    "print(update_participants)\n",
    "print(update_participants.values)"
   ]
  },
  {
   "cell_type": "code",
   "execution_count": null,
   "metadata": {},
   "outputs": [
    {
     "name": "stdout",
     "output_type": "stream",
     "text": [
      "['sub-001' 'sub-002' 'sub-003' 'sub-004' 'sub-005' 'sub-006' 'sub-007'\n",
      " 'sub-008' 'sub-009' 'sub-010' 'sub-011' 'sub-012' 'sub-013' 'sub-014'\n",
      " 'sub-015' 'sub-016' 'sub-017' 'sub-018' 'sub-019' 'sub-020' 'sub-021'\n",
      " 'sub-022' 'sub-023' 'sub-024' 'sub-025' 'sub-026' 'sub-027' 'sub-028'\n",
      " 'sub-029' 'sub-030' 'sub-031' 'sub-032' 'sub-033' 'sub-034' 'sub-035'\n",
      " 'sub-037' 'sub-038' 'sub-039' 'sub-040' 'sub-041' 'sub-042' 'sub-043'\n",
      " 'sub-044' 'sub-045' 'sub-046' 'sub-047' 'sub-048' 'sub-049' 'sub-050'\n",
      " 'sub-051' 'sub-052' 'sub-053' 'sub-054' 'sub-055' 'sub-056' 'sub-057'\n",
      " 'sub-058' 'sub-059' 'sub-060' 'sub-061' 'sub-062' 'sub-063' 'sub-064'\n",
      " 'sub-065' 'sub-066' 'sub-067' 'sub-068' 'sub-069' 'sub-070' 'sub-071'\n",
      " 'sub-072' 'sub-073' 'sub-074' 'sub-075' 'sub-076' 'sub-077' 'sub-078'\n",
      " 'sub-079' 'sub-080' 'sub-081' 'sub-082' 'sub-083' 'sub-084' 'sub-085'\n",
      " 'sub-086' 'sub-087' 'sub-088' 'sub-089' 'sub-090' 'sub-091']\n"
     ]
    },
    {
     "name": "stderr",
     "output_type": "stream",
     "text": [
      "[ERROR] NoDatasetFound(No dataset found at '/Users/ishabharti' for the purpose \"get content of <<['./ds003523/s++15 chars++eg']>>\".  Specify a dataset to work with by providing its path via the `dataset` option, or change the current working directory to be in a dataset.) (NoDatasetFound) \n",
      "usage: datalad get [-h] [-s LABEL] [-d PATH] [-r] [-R LEVELS] [-n]\n",
      "                   [-D DESCRIPTION] [--reckless [auto|ephemeral|shared-...]]\n",
      "                   [-J NJOBS] [--version]\n",
      "                   [PATH ...]\n"
     ]
    },
    {
     "name": "stdout",
     "output_type": "stream",
     "text": [
      "EEG file ./ds003523/sub-001/ses-01/eeg/sub-001_ses-01_task-VisualWorkingMemory_eeg.set\n",
      "/Users/ishabharti/EEGdata/sub-001_ses-01_task-VisualWorkingMemory_eeg.set\n",
      "Reading /Users/ishabharti/EEGdata/sub-001_ses-01_task-VisualWorkingMemory_eeg.fdt\n",
      "Reading 0 ... 697174  =      0.000 ...  1394.348 secs...\n",
      "Filtering raw data in 1 contiguous segment\n",
      "Setting up band-pass filter from 0.5 - 1e+02 Hz\n",
      "\n",
      "FIR filter parameters\n",
      "---------------------\n",
      "Designing a one-pass, zero-phase, non-causal bandpass filter:\n",
      "- Windowed time-domain design (firwin) method\n",
      "- Hamming window with 0.0194 passband ripple and 53 dB stopband attenuation\n",
      "- Lower passband edge: 0.50\n",
      "- Lower transition bandwidth: 0.50 Hz (-6 dB cutoff frequency: 0.25 Hz)\n",
      "- Upper passband edge: 100.00 Hz\n",
      "- Upper transition bandwidth: 25.00 Hz (-6 dB cutoff frequency: 112.50 Hz)\n",
      "- Filter length: 3301 samples (6.602 s)\n",
      "\n"
     ]
    },
    {
     "name": "stderr",
     "output_type": "stream",
     "text": [
      "/var/folders/dl/zd_s8q0x20zbxpy0_dzhksbh0000gn/T/ipykernel_8212/2111931120.py:71: RuntimeWarning: The data contains 'boundary' events, indicating data discontinuities. Be cautious of filtering and epoching around these events.\n",
      "  raw = mne.io.read_raw_eeglab(eeg_file2, preload=True)\n",
      "[Parallel(n_jobs=1)]: Done  17 tasks      | elapsed:    0.2s\n"
     ]
    },
    {
     "name": "stdout",
     "output_type": "stream",
     "text": [
      "Used Annotations descriptions: ['S  1', 'S  2', 'S  3', 'S 50', 'S 51', 'S 52', 'S100', 'S101', 'S200', 'S201', 'boundary']\n",
      "Not setting metadata\n",
      "511 matching events found\n",
      "Setting baseline interval to [-0.2, 0.0] s\n",
      "Applying baseline correction (mode: mean)\n",
      "0 projection items activated\n",
      "Using data from preloaded Raw for 511 events and 351 original time points ...\n",
      "1 bad epochs dropped\n",
      "    Using multitaper spectrum estimation with 7 DPSS windows\n",
      "Session features shape for sub-001, ses-01: (510, 10)\n",
      "EEG file ./ds003523/sub-002/ses-01/eeg/sub-002_ses-01_task-VisualWorkingMemory_eeg.set\n",
      "/Users/ishabharti/EEGdata/sub-002_ses-01_task-VisualWorkingMemory_eeg.set\n",
      "Reading /Users/ishabharti/EEGdata/sub-002_ses-01_task-VisualWorkingMemory_eeg.fdt\n",
      "Reading 0 ... 766849  =      0.000 ...  1533.698 secs...\n"
     ]
    },
    {
     "name": "stderr",
     "output_type": "stream",
     "text": [
      "[ERROR] NoDatasetFound(No dataset found at '/Users/ishabharti' for the purpose \"get content of <<['./ds003523/s++15 chars++eg']>>\".  Specify a dataset to work with by providing its path via the `dataset` option, or change the current working directory to be in a dataset.) (NoDatasetFound) \n",
      "usage: datalad get [-h] [-s LABEL] [-d PATH] [-r] [-R LEVELS] [-n]\n",
      "                   [-D DESCRIPTION] [--reckless [auto|ephemeral|shared-...]]\n",
      "                   [-J NJOBS] [--version]\n",
      "                   [PATH ...]\n"
     ]
    },
    {
     "name": "stdout",
     "output_type": "stream",
     "text": [
      "Filtering raw data in 1 contiguous segment\n",
      "Setting up band-pass filter from 0.5 - 1e+02 Hz\n",
      "\n",
      "FIR filter parameters\n",
      "---------------------\n",
      "Designing a one-pass, zero-phase, non-causal bandpass filter:\n",
      "- Windowed time-domain design (firwin) method\n",
      "- Hamming window with 0.0194 passband ripple and 53 dB stopband attenuation\n",
      "- Lower passband edge: 0.50\n",
      "- Lower transition bandwidth: 0.50 Hz (-6 dB cutoff frequency: 0.25 Hz)\n",
      "- Upper passband edge: 100.00 Hz\n",
      "- Upper transition bandwidth: 25.00 Hz (-6 dB cutoff frequency: 112.50 Hz)\n",
      "- Filter length: 3301 samples (6.602 s)\n",
      "\n"
     ]
    },
    {
     "name": "stderr",
     "output_type": "stream",
     "text": [
      "/var/folders/dl/zd_s8q0x20zbxpy0_dzhksbh0000gn/T/ipykernel_8212/2111931120.py:71: RuntimeWarning: The data contains 'boundary' events, indicating data discontinuities. Be cautious of filtering and epoching around these events.\n",
      "  raw = mne.io.read_raw_eeglab(eeg_file2, preload=True)\n",
      "[Parallel(n_jobs=1)]: Done  17 tasks      | elapsed:    0.4s\n"
     ]
    },
    {
     "name": "stdout",
     "output_type": "stream",
     "text": [
      "Used Annotations descriptions: ['S  1', 'S  2', 'S  3', 'S 50', 'S 51', 'S 52', 'S100', 'S101', 'S200', 'S201', 'boundary']\n",
      "Not setting metadata\n",
      "511 matching events found\n",
      "Setting baseline interval to [-0.2, 0.0] s\n",
      "Applying baseline correction (mode: mean)\n",
      "0 projection items activated\n",
      "Using data from preloaded Raw for 511 events and 351 original time points ...\n",
      "1 bad epochs dropped\n",
      "    Using multitaper spectrum estimation with 7 DPSS windows\n",
      "Session features shape for sub-002, ses-01: (510, 10)\n",
      "EEG file ./ds003523/sub-003/ses-01/eeg/sub-003_ses-01_task-VisualWorkingMemory_eeg.set\n",
      "/Users/ishabharti/EEGdata/sub-003_ses-01_task-VisualWorkingMemory_eeg.set\n",
      "Reading /Users/ishabharti/EEGdata/sub-003_ses-01_task-VisualWorkingMemory_eeg.fdt\n",
      "Reading 0 ... 856724  =      0.000 ...  1713.448 secs...\n"
     ]
    },
    {
     "name": "stderr",
     "output_type": "stream",
     "text": [
      "[ERROR] NoDatasetFound(No dataset found at '/Users/ishabharti' for the purpose \"get content of <<['./ds003523/s++15 chars++eg']>>\".  Specify a dataset to work with by providing its path via the `dataset` option, or change the current working directory to be in a dataset.) (NoDatasetFound) \n",
      "usage: datalad get [-h] [-s LABEL] [-d PATH] [-r] [-R LEVELS] [-n]\n",
      "                   [-D DESCRIPTION] [--reckless [auto|ephemeral|shared-...]]\n",
      "                   [-J NJOBS] [--version]\n",
      "                   [PATH ...]\n"
     ]
    },
    {
     "name": "stdout",
     "output_type": "stream",
     "text": [
      "Filtering raw data in 1 contiguous segment\n",
      "Setting up band-pass filter from 0.5 - 1e+02 Hz\n",
      "\n",
      "FIR filter parameters\n",
      "---------------------\n",
      "Designing a one-pass, zero-phase, non-causal bandpass filter:\n",
      "- Windowed time-domain design (firwin) method\n",
      "- Hamming window with 0.0194 passband ripple and 53 dB stopband attenuation\n",
      "- Lower passband edge: 0.50\n",
      "- Lower transition bandwidth: 0.50 Hz (-6 dB cutoff frequency: 0.25 Hz)\n",
      "- Upper passband edge: 100.00 Hz\n",
      "- Upper transition bandwidth: 25.00 Hz (-6 dB cutoff frequency: 112.50 Hz)\n",
      "- Filter length: 3301 samples (6.602 s)\n",
      "\n"
     ]
    },
    {
     "name": "stderr",
     "output_type": "stream",
     "text": [
      "/var/folders/dl/zd_s8q0x20zbxpy0_dzhksbh0000gn/T/ipykernel_8212/2111931120.py:71: RuntimeWarning: The data contains 'boundary' events, indicating data discontinuities. Be cautious of filtering and epoching around these events.\n",
      "  raw = mne.io.read_raw_eeglab(eeg_file2, preload=True)\n",
      "[Parallel(n_jobs=1)]: Done  17 tasks      | elapsed:    0.3s\n"
     ]
    },
    {
     "name": "stdout",
     "output_type": "stream",
     "text": [
      "Used Annotations descriptions: ['S  1', 'S  2', 'S  3', 'S 50', 'S 51', 'S 52', 'S100', 'S101', 'S200', 'S201', 'boundary']\n",
      "Not setting metadata\n",
      "510 matching events found\n",
      "Setting baseline interval to [-0.2, 0.0] s\n",
      "Applying baseline correction (mode: mean)\n",
      "0 projection items activated\n",
      "Using data from preloaded Raw for 510 events and 351 original time points ...\n",
      "1 bad epochs dropped\n",
      "    Using multitaper spectrum estimation with 7 DPSS windows\n",
      "Session features shape for sub-003, ses-01: (509, 10)\n",
      "EEG file ./ds003523/sub-004/ses-01/eeg/sub-004_ses-01_task-VisualWorkingMemory_eeg.set\n",
      "/Users/ishabharti/EEGdata/sub-004_ses-01_task-VisualWorkingMemory_eeg.set\n",
      "Reading /Users/ishabharti/EEGdata/sub-004_ses-01_task-VisualWorkingMemory_eeg.fdt\n",
      "Reading 0 ... 724399  =      0.000 ...  1448.798 secs...\n"
     ]
    },
    {
     "name": "stderr",
     "output_type": "stream",
     "text": [
      "[ERROR] NoDatasetFound(No dataset found at '/Users/ishabharti' for the purpose \"get content of <<['./ds003523/s++15 chars++eg']>>\".  Specify a dataset to work with by providing its path via the `dataset` option, or change the current working directory to be in a dataset.) (NoDatasetFound) \n",
      "usage: datalad get [-h] [-s LABEL] [-d PATH] [-r] [-R LEVELS] [-n]\n",
      "                   [-D DESCRIPTION] [--reckless [auto|ephemeral|shared-...]]\n",
      "                   [-J NJOBS] [--version]\n",
      "                   [PATH ...]\n"
     ]
    },
    {
     "name": "stdout",
     "output_type": "stream",
     "text": [
      "Filtering raw data in 1 contiguous segment\n",
      "Setting up band-pass filter from 0.5 - 1e+02 Hz\n",
      "\n",
      "FIR filter parameters\n",
      "---------------------\n",
      "Designing a one-pass, zero-phase, non-causal bandpass filter:\n",
      "- Windowed time-domain design (firwin) method\n",
      "- Hamming window with 0.0194 passband ripple and 53 dB stopband attenuation\n",
      "- Lower passband edge: 0.50\n",
      "- Lower transition bandwidth: 0.50 Hz (-6 dB cutoff frequency: 0.25 Hz)\n",
      "- Upper passband edge: 100.00 Hz\n",
      "- Upper transition bandwidth: 25.00 Hz (-6 dB cutoff frequency: 112.50 Hz)\n",
      "- Filter length: 3301 samples (6.602 s)\n",
      "\n"
     ]
    },
    {
     "name": "stderr",
     "output_type": "stream",
     "text": [
      "/var/folders/dl/zd_s8q0x20zbxpy0_dzhksbh0000gn/T/ipykernel_8212/2111931120.py:71: RuntimeWarning: The data contains 'boundary' events, indicating data discontinuities. Be cautious of filtering and epoching around these events.\n",
      "  raw = mne.io.read_raw_eeglab(eeg_file2, preload=True)\n",
      "[Parallel(n_jobs=1)]: Done  17 tasks      | elapsed:    0.3s\n"
     ]
    },
    {
     "name": "stdout",
     "output_type": "stream",
     "text": [
      "Used Annotations descriptions: ['S  1', 'S  2', 'S  3', 'S 50', 'S 51', 'S 52', 'S100', 'S101', 'S200', 'S201', 'boundary']\n",
      "Not setting metadata\n",
      "503 matching events found\n",
      "Setting baseline interval to [-0.2, 0.0] s\n",
      "Applying baseline correction (mode: mean)\n",
      "0 projection items activated\n",
      "Using data from preloaded Raw for 503 events and 351 original time points ...\n",
      "1 bad epochs dropped\n",
      "    Using multitaper spectrum estimation with 7 DPSS windows\n",
      "Session features shape for sub-004, ses-01: (502, 10)\n",
      "Data for sub-005, ses-01 not found. Skipping.\n",
      "EEG file ./ds003523/sub-005/ses-01/eeg/sub-005_ses-01_task-VisualWorkingMemory_eeg.set\n",
      "/Users/ishabharti/EEGdata/sub-005_ses-01_task-VisualWorkingMemory_eeg.set\n",
      "Reading /Users/ishabharti/EEGdata/sub-005_ses-01_task-VisualWorkingMemory_eeg.fdt\n",
      "Reading 0 ... 683049  =      0.000 ...  1366.098 secs...\n"
     ]
    },
    {
     "name": "stderr",
     "output_type": "stream",
     "text": [
      "[ERROR] NoDatasetFound(No dataset found at '/Users/ishabharti' for the purpose \"get content of <<['./ds003523/s++15 chars++eg']>>\".  Specify a dataset to work with by providing its path via the `dataset` option, or change the current working directory to be in a dataset.) (NoDatasetFound) \n",
      "usage: datalad get [-h] [-s LABEL] [-d PATH] [-r] [-R LEVELS] [-n]\n",
      "                   [-D DESCRIPTION] [--reckless [auto|ephemeral|shared-...]]\n",
      "                   [-J NJOBS] [--version]\n",
      "                   [PATH ...]\n"
     ]
    },
    {
     "name": "stdout",
     "output_type": "stream",
     "text": [
      "Filtering raw data in 1 contiguous segment\n",
      "Setting up band-pass filter from 0.5 - 1e+02 Hz\n",
      "\n",
      "FIR filter parameters\n",
      "---------------------\n",
      "Designing a one-pass, zero-phase, non-causal bandpass filter:\n",
      "- Windowed time-domain design (firwin) method\n",
      "- Hamming window with 0.0194 passband ripple and 53 dB stopband attenuation\n",
      "- Lower passband edge: 0.50\n",
      "- Lower transition bandwidth: 0.50 Hz (-6 dB cutoff frequency: 0.25 Hz)\n",
      "- Upper passband edge: 100.00 Hz\n",
      "- Upper transition bandwidth: 25.00 Hz (-6 dB cutoff frequency: 112.50 Hz)\n",
      "- Filter length: 3301 samples (6.602 s)\n",
      "\n"
     ]
    },
    {
     "name": "stderr",
     "output_type": "stream",
     "text": [
      "/var/folders/dl/zd_s8q0x20zbxpy0_dzhksbh0000gn/T/ipykernel_8212/2111931120.py:71: RuntimeWarning: The data contains 'boundary' events, indicating data discontinuities. Be cautious of filtering and epoching around these events.\n",
      "  raw = mne.io.read_raw_eeglab(eeg_file2, preload=True)\n",
      "[Parallel(n_jobs=1)]: Done  17 tasks      | elapsed:    0.3s\n"
     ]
    },
    {
     "name": "stdout",
     "output_type": "stream",
     "text": [
      "Used Annotations descriptions: ['S  1', 'S  2', 'S  3', 'S 50', 'S 52', 'S100', 'S101', 'S200', 'S201', 'boundary']\n",
      "Not setting metadata\n",
      "511 matching events found\n",
      "Setting baseline interval to [-0.2, 0.0] s\n",
      "Applying baseline correction (mode: mean)\n",
      "0 projection items activated\n",
      "Using data from preloaded Raw for 511 events and 351 original time points ...\n",
      "1 bad epochs dropped\n",
      "    Using multitaper spectrum estimation with 7 DPSS windows\n",
      "Session features shape for sub-005, ses-01: (510, 10)\n",
      "Data for sub-006, ses-01 not found. Skipping.\n",
      "EEG file ./ds003523/sub-006/ses-01/eeg/sub-006_ses-01_task-VisualWorkingMemory_eeg.set\n",
      "/Users/ishabharti/EEGdata/sub-006_ses-01_task-VisualWorkingMemory_eeg.set\n",
      "Reading /Users/ishabharti/EEGdata/sub-006_ses-01_task-VisualWorkingMemory_eeg.fdt\n",
      "Reading 0 ... 689024  =      0.000 ...  1378.048 secs...\n"
     ]
    },
    {
     "name": "stderr",
     "output_type": "stream",
     "text": [
      "[ERROR] NoDatasetFound(No dataset found at '/Users/ishabharti' for the purpose \"get content of <<['./ds003523/s++15 chars++eg']>>\".  Specify a dataset to work with by providing its path via the `dataset` option, or change the current working directory to be in a dataset.) (NoDatasetFound) \n",
      "usage: datalad get [-h] [-s LABEL] [-d PATH] [-r] [-R LEVELS] [-n]\n",
      "                   [-D DESCRIPTION] [--reckless [auto|ephemeral|shared-...]]\n",
      "                   [-J NJOBS] [--version]\n",
      "                   [PATH ...]\n"
     ]
    },
    {
     "name": "stdout",
     "output_type": "stream",
     "text": [
      "Filtering raw data in 1 contiguous segment\n",
      "Setting up band-pass filter from 0.5 - 1e+02 Hz\n",
      "\n",
      "FIR filter parameters\n",
      "---------------------\n",
      "Designing a one-pass, zero-phase, non-causal bandpass filter:\n",
      "- Windowed time-domain design (firwin) method\n",
      "- Hamming window with 0.0194 passband ripple and 53 dB stopband attenuation\n",
      "- Lower passband edge: 0.50\n",
      "- Lower transition bandwidth: 0.50 Hz (-6 dB cutoff frequency: 0.25 Hz)\n",
      "- Upper passband edge: 100.00 Hz\n",
      "- Upper transition bandwidth: 25.00 Hz (-6 dB cutoff frequency: 112.50 Hz)\n",
      "- Filter length: 3301 samples (6.602 s)\n",
      "\n"
     ]
    },
    {
     "name": "stderr",
     "output_type": "stream",
     "text": [
      "/var/folders/dl/zd_s8q0x20zbxpy0_dzhksbh0000gn/T/ipykernel_8212/2111931120.py:71: RuntimeWarning: The data contains 'boundary' events, indicating data discontinuities. Be cautious of filtering and epoching around these events.\n",
      "  raw = mne.io.read_raw_eeglab(eeg_file2, preload=True)\n",
      "[Parallel(n_jobs=1)]: Done  17 tasks      | elapsed:    0.2s\n"
     ]
    },
    {
     "name": "stdout",
     "output_type": "stream",
     "text": [
      "Used Annotations descriptions: ['S  1', 'S  2', 'S  3', 'S 50', 'S 51', 'S 52', 'S100', 'S101', 'S200', 'S201', 'boundary']\n",
      "Not setting metadata\n",
      "511 matching events found\n",
      "Setting baseline interval to [-0.2, 0.0] s\n",
      "Applying baseline correction (mode: mean)\n",
      "0 projection items activated\n",
      "Using data from preloaded Raw for 511 events and 351 original time points ...\n",
      "1 bad epochs dropped\n",
      "    Using multitaper spectrum estimation with 7 DPSS windows\n",
      "Session features shape for sub-006, ses-01: (510, 10)\n",
      "Data for sub-007, ses-01 not found. Skipping.\n",
      "EEG file ./ds003523/sub-007/ses-01/eeg/sub-007_ses-01_task-VisualWorkingMemory_eeg.set\n",
      "/Users/ishabharti/EEGdata/sub-007_ses-01_task-VisualWorkingMemory_eeg.set\n",
      "Reading /Users/ishabharti/EEGdata/sub-007_ses-01_task-VisualWorkingMemory_eeg.fdt\n",
      "Reading 0 ... 838274  =      0.000 ...  1676.548 secs...\n"
     ]
    },
    {
     "name": "stderr",
     "output_type": "stream",
     "text": [
      "[ERROR] NoDatasetFound(No dataset found at '/Users/ishabharti' for the purpose \"get content of <<['./ds003523/s++15 chars++eg']>>\".  Specify a dataset to work with by providing its path via the `dataset` option, or change the current working directory to be in a dataset.) (NoDatasetFound) \n",
      "usage: datalad get [-h] [-s LABEL] [-d PATH] [-r] [-R LEVELS] [-n]\n",
      "                   [-D DESCRIPTION] [--reckless [auto|ephemeral|shared-...]]\n",
      "                   [-J NJOBS] [--version]\n",
      "                   [PATH ...]\n"
     ]
    },
    {
     "name": "stdout",
     "output_type": "stream",
     "text": [
      "Filtering raw data in 1 contiguous segment\n",
      "Setting up band-pass filter from 0.5 - 1e+02 Hz\n",
      "\n",
      "FIR filter parameters\n",
      "---------------------\n",
      "Designing a one-pass, zero-phase, non-causal bandpass filter:\n",
      "- Windowed time-domain design (firwin) method\n",
      "- Hamming window with 0.0194 passband ripple and 53 dB stopband attenuation\n",
      "- Lower passband edge: 0.50\n",
      "- Lower transition bandwidth: 0.50 Hz (-6 dB cutoff frequency: 0.25 Hz)\n",
      "- Upper passband edge: 100.00 Hz\n",
      "- Upper transition bandwidth: 25.00 Hz (-6 dB cutoff frequency: 112.50 Hz)\n",
      "- Filter length: 3301 samples (6.602 s)\n",
      "\n"
     ]
    },
    {
     "name": "stderr",
     "output_type": "stream",
     "text": [
      "/var/folders/dl/zd_s8q0x20zbxpy0_dzhksbh0000gn/T/ipykernel_8212/2111931120.py:71: RuntimeWarning: The data contains 'boundary' events, indicating data discontinuities. Be cautious of filtering and epoching around these events.\n",
      "  raw = mne.io.read_raw_eeglab(eeg_file2, preload=True)\n",
      "[Parallel(n_jobs=1)]: Done  17 tasks      | elapsed:    0.3s\n"
     ]
    },
    {
     "name": "stdout",
     "output_type": "stream",
     "text": [
      "Used Annotations descriptions: ['S  1', 'S  2', 'S  3', 'S 50', 'S 51', 'S 52', 'S100', 'S101', 'S200', 'S201', 'boundary']\n",
      "Not setting metadata\n",
      "511 matching events found\n",
      "Setting baseline interval to [-0.2, 0.0] s\n",
      "Applying baseline correction (mode: mean)\n",
      "0 projection items activated\n",
      "Using data from preloaded Raw for 511 events and 351 original time points ...\n",
      "1 bad epochs dropped\n",
      "    Using multitaper spectrum estimation with 7 DPSS windows\n",
      "Session features shape for sub-007, ses-01: (510, 10)\n",
      "Data for sub-008, ses-01 not found. Skipping.\n",
      "EEG file ./ds003523/sub-008/ses-01/eeg/sub-008_ses-01_task-VisualWorkingMemory_eeg.set\n",
      "/Users/ishabharti/EEGdata/sub-008_ses-01_task-VisualWorkingMemory_eeg.set\n",
      "Reading /Users/ishabharti/EEGdata/sub-008_ses-01_task-VisualWorkingMemory_eeg.fdt\n",
      "Reading 0 ... 665024  =      0.000 ...  1330.048 secs...\n"
     ]
    },
    {
     "name": "stderr",
     "output_type": "stream",
     "text": [
      "[ERROR] NoDatasetFound(No dataset found at '/Users/ishabharti' for the purpose \"get content of <<['./ds003523/s++15 chars++eg']>>\".  Specify a dataset to work with by providing its path via the `dataset` option, or change the current working directory to be in a dataset.) (NoDatasetFound) \n",
      "usage: datalad get [-h] [-s LABEL] [-d PATH] [-r] [-R LEVELS] [-n]\n",
      "                   [-D DESCRIPTION] [--reckless [auto|ephemeral|shared-...]]\n",
      "                   [-J NJOBS] [--version]\n",
      "                   [PATH ...]\n"
     ]
    },
    {
     "name": "stdout",
     "output_type": "stream",
     "text": [
      "Filtering raw data in 1 contiguous segment\n",
      "Setting up band-pass filter from 0.5 - 1e+02 Hz\n",
      "\n",
      "FIR filter parameters\n",
      "---------------------\n",
      "Designing a one-pass, zero-phase, non-causal bandpass filter:\n",
      "- Windowed time-domain design (firwin) method\n",
      "- Hamming window with 0.0194 passband ripple and 53 dB stopband attenuation\n",
      "- Lower passband edge: 0.50\n",
      "- Lower transition bandwidth: 0.50 Hz (-6 dB cutoff frequency: 0.25 Hz)\n",
      "- Upper passband edge: 100.00 Hz\n",
      "- Upper transition bandwidth: 25.00 Hz (-6 dB cutoff frequency: 112.50 Hz)\n",
      "- Filter length: 3301 samples (6.602 s)\n",
      "\n"
     ]
    },
    {
     "name": "stderr",
     "output_type": "stream",
     "text": [
      "/var/folders/dl/zd_s8q0x20zbxpy0_dzhksbh0000gn/T/ipykernel_8212/2111931120.py:71: RuntimeWarning: The data contains 'boundary' events, indicating data discontinuities. Be cautious of filtering and epoching around these events.\n",
      "  raw = mne.io.read_raw_eeglab(eeg_file2, preload=True)\n",
      "[Parallel(n_jobs=1)]: Done  17 tasks      | elapsed:    0.2s\n"
     ]
    },
    {
     "name": "stdout",
     "output_type": "stream",
     "text": [
      "Used Annotations descriptions: ['S  1', 'S  2', 'S  3', 'S 50', 'S 51', 'S 52', 'S100', 'S101', 'S200', 'S201', 'boundary']\n",
      "Not setting metadata\n",
      "510 matching events found\n",
      "Setting baseline interval to [-0.2, 0.0] s\n",
      "Applying baseline correction (mode: mean)\n",
      "0 projection items activated\n",
      "Using data from preloaded Raw for 510 events and 351 original time points ...\n",
      "1 bad epochs dropped\n",
      "    Using multitaper spectrum estimation with 7 DPSS windows\n",
      "Session features shape for sub-008, ses-01: (509, 10)\n",
      "Data for sub-009, ses-01 not found. Skipping.\n",
      "EEG file ./ds003523/sub-009/ses-01/eeg/sub-009_ses-01_task-VisualWorkingMemory_eeg.set\n",
      "/Users/ishabharti/EEGdata/sub-009_ses-01_task-VisualWorkingMemory_eeg.set\n",
      "Reading /Users/ishabharti/EEGdata/sub-009_ses-01_task-VisualWorkingMemory_eeg.fdt\n",
      "Reading 0 ... 765624  =      0.000 ...  1531.248 secs...\n"
     ]
    },
    {
     "name": "stderr",
     "output_type": "stream",
     "text": [
      "[ERROR] NoDatasetFound(No dataset found at '/Users/ishabharti' for the purpose \"get content of <<['./ds003523/s++15 chars++eg']>>\".  Specify a dataset to work with by providing its path via the `dataset` option, or change the current working directory to be in a dataset.) (NoDatasetFound) \n",
      "usage: datalad get [-h] [-s LABEL] [-d PATH] [-r] [-R LEVELS] [-n]\n",
      "                   [-D DESCRIPTION] [--reckless [auto|ephemeral|shared-...]]\n",
      "                   [-J NJOBS] [--version]\n",
      "                   [PATH ...]\n"
     ]
    },
    {
     "name": "stdout",
     "output_type": "stream",
     "text": [
      "Filtering raw data in 1 contiguous segment\n",
      "Setting up band-pass filter from 0.5 - 1e+02 Hz\n",
      "\n",
      "FIR filter parameters\n",
      "---------------------\n",
      "Designing a one-pass, zero-phase, non-causal bandpass filter:\n",
      "- Windowed time-domain design (firwin) method\n",
      "- Hamming window with 0.0194 passband ripple and 53 dB stopband attenuation\n",
      "- Lower passband edge: 0.50\n",
      "- Lower transition bandwidth: 0.50 Hz (-6 dB cutoff frequency: 0.25 Hz)\n",
      "- Upper passband edge: 100.00 Hz\n",
      "- Upper transition bandwidth: 25.00 Hz (-6 dB cutoff frequency: 112.50 Hz)\n",
      "- Filter length: 3301 samples (6.602 s)\n",
      "\n"
     ]
    },
    {
     "name": "stderr",
     "output_type": "stream",
     "text": [
      "/var/folders/dl/zd_s8q0x20zbxpy0_dzhksbh0000gn/T/ipykernel_8212/2111931120.py:71: RuntimeWarning: The data contains 'boundary' events, indicating data discontinuities. Be cautious of filtering and epoching around these events.\n",
      "  raw = mne.io.read_raw_eeglab(eeg_file2, preload=True)\n",
      "[Parallel(n_jobs=1)]: Done  17 tasks      | elapsed:    0.3s\n"
     ]
    },
    {
     "name": "stdout",
     "output_type": "stream",
     "text": [
      "Used Annotations descriptions: ['S  1', 'S  2', 'S  3', 'S 50', 'S 52', 'S100', 'S101', 'S200', 'S201', 'boundary']\n",
      "Not setting metadata\n",
      "511 matching events found\n",
      "Setting baseline interval to [-0.2, 0.0] s\n",
      "Applying baseline correction (mode: mean)\n",
      "0 projection items activated\n",
      "Using data from preloaded Raw for 511 events and 351 original time points ...\n",
      "1 bad epochs dropped\n",
      "    Using multitaper spectrum estimation with 7 DPSS windows\n",
      "Session features shape for sub-009, ses-01: (510, 10)\n",
      "Data for sub-010, ses-01 not found. Skipping.\n",
      "EEG file ./ds003523/sub-010/ses-01/eeg/sub-010_ses-01_task-VisualWorkingMemory_eeg.set\n",
      "/Users/ishabharti/EEGdata/sub-010_ses-01_task-VisualWorkingMemory_eeg.set\n",
      "Reading /Users/ishabharti/EEGdata/sub-010_ses-01_task-VisualWorkingMemory_eeg.fdt\n",
      "Reading 0 ... 708874  =      0.000 ...  1417.748 secs...\n"
     ]
    },
    {
     "name": "stderr",
     "output_type": "stream",
     "text": [
      "[ERROR] NoDatasetFound(No dataset found at '/Users/ishabharti' for the purpose \"get content of <<['./ds003523/s++15 chars++eg']>>\".  Specify a dataset to work with by providing its path via the `dataset` option, or change the current working directory to be in a dataset.) (NoDatasetFound) \n",
      "usage: datalad get [-h] [-s LABEL] [-d PATH] [-r] [-R LEVELS] [-n]\n",
      "                   [-D DESCRIPTION] [--reckless [auto|ephemeral|shared-...]]\n",
      "                   [-J NJOBS] [--version]\n",
      "                   [PATH ...]\n"
     ]
    },
    {
     "name": "stdout",
     "output_type": "stream",
     "text": [
      "Filtering raw data in 1 contiguous segment\n",
      "Setting up band-pass filter from 0.5 - 1e+02 Hz\n",
      "\n",
      "FIR filter parameters\n",
      "---------------------\n",
      "Designing a one-pass, zero-phase, non-causal bandpass filter:\n",
      "- Windowed time-domain design (firwin) method\n",
      "- Hamming window with 0.0194 passband ripple and 53 dB stopband attenuation\n",
      "- Lower passband edge: 0.50\n",
      "- Lower transition bandwidth: 0.50 Hz (-6 dB cutoff frequency: 0.25 Hz)\n",
      "- Upper passband edge: 100.00 Hz\n",
      "- Upper transition bandwidth: 25.00 Hz (-6 dB cutoff frequency: 112.50 Hz)\n",
      "- Filter length: 3301 samples (6.602 s)\n",
      "\n"
     ]
    },
    {
     "name": "stderr",
     "output_type": "stream",
     "text": [
      "/var/folders/dl/zd_s8q0x20zbxpy0_dzhksbh0000gn/T/ipykernel_8212/2111931120.py:71: RuntimeWarning: The data contains 'boundary' events, indicating data discontinuities. Be cautious of filtering and epoching around these events.\n",
      "  raw = mne.io.read_raw_eeglab(eeg_file2, preload=True)\n",
      "[Parallel(n_jobs=1)]: Done  17 tasks      | elapsed:    0.3s\n"
     ]
    },
    {
     "name": "stdout",
     "output_type": "stream",
     "text": [
      "Used Annotations descriptions: ['S  1', 'S  2', 'S  3', 'S 50', 'S 51', 'S 52', 'S100', 'S101', 'S200', 'S201', 'boundary']\n",
      "Not setting metadata\n",
      "508 matching events found\n",
      "Setting baseline interval to [-0.2, 0.0] s\n",
      "Applying baseline correction (mode: mean)\n",
      "0 projection items activated\n",
      "Using data from preloaded Raw for 508 events and 351 original time points ...\n",
      "1 bad epochs dropped\n",
      "    Using multitaper spectrum estimation with 7 DPSS windows\n",
      "Session features shape for sub-010, ses-01: (507, 10)\n",
      "Data for sub-011, ses-01 not found. Skipping.\n",
      "EEG file ./ds003523/sub-011/ses-01/eeg/sub-011_ses-01_task-VisualWorkingMemory_eeg.set\n",
      "/Users/ishabharti/EEGdata/sub-011_ses-01_task-VisualWorkingMemory_eeg.set\n",
      "Reading /Users/ishabharti/EEGdata/sub-011_ses-01_task-VisualWorkingMemory_eeg.fdt\n",
      "Reading 0 ... 688924  =      0.000 ...  1377.848 secs...\n"
     ]
    },
    {
     "name": "stderr",
     "output_type": "stream",
     "text": [
      "[ERROR] NoDatasetFound(No dataset found at '/Users/ishabharti' for the purpose \"get content of <<['./ds003523/s++15 chars++eg']>>\".  Specify a dataset to work with by providing its path via the `dataset` option, or change the current working directory to be in a dataset.) (NoDatasetFound) \n",
      "usage: datalad get [-h] [-s LABEL] [-d PATH] [-r] [-R LEVELS] [-n]\n",
      "                   [-D DESCRIPTION] [--reckless [auto|ephemeral|shared-...]]\n",
      "                   [-J NJOBS] [--version]\n",
      "                   [PATH ...]\n"
     ]
    },
    {
     "name": "stdout",
     "output_type": "stream",
     "text": [
      "Filtering raw data in 1 contiguous segment\n",
      "Setting up band-pass filter from 0.5 - 1e+02 Hz\n",
      "\n",
      "FIR filter parameters\n",
      "---------------------\n",
      "Designing a one-pass, zero-phase, non-causal bandpass filter:\n",
      "- Windowed time-domain design (firwin) method\n",
      "- Hamming window with 0.0194 passband ripple and 53 dB stopband attenuation\n",
      "- Lower passband edge: 0.50\n",
      "- Lower transition bandwidth: 0.50 Hz (-6 dB cutoff frequency: 0.25 Hz)\n",
      "- Upper passband edge: 100.00 Hz\n",
      "- Upper transition bandwidth: 25.00 Hz (-6 dB cutoff frequency: 112.50 Hz)\n",
      "- Filter length: 3301 samples (6.602 s)\n",
      "\n"
     ]
    },
    {
     "name": "stderr",
     "output_type": "stream",
     "text": [
      "/var/folders/dl/zd_s8q0x20zbxpy0_dzhksbh0000gn/T/ipykernel_8212/2111931120.py:71: RuntimeWarning: The data contains 'boundary' events, indicating data discontinuities. Be cautious of filtering and epoching around these events.\n",
      "  raw = mne.io.read_raw_eeglab(eeg_file2, preload=True)\n",
      "[Parallel(n_jobs=1)]: Done  17 tasks      | elapsed:    0.2s\n"
     ]
    },
    {
     "name": "stdout",
     "output_type": "stream",
     "text": [
      "Used Annotations descriptions: ['S  1', 'S  2', 'S  3', 'S 50', 'S 51', 'S 52', 'S100', 'S101', 'S200', 'S201', 'boundary']\n",
      "Not setting metadata\n",
      "509 matching events found\n",
      "Setting baseline interval to [-0.2, 0.0] s\n",
      "Applying baseline correction (mode: mean)\n",
      "0 projection items activated\n",
      "Using data from preloaded Raw for 509 events and 351 original time points ...\n",
      "1 bad epochs dropped\n",
      "    Using multitaper spectrum estimation with 7 DPSS windows\n",
      "Session features shape for sub-011, ses-01: (508, 10)\n",
      "Data for sub-012, ses-01 not found. Skipping.\n",
      "EEG file ./ds003523/sub-012/ses-01/eeg/sub-012_ses-01_task-VisualWorkingMemory_eeg.set\n",
      "/Users/ishabharti/EEGdata/sub-012_ses-01_task-VisualWorkingMemory_eeg.set\n",
      "Reading /Users/ishabharti/EEGdata/sub-012_ses-01_task-VisualWorkingMemory_eeg.fdt\n",
      "Reading 0 ... 742824  =      0.000 ...  1485.648 secs...\n"
     ]
    },
    {
     "name": "stderr",
     "output_type": "stream",
     "text": [
      "[ERROR] NoDatasetFound(No dataset found at '/Users/ishabharti' for the purpose \"get content of <<['./ds003523/s++15 chars++eg']>>\".  Specify a dataset to work with by providing its path via the `dataset` option, or change the current working directory to be in a dataset.) (NoDatasetFound) \n",
      "usage: datalad get [-h] [-s LABEL] [-d PATH] [-r] [-R LEVELS] [-n]\n",
      "                   [-D DESCRIPTION] [--reckless [auto|ephemeral|shared-...]]\n",
      "                   [-J NJOBS] [--version]\n",
      "                   [PATH ...]\n"
     ]
    },
    {
     "name": "stdout",
     "output_type": "stream",
     "text": [
      "Filtering raw data in 1 contiguous segment\n",
      "Setting up band-pass filter from 0.5 - 1e+02 Hz\n",
      "\n",
      "FIR filter parameters\n",
      "---------------------\n",
      "Designing a one-pass, zero-phase, non-causal bandpass filter:\n",
      "- Windowed time-domain design (firwin) method\n",
      "- Hamming window with 0.0194 passband ripple and 53 dB stopband attenuation\n",
      "- Lower passband edge: 0.50\n",
      "- Lower transition bandwidth: 0.50 Hz (-6 dB cutoff frequency: 0.25 Hz)\n",
      "- Upper passband edge: 100.00 Hz\n",
      "- Upper transition bandwidth: 25.00 Hz (-6 dB cutoff frequency: 112.50 Hz)\n",
      "- Filter length: 3301 samples (6.602 s)\n",
      "\n"
     ]
    },
    {
     "name": "stderr",
     "output_type": "stream",
     "text": [
      "/var/folders/dl/zd_s8q0x20zbxpy0_dzhksbh0000gn/T/ipykernel_8212/2111931120.py:71: RuntimeWarning: The data contains 'boundary' events, indicating data discontinuities. Be cautious of filtering and epoching around these events.\n",
      "  raw = mne.io.read_raw_eeglab(eeg_file2, preload=True)\n",
      "[Parallel(n_jobs=1)]: Done  17 tasks      | elapsed:    0.3s\n"
     ]
    },
    {
     "name": "stdout",
     "output_type": "stream",
     "text": [
      "Used Annotations descriptions: ['S  1', 'S  2', 'S  3', 'S 50', 'S 51', 'S 52', 'S100', 'S101', 'S200', 'S201', 'boundary']\n",
      "Not setting metadata\n",
      "500 matching events found\n",
      "Setting baseline interval to [-0.2, 0.0] s\n",
      "Applying baseline correction (mode: mean)\n",
      "0 projection items activated\n",
      "Using data from preloaded Raw for 500 events and 351 original time points ...\n",
      "1 bad epochs dropped\n",
      "    Using multitaper spectrum estimation with 7 DPSS windows\n",
      "Session features shape for sub-012, ses-01: (499, 10)\n",
      "Data for sub-013, ses-01 not found. Skipping.\n",
      "EEG file ./ds003523/sub-013/ses-01/eeg/sub-013_ses-01_task-VisualWorkingMemory_eeg.set\n",
      "/Users/ishabharti/EEGdata/sub-013_ses-01_task-VisualWorkingMemory_eeg.set\n",
      "Reading /Users/ishabharti/EEGdata/sub-013_ses-01_task-VisualWorkingMemory_eeg.fdt\n",
      "Reading 0 ... 773324  =      0.000 ...  1546.648 secs...\n"
     ]
    },
    {
     "name": "stderr",
     "output_type": "stream",
     "text": [
      "[ERROR] NoDatasetFound(No dataset found at '/Users/ishabharti' for the purpose \"get content of <<['./ds003523/s++15 chars++eg']>>\".  Specify a dataset to work with by providing its path via the `dataset` option, or change the current working directory to be in a dataset.) (NoDatasetFound) \n",
      "usage: datalad get [-h] [-s LABEL] [-d PATH] [-r] [-R LEVELS] [-n]\n",
      "                   [-D DESCRIPTION] [--reckless [auto|ephemeral|shared-...]]\n",
      "                   [-J NJOBS] [--version]\n",
      "                   [PATH ...]\n"
     ]
    },
    {
     "name": "stdout",
     "output_type": "stream",
     "text": [
      "Filtering raw data in 1 contiguous segment\n",
      "Setting up band-pass filter from 0.5 - 1e+02 Hz\n",
      "\n",
      "FIR filter parameters\n",
      "---------------------\n",
      "Designing a one-pass, zero-phase, non-causal bandpass filter:\n",
      "- Windowed time-domain design (firwin) method\n",
      "- Hamming window with 0.0194 passband ripple and 53 dB stopband attenuation\n",
      "- Lower passband edge: 0.50\n",
      "- Lower transition bandwidth: 0.50 Hz (-6 dB cutoff frequency: 0.25 Hz)\n",
      "- Upper passband edge: 100.00 Hz\n",
      "- Upper transition bandwidth: 25.00 Hz (-6 dB cutoff frequency: 112.50 Hz)\n",
      "- Filter length: 3301 samples (6.602 s)\n",
      "\n"
     ]
    },
    {
     "name": "stderr",
     "output_type": "stream",
     "text": [
      "/var/folders/dl/zd_s8q0x20zbxpy0_dzhksbh0000gn/T/ipykernel_8212/2111931120.py:71: RuntimeWarning: The data contains 'boundary' events, indicating data discontinuities. Be cautious of filtering and epoching around these events.\n",
      "  raw = mne.io.read_raw_eeglab(eeg_file2, preload=True)\n",
      "[Parallel(n_jobs=1)]: Done  17 tasks      | elapsed:    0.3s\n"
     ]
    },
    {
     "name": "stdout",
     "output_type": "stream",
     "text": [
      "Used Annotations descriptions: ['S  1', 'S  2', 'S  3', 'S 50', 'S 51', 'S 52', 'S100', 'S101', 'S200', 'S201', 'boundary']\n",
      "Not setting metadata\n",
      "511 matching events found\n",
      "Setting baseline interval to [-0.2, 0.0] s\n",
      "Applying baseline correction (mode: mean)\n",
      "0 projection items activated\n",
      "Using data from preloaded Raw for 511 events and 351 original time points ...\n",
      "1 bad epochs dropped\n",
      "    Using multitaper spectrum estimation with 7 DPSS windows\n",
      "Session features shape for sub-013, ses-01: (510, 10)\n",
      "Data for sub-014, ses-01 not found. Skipping.\n",
      "EEG file ./ds003523/sub-014/ses-01/eeg/sub-014_ses-01_task-VisualWorkingMemory_eeg.set\n",
      "/Users/ishabharti/EEGdata/sub-014_ses-01_task-VisualWorkingMemory_eeg.set\n",
      "Reading /Users/ishabharti/EEGdata/sub-014_ses-01_task-VisualWorkingMemory_eeg.fdt\n",
      "Reading 0 ... 732749  =      0.000 ...  1465.498 secs...\n"
     ]
    },
    {
     "name": "stderr",
     "output_type": "stream",
     "text": [
      "[ERROR] NoDatasetFound(No dataset found at '/Users/ishabharti' for the purpose \"get content of <<['./ds003523/s++15 chars++eg']>>\".  Specify a dataset to work with by providing its path via the `dataset` option, or change the current working directory to be in a dataset.) (NoDatasetFound) \n",
      "usage: datalad get [-h] [-s LABEL] [-d PATH] [-r] [-R LEVELS] [-n]\n",
      "                   [-D DESCRIPTION] [--reckless [auto|ephemeral|shared-...]]\n",
      "                   [-J NJOBS] [--version]\n",
      "                   [PATH ...]\n"
     ]
    },
    {
     "name": "stdout",
     "output_type": "stream",
     "text": [
      "Filtering raw data in 1 contiguous segment\n",
      "Setting up band-pass filter from 0.5 - 1e+02 Hz\n",
      "\n",
      "FIR filter parameters\n",
      "---------------------\n",
      "Designing a one-pass, zero-phase, non-causal bandpass filter:\n",
      "- Windowed time-domain design (firwin) method\n",
      "- Hamming window with 0.0194 passband ripple and 53 dB stopband attenuation\n",
      "- Lower passband edge: 0.50\n",
      "- Lower transition bandwidth: 0.50 Hz (-6 dB cutoff frequency: 0.25 Hz)\n",
      "- Upper passband edge: 100.00 Hz\n",
      "- Upper transition bandwidth: 25.00 Hz (-6 dB cutoff frequency: 112.50 Hz)\n",
      "- Filter length: 3301 samples (6.602 s)\n",
      "\n"
     ]
    },
    {
     "name": "stderr",
     "output_type": "stream",
     "text": [
      "/var/folders/dl/zd_s8q0x20zbxpy0_dzhksbh0000gn/T/ipykernel_8212/2111931120.py:71: RuntimeWarning: The data contains 'boundary' events, indicating data discontinuities. Be cautious of filtering and epoching around these events.\n",
      "  raw = mne.io.read_raw_eeglab(eeg_file2, preload=True)\n",
      "[Parallel(n_jobs=1)]: Done  17 tasks      | elapsed:    0.2s\n"
     ]
    },
    {
     "name": "stdout",
     "output_type": "stream",
     "text": [
      "Used Annotations descriptions: ['S  1', 'S  2', 'S  3', 'S 50', 'S 52', 'S100', 'S101', 'S200', 'S201', 'boundary']\n",
      "Not setting metadata\n",
      "505 matching events found\n",
      "Setting baseline interval to [-0.2, 0.0] s\n",
      "Applying baseline correction (mode: mean)\n",
      "0 projection items activated\n",
      "Using data from preloaded Raw for 505 events and 351 original time points ...\n",
      "1 bad epochs dropped\n",
      "    Using multitaper spectrum estimation with 7 DPSS windows\n",
      "Session features shape for sub-014, ses-01: (504, 10)\n",
      "Data for sub-015, ses-01 not found. Skipping.\n",
      "EEG file ./ds003523/sub-015/ses-01/eeg/sub-015_ses-01_task-VisualWorkingMemory_eeg.set\n",
      "/Users/ishabharti/EEGdata/sub-015_ses-01_task-VisualWorkingMemory_eeg.set\n",
      "Reading /Users/ishabharti/EEGdata/sub-015_ses-01_task-VisualWorkingMemory_eeg.fdt\n",
      "Reading 0 ... 713374  =      0.000 ...  1426.748 secs...\n"
     ]
    },
    {
     "name": "stderr",
     "output_type": "stream",
     "text": [
      "[ERROR] NoDatasetFound(No dataset found at '/Users/ishabharti' for the purpose \"get content of <<['./ds003523/s++15 chars++eg']>>\".  Specify a dataset to work with by providing its path via the `dataset` option, or change the current working directory to be in a dataset.) (NoDatasetFound) \n",
      "usage: datalad get [-h] [-s LABEL] [-d PATH] [-r] [-R LEVELS] [-n]\n",
      "                   [-D DESCRIPTION] [--reckless [auto|ephemeral|shared-...]]\n",
      "                   [-J NJOBS] [--version]\n",
      "                   [PATH ...]\n"
     ]
    },
    {
     "name": "stdout",
     "output_type": "stream",
     "text": [
      "Filtering raw data in 1 contiguous segment\n",
      "Setting up band-pass filter from 0.5 - 1e+02 Hz\n",
      "\n",
      "FIR filter parameters\n",
      "---------------------\n",
      "Designing a one-pass, zero-phase, non-causal bandpass filter:\n",
      "- Windowed time-domain design (firwin) method\n",
      "- Hamming window with 0.0194 passband ripple and 53 dB stopband attenuation\n",
      "- Lower passband edge: 0.50\n",
      "- Lower transition bandwidth: 0.50 Hz (-6 dB cutoff frequency: 0.25 Hz)\n",
      "- Upper passband edge: 100.00 Hz\n",
      "- Upper transition bandwidth: 25.00 Hz (-6 dB cutoff frequency: 112.50 Hz)\n",
      "- Filter length: 3301 samples (6.602 s)\n",
      "\n"
     ]
    },
    {
     "name": "stderr",
     "output_type": "stream",
     "text": [
      "/var/folders/dl/zd_s8q0x20zbxpy0_dzhksbh0000gn/T/ipykernel_8212/2111931120.py:71: RuntimeWarning: The data contains 'boundary' events, indicating data discontinuities. Be cautious of filtering and epoching around these events.\n",
      "  raw = mne.io.read_raw_eeglab(eeg_file2, preload=True)\n",
      "[Parallel(n_jobs=1)]: Done  17 tasks      | elapsed:    0.2s\n"
     ]
    },
    {
     "name": "stdout",
     "output_type": "stream",
     "text": [
      "Used Annotations descriptions: ['S  1', 'S  2', 'S  3', 'S 50', 'S 51', 'S 52', 'S100', 'S101', 'S200', 'S201', 'boundary']\n",
      "Not setting metadata\n",
      "496 matching events found\n",
      "Setting baseline interval to [-0.2, 0.0] s\n",
      "Applying baseline correction (mode: mean)\n",
      "0 projection items activated\n",
      "Using data from preloaded Raw for 496 events and 351 original time points ...\n",
      "1 bad epochs dropped\n",
      "    Using multitaper spectrum estimation with 7 DPSS windows\n",
      "Session features shape for sub-015, ses-01: (495, 10)\n",
      "Data for sub-016, ses-01 not found. Skipping.\n",
      "EEG file ./ds003523/sub-016/ses-01/eeg/sub-016_ses-01_task-VisualWorkingMemory_eeg.set\n",
      "/Users/ishabharti/EEGdata/sub-016_ses-01_task-VisualWorkingMemory_eeg.set\n",
      "Reading /Users/ishabharti/EEGdata/sub-016_ses-01_task-VisualWorkingMemory_eeg.fdt\n",
      "Reading 0 ... 685999  =      0.000 ...  1371.998 secs...\n"
     ]
    },
    {
     "name": "stderr",
     "output_type": "stream",
     "text": [
      "[ERROR] NoDatasetFound(No dataset found at '/Users/ishabharti' for the purpose \"get content of <<['./ds003523/s++15 chars++eg']>>\".  Specify a dataset to work with by providing its path via the `dataset` option, or change the current working directory to be in a dataset.) (NoDatasetFound) \n",
      "usage: datalad get [-h] [-s LABEL] [-d PATH] [-r] [-R LEVELS] [-n]\n",
      "                   [-D DESCRIPTION] [--reckless [auto|ephemeral|shared-...]]\n",
      "                   [-J NJOBS] [--version]\n",
      "                   [PATH ...]\n"
     ]
    },
    {
     "name": "stdout",
     "output_type": "stream",
     "text": [
      "Filtering raw data in 1 contiguous segment\n",
      "Setting up band-pass filter from 0.5 - 1e+02 Hz\n",
      "\n",
      "FIR filter parameters\n",
      "---------------------\n",
      "Designing a one-pass, zero-phase, non-causal bandpass filter:\n",
      "- Windowed time-domain design (firwin) method\n",
      "- Hamming window with 0.0194 passband ripple and 53 dB stopband attenuation\n",
      "- Lower passband edge: 0.50\n",
      "- Lower transition bandwidth: 0.50 Hz (-6 dB cutoff frequency: 0.25 Hz)\n",
      "- Upper passband edge: 100.00 Hz\n",
      "- Upper transition bandwidth: 25.00 Hz (-6 dB cutoff frequency: 112.50 Hz)\n",
      "- Filter length: 3301 samples (6.602 s)\n",
      "\n"
     ]
    },
    {
     "name": "stderr",
     "output_type": "stream",
     "text": [
      "/var/folders/dl/zd_s8q0x20zbxpy0_dzhksbh0000gn/T/ipykernel_8212/2111931120.py:71: RuntimeWarning: The data contains 'boundary' events, indicating data discontinuities. Be cautious of filtering and epoching around these events.\n",
      "  raw = mne.io.read_raw_eeglab(eeg_file2, preload=True)\n",
      "[Parallel(n_jobs=1)]: Done  17 tasks      | elapsed:    0.3s\n"
     ]
    },
    {
     "name": "stdout",
     "output_type": "stream",
     "text": [
      "Used Annotations descriptions: ['S  1', 'S  2', 'S  3', 'S 50', 'S 51', 'S 52', 'S100', 'S101', 'S200', 'S201', 'boundary']\n",
      "Not setting metadata\n",
      "511 matching events found\n",
      "Setting baseline interval to [-0.2, 0.0] s\n",
      "Applying baseline correction (mode: mean)\n",
      "0 projection items activated\n",
      "Using data from preloaded Raw for 511 events and 351 original time points ...\n",
      "1 bad epochs dropped\n",
      "    Using multitaper spectrum estimation with 7 DPSS windows\n",
      "Session features shape for sub-016, ses-01: (510, 10)\n",
      "Data for sub-017, ses-01 not found. Skipping.\n",
      "EEG file ./ds003523/sub-017/ses-01/eeg/sub-017_ses-01_task-VisualWorkingMemory_eeg.set\n",
      "/Users/ishabharti/EEGdata/sub-017_ses-01_task-VisualWorkingMemory_eeg.set\n",
      "Reading /Users/ishabharti/EEGdata/sub-017_ses-01_task-VisualWorkingMemory_eeg.fdt\n",
      "Reading 0 ... 692249  =      0.000 ...  1384.498 secs...\n"
     ]
    },
    {
     "name": "stderr",
     "output_type": "stream",
     "text": [
      "[ERROR] NoDatasetFound(No dataset found at '/Users/ishabharti' for the purpose \"get content of <<['./ds003523/s++15 chars++eg']>>\".  Specify a dataset to work with by providing its path via the `dataset` option, or change the current working directory to be in a dataset.) (NoDatasetFound) \n",
      "usage: datalad get [-h] [-s LABEL] [-d PATH] [-r] [-R LEVELS] [-n]\n",
      "                   [-D DESCRIPTION] [--reckless [auto|ephemeral|shared-...]]\n",
      "                   [-J NJOBS] [--version]\n",
      "                   [PATH ...]\n"
     ]
    },
    {
     "name": "stdout",
     "output_type": "stream",
     "text": [
      "Filtering raw data in 1 contiguous segment\n",
      "Setting up band-pass filter from 0.5 - 1e+02 Hz\n",
      "\n",
      "FIR filter parameters\n",
      "---------------------\n",
      "Designing a one-pass, zero-phase, non-causal bandpass filter:\n",
      "- Windowed time-domain design (firwin) method\n",
      "- Hamming window with 0.0194 passband ripple and 53 dB stopband attenuation\n",
      "- Lower passband edge: 0.50\n",
      "- Lower transition bandwidth: 0.50 Hz (-6 dB cutoff frequency: 0.25 Hz)\n",
      "- Upper passband edge: 100.00 Hz\n",
      "- Upper transition bandwidth: 25.00 Hz (-6 dB cutoff frequency: 112.50 Hz)\n",
      "- Filter length: 3301 samples (6.602 s)\n",
      "\n"
     ]
    },
    {
     "name": "stderr",
     "output_type": "stream",
     "text": [
      "/var/folders/dl/zd_s8q0x20zbxpy0_dzhksbh0000gn/T/ipykernel_8212/2111931120.py:71: RuntimeWarning: The data contains 'boundary' events, indicating data discontinuities. Be cautious of filtering and epoching around these events.\n",
      "  raw = mne.io.read_raw_eeglab(eeg_file2, preload=True)\n",
      "[Parallel(n_jobs=1)]: Done  17 tasks      | elapsed:    0.2s\n"
     ]
    },
    {
     "name": "stdout",
     "output_type": "stream",
     "text": [
      "Used Annotations descriptions: ['S  1', 'S  2', 'S  3', 'S 50', 'S 51', 'S 52', 'S100', 'S101', 'S200', 'S201', 'boundary']\n",
      "Not setting metadata\n",
      "510 matching events found\n",
      "Setting baseline interval to [-0.2, 0.0] s\n",
      "Applying baseline correction (mode: mean)\n",
      "0 projection items activated\n",
      "Using data from preloaded Raw for 510 events and 351 original time points ...\n",
      "1 bad epochs dropped\n",
      "    Using multitaper spectrum estimation with 7 DPSS windows\n",
      "Session features shape for sub-017, ses-01: (509, 10)\n",
      "Data for sub-018, ses-01 not found. Skipping.\n",
      "EEG file ./ds003523/sub-018/ses-01/eeg/sub-018_ses-01_task-VisualWorkingMemory_eeg.set\n",
      "/Users/ishabharti/EEGdata/sub-018_ses-01_task-VisualWorkingMemory_eeg.set\n",
      "Reading /Users/ishabharti/EEGdata/sub-018_ses-01_task-VisualWorkingMemory_eeg.fdt\n",
      "Reading 0 ... 709024  =      0.000 ...  1418.048 secs...\n"
     ]
    },
    {
     "name": "stderr",
     "output_type": "stream",
     "text": [
      "[ERROR] NoDatasetFound(No dataset found at '/Users/ishabharti' for the purpose \"get content of <<['./ds003523/s++15 chars++eg']>>\".  Specify a dataset to work with by providing its path via the `dataset` option, or change the current working directory to be in a dataset.) (NoDatasetFound) \n",
      "usage: datalad get [-h] [-s LABEL] [-d PATH] [-r] [-R LEVELS] [-n]\n",
      "                   [-D DESCRIPTION] [--reckless [auto|ephemeral|shared-...]]\n",
      "                   [-J NJOBS] [--version]\n",
      "                   [PATH ...]\n"
     ]
    },
    {
     "name": "stdout",
     "output_type": "stream",
     "text": [
      "Filtering raw data in 1 contiguous segment\n",
      "Setting up band-pass filter from 0.5 - 1e+02 Hz\n",
      "\n",
      "FIR filter parameters\n",
      "---------------------\n",
      "Designing a one-pass, zero-phase, non-causal bandpass filter:\n",
      "- Windowed time-domain design (firwin) method\n",
      "- Hamming window with 0.0194 passband ripple and 53 dB stopband attenuation\n",
      "- Lower passband edge: 0.50\n",
      "- Lower transition bandwidth: 0.50 Hz (-6 dB cutoff frequency: 0.25 Hz)\n",
      "- Upper passband edge: 100.00 Hz\n",
      "- Upper transition bandwidth: 25.00 Hz (-6 dB cutoff frequency: 112.50 Hz)\n",
      "- Filter length: 3301 samples (6.602 s)\n",
      "\n"
     ]
    },
    {
     "name": "stderr",
     "output_type": "stream",
     "text": [
      "/var/folders/dl/zd_s8q0x20zbxpy0_dzhksbh0000gn/T/ipykernel_8212/2111931120.py:71: RuntimeWarning: The data contains 'boundary' events, indicating data discontinuities. Be cautious of filtering and epoching around these events.\n",
      "  raw = mne.io.read_raw_eeglab(eeg_file2, preload=True)\n",
      "[Parallel(n_jobs=1)]: Done  17 tasks      | elapsed:    0.2s\n"
     ]
    },
    {
     "name": "stdout",
     "output_type": "stream",
     "text": [
      "Used Annotations descriptions: ['S  1', 'S  2', 'S  3', 'S 50', 'S 51', 'S 52', 'S100', 'S101', 'S200', 'S201', 'boundary']\n",
      "Not setting metadata\n",
      "511 matching events found\n",
      "Setting baseline interval to [-0.2, 0.0] s\n",
      "Applying baseline correction (mode: mean)\n",
      "0 projection items activated\n",
      "Using data from preloaded Raw for 511 events and 351 original time points ...\n",
      "1 bad epochs dropped\n",
      "    Using multitaper spectrum estimation with 7 DPSS windows\n",
      "Session features shape for sub-018, ses-01: (510, 10)\n",
      "Data for sub-019, ses-01 not found. Skipping.\n",
      "EEG file ./ds003523/sub-019/ses-01/eeg/sub-019_ses-01_task-VisualWorkingMemory_eeg.set\n",
      "/Users/ishabharti/EEGdata/sub-019_ses-01_task-VisualWorkingMemory_eeg.set\n",
      "Reading /Users/ishabharti/EEGdata/sub-019_ses-01_task-VisualWorkingMemory_eeg.fdt\n",
      "Reading 0 ... 693374  =      0.000 ...  1386.748 secs...\n"
     ]
    },
    {
     "name": "stderr",
     "output_type": "stream",
     "text": [
      "[ERROR] NoDatasetFound(No dataset found at '/Users/ishabharti' for the purpose \"get content of <<['./ds003523/s++15 chars++eg']>>\".  Specify a dataset to work with by providing its path via the `dataset` option, or change the current working directory to be in a dataset.) (NoDatasetFound) \n",
      "usage: datalad get [-h] [-s LABEL] [-d PATH] [-r] [-R LEVELS] [-n]\n",
      "                   [-D DESCRIPTION] [--reckless [auto|ephemeral|shared-...]]\n",
      "                   [-J NJOBS] [--version]\n",
      "                   [PATH ...]\n"
     ]
    },
    {
     "name": "stdout",
     "output_type": "stream",
     "text": [
      "Filtering raw data in 1 contiguous segment\n",
      "Setting up band-pass filter from 0.5 - 1e+02 Hz\n",
      "\n",
      "FIR filter parameters\n",
      "---------------------\n",
      "Designing a one-pass, zero-phase, non-causal bandpass filter:\n",
      "- Windowed time-domain design (firwin) method\n",
      "- Hamming window with 0.0194 passband ripple and 53 dB stopband attenuation\n",
      "- Lower passband edge: 0.50\n",
      "- Lower transition bandwidth: 0.50 Hz (-6 dB cutoff frequency: 0.25 Hz)\n",
      "- Upper passband edge: 100.00 Hz\n",
      "- Upper transition bandwidth: 25.00 Hz (-6 dB cutoff frequency: 112.50 Hz)\n",
      "- Filter length: 3301 samples (6.602 s)\n",
      "\n"
     ]
    },
    {
     "name": "stderr",
     "output_type": "stream",
     "text": [
      "/var/folders/dl/zd_s8q0x20zbxpy0_dzhksbh0000gn/T/ipykernel_8212/2111931120.py:71: RuntimeWarning: The data contains 'boundary' events, indicating data discontinuities. Be cautious of filtering and epoching around these events.\n",
      "  raw = mne.io.read_raw_eeglab(eeg_file2, preload=True)\n",
      "[Parallel(n_jobs=1)]: Done  17 tasks      | elapsed:    0.2s\n"
     ]
    },
    {
     "name": "stdout",
     "output_type": "stream",
     "text": [
      "Used Annotations descriptions: ['S  1', 'S  2', 'S  3', 'S 50', 'S 51', 'S 52', 'S100', 'S101', 'S200', 'S201', 'boundary']\n",
      "Not setting metadata\n",
      "481 matching events found\n",
      "Setting baseline interval to [-0.2, 0.0] s\n",
      "Applying baseline correction (mode: mean)\n",
      "0 projection items activated\n",
      "Using data from preloaded Raw for 481 events and 351 original time points ...\n",
      "1 bad epochs dropped\n",
      "    Using multitaper spectrum estimation with 7 DPSS windows\n",
      "Session features shape for sub-019, ses-01: (480, 10)\n",
      "Data for sub-020, ses-01 not found. Skipping.\n",
      "EEG file ./ds003523/sub-020/ses-01/eeg/sub-020_ses-01_task-VisualWorkingMemory_eeg.set\n",
      "/Users/ishabharti/EEGdata/sub-020_ses-01_task-VisualWorkingMemory_eeg.set\n",
      "Reading /Users/ishabharti/EEGdata/sub-020_ses-01_task-VisualWorkingMemory_eeg.fdt\n",
      "Reading 0 ... 718824  =      0.000 ...  1437.648 secs...\n"
     ]
    },
    {
     "name": "stderr",
     "output_type": "stream",
     "text": [
      "[ERROR] NoDatasetFound(No dataset found at '/Users/ishabharti' for the purpose \"get content of <<['./ds003523/s++15 chars++eg']>>\".  Specify a dataset to work with by providing its path via the `dataset` option, or change the current working directory to be in a dataset.) (NoDatasetFound) \n",
      "usage: datalad get [-h] [-s LABEL] [-d PATH] [-r] [-R LEVELS] [-n]\n",
      "                   [-D DESCRIPTION] [--reckless [auto|ephemeral|shared-...]]\n",
      "                   [-J NJOBS] [--version]\n",
      "                   [PATH ...]\n"
     ]
    },
    {
     "name": "stdout",
     "output_type": "stream",
     "text": [
      "Filtering raw data in 1 contiguous segment\n",
      "Setting up band-pass filter from 0.5 - 1e+02 Hz\n",
      "\n",
      "FIR filter parameters\n",
      "---------------------\n",
      "Designing a one-pass, zero-phase, non-causal bandpass filter:\n",
      "- Windowed time-domain design (firwin) method\n",
      "- Hamming window with 0.0194 passband ripple and 53 dB stopband attenuation\n",
      "- Lower passband edge: 0.50\n",
      "- Lower transition bandwidth: 0.50 Hz (-6 dB cutoff frequency: 0.25 Hz)\n",
      "- Upper passband edge: 100.00 Hz\n",
      "- Upper transition bandwidth: 25.00 Hz (-6 dB cutoff frequency: 112.50 Hz)\n",
      "- Filter length: 3301 samples (6.602 s)\n",
      "\n"
     ]
    },
    {
     "name": "stderr",
     "output_type": "stream",
     "text": [
      "/var/folders/dl/zd_s8q0x20zbxpy0_dzhksbh0000gn/T/ipykernel_8212/2111931120.py:71: RuntimeWarning: The data contains 'boundary' events, indicating data discontinuities. Be cautious of filtering and epoching around these events.\n",
      "  raw = mne.io.read_raw_eeglab(eeg_file2, preload=True)\n",
      "[Parallel(n_jobs=1)]: Done  17 tasks      | elapsed:    0.2s\n"
     ]
    },
    {
     "name": "stdout",
     "output_type": "stream",
     "text": [
      "Used Annotations descriptions: ['S  1', 'S  2', 'S  3', 'S 50', 'S 51', 'S 52', 'S100', 'S101', 'S200', 'S201', 'boundary']\n",
      "Not setting metadata\n",
      "510 matching events found\n",
      "Setting baseline interval to [-0.2, 0.0] s\n",
      "Applying baseline correction (mode: mean)\n",
      "0 projection items activated\n",
      "Using data from preloaded Raw for 510 events and 351 original time points ...\n",
      "1 bad epochs dropped\n",
      "    Using multitaper spectrum estimation with 7 DPSS windows\n",
      "Session features shape for sub-020, ses-01: (509, 10)\n",
      "Data for sub-021, ses-01 not found. Skipping.\n",
      "EEG file ./ds003523/sub-021/ses-01/eeg/sub-021_ses-01_task-VisualWorkingMemory_eeg.set\n",
      "/Users/ishabharti/EEGdata/sub-021_ses-01_task-VisualWorkingMemory_eeg.set\n",
      "Reading /Users/ishabharti/EEGdata/sub-021_ses-01_task-VisualWorkingMemory_eeg.fdt\n",
      "Reading 0 ... 720749  =      0.000 ...  1441.498 secs...\n"
     ]
    },
    {
     "name": "stderr",
     "output_type": "stream",
     "text": [
      "[ERROR] NoDatasetFound(No dataset found at '/Users/ishabharti' for the purpose \"get content of <<['./ds003523/s++15 chars++eg']>>\".  Specify a dataset to work with by providing its path via the `dataset` option, or change the current working directory to be in a dataset.) (NoDatasetFound) \n",
      "usage: datalad get [-h] [-s LABEL] [-d PATH] [-r] [-R LEVELS] [-n]\n",
      "                   [-D DESCRIPTION] [--reckless [auto|ephemeral|shared-...]]\n",
      "                   [-J NJOBS] [--version]\n",
      "                   [PATH ...]\n"
     ]
    },
    {
     "name": "stdout",
     "output_type": "stream",
     "text": [
      "Filtering raw data in 1 contiguous segment\n",
      "Setting up band-pass filter from 0.5 - 1e+02 Hz\n",
      "\n",
      "FIR filter parameters\n",
      "---------------------\n",
      "Designing a one-pass, zero-phase, non-causal bandpass filter:\n",
      "- Windowed time-domain design (firwin) method\n",
      "- Hamming window with 0.0194 passband ripple and 53 dB stopband attenuation\n",
      "- Lower passband edge: 0.50\n",
      "- Lower transition bandwidth: 0.50 Hz (-6 dB cutoff frequency: 0.25 Hz)\n",
      "- Upper passband edge: 100.00 Hz\n",
      "- Upper transition bandwidth: 25.00 Hz (-6 dB cutoff frequency: 112.50 Hz)\n",
      "- Filter length: 3301 samples (6.602 s)\n",
      "\n"
     ]
    },
    {
     "name": "stderr",
     "output_type": "stream",
     "text": [
      "/var/folders/dl/zd_s8q0x20zbxpy0_dzhksbh0000gn/T/ipykernel_8212/2111931120.py:71: RuntimeWarning: The data contains 'boundary' events, indicating data discontinuities. Be cautious of filtering and epoching around these events.\n",
      "  raw = mne.io.read_raw_eeglab(eeg_file2, preload=True)\n",
      "[Parallel(n_jobs=1)]: Done  17 tasks      | elapsed:    0.7s\n"
     ]
    },
    {
     "name": "stdout",
     "output_type": "stream",
     "text": [
      "Used Annotations descriptions: ['S  1', 'S  2', 'S  3', 'S 50', 'S 51', 'S 52', 'S100', 'S101', 'S200', 'S201', 'boundary']\n",
      "Not setting metadata\n",
      "508 matching events found\n",
      "Setting baseline interval to [-0.2, 0.0] s\n",
      "Applying baseline correction (mode: mean)\n",
      "0 projection items activated\n",
      "Using data from preloaded Raw for 508 events and 351 original time points ...\n",
      "1 bad epochs dropped\n",
      "    Using multitaper spectrum estimation with 7 DPSS windows\n",
      "Session features shape for sub-021, ses-01: (507, 10)\n",
      "Data for sub-022, ses-01 not found. Skipping.\n",
      "EEG file ./ds003523/sub-022/ses-01/eeg/sub-022_ses-01_task-VisualWorkingMemory_eeg.set\n",
      "/Users/ishabharti/EEGdata/sub-022_ses-01_task-VisualWorkingMemory_eeg.set\n",
      "Reading /Users/ishabharti/EEGdata/sub-022_ses-01_task-VisualWorkingMemory_eeg.fdt\n",
      "Reading 0 ... 745999  =      0.000 ...  1491.998 secs...\n"
     ]
    },
    {
     "name": "stderr",
     "output_type": "stream",
     "text": [
      "[ERROR] NoDatasetFound(No dataset found at '/Users/ishabharti' for the purpose \"get content of <<['./ds003523/s++15 chars++eg']>>\".  Specify a dataset to work with by providing its path via the `dataset` option, or change the current working directory to be in a dataset.) (NoDatasetFound) \n",
      "usage: datalad get [-h] [-s LABEL] [-d PATH] [-r] [-R LEVELS] [-n]\n",
      "                   [-D DESCRIPTION] [--reckless [auto|ephemeral|shared-...]]\n",
      "                   [-J NJOBS] [--version]\n",
      "                   [PATH ...]\n"
     ]
    },
    {
     "name": "stdout",
     "output_type": "stream",
     "text": [
      "Filtering raw data in 1 contiguous segment\n",
      "Setting up band-pass filter from 0.5 - 1e+02 Hz\n",
      "\n",
      "FIR filter parameters\n",
      "---------------------\n",
      "Designing a one-pass, zero-phase, non-causal bandpass filter:\n",
      "- Windowed time-domain design (firwin) method\n",
      "- Hamming window with 0.0194 passband ripple and 53 dB stopband attenuation\n",
      "- Lower passband edge: 0.50\n",
      "- Lower transition bandwidth: 0.50 Hz (-6 dB cutoff frequency: 0.25 Hz)\n",
      "- Upper passband edge: 100.00 Hz\n",
      "- Upper transition bandwidth: 25.00 Hz (-6 dB cutoff frequency: 112.50 Hz)\n",
      "- Filter length: 3301 samples (6.602 s)\n",
      "\n"
     ]
    },
    {
     "name": "stderr",
     "output_type": "stream",
     "text": [
      "/var/folders/dl/zd_s8q0x20zbxpy0_dzhksbh0000gn/T/ipykernel_8212/2111931120.py:71: RuntimeWarning: The data contains 'boundary' events, indicating data discontinuities. Be cautious of filtering and epoching around these events.\n",
      "  raw = mne.io.read_raw_eeglab(eeg_file2, preload=True)\n",
      "[Parallel(n_jobs=1)]: Done  17 tasks      | elapsed:    0.3s\n"
     ]
    },
    {
     "name": "stdout",
     "output_type": "stream",
     "text": [
      "Used Annotations descriptions: ['S  1', 'S  2', 'S  3', 'S 50', 'S 51', 'S100', 'S101', 'S200', 'S201', 'boundary']\n",
      "Not setting metadata\n",
      "508 matching events found\n",
      "Setting baseline interval to [-0.2, 0.0] s\n",
      "Applying baseline correction (mode: mean)\n",
      "0 projection items activated\n",
      "Using data from preloaded Raw for 508 events and 351 original time points ...\n",
      "1 bad epochs dropped\n",
      "    Using multitaper spectrum estimation with 7 DPSS windows\n",
      "Session features shape for sub-022, ses-01: (507, 10)\n",
      "Data for sub-023, ses-01 not found. Skipping.\n",
      "EEG file ./ds003523/sub-023/ses-01/eeg/sub-023_ses-01_task-VisualWorkingMemory_eeg.set\n",
      "/Users/ishabharti/EEGdata/sub-023_ses-01_task-VisualWorkingMemory_eeg.set\n",
      "Reading /Users/ishabharti/EEGdata/sub-023_ses-01_task-VisualWorkingMemory_eeg.fdt\n",
      "Reading 0 ... 707624  =      0.000 ...  1415.248 secs...\n"
     ]
    },
    {
     "name": "stderr",
     "output_type": "stream",
     "text": [
      "[ERROR] NoDatasetFound(No dataset found at '/Users/ishabharti' for the purpose \"get content of <<['./ds003523/s++15 chars++eg']>>\".  Specify a dataset to work with by providing its path via the `dataset` option, or change the current working directory to be in a dataset.) (NoDatasetFound) \n",
      "usage: datalad get [-h] [-s LABEL] [-d PATH] [-r] [-R LEVELS] [-n]\n",
      "                   [-D DESCRIPTION] [--reckless [auto|ephemeral|shared-...]]\n",
      "                   [-J NJOBS] [--version]\n",
      "                   [PATH ...]\n"
     ]
    },
    {
     "name": "stdout",
     "output_type": "stream",
     "text": [
      "Filtering raw data in 1 contiguous segment\n",
      "Setting up band-pass filter from 0.5 - 1e+02 Hz\n",
      "\n",
      "FIR filter parameters\n",
      "---------------------\n",
      "Designing a one-pass, zero-phase, non-causal bandpass filter:\n",
      "- Windowed time-domain design (firwin) method\n",
      "- Hamming window with 0.0194 passband ripple and 53 dB stopband attenuation\n",
      "- Lower passband edge: 0.50\n",
      "- Lower transition bandwidth: 0.50 Hz (-6 dB cutoff frequency: 0.25 Hz)\n",
      "- Upper passband edge: 100.00 Hz\n",
      "- Upper transition bandwidth: 25.00 Hz (-6 dB cutoff frequency: 112.50 Hz)\n",
      "- Filter length: 3301 samples (6.602 s)\n",
      "\n"
     ]
    },
    {
     "name": "stderr",
     "output_type": "stream",
     "text": [
      "/var/folders/dl/zd_s8q0x20zbxpy0_dzhksbh0000gn/T/ipykernel_8212/2111931120.py:71: RuntimeWarning: The data contains 'boundary' events, indicating data discontinuities. Be cautious of filtering and epoching around these events.\n",
      "  raw = mne.io.read_raw_eeglab(eeg_file2, preload=True)\n",
      "[Parallel(n_jobs=1)]: Done  17 tasks      | elapsed:    0.4s\n"
     ]
    },
    {
     "name": "stdout",
     "output_type": "stream",
     "text": [
      "Used Annotations descriptions: ['S  1', 'S  2', 'S  3', 'S 50', 'S 51', 'S 52', 'S100', 'S101', 'S200', 'S201', 'boundary']\n",
      "Not setting metadata\n",
      "506 matching events found\n",
      "Setting baseline interval to [-0.2, 0.0] s\n",
      "Applying baseline correction (mode: mean)\n",
      "0 projection items activated\n",
      "Using data from preloaded Raw for 506 events and 351 original time points ...\n",
      "1 bad epochs dropped\n",
      "    Using multitaper spectrum estimation with 7 DPSS windows\n",
      "Session features shape for sub-023, ses-01: (505, 10)\n",
      "Data for sub-024, ses-01 not found. Skipping.\n",
      "EEG file ./ds003523/sub-024/ses-01/eeg/sub-024_ses-01_task-VisualWorkingMemory_eeg.set\n",
      "/Users/ishabharti/EEGdata/sub-024_ses-01_task-VisualWorkingMemory_eeg.set\n",
      "Reading /Users/ishabharti/EEGdata/sub-024_ses-01_task-VisualWorkingMemory_eeg.fdt\n",
      "Reading 0 ... 745549  =      0.000 ...  1491.098 secs...\n"
     ]
    },
    {
     "name": "stderr",
     "output_type": "stream",
     "text": [
      "[ERROR] NoDatasetFound(No dataset found at '/Users/ishabharti' for the purpose \"get content of <<['./ds003523/s++15 chars++eg']>>\".  Specify a dataset to work with by providing its path via the `dataset` option, or change the current working directory to be in a dataset.) (NoDatasetFound) \n",
      "usage: datalad get [-h] [-s LABEL] [-d PATH] [-r] [-R LEVELS] [-n]\n",
      "                   [-D DESCRIPTION] [--reckless [auto|ephemeral|shared-...]]\n",
      "                   [-J NJOBS] [--version]\n",
      "                   [PATH ...]\n"
     ]
    },
    {
     "name": "stdout",
     "output_type": "stream",
     "text": [
      "Filtering raw data in 1 contiguous segment\n",
      "Setting up band-pass filter from 0.5 - 1e+02 Hz\n",
      "\n",
      "FIR filter parameters\n",
      "---------------------\n",
      "Designing a one-pass, zero-phase, non-causal bandpass filter:\n",
      "- Windowed time-domain design (firwin) method\n",
      "- Hamming window with 0.0194 passband ripple and 53 dB stopband attenuation\n",
      "- Lower passband edge: 0.50\n",
      "- Lower transition bandwidth: 0.50 Hz (-6 dB cutoff frequency: 0.25 Hz)\n",
      "- Upper passband edge: 100.00 Hz\n",
      "- Upper transition bandwidth: 25.00 Hz (-6 dB cutoff frequency: 112.50 Hz)\n",
      "- Filter length: 3301 samples (6.602 s)\n",
      "\n"
     ]
    },
    {
     "name": "stderr",
     "output_type": "stream",
     "text": [
      "/var/folders/dl/zd_s8q0x20zbxpy0_dzhksbh0000gn/T/ipykernel_8212/2111931120.py:71: RuntimeWarning: The data contains 'boundary' events, indicating data discontinuities. Be cautious of filtering and epoching around these events.\n",
      "  raw = mne.io.read_raw_eeglab(eeg_file2, preload=True)\n",
      "[Parallel(n_jobs=1)]: Done  17 tasks      | elapsed:    0.2s\n"
     ]
    },
    {
     "name": "stdout",
     "output_type": "stream",
     "text": [
      "Used Annotations descriptions: ['S  1', 'S  2', 'S  3', 'S 50', 'S 51', 'S 52', 'S100', 'S101', 'S200', 'S201', 'boundary']\n",
      "Not setting metadata\n",
      "509 matching events found\n",
      "Setting baseline interval to [-0.2, 0.0] s\n",
      "Applying baseline correction (mode: mean)\n",
      "0 projection items activated\n",
      "Using data from preloaded Raw for 509 events and 351 original time points ...\n",
      "1 bad epochs dropped\n",
      "    Using multitaper spectrum estimation with 7 DPSS windows\n",
      "Session features shape for sub-024, ses-01: (508, 10)\n",
      "Data for sub-025, ses-01 not found. Skipping.\n",
      "EEG file ./ds003523/sub-025/ses-01/eeg/sub-025_ses-01_task-VisualWorkingMemory_eeg.set\n",
      "/Users/ishabharti/EEGdata/sub-025_ses-01_task-VisualWorkingMemory_eeg.set\n",
      "Reading /Users/ishabharti/EEGdata/sub-025_ses-01_task-VisualWorkingMemory_eeg.fdt\n",
      "Reading 0 ... 665824  =      0.000 ...  1331.648 secs...\n"
     ]
    },
    {
     "name": "stderr",
     "output_type": "stream",
     "text": [
      "[ERROR] NoDatasetFound(No dataset found at '/Users/ishabharti' for the purpose \"get content of <<['./ds003523/s++15 chars++eg']>>\".  Specify a dataset to work with by providing its path via the `dataset` option, or change the current working directory to be in a dataset.) (NoDatasetFound) \n",
      "usage: datalad get [-h] [-s LABEL] [-d PATH] [-r] [-R LEVELS] [-n]\n",
      "                   [-D DESCRIPTION] [--reckless [auto|ephemeral|shared-...]]\n",
      "                   [-J NJOBS] [--version]\n",
      "                   [PATH ...]\n"
     ]
    },
    {
     "name": "stdout",
     "output_type": "stream",
     "text": [
      "Filtering raw data in 1 contiguous segment\n",
      "Setting up band-pass filter from 0.5 - 1e+02 Hz\n",
      "\n",
      "FIR filter parameters\n",
      "---------------------\n",
      "Designing a one-pass, zero-phase, non-causal bandpass filter:\n",
      "- Windowed time-domain design (firwin) method\n",
      "- Hamming window with 0.0194 passband ripple and 53 dB stopband attenuation\n",
      "- Lower passband edge: 0.50\n",
      "- Lower transition bandwidth: 0.50 Hz (-6 dB cutoff frequency: 0.25 Hz)\n",
      "- Upper passband edge: 100.00 Hz\n",
      "- Upper transition bandwidth: 25.00 Hz (-6 dB cutoff frequency: 112.50 Hz)\n",
      "- Filter length: 3301 samples (6.602 s)\n",
      "\n"
     ]
    },
    {
     "name": "stderr",
     "output_type": "stream",
     "text": [
      "/var/folders/dl/zd_s8q0x20zbxpy0_dzhksbh0000gn/T/ipykernel_8212/2111931120.py:71: RuntimeWarning: The data contains 'boundary' events, indicating data discontinuities. Be cautious of filtering and epoching around these events.\n",
      "  raw = mne.io.read_raw_eeglab(eeg_file2, preload=True)\n",
      "[Parallel(n_jobs=1)]: Done  17 tasks      | elapsed:    0.4s\n"
     ]
    },
    {
     "name": "stdout",
     "output_type": "stream",
     "text": [
      "Used Annotations descriptions: ['S  1', 'S  2', 'S  3', 'S 50', 'S 51', 'S 52', 'S100', 'S101', 'S200', 'S201', 'boundary']\n",
      "Not setting metadata\n",
      "511 matching events found\n",
      "Setting baseline interval to [-0.2, 0.0] s\n",
      "Applying baseline correction (mode: mean)\n",
      "0 projection items activated\n",
      "Using data from preloaded Raw for 511 events and 351 original time points ...\n",
      "1 bad epochs dropped\n",
      "    Using multitaper spectrum estimation with 7 DPSS windows\n",
      "Session features shape for sub-025, ses-01: (510, 10)\n",
      "Data for sub-026, ses-01 not found. Skipping.\n",
      "EEG file ./ds003523/sub-026/ses-01/eeg/sub-026_ses-01_task-VisualWorkingMemory_eeg.set\n",
      "/Users/ishabharti/EEGdata/sub-026_ses-01_task-VisualWorkingMemory_eeg.set\n",
      "Reading /Users/ishabharti/EEGdata/sub-026_ses-01_task-VisualWorkingMemory_eeg.fdt\n",
      "Reading 0 ... 551649  =      0.000 ...  1103.298 secs...\n"
     ]
    },
    {
     "name": "stderr",
     "output_type": "stream",
     "text": [
      "[ERROR] NoDatasetFound(No dataset found at '/Users/ishabharti' for the purpose \"get content of <<['./ds003523/s++15 chars++eg']>>\".  Specify a dataset to work with by providing its path via the `dataset` option, or change the current working directory to be in a dataset.) (NoDatasetFound) \n",
      "usage: datalad get [-h] [-s LABEL] [-d PATH] [-r] [-R LEVELS] [-n]\n",
      "                   [-D DESCRIPTION] [--reckless [auto|ephemeral|shared-...]]\n",
      "                   [-J NJOBS] [--version]\n",
      "                   [PATH ...]\n"
     ]
    },
    {
     "name": "stdout",
     "output_type": "stream",
     "text": [
      "Filtering raw data in 1 contiguous segment\n",
      "Setting up band-pass filter from 0.5 - 1e+02 Hz\n",
      "\n",
      "FIR filter parameters\n",
      "---------------------\n",
      "Designing a one-pass, zero-phase, non-causal bandpass filter:\n",
      "- Windowed time-domain design (firwin) method\n",
      "- Hamming window with 0.0194 passband ripple and 53 dB stopband attenuation\n",
      "- Lower passband edge: 0.50\n",
      "- Lower transition bandwidth: 0.50 Hz (-6 dB cutoff frequency: 0.25 Hz)\n",
      "- Upper passband edge: 100.00 Hz\n",
      "- Upper transition bandwidth: 25.00 Hz (-6 dB cutoff frequency: 112.50 Hz)\n",
      "- Filter length: 3301 samples (6.602 s)\n",
      "\n"
     ]
    },
    {
     "name": "stderr",
     "output_type": "stream",
     "text": [
      "/var/folders/dl/zd_s8q0x20zbxpy0_dzhksbh0000gn/T/ipykernel_8212/2111931120.py:71: RuntimeWarning: The data contains 'boundary' events, indicating data discontinuities. Be cautious of filtering and epoching around these events.\n",
      "  raw = mne.io.read_raw_eeglab(eeg_file2, preload=True)\n",
      "[Parallel(n_jobs=1)]: Done  17 tasks      | elapsed:    0.2s\n"
     ]
    },
    {
     "name": "stdout",
     "output_type": "stream",
     "text": [
      "Used Annotations descriptions: ['S  1', 'S  2', 'S  3', 'S 50', 'S 51', 'S 52', 'S100', 'S101', 'S200', 'S201', 'boundary']\n",
      "Not setting metadata\n",
      "395 matching events found\n",
      "Setting baseline interval to [-0.2, 0.0] s\n",
      "Applying baseline correction (mode: mean)\n",
      "0 projection items activated\n",
      "Using data from preloaded Raw for 395 events and 351 original time points ...\n",
      "2 bad epochs dropped\n",
      "    Using multitaper spectrum estimation with 7 DPSS windows\n",
      "Session features shape for sub-026, ses-01: (393, 10)\n",
      "Data for sub-027, ses-01 not found. Skipping.\n",
      "EEG file ./ds003523/sub-027/ses-01/eeg/sub-027_ses-01_task-VisualWorkingMemory_eeg.set\n",
      "/Users/ishabharti/EEGdata/sub-027_ses-01_task-VisualWorkingMemory_eeg.set\n",
      "Reading /Users/ishabharti/EEGdata/sub-027_ses-01_task-VisualWorkingMemory_eeg.fdt\n",
      "Reading 0 ... 688124  =      0.000 ...  1376.248 secs...\n"
     ]
    },
    {
     "name": "stderr",
     "output_type": "stream",
     "text": [
      "[ERROR] NoDatasetFound(No dataset found at '/Users/ishabharti' for the purpose \"get content of <<['./ds003523/s++15 chars++eg']>>\".  Specify a dataset to work with by providing its path via the `dataset` option, or change the current working directory to be in a dataset.) (NoDatasetFound) \n",
      "usage: datalad get [-h] [-s LABEL] [-d PATH] [-r] [-R LEVELS] [-n]\n",
      "                   [-D DESCRIPTION] [--reckless [auto|ephemeral|shared-...]]\n",
      "                   [-J NJOBS] [--version]\n",
      "                   [PATH ...]\n"
     ]
    }
   ],
   "source": [
    "\n",
    "# Function to compute additional features (mean, variance, skewness, kurtosis, line length)\n",
    "def compute_additional_features(epoch_data):\n",
    "    if len(epoch_data.shape) != 2:\n",
    "        raise ValueError(f\"Expected 2D array for epoch_data, got {epoch_data.shape}\")\n",
    "\n",
    "    mean_values = epoch_data.mean(axis=1)\n",
    "    var_values = epoch_data.var(axis=1)\n",
    "    skew_values = skew(epoch_data, axis=1)\n",
    "    kurtosis_values = kurtosis(epoch_data, axis=1)\n",
    "    line_length = np.sum(np.abs(np.diff(epoch_data, axis=1)), axis=1)\n",
    "\n",
    "    return mean_values, var_values, skew_values, kurtosis_values, line_length\n",
    "\n",
    "# Initialize variables\n",
    "all_features = []\n",
    "all_labels = []\n",
    "all_subjects = []\n",
    "band_ranges = {\n",
    "    'delta': (0.5, 4),\n",
    "    'theta': (4, 8),\n",
    "    'alpha': (8, 13),\n",
    "    'beta': (13, 30),\n",
    "    'gamma': (30, 100)\n",
    "}\n",
    "\n",
    "print(update_participants['participant_id'].values)\n",
    "\n",
    "expected_feature_count = 10  # Total number of features (5 frequency + 5 time-domain)\n",
    "\n",
    "# Loop through each subject\n",
    "for subject in range(1, 92):  # Adjust range as needed\n",
    "    subject_id = f\"sub-{subject:03d}\"  # Format: sub-001, sub-002, etc.\n",
    "    subject_id_lower = subject_id.lower()\n",
    "\n",
    "\n",
    "    # Check if subject exists in participants.tsv\n",
    "#   if subject_id_lower not in participants['participant_id'].values:\n",
    "    if subject_id_lower not in update_participants['participant_id'].values:\n",
    "\n",
    "        print(f\"Subject {subject_id} not found in participants.tsv. Skipping.\")\n",
    "        continue\n",
    "\n",
    "    # Locate the subject directory\n",
    "    subject_dir = os.path.join(data_dir, subject_id)\n",
    "    if not os.path.exists(subject_dir):\n",
    "        print(f\"Subject directory {subject_id} not found. Skipping.\")\n",
    "        continue\n",
    "        \n",
    "\n",
    "    # Find all available sessions for the subject\n",
    "    sessions = [s for s in os.listdir(subject_dir) if s.startswith('ses-')]\n",
    "    #print(\"Sessions\",sessions)\n",
    "#    for session in sessions:\n",
    "    for session in [\"ses-01\"]:\n",
    "        session_path = os.path.join(subject_dir, session, 'eeg')\n",
    "\n",
    "        # Retrieve session data using DataLad\n",
    "        os.system(f'datalad get {session_path}')\n",
    "\n",
    "        # Check if the .set file exists for this session\n",
    "        eeg_file = os.path.join(session_path, f\"{subject_id}_{session}_task-VisualWorkingMemory_eeg.set\")\n",
    "\n",
    "        if not os.path.exists(eeg_file):\n",
    "            print(f\"Data for {subject_id}, {session} not found. Skipping.\")\n",
    "        #    continue\n",
    "        # Load the EEG data\n",
    "        print(\"EEG file\",eeg_file)\n",
    "        session_path2 = \"/Users/ishabharti/EEGdata/\"\n",
    "        eeg_file2 = os.path.join(session_path2, f\"{subject_id}_{session}_task-VisualWorkingMemory_eeg.set\")\n",
    "        print(eeg_file2)\n",
    "        raw = mne.io.read_raw_eeglab(eeg_file2, preload=True)\n",
    "    \n",
    "#        raw = mne.io.read_raw_eeglab(eeg_file, preload=True)\n",
    "\n",
    "        # Preprocess the data\n",
    "        raw.filter(0.5, 100., fir_design='firwin')\n",
    "# why is data being filtered? like this?\n",
    "        \n",
    "        # Extract events\n",
    "        events, event_id = mne.events_from_annotations(raw)\n",
    "\n",
    "        # Define epochs\n",
    "        tmin, tmax = -0.2, 0.5\n",
    "        epochs = mne.Epochs(raw, events, event_id, tmin=tmin, tmax=tmax, baseline=(None, 0), preload=True)\n",
    "\n",
    "        # Compute PSD for the entire frequency range\n",
    "        psd = epochs.compute_psd(method='multitaper', fmin=0.5, fmax=100)\n",
    "        psd_data = psd.get_data()  # Shape: (n_epochs, n_channels, n_freqs)\n",
    "        freqs = psd.freqs\n",
    " #       print (\"PSD_DATAshape\",psd_data.shape)\n",
    "\n",
    "\n",
    "        \n",
    "        # Compute features for each frequency band\n",
    "        band_powers = {}\n",
    "        for band, (fmin, fmax) in band_ranges.items():\n",
    "            band_indices = (freqs >= fmin) & (freqs < fmax)\n",
    "            band_power = psd_data[:, :, band_indices].mean(axis=2)  # Mean PSD within the band\n",
    "            band_powers[band] = band_power.mean(axis=1)  # Aggregate across channels\n",
    "\n",
    "\n",
    "        #Shouldn't band powers be relative not absolute?\n",
    "        \n",
    "        \n",
    "        # Extract time-domain data from epochs\n",
    "        epoch_data = epochs.get_data().mean(axis=1)  # Aggregate across channels (shape: n_epochs, n_times)\n",
    "\n",
    "        # Compute additional features\n",
    "        mean_values, var_values, skew_values, kurtosis_values, line_length = compute_additional_features(epoch_data)\n",
    "\n",
    "        # Combine all features into a single array\n",
    "        try:\n",
    "            session_features = np.column_stack([\n",
    "                band_powers['delta'], band_powers['theta'], band_powers['alpha'],\n",
    "                band_powers['beta'], band_powers['gamma'], mean_values,\n",
    "                var_values, skew_values, kurtosis_values, line_length\n",
    "            ])\n",
    "            print(f\"Session features shape for {subject_id}, {session}: {session_features.shape}\")\n",
    "        except ValueError as e:\n",
    "            print(f\"Feature dimension mismatch for {subject_id}, {session}: {e}\")\n",
    "            continue\n",
    "            \n",
    "        # Append subject ID for each epoch\n",
    "        \n",
    "        subject_ids = np.repeat(subject_id, session_features.shape[0])\n",
    "\n",
    "        all_features.append(session_features)\n",
    "        all_subjects.append(subject_ids)\n",
    "        \n",
    "        # Pad or truncate to maintain consistent dimensions\n",
    "        if session_features.shape[1] != expected_feature_count:\n",
    "            print(f\"Inconsistent feature count. Padding/truncating for {subject_id}, {session}\")\n",
    "            session_features = np.pad(\n",
    "                session_features,\n",
    "                ((0, 0), (0, expected_feature_count - session_features.shape[1])),\n",
    "                mode='constant'\n",
    "            )\n",
    "\n",
    "        all_features.append(session_features)\n",
    "\n",
    "        # Get the group label for the subject\n",
    "        group_label = update_participants.loc[update_participants['participant_id'] == subject_id_lower, 'Group'].values\n",
    "        if len(group_label) == 0 or pd.isna(group_label[0]):\n",
    "            print(f\"No valid group label found for {subject_id}. Skipping.\")\n",
    "            continue\n",
    "\n",
    "        # Repeat the label for each epoch in the session\n",
    "        all_labels.append(np.repeat(group_label[0], session_features.shape[0]))"
   ]
  },
  {
   "cell_type": "code",
   "execution_count": 8,
   "metadata": {},
   "outputs": [
    {
     "name": "stdout",
     "output_type": "stream",
     "text": [
      "shape all_features 108\n",
      "X: [[ 1.23258038e-04  6.68979985e-05  1.03917411e-05 ... -1.76394810e+00\n",
      "   2.47057501e+00  4.47876143e-03]\n",
      " [ 2.07725854e-04  8.54040675e-05  9.62813937e-07 ...  4.97321993e-01\n",
      "  -1.17076399e+00  3.33261076e-03]\n",
      " [ 9.16684084e-04  4.09990699e-04  3.27635998e-05 ...  5.77952400e-01\n",
      "  -1.44129553e-01  5.46391405e-03]\n",
      " ...\n",
      " [ 7.15136321e-04  2.65922895e-04  4.09750918e-06 ...  8.94029723e-02\n",
      "  -6.87550900e-01  6.50419503e-02]\n",
      " [ 3.09258577e-06  3.98402220e-06  3.73449048e-06 ... -2.80096678e-02\n",
      "  -1.36258882e+00  6.46585898e-02]\n",
      " [ 9.41985641e-06  4.99662300e-06  5.22339393e-07 ... -3.30091084e-03\n",
      "  -1.46142927e+00  6.52745195e-02]]\n",
      "X shape (54350, 10)\n",
      "[[ 1.23258038e-04  6.68979985e-05  1.03917411e-05 ... -1.76394810e+00\n",
      "   2.47057501e+00  4.47876143e-03]\n",
      " [ 2.07725854e-04  8.54040675e-05  9.62813937e-07 ...  4.97321993e-01\n",
      "  -1.17076399e+00  3.33261076e-03]\n",
      " [ 9.16684084e-04  4.09990699e-04  3.27635998e-05 ...  5.77952400e-01\n",
      "  -1.44129553e-01  5.46391405e-03]\n",
      " ...\n",
      " [ 7.15136321e-04  2.65922895e-04  4.09750918e-06 ...  8.94029723e-02\n",
      "  -6.87550900e-01  6.50419503e-02]\n",
      " [ 3.09258577e-06  3.98402220e-06  3.73449048e-06 ... -2.80096678e-02\n",
      "  -1.36258882e+00  6.46585898e-02]\n",
      " [ 9.41985641e-06  4.99662300e-06  5.22339393e-07 ... -3.30091084e-03\n",
      "  -1.46142927e+00  6.52745195e-02]]\n",
      "all_labels 54\n",
      "subjectid: ['sub-001' 'sub-001' 'sub-001' ... 'sub-055' 'sub-055' 'sub-055']\n",
      "Subject shape (27175,)\n",
      "Y: [0 0 0 ... 0 0 0]\n",
      "Y shape (27175,)\n",
      "Y sum 9016\n",
      "shape training data (54350, 10)\n"
     ]
    },
    {
     "ename": "ValueError",
     "evalue": "Length of values (27175) does not match length of index (54350)",
     "output_type": "error",
     "traceback": [
      "\u001b[0;31m---------------------------------------------------------------------------\u001b[0m",
      "\u001b[0;31mValueError\u001b[0m                                Traceback (most recent call last)",
      "Cell \u001b[0;32mIn[8], line 39\u001b[0m\n\u001b[1;32m     37\u001b[0m \u001b[38;5;28mprint\u001b[39m(\u001b[38;5;124m\"\u001b[39m\u001b[38;5;124mshape training data\u001b[39m\u001b[38;5;124m\"\u001b[39m,training_data\u001b[38;5;241m.\u001b[39mshape)\n\u001b[1;32m     38\u001b[0m \u001b[38;5;66;03m# training_data['label'] = y\u001b[39;00m\n\u001b[0;32m---> 39\u001b[0m training_data[\u001b[38;5;124m'\u001b[39m\u001b[38;5;124msubject_id\u001b[39m\u001b[38;5;124m'\u001b[39m] \u001b[38;5;241m=\u001b[39m subject_ids\n\u001b[1;32m     41\u001b[0m training_data\u001b[38;5;241m.\u001b[39mto_csv(\u001b[38;5;124m'\u001b[39m\u001b[38;5;124meeg_training_data_with_features.csv\u001b[39m\u001b[38;5;124m'\u001b[39m, index\u001b[38;5;241m=\u001b[39m\u001b[38;5;28;01mFalse\u001b[39;00m)\n\u001b[1;32m     42\u001b[0m \u001b[38;5;28mprint\u001b[39m(\u001b[38;5;124m\"\u001b[39m\u001b[38;5;124mTraining data saved to \u001b[39m\u001b[38;5;124m'\u001b[39m\u001b[38;5;124meeg_training_data_with_features.csv\u001b[39m\u001b[38;5;124m'\u001b[39m\u001b[38;5;124m\"\u001b[39m)\n",
      "File \u001b[0;32m/opt/anaconda3/envs/tf/lib/python3.11/site-packages/pandas/core/frame.py:4311\u001b[0m, in \u001b[0;36mDataFrame.__setitem__\u001b[0;34m(self, key, value)\u001b[0m\n\u001b[1;32m   4308\u001b[0m     \u001b[38;5;28mself\u001b[39m\u001b[38;5;241m.\u001b[39m_setitem_array([key], value)\n\u001b[1;32m   4309\u001b[0m \u001b[38;5;28;01melse\u001b[39;00m:\n\u001b[1;32m   4310\u001b[0m     \u001b[38;5;66;03m# set column\u001b[39;00m\n\u001b[0;32m-> 4311\u001b[0m     \u001b[38;5;28mself\u001b[39m\u001b[38;5;241m.\u001b[39m_set_item(key, value)\n",
      "File \u001b[0;32m/opt/anaconda3/envs/tf/lib/python3.11/site-packages/pandas/core/frame.py:4524\u001b[0m, in \u001b[0;36mDataFrame._set_item\u001b[0;34m(self, key, value)\u001b[0m\n\u001b[1;32m   4514\u001b[0m \u001b[38;5;28;01mdef\u001b[39;00m \u001b[38;5;21m_set_item\u001b[39m(\u001b[38;5;28mself\u001b[39m, key, value) \u001b[38;5;241m-\u001b[39m\u001b[38;5;241m>\u001b[39m \u001b[38;5;28;01mNone\u001b[39;00m:\n\u001b[1;32m   4515\u001b[0m \u001b[38;5;250m    \u001b[39m\u001b[38;5;124;03m\"\"\"\u001b[39;00m\n\u001b[1;32m   4516\u001b[0m \u001b[38;5;124;03m    Add series to DataFrame in specified column.\u001b[39;00m\n\u001b[1;32m   4517\u001b[0m \n\u001b[0;32m   (...)\u001b[0m\n\u001b[1;32m   4522\u001b[0m \u001b[38;5;124;03m    ensure homogeneity.\u001b[39;00m\n\u001b[1;32m   4523\u001b[0m \u001b[38;5;124;03m    \"\"\"\u001b[39;00m\n\u001b[0;32m-> 4524\u001b[0m     value, refs \u001b[38;5;241m=\u001b[39m \u001b[38;5;28mself\u001b[39m\u001b[38;5;241m.\u001b[39m_sanitize_column(value)\n\u001b[1;32m   4526\u001b[0m     \u001b[38;5;28;01mif\u001b[39;00m (\n\u001b[1;32m   4527\u001b[0m         key \u001b[38;5;129;01min\u001b[39;00m \u001b[38;5;28mself\u001b[39m\u001b[38;5;241m.\u001b[39mcolumns\n\u001b[1;32m   4528\u001b[0m         \u001b[38;5;129;01mand\u001b[39;00m value\u001b[38;5;241m.\u001b[39mndim \u001b[38;5;241m==\u001b[39m \u001b[38;5;241m1\u001b[39m\n\u001b[1;32m   4529\u001b[0m         \u001b[38;5;129;01mand\u001b[39;00m \u001b[38;5;129;01mnot\u001b[39;00m \u001b[38;5;28misinstance\u001b[39m(value\u001b[38;5;241m.\u001b[39mdtype, ExtensionDtype)\n\u001b[1;32m   4530\u001b[0m     ):\n\u001b[1;32m   4531\u001b[0m         \u001b[38;5;66;03m# broadcast across multiple columns if necessary\u001b[39;00m\n\u001b[1;32m   4532\u001b[0m         \u001b[38;5;28;01mif\u001b[39;00m \u001b[38;5;129;01mnot\u001b[39;00m \u001b[38;5;28mself\u001b[39m\u001b[38;5;241m.\u001b[39mcolumns\u001b[38;5;241m.\u001b[39mis_unique \u001b[38;5;129;01mor\u001b[39;00m \u001b[38;5;28misinstance\u001b[39m(\u001b[38;5;28mself\u001b[39m\u001b[38;5;241m.\u001b[39mcolumns, MultiIndex):\n",
      "File \u001b[0;32m/opt/anaconda3/envs/tf/lib/python3.11/site-packages/pandas/core/frame.py:5266\u001b[0m, in \u001b[0;36mDataFrame._sanitize_column\u001b[0;34m(self, value)\u001b[0m\n\u001b[1;32m   5263\u001b[0m     \u001b[38;5;28;01mreturn\u001b[39;00m _reindex_for_setitem(value, \u001b[38;5;28mself\u001b[39m\u001b[38;5;241m.\u001b[39mindex)\n\u001b[1;32m   5265\u001b[0m \u001b[38;5;28;01mif\u001b[39;00m is_list_like(value):\n\u001b[0;32m-> 5266\u001b[0m     com\u001b[38;5;241m.\u001b[39mrequire_length_match(value, \u001b[38;5;28mself\u001b[39m\u001b[38;5;241m.\u001b[39mindex)\n\u001b[1;32m   5267\u001b[0m arr \u001b[38;5;241m=\u001b[39m sanitize_array(value, \u001b[38;5;28mself\u001b[39m\u001b[38;5;241m.\u001b[39mindex, copy\u001b[38;5;241m=\u001b[39m\u001b[38;5;28;01mTrue\u001b[39;00m, allow_2d\u001b[38;5;241m=\u001b[39m\u001b[38;5;28;01mTrue\u001b[39;00m)\n\u001b[1;32m   5268\u001b[0m \u001b[38;5;28;01mif\u001b[39;00m (\n\u001b[1;32m   5269\u001b[0m     \u001b[38;5;28misinstance\u001b[39m(value, Index)\n\u001b[1;32m   5270\u001b[0m     \u001b[38;5;129;01mand\u001b[39;00m value\u001b[38;5;241m.\u001b[39mdtype \u001b[38;5;241m==\u001b[39m \u001b[38;5;124m\"\u001b[39m\u001b[38;5;124mobject\u001b[39m\u001b[38;5;124m\"\u001b[39m\n\u001b[0;32m   (...)\u001b[0m\n\u001b[1;32m   5273\u001b[0m     \u001b[38;5;66;03m# TODO: Remove kludge in sanitize_array for string mode when enforcing\u001b[39;00m\n\u001b[1;32m   5274\u001b[0m     \u001b[38;5;66;03m# this deprecation\u001b[39;00m\n",
      "File \u001b[0;32m/opt/anaconda3/envs/tf/lib/python3.11/site-packages/pandas/core/common.py:573\u001b[0m, in \u001b[0;36mrequire_length_match\u001b[0;34m(data, index)\u001b[0m\n\u001b[1;32m    569\u001b[0m \u001b[38;5;250m\u001b[39m\u001b[38;5;124;03m\"\"\"\u001b[39;00m\n\u001b[1;32m    570\u001b[0m \u001b[38;5;124;03mCheck the length of data matches the length of the index.\u001b[39;00m\n\u001b[1;32m    571\u001b[0m \u001b[38;5;124;03m\"\"\"\u001b[39;00m\n\u001b[1;32m    572\u001b[0m \u001b[38;5;28;01mif\u001b[39;00m \u001b[38;5;28mlen\u001b[39m(data) \u001b[38;5;241m!=\u001b[39m \u001b[38;5;28mlen\u001b[39m(index):\n\u001b[0;32m--> 573\u001b[0m     \u001b[38;5;28;01mraise\u001b[39;00m \u001b[38;5;167;01mValueError\u001b[39;00m(\n\u001b[1;32m    574\u001b[0m         \u001b[38;5;124m\"\u001b[39m\u001b[38;5;124mLength of values \u001b[39m\u001b[38;5;124m\"\u001b[39m\n\u001b[1;32m    575\u001b[0m         \u001b[38;5;124mf\u001b[39m\u001b[38;5;124m\"\u001b[39m\u001b[38;5;124m(\u001b[39m\u001b[38;5;132;01m{\u001b[39;00m\u001b[38;5;28mlen\u001b[39m(data)\u001b[38;5;132;01m}\u001b[39;00m\u001b[38;5;124m) \u001b[39m\u001b[38;5;124m\"\u001b[39m\n\u001b[1;32m    576\u001b[0m         \u001b[38;5;124m\"\u001b[39m\u001b[38;5;124mdoes not match length of index \u001b[39m\u001b[38;5;124m\"\u001b[39m\n\u001b[1;32m    577\u001b[0m         \u001b[38;5;124mf\u001b[39m\u001b[38;5;124m\"\u001b[39m\u001b[38;5;124m(\u001b[39m\u001b[38;5;132;01m{\u001b[39;00m\u001b[38;5;28mlen\u001b[39m(index)\u001b[38;5;132;01m}\u001b[39;00m\u001b[38;5;124m)\u001b[39m\u001b[38;5;124m\"\u001b[39m\n\u001b[1;32m    578\u001b[0m     )\n",
      "\u001b[0;31mValueError\u001b[0m: Length of values (27175) does not match length of index (54350)"
     ]
    }
   ],
   "source": [
    "\n",
    "# Combine all features and labels across sessions\n",
    "if not all_features or not all_labels:\n",
    "    print(\"No features or labels collected. Exiting.\")\n",
    "    raise ValueError(\"No features or labels collected.\")\n",
    "\n",
    "print(\"shape all_features\",len(all_features))\n",
    "\n",
    "# Combine features and labels\n",
    "\n",
    "X = np.vstack(all_features) # Features for all subjects and sessions\n",
    "\n",
    "print(\"X:\",X)\n",
    "print(\"X shape\",X.shape)\n",
    "print(X)\n",
    "\n",
    "print (\"all_labels\",len(all_labels))\n",
    "y = np.hstack(all_labels)    # Labels for all subjects and sessions \n",
    "subject_ids = np.hstack(all_subjects)\n",
    "\n",
    "print(\"subjectid:\",subject_ids)\n",
    "\n",
    "\n",
    "print(\"Subject shape\", subject_ids.shape)\n",
    "\n",
    "print(\"Y:\",y)\n",
    "\n",
    "\n",
    "print(\"Y shape\", y.shape)\n",
    "print(\"Y sum\",sum(y))\n",
    "\n",
    "# Save the training data\n",
    "feature_columns = [\n",
    "    'delta', 'theta', 'alpha', 'beta', 'gamma',\n",
    "    'mean', 'variance', 'skewness', 'kurtosis', 'line_length'\n",
    "]\n",
    "training_data = pd.DataFrame(X, columns=feature_columns)\n",
    "print(\"shape training data\",training_data.shape)\n",
    "# training_data['label'] = y\n",
    "training_data['subject_id'] = subject_ids\n",
    "\n",
    "training_data.to_csv('eeg_training_data_with_features.csv', index=False)\n",
    "print(\"Training data saved to 'eeg_training_data_with_features.csv'\")\n",
    "\n",
    "# Feature and label inspection\n",
    "#print(f\"Feature shape: {X.shape}\")\n",
    "#print(f\"Label distribution:\\n{pd.Series(y).value_counts()}\")\n"
   ]
  },
  {
   "cell_type": "code",
   "execution_count": 44,
   "metadata": {},
   "outputs": [
    {
     "data": {
      "text/html": [
       "<div>\n",
       "<style scoped>\n",
       "    .dataframe tbody tr th:only-of-type {\n",
       "        vertical-align: middle;\n",
       "    }\n",
       "\n",
       "    .dataframe tbody tr th {\n",
       "        vertical-align: top;\n",
       "    }\n",
       "\n",
       "    .dataframe thead th {\n",
       "        text-align: right;\n",
       "    }\n",
       "</style>\n",
       "<table border=\"1\" class=\"dataframe\">\n",
       "  <thead>\n",
       "    <tr style=\"text-align: right;\">\n",
       "      <th></th>\n",
       "      <th>delta</th>\n",
       "      <th>theta</th>\n",
       "      <th>alpha</th>\n",
       "      <th>beta</th>\n",
       "      <th>gamma</th>\n",
       "      <th>mean</th>\n",
       "      <th>variance</th>\n",
       "      <th>skewness</th>\n",
       "      <th>kurtosis</th>\n",
       "      <th>line_length</th>\n",
       "    </tr>\n",
       "  </thead>\n",
       "  <tbody>\n",
       "    <tr>\n",
       "      <th>0</th>\n",
       "      <td>0.000123</td>\n",
       "      <td>0.000067</td>\n",
       "      <td>1.039174e-05</td>\n",
       "      <td>4.101177e-07</td>\n",
       "      <td>1.740069e-07</td>\n",
       "      <td>-0.000003</td>\n",
       "      <td>2.089062e-08</td>\n",
       "      <td>-1.763948</td>\n",
       "      <td>2.470575</td>\n",
       "      <td>0.004479</td>\n",
       "    </tr>\n",
       "    <tr>\n",
       "      <th>1</th>\n",
       "      <td>0.000208</td>\n",
       "      <td>0.000085</td>\n",
       "      <td>9.628139e-07</td>\n",
       "      <td>2.513081e-07</td>\n",
       "      <td>1.123781e-07</td>\n",
       "      <td>0.000125</td>\n",
       "      <td>4.599112e-08</td>\n",
       "      <td>0.497322</td>\n",
       "      <td>-1.170764</td>\n",
       "      <td>0.003333</td>\n",
       "    </tr>\n",
       "    <tr>\n",
       "      <th>2</th>\n",
       "      <td>0.000917</td>\n",
       "      <td>0.000410</td>\n",
       "      <td>3.276360e-05</td>\n",
       "      <td>4.333310e-06</td>\n",
       "      <td>3.227772e-07</td>\n",
       "      <td>0.000167</td>\n",
       "      <td>1.393151e-07</td>\n",
       "      <td>0.577952</td>\n",
       "      <td>-0.144130</td>\n",
       "      <td>0.005464</td>\n",
       "    </tr>\n",
       "    <tr>\n",
       "      <th>3</th>\n",
       "      <td>0.000069</td>\n",
       "      <td>0.000030</td>\n",
       "      <td>1.999117e-06</td>\n",
       "      <td>3.742573e-07</td>\n",
       "      <td>1.669777e-07</td>\n",
       "      <td>-0.000084</td>\n",
       "      <td>1.022358e-08</td>\n",
       "      <td>0.009396</td>\n",
       "      <td>-1.516320</td>\n",
       "      <td>0.003864</td>\n",
       "    </tr>\n",
       "    <tr>\n",
       "      <th>4</th>\n",
       "      <td>0.000231</td>\n",
       "      <td>0.000103</td>\n",
       "      <td>7.266782e-06</td>\n",
       "      <td>3.089532e-06</td>\n",
       "      <td>2.499983e-07</td>\n",
       "      <td>0.000274</td>\n",
       "      <td>4.820566e-08</td>\n",
       "      <td>-0.132097</td>\n",
       "      <td>-0.538502</td>\n",
       "      <td>0.004247</td>\n",
       "    </tr>\n",
       "    <tr>\n",
       "      <th>...</th>\n",
       "      <td>...</td>\n",
       "      <td>...</td>\n",
       "      <td>...</td>\n",
       "      <td>...</td>\n",
       "      <td>...</td>\n",
       "      <td>...</td>\n",
       "      <td>...</td>\n",
       "      <td>...</td>\n",
       "      <td>...</td>\n",
       "      <td>...</td>\n",
       "    </tr>\n",
       "    <tr>\n",
       "      <th>35241</th>\n",
       "      <td>0.000050</td>\n",
       "      <td>0.000040</td>\n",
       "      <td>2.205542e-05</td>\n",
       "      <td>1.071796e-05</td>\n",
       "      <td>6.119718e-07</td>\n",
       "      <td>0.000085</td>\n",
       "      <td>2.133797e-08</td>\n",
       "      <td>1.635040</td>\n",
       "      <td>3.675614</td>\n",
       "      <td>0.006658</td>\n",
       "    </tr>\n",
       "    <tr>\n",
       "      <th>35242</th>\n",
       "      <td>0.001930</td>\n",
       "      <td>0.000818</td>\n",
       "      <td>3.265889e-05</td>\n",
       "      <td>1.250646e-05</td>\n",
       "      <td>8.771915e-07</td>\n",
       "      <td>-0.000427</td>\n",
       "      <td>3.074785e-07</td>\n",
       "      <td>-0.970341</td>\n",
       "      <td>-0.773529</td>\n",
       "      <td>0.007149</td>\n",
       "    </tr>\n",
       "    <tr>\n",
       "      <th>35243</th>\n",
       "      <td>0.000433</td>\n",
       "      <td>0.000283</td>\n",
       "      <td>7.264017e-05</td>\n",
       "      <td>1.288892e-05</td>\n",
       "      <td>8.705061e-07</td>\n",
       "      <td>0.000348</td>\n",
       "      <td>9.024108e-08</td>\n",
       "      <td>-1.303071</td>\n",
       "      <td>1.432012</td>\n",
       "      <td>0.008997</td>\n",
       "    </tr>\n",
       "    <tr>\n",
       "      <th>35244</th>\n",
       "      <td>0.000014</td>\n",
       "      <td>0.000015</td>\n",
       "      <td>1.194471e-05</td>\n",
       "      <td>4.932714e-06</td>\n",
       "      <td>3.238851e-07</td>\n",
       "      <td>0.000057</td>\n",
       "      <td>1.490043e-08</td>\n",
       "      <td>4.268301</td>\n",
       "      <td>20.948637</td>\n",
       "      <td>0.006148</td>\n",
       "    </tr>\n",
       "    <tr>\n",
       "      <th>35245</th>\n",
       "      <td>0.000959</td>\n",
       "      <td>0.000487</td>\n",
       "      <td>2.533708e-05</td>\n",
       "      <td>1.162033e-06</td>\n",
       "      <td>2.618184e-07</td>\n",
       "      <td>-0.000262</td>\n",
       "      <td>1.898525e-07</td>\n",
       "      <td>-0.566251</td>\n",
       "      <td>-1.251176</td>\n",
       "      <td>0.005936</td>\n",
       "    </tr>\n",
       "  </tbody>\n",
       "</table>\n",
       "<p>35246 rows × 10 columns</p>\n",
       "</div>"
      ],
      "text/plain": [
       "          delta     theta         alpha          beta         gamma      mean  \\\n",
       "0      0.000123  0.000067  1.039174e-05  4.101177e-07  1.740069e-07 -0.000003   \n",
       "1      0.000208  0.000085  9.628139e-07  2.513081e-07  1.123781e-07  0.000125   \n",
       "2      0.000917  0.000410  3.276360e-05  4.333310e-06  3.227772e-07  0.000167   \n",
       "3      0.000069  0.000030  1.999117e-06  3.742573e-07  1.669777e-07 -0.000084   \n",
       "4      0.000231  0.000103  7.266782e-06  3.089532e-06  2.499983e-07  0.000274   \n",
       "...         ...       ...           ...           ...           ...       ...   \n",
       "35241  0.000050  0.000040  2.205542e-05  1.071796e-05  6.119718e-07  0.000085   \n",
       "35242  0.001930  0.000818  3.265889e-05  1.250646e-05  8.771915e-07 -0.000427   \n",
       "35243  0.000433  0.000283  7.264017e-05  1.288892e-05  8.705061e-07  0.000348   \n",
       "35244  0.000014  0.000015  1.194471e-05  4.932714e-06  3.238851e-07  0.000057   \n",
       "35245  0.000959  0.000487  2.533708e-05  1.162033e-06  2.618184e-07 -0.000262   \n",
       "\n",
       "           variance  skewness   kurtosis  line_length  \n",
       "0      2.089062e-08 -1.763948   2.470575     0.004479  \n",
       "1      4.599112e-08  0.497322  -1.170764     0.003333  \n",
       "2      1.393151e-07  0.577952  -0.144130     0.005464  \n",
       "3      1.022358e-08  0.009396  -1.516320     0.003864  \n",
       "4      4.820566e-08 -0.132097  -0.538502     0.004247  \n",
       "...             ...       ...        ...          ...  \n",
       "35241  2.133797e-08  1.635040   3.675614     0.006658  \n",
       "35242  3.074785e-07 -0.970341  -0.773529     0.007149  \n",
       "35243  9.024108e-08 -1.303071   1.432012     0.008997  \n",
       "35244  1.490043e-08  4.268301  20.948637     0.006148  \n",
       "35245  1.898525e-07 -0.566251  -1.251176     0.005936  \n",
       "\n",
       "[35246 rows x 10 columns]"
      ]
     },
     "execution_count": 44,
     "metadata": {},
     "output_type": "execute_result"
    }
   ],
   "source": [
    "training_data.head(100000) "
   ]
  },
  {
   "cell_type": "code",
   "execution_count": null,
   "metadata": {},
   "outputs": [],
   "source": []
  }
 ],
 "metadata": {
  "kernelspec": {
   "display_name": "Python 3 (ipykernel)",
   "language": "python",
   "name": "python3"
  },
  "language_info": {
   "codemirror_mode": {
    "name": "ipython",
    "version": 3
   },
   "file_extension": ".py",
   "mimetype": "text/x-python",
   "name": "python",
   "nbconvert_exporter": "python",
   "pygments_lexer": "ipython3",
   "version": "3.11.5"
  }
 },
 "nbformat": 4,
 "nbformat_minor": 4
}

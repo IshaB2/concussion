{
 "cells": [
  {
   "cell_type": "markdown",
   "metadata": {},
   "source": [
    "# EEG Classification Using Deep Learning"
   ]
  },
  {
   "cell_type": "markdown",
   "metadata": {},
   "source": [
    "### Step 1: Import Necessary Libraries"
   ]
  },
  {
   "cell_type": "code",
   "execution_count": 210,
   "metadata": {},
   "outputs": [],
   "source": [
    "import numpy as np\n",
    "import pandas as pd\n",
    "import tensorflow as tf\n",
    "from tensorflow.keras.models import Sequential\n",
    "from tensorflow.keras.layers import Dense, Dropout\n",
    "from sklearn.model_selection import train_test_split,GroupShuffleSplit\n",
    "from sklearn.preprocessing import StandardScaler\n",
    "from sklearn.metrics import classification_report, accuracy_score\n",
    "import matplotlib.pyplot as plt"
   ]
  },
  {
   "cell_type": "markdown",
   "metadata": {},
   "source": [
    "### Step 2: Load the Dataset"
   ]
  },
  {
   "cell_type": "code",
   "execution_count": 211,
   "metadata": {},
   "outputs": [
    {
     "data": {
      "text/html": [
       "<div>\n",
       "<style scoped>\n",
       "    .dataframe tbody tr th:only-of-type {\n",
       "        vertical-align: middle;\n",
       "    }\n",
       "\n",
       "    .dataframe tbody tr th {\n",
       "        vertical-align: top;\n",
       "    }\n",
       "\n",
       "    .dataframe thead th {\n",
       "        text-align: right;\n",
       "    }\n",
       "</style>\n",
       "<table border=\"1\" class=\"dataframe\">\n",
       "  <thead>\n",
       "    <tr style=\"text-align: right;\">\n",
       "      <th></th>\n",
       "      <th>delta</th>\n",
       "      <th>theta</th>\n",
       "      <th>alpha</th>\n",
       "      <th>beta</th>\n",
       "      <th>gamma</th>\n",
       "      <th>mean</th>\n",
       "      <th>variance</th>\n",
       "      <th>skewness</th>\n",
       "      <th>kurtosis</th>\n",
       "      <th>line_length</th>\n",
       "      <th>label</th>\n",
       "      <th>subject_id</th>\n",
       "    </tr>\n",
       "  </thead>\n",
       "  <tbody>\n",
       "    <tr>\n",
       "      <th>0</th>\n",
       "      <td>0.000123</td>\n",
       "      <td>0.000067</td>\n",
       "      <td>1.039174e-05</td>\n",
       "      <td>4.101177e-07</td>\n",
       "      <td>1.740069e-07</td>\n",
       "      <td>-0.000003</td>\n",
       "      <td>2.089062e-08</td>\n",
       "      <td>-1.763948</td>\n",
       "      <td>2.470575</td>\n",
       "      <td>0.004479</td>\n",
       "      <td>0</td>\n",
       "      <td>sub-001</td>\n",
       "    </tr>\n",
       "    <tr>\n",
       "      <th>1</th>\n",
       "      <td>0.000208</td>\n",
       "      <td>0.000085</td>\n",
       "      <td>9.628139e-07</td>\n",
       "      <td>2.513081e-07</td>\n",
       "      <td>1.123781e-07</td>\n",
       "      <td>0.000125</td>\n",
       "      <td>4.599112e-08</td>\n",
       "      <td>0.497322</td>\n",
       "      <td>-1.170764</td>\n",
       "      <td>0.003333</td>\n",
       "      <td>0</td>\n",
       "      <td>sub-001</td>\n",
       "    </tr>\n",
       "    <tr>\n",
       "      <th>2</th>\n",
       "      <td>0.000917</td>\n",
       "      <td>0.000410</td>\n",
       "      <td>3.276360e-05</td>\n",
       "      <td>4.333310e-06</td>\n",
       "      <td>3.227772e-07</td>\n",
       "      <td>0.000167</td>\n",
       "      <td>1.393151e-07</td>\n",
       "      <td>0.577952</td>\n",
       "      <td>-0.144130</td>\n",
       "      <td>0.005464</td>\n",
       "      <td>0</td>\n",
       "      <td>sub-001</td>\n",
       "    </tr>\n",
       "    <tr>\n",
       "      <th>3</th>\n",
       "      <td>0.000069</td>\n",
       "      <td>0.000030</td>\n",
       "      <td>1.999117e-06</td>\n",
       "      <td>3.742573e-07</td>\n",
       "      <td>1.669777e-07</td>\n",
       "      <td>-0.000084</td>\n",
       "      <td>1.022358e-08</td>\n",
       "      <td>0.009396</td>\n",
       "      <td>-1.516320</td>\n",
       "      <td>0.003864</td>\n",
       "      <td>0</td>\n",
       "      <td>sub-001</td>\n",
       "    </tr>\n",
       "    <tr>\n",
       "      <th>4</th>\n",
       "      <td>0.000231</td>\n",
       "      <td>0.000103</td>\n",
       "      <td>7.266782e-06</td>\n",
       "      <td>3.089532e-06</td>\n",
       "      <td>2.499983e-07</td>\n",
       "      <td>0.000274</td>\n",
       "      <td>4.820566e-08</td>\n",
       "      <td>-0.132097</td>\n",
       "      <td>-0.538502</td>\n",
       "      <td>0.004247</td>\n",
       "      <td>0</td>\n",
       "      <td>sub-001</td>\n",
       "    </tr>\n",
       "  </tbody>\n",
       "</table>\n",
       "</div>"
      ],
      "text/plain": [
       "      delta     theta         alpha          beta         gamma      mean  \\\n",
       "0  0.000123  0.000067  1.039174e-05  4.101177e-07  1.740069e-07 -0.000003   \n",
       "1  0.000208  0.000085  9.628139e-07  2.513081e-07  1.123781e-07  0.000125   \n",
       "2  0.000917  0.000410  3.276360e-05  4.333310e-06  3.227772e-07  0.000167   \n",
       "3  0.000069  0.000030  1.999117e-06  3.742573e-07  1.669777e-07 -0.000084   \n",
       "4  0.000231  0.000103  7.266782e-06  3.089532e-06  2.499983e-07  0.000274   \n",
       "\n",
       "       variance  skewness  kurtosis  line_length  label subject_id  \n",
       "0  2.089062e-08 -1.763948  2.470575     0.004479      0    sub-001  \n",
       "1  4.599112e-08  0.497322 -1.170764     0.003333      0    sub-001  \n",
       "2  1.393151e-07  0.577952 -0.144130     0.005464      0    sub-001  \n",
       "3  1.022358e-08  0.009396 -1.516320     0.003864      0    sub-001  \n",
       "4  4.820566e-08 -0.132097 -0.538502     0.004247      0    sub-001  "
      ]
     },
     "execution_count": 211,
     "metadata": {},
     "output_type": "execute_result"
    }
   ],
   "source": [
    "# Load the dataset\n",
    "data_path = \"eeg_training_data_with_subjects.csv\"\n",
    "#data_path = \"/Users/ishabharti/eeg_training_data_with_subjects.csv\"\n",
    "\n",
    "data = pd.read_csv(data_path)\n",
    "data.head()"
   ]
  },
  {
   "cell_type": "markdown",
   "metadata": {},
   "source": [
    "### Step 3: Prepare Features and Labels"
   ]
  },
  {
   "cell_type": "code",
   "execution_count": 212,
   "metadata": {},
   "outputs": [],
   "source": [
    "X = data[['delta', 'theta', 'alpha', 'beta', 'gamma', 'mean', 'variance', 'skewness', 'kurtosis', 'line_length']]\n",
    "y = data['label']"
   ]
  },
  {
   "cell_type": "markdown",
   "metadata": {},
   "source": [
    "### Step 4: Normalize the Features"
   ]
  },
  {
   "cell_type": "code",
   "execution_count": 213,
   "metadata": {},
   "outputs": [],
   "source": [
    "scaler = StandardScaler()\n",
    "X_scaled = scaler.fit_transform(X)"
   ]
  },
  {
   "cell_type": "markdown",
   "metadata": {},
   "source": [
    "### Step 5: Split the Dataset"
   ]
  },
  {
   "cell_type": "code",
   "execution_count": 214,
   "metadata": {},
   "outputs": [],
   "source": [
    "X_train, X_test, y_train, y_test = train_test_split(X_scaled, y, test_size=0.2, random_state=42, stratify=y)"
   ]
  },
  {
   "cell_type": "markdown",
   "metadata": {},
   "source": [
    "### Step 6: Build a Deep Learning Model"
   ]
  },
  {
   "cell_type": "code",
   "execution_count": 215,
   "metadata": {},
   "outputs": [],
   "source": [
    "from tensorflow.keras.layers import Dense, Dropout, BatchNormalization"
   ]
  },
  {
   "cell_type": "code",
   "execution_count": 216,
   "metadata": {},
   "outputs": [],
   "source": [
    "model = Sequential([\n",
    "    Dense(216, activation = 'tanh', input_shape=(X_train.shape[1],)),\n",
    "    Dense(128, activation='tanh'),\n",
    "    Dropout(0.2),\n",
    "    Dense(64, activation='tanh'),\n",
    "    Dense(32, activation='tanh'),\n",
    "    Dense(16, activation='tanh'),\n",
    "    Dense(1, activation='sigmoid')\n",
    "])\n",
    "\n",
    "\n",
    "#model = Sequential([\n",
    "    #Dense(128, activation='relu', input_shape=(X_train.shape[1],)),\n",
    "    #Dropout(0.4),\n",
    "    #Dense(64, activation='relu'),\n",
    "    #Dropout(0.3),\n",
    "    #Dense(32, activation='relu'),\n",
    "    #Dropout(0.2),\n",
    "    #Dense(1, activation='sigmoid')\n",
    "#])"
   ]
  },
  {
   "cell_type": "code",
   "execution_count": 217,
   "metadata": {},
   "outputs": [],
   "source": [
    "from tensorflow.keras.optimizers import Adam, SGD, RMSprop, Adagrad, Adamax, Nadam\n"
   ]
  },
  {
   "cell_type": "markdown",
   "metadata": {},
   "source": [
    "### Step 7: Compile the Model"
   ]
  },
  {
   "cell_type": "code",
   "execution_count": 218,
   "metadata": {},
   "outputs": [
    {
     "name": "stderr",
     "output_type": "stream",
     "text": [
      "WARNING:absl:At this time, the v2.11+ optimizer `tf.keras.optimizers.Adam` runs slowly on M1/M2 Macs, please use the legacy Keras optimizer instead, located at `tf.keras.optimizers.legacy.Adam`.\n",
      "WARNING:absl:There is a known slowdown when using v2.11+ Keras optimizers on M1/M2 Macs. Falling back to the legacy Keras optimizer, i.e., `tf.keras.optimizers.legacy.Adam`.\n"
     ]
    }
   ],
   "source": [
    "model.compile(optimizer=Adam(learning_rate=0.001), loss='binary_crossentropy', metrics=['accuracy'])"
   ]
  },
  {
   "cell_type": "markdown",
   "metadata": {},
   "source": [
    "### Step 8: Train the Model"
   ]
  },
  {
   "cell_type": "code",
   "execution_count": 219,
   "metadata": {},
   "outputs": [
    {
     "name": "stdout",
     "output_type": "stream",
     "text": [
      "Epoch 1/140\n",
      "111/111 [==============================] - 1s 3ms/step - loss: 0.6158 - accuracy: 0.6632 - val_loss: 0.6046 - val_accuracy: 0.6663\n",
      "Epoch 2/140\n",
      "111/111 [==============================] - 0s 3ms/step - loss: 0.6042 - accuracy: 0.6684 - val_loss: 0.6074 - val_accuracy: 0.6657\n",
      "Epoch 3/140\n",
      "111/111 [==============================] - 0s 2ms/step - loss: 0.5989 - accuracy: 0.6735 - val_loss: 0.5960 - val_accuracy: 0.6757\n",
      "Epoch 4/140\n",
      "111/111 [==============================] - 0s 2ms/step - loss: 0.5953 - accuracy: 0.6777 - val_loss: 0.5978 - val_accuracy: 0.6749\n",
      "Epoch 5/140\n",
      "111/111 [==============================] - 0s 2ms/step - loss: 0.5918 - accuracy: 0.6797 - val_loss: 0.5946 - val_accuracy: 0.6753\n",
      "Epoch 6/140\n",
      "111/111 [==============================] - 0s 2ms/step - loss: 0.5846 - accuracy: 0.6855 - val_loss: 0.5848 - val_accuracy: 0.6802\n",
      "Epoch 7/140\n",
      "111/111 [==============================] - 0s 2ms/step - loss: 0.5804 - accuracy: 0.6837 - val_loss: 0.5895 - val_accuracy: 0.6800\n",
      "Epoch 8/140\n",
      "111/111 [==============================] - 0s 2ms/step - loss: 0.5750 - accuracy: 0.6863 - val_loss: 0.5767 - val_accuracy: 0.6840\n",
      "Epoch 9/140\n",
      "111/111 [==============================] - 0s 2ms/step - loss: 0.5746 - accuracy: 0.6869 - val_loss: 0.5748 - val_accuracy: 0.6794\n",
      "Epoch 10/140\n",
      "111/111 [==============================] - 0s 2ms/step - loss: 0.5709 - accuracy: 0.6917 - val_loss: 0.5838 - val_accuracy: 0.6835\n",
      "Epoch 11/140\n",
      "111/111 [==============================] - 0s 2ms/step - loss: 0.5723 - accuracy: 0.6900 - val_loss: 0.5804 - val_accuracy: 0.6842\n",
      "Epoch 12/140\n",
      "111/111 [==============================] - 0s 2ms/step - loss: 0.5690 - accuracy: 0.6917 - val_loss: 0.5703 - val_accuracy: 0.6919\n",
      "Epoch 13/140\n",
      "111/111 [==============================] - 0s 2ms/step - loss: 0.5670 - accuracy: 0.6949 - val_loss: 0.5642 - val_accuracy: 0.6977\n",
      "Epoch 14/140\n",
      "111/111 [==============================] - 0s 2ms/step - loss: 0.5642 - accuracy: 0.6950 - val_loss: 0.5732 - val_accuracy: 0.6901\n",
      "Epoch 15/140\n",
      "111/111 [==============================] - 0s 2ms/step - loss: 0.5641 - accuracy: 0.6978 - val_loss: 0.5642 - val_accuracy: 0.6949\n",
      "Epoch 16/140\n",
      "111/111 [==============================] - 0s 2ms/step - loss: 0.5611 - accuracy: 0.6993 - val_loss: 0.5665 - val_accuracy: 0.6977\n",
      "Epoch 17/140\n",
      "111/111 [==============================] - 0s 2ms/step - loss: 0.5560 - accuracy: 0.7020 - val_loss: 0.5636 - val_accuracy: 0.6949\n",
      "Epoch 18/140\n",
      "111/111 [==============================] - 0s 2ms/step - loss: 0.5569 - accuracy: 0.7036 - val_loss: 0.5759 - val_accuracy: 0.6804\n",
      "Epoch 19/140\n",
      "111/111 [==============================] - 0s 2ms/step - loss: 0.5554 - accuracy: 0.7041 - val_loss: 0.5691 - val_accuracy: 0.6959\n",
      "Epoch 20/140\n",
      "111/111 [==============================] - 0s 2ms/step - loss: 0.5546 - accuracy: 0.7049 - val_loss: 0.5719 - val_accuracy: 0.6921\n",
      "Epoch 21/140\n",
      "111/111 [==============================] - 0s 2ms/step - loss: 0.5527 - accuracy: 0.7062 - val_loss: 0.5579 - val_accuracy: 0.7073\n",
      "Epoch 22/140\n",
      "111/111 [==============================] - 0s 2ms/step - loss: 0.5615 - accuracy: 0.6984 - val_loss: 0.5607 - val_accuracy: 0.6991\n",
      "Epoch 23/140\n",
      "111/111 [==============================] - 0s 2ms/step - loss: 0.5501 - accuracy: 0.7072 - val_loss: 0.5718 - val_accuracy: 0.6942\n",
      "Epoch 24/140\n",
      "111/111 [==============================] - 0s 2ms/step - loss: 0.5522 - accuracy: 0.7086 - val_loss: 0.5518 - val_accuracy: 0.7098\n",
      "Epoch 25/140\n",
      "111/111 [==============================] - 0s 2ms/step - loss: 0.5494 - accuracy: 0.7082 - val_loss: 0.5633 - val_accuracy: 0.7043\n",
      "Epoch 26/140\n",
      "111/111 [==============================] - 0s 2ms/step - loss: 0.5424 - accuracy: 0.7125 - val_loss: 0.5520 - val_accuracy: 0.7032\n",
      "Epoch 27/140\n",
      "111/111 [==============================] - 0s 2ms/step - loss: 0.5458 - accuracy: 0.7085 - val_loss: 0.5507 - val_accuracy: 0.7039\n",
      "Epoch 28/140\n",
      "111/111 [==============================] - 0s 2ms/step - loss: 0.5436 - accuracy: 0.7129 - val_loss: 0.5657 - val_accuracy: 0.7016\n",
      "Epoch 29/140\n",
      "111/111 [==============================] - 0s 2ms/step - loss: 0.5469 - accuracy: 0.7104 - val_loss: 0.5455 - val_accuracy: 0.7116\n",
      "Epoch 30/140\n",
      "111/111 [==============================] - 0s 2ms/step - loss: 0.5439 - accuracy: 0.7129 - val_loss: 0.5590 - val_accuracy: 0.7083\n",
      "Epoch 31/140\n",
      "111/111 [==============================] - 0s 2ms/step - loss: 0.5374 - accuracy: 0.7179 - val_loss: 0.5434 - val_accuracy: 0.7132\n",
      "Epoch 32/140\n",
      "111/111 [==============================] - 0s 2ms/step - loss: 0.5348 - accuracy: 0.7197 - val_loss: 0.5484 - val_accuracy: 0.7115\n",
      "Epoch 33/140\n",
      "111/111 [==============================] - 0s 2ms/step - loss: 0.5384 - accuracy: 0.7171 - val_loss: 0.5467 - val_accuracy: 0.7124\n",
      "Epoch 34/140\n",
      "111/111 [==============================] - 0s 2ms/step - loss: 0.5332 - accuracy: 0.7226 - val_loss: 0.5457 - val_accuracy: 0.7125\n",
      "Epoch 35/140\n",
      "111/111 [==============================] - 0s 2ms/step - loss: 0.5329 - accuracy: 0.7201 - val_loss: 0.5489 - val_accuracy: 0.7031\n",
      "Epoch 36/140\n",
      "111/111 [==============================] - 0s 2ms/step - loss: 0.5343 - accuracy: 0.7199 - val_loss: 0.5521 - val_accuracy: 0.7021\n",
      "Epoch 37/140\n",
      "111/111 [==============================] - 0s 2ms/step - loss: 0.5285 - accuracy: 0.7210 - val_loss: 0.5493 - val_accuracy: 0.7131\n",
      "Epoch 38/140\n",
      "111/111 [==============================] - 0s 2ms/step - loss: 0.5324 - accuracy: 0.7204 - val_loss: 0.5743 - val_accuracy: 0.6877\n",
      "Epoch 39/140\n",
      "111/111 [==============================] - 0s 2ms/step - loss: 0.5302 - accuracy: 0.7208 - val_loss: 0.5404 - val_accuracy: 0.7131\n",
      "Epoch 40/140\n",
      "111/111 [==============================] - 0s 2ms/step - loss: 0.5292 - accuracy: 0.7211 - val_loss: 0.5419 - val_accuracy: 0.7167\n",
      "Epoch 41/140\n",
      "111/111 [==============================] - 0s 2ms/step - loss: 0.5266 - accuracy: 0.7254 - val_loss: 0.5590 - val_accuracy: 0.7062\n",
      "Epoch 42/140\n",
      "111/111 [==============================] - 0s 2ms/step - loss: 0.5249 - accuracy: 0.7262 - val_loss: 0.5357 - val_accuracy: 0.7270\n",
      "Epoch 43/140\n",
      "111/111 [==============================] - 0s 2ms/step - loss: 0.5234 - accuracy: 0.7275 - val_loss: 0.5328 - val_accuracy: 0.7178\n",
      "Epoch 44/140\n",
      "111/111 [==============================] - 0s 2ms/step - loss: 0.5250 - accuracy: 0.7252 - val_loss: 0.5550 - val_accuracy: 0.7053\n",
      "Epoch 45/140\n",
      "111/111 [==============================] - 0s 2ms/step - loss: 0.5247 - accuracy: 0.7248 - val_loss: 0.5445 - val_accuracy: 0.7124\n",
      "Epoch 46/140\n",
      "111/111 [==============================] - 0s 2ms/step - loss: 0.5242 - accuracy: 0.7234 - val_loss: 0.5349 - val_accuracy: 0.7197\n",
      "Epoch 47/140\n",
      "111/111 [==============================] - 0s 2ms/step - loss: 0.5256 - accuracy: 0.7267 - val_loss: 0.5477 - val_accuracy: 0.7083\n",
      "Epoch 48/140\n",
      "111/111 [==============================] - 0s 2ms/step - loss: 0.5200 - accuracy: 0.7302 - val_loss: 0.5316 - val_accuracy: 0.7229\n",
      "Epoch 49/140\n",
      "111/111 [==============================] - 0s 2ms/step - loss: 0.5201 - accuracy: 0.7283 - val_loss: 0.5339 - val_accuracy: 0.7231\n",
      "Epoch 50/140\n",
      "111/111 [==============================] - 0s 2ms/step - loss: 0.5227 - accuracy: 0.7269 - val_loss: 0.5377 - val_accuracy: 0.7147\n",
      "Epoch 51/140\n",
      "111/111 [==============================] - 0s 2ms/step - loss: 0.5198 - accuracy: 0.7289 - val_loss: 0.5296 - val_accuracy: 0.7276\n",
      "Epoch 52/140\n",
      "111/111 [==============================] - 0s 2ms/step - loss: 0.5132 - accuracy: 0.7328 - val_loss: 0.5472 - val_accuracy: 0.7142\n",
      "Epoch 53/140\n",
      "111/111 [==============================] - 0s 2ms/step - loss: 0.5168 - accuracy: 0.7336 - val_loss: 0.5279 - val_accuracy: 0.7284\n",
      "Epoch 54/140\n",
      "111/111 [==============================] - 0s 2ms/step - loss: 0.5112 - accuracy: 0.7358 - val_loss: 0.5475 - val_accuracy: 0.7031\n",
      "Epoch 55/140\n",
      "111/111 [==============================] - 0s 2ms/step - loss: 0.5218 - accuracy: 0.7272 - val_loss: 0.5264 - val_accuracy: 0.7278\n",
      "Epoch 56/140\n",
      "111/111 [==============================] - 0s 2ms/step - loss: 0.5119 - accuracy: 0.7357 - val_loss: 0.5330 - val_accuracy: 0.7187\n",
      "Epoch 57/140\n",
      "111/111 [==============================] - 0s 2ms/step - loss: 0.5150 - accuracy: 0.7327 - val_loss: 0.5244 - val_accuracy: 0.7287\n",
      "Epoch 58/140\n",
      "111/111 [==============================] - 0s 2ms/step - loss: 0.5127 - accuracy: 0.7345 - val_loss: 0.5491 - val_accuracy: 0.7057\n",
      "Epoch 59/140\n",
      "111/111 [==============================] - 0s 2ms/step - loss: 0.5106 - accuracy: 0.7354 - val_loss: 0.5305 - val_accuracy: 0.7228\n",
      "Epoch 60/140\n",
      "111/111 [==============================] - 0s 2ms/step - loss: 0.5136 - accuracy: 0.7343 - val_loss: 0.5220 - val_accuracy: 0.7331\n",
      "Epoch 61/140\n",
      "111/111 [==============================] - 0s 2ms/step - loss: 0.5183 - accuracy: 0.7298 - val_loss: 0.5422 - val_accuracy: 0.7143\n",
      "Epoch 62/140\n",
      "111/111 [==============================] - 0s 2ms/step - loss: 0.5095 - accuracy: 0.7361 - val_loss: 0.5608 - val_accuracy: 0.7024\n",
      "Epoch 63/140\n",
      "111/111 [==============================] - 0s 2ms/step - loss: 0.5125 - accuracy: 0.7329 - val_loss: 0.5506 - val_accuracy: 0.7121\n",
      "Epoch 64/140\n",
      "111/111 [==============================] - 0s 2ms/step - loss: 0.5046 - accuracy: 0.7390 - val_loss: 0.5288 - val_accuracy: 0.7264\n",
      "Epoch 65/140\n",
      "111/111 [==============================] - 0s 2ms/step - loss: 0.5053 - accuracy: 0.7389 - val_loss: 0.5376 - val_accuracy: 0.7171\n",
      "Epoch 66/140\n",
      "111/111 [==============================] - 0s 2ms/step - loss: 0.5078 - accuracy: 0.7360 - val_loss: 0.5507 - val_accuracy: 0.7071\n",
      "Epoch 67/140\n",
      "111/111 [==============================] - 0s 2ms/step - loss: 0.5033 - accuracy: 0.7410 - val_loss: 0.5279 - val_accuracy: 0.7211\n",
      "Epoch 68/140\n",
      "111/111 [==============================] - 0s 2ms/step - loss: 0.5151 - accuracy: 0.7315 - val_loss: 0.5279 - val_accuracy: 0.7286\n",
      "Epoch 69/140\n",
      "111/111 [==============================] - 0s 2ms/step - loss: 0.5018 - accuracy: 0.7420 - val_loss: 0.5323 - val_accuracy: 0.7166\n",
      "Epoch 70/140\n",
      "111/111 [==============================] - 0s 2ms/step - loss: 0.4968 - accuracy: 0.7434 - val_loss: 0.5183 - val_accuracy: 0.7355\n",
      "Epoch 71/140\n",
      "111/111 [==============================] - 0s 2ms/step - loss: 0.4972 - accuracy: 0.7460 - val_loss: 0.5241 - val_accuracy: 0.7325\n",
      "Epoch 72/140\n",
      "111/111 [==============================] - 0s 2ms/step - loss: 0.4980 - accuracy: 0.7440 - val_loss: 0.5170 - val_accuracy: 0.7352\n",
      "Epoch 73/140\n",
      "111/111 [==============================] - 0s 2ms/step - loss: 0.5082 - accuracy: 0.7365 - val_loss: 0.5353 - val_accuracy: 0.7278\n",
      "Epoch 74/140\n",
      "111/111 [==============================] - 0s 2ms/step - loss: 0.4975 - accuracy: 0.7444 - val_loss: 0.5394 - val_accuracy: 0.7221\n",
      "Epoch 75/140\n",
      "111/111 [==============================] - 0s 2ms/step - loss: 0.4951 - accuracy: 0.7450 - val_loss: 0.5342 - val_accuracy: 0.7157\n",
      "Epoch 76/140\n",
      "111/111 [==============================] - 0s 2ms/step - loss: 0.4961 - accuracy: 0.7468 - val_loss: 0.5388 - val_accuracy: 0.7178\n",
      "Epoch 77/140\n",
      "111/111 [==============================] - 0s 2ms/step - loss: 0.5005 - accuracy: 0.7431 - val_loss: 0.5297 - val_accuracy: 0.7198\n",
      "Epoch 78/140\n",
      "111/111 [==============================] - 0s 2ms/step - loss: 0.5030 - accuracy: 0.7437 - val_loss: 0.5142 - val_accuracy: 0.7377\n",
      "Epoch 79/140\n",
      "111/111 [==============================] - 0s 2ms/step - loss: 0.4947 - accuracy: 0.7455 - val_loss: 0.5176 - val_accuracy: 0.7357\n",
      "Epoch 80/140\n",
      "111/111 [==============================] - 0s 2ms/step - loss: 0.4906 - accuracy: 0.7505 - val_loss: 0.5103 - val_accuracy: 0.7394\n",
      "Epoch 81/140\n",
      "111/111 [==============================] - 0s 2ms/step - loss: 0.5022 - accuracy: 0.7420 - val_loss: 0.5294 - val_accuracy: 0.7287\n",
      "Epoch 82/140\n",
      "111/111 [==============================] - 0s 2ms/step - loss: 0.4887 - accuracy: 0.7508 - val_loss: 0.5261 - val_accuracy: 0.7286\n",
      "Epoch 83/140\n",
      "111/111 [==============================] - 0s 2ms/step - loss: 0.4919 - accuracy: 0.7499 - val_loss: 0.5218 - val_accuracy: 0.7274\n",
      "Epoch 84/140\n",
      "111/111 [==============================] - 0s 2ms/step - loss: 0.4910 - accuracy: 0.7487 - val_loss: 0.5142 - val_accuracy: 0.7363\n",
      "Epoch 85/140\n",
      "111/111 [==============================] - 0s 2ms/step - loss: 0.4869 - accuracy: 0.7523 - val_loss: 0.5257 - val_accuracy: 0.7250\n",
      "Epoch 86/140\n",
      "111/111 [==============================] - 0s 2ms/step - loss: 0.4945 - accuracy: 0.7479 - val_loss: 0.5269 - val_accuracy: 0.7301\n",
      "Epoch 87/140\n",
      "111/111 [==============================] - 0s 2ms/step - loss: 0.4884 - accuracy: 0.7537 - val_loss: 0.5520 - val_accuracy: 0.7102\n",
      "Epoch 88/140\n",
      "111/111 [==============================] - 0s 2ms/step - loss: 0.4846 - accuracy: 0.7542 - val_loss: 0.5472 - val_accuracy: 0.7140\n",
      "Epoch 89/140\n",
      "111/111 [==============================] - 0s 2ms/step - loss: 0.4964 - accuracy: 0.7454 - val_loss: 0.5225 - val_accuracy: 0.7321\n",
      "Epoch 90/140\n",
      "111/111 [==============================] - 0s 2ms/step - loss: 0.4820 - accuracy: 0.7579 - val_loss: 0.5109 - val_accuracy: 0.7395\n",
      "Epoch 91/140\n",
      "111/111 [==============================] - 0s 2ms/step - loss: 0.4894 - accuracy: 0.7495 - val_loss: 0.5236 - val_accuracy: 0.7295\n",
      "Epoch 92/140\n",
      "111/111 [==============================] - 0s 2ms/step - loss: 0.4847 - accuracy: 0.7532 - val_loss: 0.5189 - val_accuracy: 0.7333\n",
      "Epoch 93/140\n",
      "111/111 [==============================] - 0s 2ms/step - loss: 0.4821 - accuracy: 0.7560 - val_loss: 0.5302 - val_accuracy: 0.7295\n",
      "Epoch 94/140\n",
      "111/111 [==============================] - 0s 2ms/step - loss: 0.4959 - accuracy: 0.7470 - val_loss: 0.5260 - val_accuracy: 0.7288\n",
      "Epoch 95/140\n",
      "111/111 [==============================] - 0s 2ms/step - loss: 0.4798 - accuracy: 0.7578 - val_loss: 0.5184 - val_accuracy: 0.7363\n",
      "Epoch 96/140\n",
      "111/111 [==============================] - 0s 2ms/step - loss: 0.4793 - accuracy: 0.7587 - val_loss: 0.5371 - val_accuracy: 0.7193\n",
      "Epoch 97/140\n",
      "111/111 [==============================] - 0s 2ms/step - loss: 0.4851 - accuracy: 0.7522 - val_loss: 0.5275 - val_accuracy: 0.7280\n",
      "Epoch 98/140\n",
      "111/111 [==============================] - 0s 2ms/step - loss: 0.4803 - accuracy: 0.7567 - val_loss: 0.5141 - val_accuracy: 0.7397\n",
      "Epoch 99/140\n",
      "111/111 [==============================] - 0s 2ms/step - loss: 0.4792 - accuracy: 0.7562 - val_loss: 0.5113 - val_accuracy: 0.7394\n",
      "Epoch 100/140\n",
      "111/111 [==============================] - 0s 2ms/step - loss: 0.4808 - accuracy: 0.7565 - val_loss: 0.5411 - val_accuracy: 0.7294\n",
      "Epoch 101/140\n",
      "111/111 [==============================] - 0s 2ms/step - loss: 0.4830 - accuracy: 0.7545 - val_loss: 0.5158 - val_accuracy: 0.7400\n",
      "Epoch 102/140\n",
      "111/111 [==============================] - 0s 2ms/step - loss: 0.4777 - accuracy: 0.7594 - val_loss: 0.5095 - val_accuracy: 0.7439\n",
      "Epoch 103/140\n",
      "111/111 [==============================] - 0s 2ms/step - loss: 0.4732 - accuracy: 0.7620 - val_loss: 0.5443 - val_accuracy: 0.7228\n",
      "Epoch 104/140\n",
      "111/111 [==============================] - 0s 2ms/step - loss: 0.4782 - accuracy: 0.7591 - val_loss: 0.5189 - val_accuracy: 0.7349\n",
      "Epoch 105/140\n",
      "111/111 [==============================] - 0s 2ms/step - loss: 0.4717 - accuracy: 0.7635 - val_loss: 0.5325 - val_accuracy: 0.7264\n",
      "Epoch 106/140\n",
      "111/111 [==============================] - 0s 2ms/step - loss: 0.4831 - accuracy: 0.7537 - val_loss: 0.5269 - val_accuracy: 0.7286\n",
      "Epoch 107/140\n",
      "111/111 [==============================] - 0s 2ms/step - loss: 0.4738 - accuracy: 0.7600 - val_loss: 0.5168 - val_accuracy: 0.7391\n",
      "Epoch 108/140\n",
      "111/111 [==============================] - 0s 2ms/step - loss: 0.4884 - accuracy: 0.7523 - val_loss: 0.5086 - val_accuracy: 0.7440\n",
      "Epoch 109/140\n",
      "111/111 [==============================] - 0s 2ms/step - loss: 0.4773 - accuracy: 0.7580 - val_loss: 0.5346 - val_accuracy: 0.7200\n",
      "Epoch 110/140\n",
      "111/111 [==============================] - 0s 2ms/step - loss: 0.4743 - accuracy: 0.7615 - val_loss: 0.5117 - val_accuracy: 0.7394\n",
      "Epoch 111/140\n",
      "111/111 [==============================] - 0s 2ms/step - loss: 0.4685 - accuracy: 0.7626 - val_loss: 0.5109 - val_accuracy: 0.7438\n",
      "Epoch 112/140\n",
      "111/111 [==============================] - 0s 2ms/step - loss: 0.4686 - accuracy: 0.7653 - val_loss: 0.5097 - val_accuracy: 0.7456\n",
      "Epoch 113/140\n",
      "111/111 [==============================] - 0s 2ms/step - loss: 0.4708 - accuracy: 0.7633 - val_loss: 0.5221 - val_accuracy: 0.7346\n",
      "Epoch 114/140\n",
      "111/111 [==============================] - 0s 2ms/step - loss: 0.4665 - accuracy: 0.7664 - val_loss: 0.5156 - val_accuracy: 0.7400\n",
      "Epoch 115/140\n",
      "111/111 [==============================] - 0s 2ms/step - loss: 0.4919 - accuracy: 0.7525 - val_loss: 0.5289 - val_accuracy: 0.7324\n",
      "Epoch 116/140\n",
      "111/111 [==============================] - 0s 2ms/step - loss: 0.4709 - accuracy: 0.7620 - val_loss: 0.5146 - val_accuracy: 0.7400\n",
      "Epoch 117/140\n",
      "111/111 [==============================] - 0s 2ms/step - loss: 0.4652 - accuracy: 0.7666 - val_loss: 0.5203 - val_accuracy: 0.7402\n",
      "Epoch 118/140\n",
      "111/111 [==============================] - 0s 2ms/step - loss: 0.4733 - accuracy: 0.7611 - val_loss: 0.5450 - val_accuracy: 0.7178\n",
      "Epoch 119/140\n",
      "111/111 [==============================] - 0s 2ms/step - loss: 0.4711 - accuracy: 0.7629 - val_loss: 0.5330 - val_accuracy: 0.7236\n",
      "Epoch 120/140\n",
      "111/111 [==============================] - 0s 2ms/step - loss: 0.4684 - accuracy: 0.7628 - val_loss: 0.5131 - val_accuracy: 0.7398\n",
      "Epoch 121/140\n",
      "111/111 [==============================] - 0s 2ms/step - loss: 0.4694 - accuracy: 0.7632 - val_loss: 0.5426 - val_accuracy: 0.7201\n",
      "Epoch 122/140\n",
      "111/111 [==============================] - 0s 2ms/step - loss: 0.4673 - accuracy: 0.7670 - val_loss: 0.5083 - val_accuracy: 0.7462\n",
      "Epoch 123/140\n",
      "111/111 [==============================] - 0s 2ms/step - loss: 0.4583 - accuracy: 0.7710 - val_loss: 0.5197 - val_accuracy: 0.7355\n",
      "Epoch 124/140\n",
      "111/111 [==============================] - 0s 2ms/step - loss: 0.4698 - accuracy: 0.7620 - val_loss: 0.5225 - val_accuracy: 0.7376\n",
      "Epoch 125/140\n",
      "111/111 [==============================] - 0s 2ms/step - loss: 0.4718 - accuracy: 0.7599 - val_loss: 0.5116 - val_accuracy: 0.7422\n",
      "Epoch 126/140\n",
      "111/111 [==============================] - 0s 2ms/step - loss: 0.4652 - accuracy: 0.7647 - val_loss: 0.5118 - val_accuracy: 0.7387\n",
      "Epoch 127/140\n",
      "111/111 [==============================] - 0s 2ms/step - loss: 0.4574 - accuracy: 0.7715 - val_loss: 0.5318 - val_accuracy: 0.7239\n",
      "Epoch 128/140\n",
      "111/111 [==============================] - 0s 2ms/step - loss: 0.4599 - accuracy: 0.7695 - val_loss: 0.5443 - val_accuracy: 0.7225\n",
      "Epoch 129/140\n",
      "111/111 [==============================] - 0s 2ms/step - loss: 0.4873 - accuracy: 0.7515 - val_loss: 0.5323 - val_accuracy: 0.7209\n",
      "Epoch 130/140\n",
      "111/111 [==============================] - 0s 2ms/step - loss: 0.4701 - accuracy: 0.7610 - val_loss: 0.5088 - val_accuracy: 0.7436\n",
      "Epoch 131/140\n",
      "111/111 [==============================] - 0s 2ms/step - loss: 0.4648 - accuracy: 0.7657 - val_loss: 0.5251 - val_accuracy: 0.7301\n",
      "Epoch 132/140\n",
      "111/111 [==============================] - 0s 2ms/step - loss: 0.4623 - accuracy: 0.7676 - val_loss: 0.5128 - val_accuracy: 0.7411\n",
      "Epoch 133/140\n",
      "111/111 [==============================] - 0s 2ms/step - loss: 0.4599 - accuracy: 0.7686 - val_loss: 0.5162 - val_accuracy: 0.7455\n",
      "Epoch 134/140\n",
      "111/111 [==============================] - 0s 2ms/step - loss: 0.4545 - accuracy: 0.7735 - val_loss: 0.5134 - val_accuracy: 0.7418\n",
      "Epoch 135/140\n",
      "111/111 [==============================] - 0s 2ms/step - loss: 0.4606 - accuracy: 0.7691 - val_loss: 0.5093 - val_accuracy: 0.7459\n",
      "Epoch 136/140\n",
      "111/111 [==============================] - 0s 2ms/step - loss: 0.4532 - accuracy: 0.7740 - val_loss: 0.5219 - val_accuracy: 0.7405\n",
      "Epoch 137/140\n",
      "111/111 [==============================] - 0s 2ms/step - loss: 0.4604 - accuracy: 0.7679 - val_loss: 0.5287 - val_accuracy: 0.7309\n",
      "Epoch 138/140\n",
      "111/111 [==============================] - 0s 2ms/step - loss: 0.4663 - accuracy: 0.7654 - val_loss: 0.5316 - val_accuracy: 0.7333\n",
      "Epoch 139/140\n",
      "111/111 [==============================] - 0s 2ms/step - loss: 0.4605 - accuracy: 0.7692 - val_loss: 0.5127 - val_accuracy: 0.7448\n",
      "Epoch 140/140\n",
      "111/111 [==============================] - 0s 2ms/step - loss: 0.4620 - accuracy: 0.7680 - val_loss: 0.5191 - val_accuracy: 0.7401\n"
     ]
    }
   ],
   "source": [
    "history = model.fit(X_train, y_train, epochs=140, batch_size=256, validation_split=0.2, verbose=1)\n",
    "#history = model.fit(X_train, y_train, epochs=50, batch_size=32, validation_split=0.2, verbose=1)"
   ]
  },
  {
   "cell_type": "markdown",
   "metadata": {},
   "source": [
    "### Step 9: Visualize Training and Validation Performance"
   ]
  },
  {
   "cell_type": "code",
   "execution_count": 220,
   "metadata": {},
   "outputs": [
    {
     "data": {
      "image/png": "[encoded data removed]",
      "text/plain": [
       "<Figure size 1200x400 with 2 Axes>"
      ]
     },
     "metadata": {},
     "output_type": "display_data"
    }
   ],
   "source": [
    "\n",
    "\n",
    "plt.figure(figsize=(12, 4))\n",
    "plt.subplot(1, 2, 1)\n",
    "plt.plot(history.history['accuracy'], label='Train Accuracy')\n",
    "plt.plot(history.history['val_accuracy'], label='Validation Accuracy')\n",
    "plt.xlabel('Epochs')\n",
    "plt.ylabel('Accuracy')\n",
    "plt.title('Training and Validation Accuracy')\n",
    "plt.legend()\n",
    "plt.subplot(1, 2, 2)\n",
    "plt.plot(history.history['loss'], label='Train Loss')\n",
    "plt.plot(history.history['val_loss'], label='Validation Loss')\n",
    "plt.xlabel('Epochs')\n",
    "plt.ylabel('Loss')\n",
    "plt.title('Training and Validation Loss')\n",
    "plt.legend()\n",
    "plt.show()"
   ]
  },
  {
   "cell_type": "markdown",
   "metadata": {},
   "source": [
    "### Step 10: Evaluate the Model"
   ]
  },
  {
   "cell_type": "code",
   "execution_count": 221,
   "metadata": {},
   "outputs": [
    {
     "name": "stdout",
     "output_type": "stream",
     "text": [
      "278/278 [==============================] - 0s 369us/step\n",
      "Accuracy: 0.74149199909849\n",
      "Classification Report:\n",
      "               precision    recall  f1-score   support\n",
      "\n",
      "           0       0.75      0.89      0.81      5647\n",
      "           1       0.71      0.48      0.58      3227\n",
      "\n",
      "    accuracy                           0.74      8874\n",
      "   macro avg       0.73      0.69      0.70      8874\n",
      "weighted avg       0.74      0.74      0.73      8874\n",
      "\n"
     ]
    }
   ],
   "source": [
    "y_pred = (model.predict(X_test) > 0.5).astype(int)\n",
    "accuracy = accuracy_score(y_test, y_pred)\n",
    "print(\"Accuracy:\", accuracy)\n",
    "print(\"Classification Report:\\n\", classification_report(y_test, y_pred))"
   ]
  },
  {
   "cell_type": "markdown",
   "metadata": {},
   "source": [
    "### Step 11: Save the Model"
   ]
  },
  {
   "cell_type": "code",
   "execution_count": 222,
   "metadata": {},
   "outputs": [],
   "source": [
    "model.save('eeg_classification_model.h5')"
   ]
  },
  {
   "cell_type": "code",
   "execution_count": 223,
   "metadata": {},
   "outputs": [],
   "source": [
    "def preprocess_single_eeg(raw_eeg_data, band_ranges):\n",
    "    \"\"\"\n",
    "    Preprocess a single EEG dataset and extract features.\n",
    "\n",
    "    Parameters:\n",
    "        raw_eeg_data: Raw EEG data object (e.g., mne.io.Raw)\n",
    "        band_ranges: Dictionary of frequency band ranges\n",
    "    \n",
    "    Returns:\n",
    "        feature_array: A numpy array of extracted features\n",
    "    \"\"\"\n",
    "    # Preprocess the EEG data\n",
    "    raw_eeg_data.filter(1., 40., fir_design='firwin')\n",
    "\n",
    "    # Define epochs\n",
    "    events, event_id = mne.events_from_annotations(raw_eeg_data)\n",
    "    tmin, tmax = -0.2, 0.5\n",
    "    epochs = mne.Epochs(raw_eeg_data, events, event_id, tmin=tmin, tmax=tmax, baseline=(None, 0), preload=True)\n",
    "\n",
    "    # Compute PSD for the entire frequency range\n",
    "    psd = epochs.compute_psd(method='multitaper', fmin=0.5, fmax=40)\n",
    "    psd_data = psd.get_data()  # Shape: (n_epochs, n_channels, n_freqs)\n",
    "    freqs = psd.freqs\n",
    "\n",
    "    # Compute features for each frequency band\n",
    "    band_powers = []\n",
    "    for fmin, fmax in band_ranges.values():\n",
    "        band_indices = (freqs >= fmin) & (freqs < fmax)\n",
    "        band_power = psd_data[:, :, band_indices].mean(axis=(1, 2))  # Aggregate across channels and frequencies\n",
    "        band_powers.append(band_power.mean())  # Average over epochs\n",
    "\n",
    "    # Compute additional features\n",
    "    epoch_data = epochs.get_data().mean(axis=1)  # Aggregate across channels\n",
    "    mean_values = epoch_data.mean()\n",
    "    var_values = epoch_data.var()\n",
    "    skew_values = skew(epoch_data, axis=1).mean()\n",
    "    kurtosis_values = kurtosis(epoch_data, axis=1).mean()\n",
    "    line_length = np.sum(np.abs(np.diff(epoch_data, axis=1)), axis=1).mean()\n",
    "\n",
    "    # Combine all features\n",
    "    feature_array = np.array([\n",
    "        *band_powers, mean_values, var_values, skew_values, kurtosis_values, line_length\n",
    "    ])\n",
    "    return feature_array"
   ]
  },
  {
   "cell_type": "code",
   "execution_count": 224,
   "metadata": {},
   "outputs": [
    {
     "name": "stdout",
     "output_type": "stream",
     "text": [
      "EEG file found: ./ds003523/sub-001/ses-01/eeg/sub-001_ses-01_task-VisualWorkingMemory_eeg.set\n"
     ]
    }
   ],
   "source": [
    "import mne\n",
    "import os\n",
    "\n",
    "# Define the dataset directory\n",
    "data_dir = \"./ds003523\"\n",
    "\n",
    "# Subject and session information\n",
    "subject = \"sub-001\"\n",
    "session = \"ses-01\"\n",
    "\n",
    "# Construct the path to the EEG file\n",
    "eeg_file_path = os.path.join(\n",
    "    data_dir,\n",
    "    subject,\n",
    "    session,\n",
    "    \"eeg\",\n",
    "    f\"{subject}_{session}_task-VisualWorkingMemory_eeg.set\"\n",
    ")\n",
    "\n",
    "# Check if the file exists\n",
    "if not os.path.exists(eeg_file_path):\n",
    "    print(f\"EEG file not found: {eeg_file_path}\")\n",
    "else:\n",
    "    print(f\"EEG file found: {eeg_file_path}\")"
   ]
  },
  {
   "cell_type": "code",
   "execution_count": null,
   "metadata": {},
   "outputs": [],
   "source": []
  },
  {
   "cell_type": "code",
   "execution_count": 225,
   "metadata": {},
   "outputs": [
    {
     "name": "stdout",
     "output_type": "stream",
     "text": [
      "Reading /Users/ishabharti/EEG Project/ds003523/sub-001/ses-01/eeg/sub-001_ses-01_task-VisualWorkingMemory_eeg.fdt\n",
      "Reading 0 ... 697174  =      0.000 ...  1394.348 secs...\n"
     ]
    },
    {
     "name": "stderr",
     "output_type": "stream",
     "text": [
      "/var/folders/dl/zd_s8q0x20zbxpy0_dzhksbh0000gn/T/ipykernel_69725/1947841769.py:1: RuntimeWarning: The data contains 'boundary' events, indicating data discontinuities. Be cautious of filtering and epoching around these events.\n",
      "  raw = mne.io.read_raw_eeglab(eeg_file_path, preload=True)\n"
     ]
    }
   ],
   "source": [
    "raw = mne.io.read_raw_eeglab(eeg_file_path, preload=True)\n",
    "# Plot the raw data (optional)\n",
    "# raw.plot(duration=5, n_channels=30)"
   ]
  },
  {
   "cell_type": "code",
   "execution_count": 226,
   "metadata": {},
   "outputs": [
    {
     "name": "stdout",
     "output_type": "stream",
     "text": [
      "Filtering raw data in 1 contiguous segment\n",
      "Setting up band-pass filter from 1 - 40 Hz\n",
      "\n",
      "FIR filter parameters\n",
      "---------------------\n",
      "Designing a one-pass, zero-phase, non-causal bandpass filter:\n",
      "- Windowed time-domain design (firwin) method\n",
      "- Hamming window with 0.0194 passband ripple and 53 dB stopband attenuation\n",
      "- Lower passband edge: 1.00\n",
      "- Lower transition bandwidth: 1.00 Hz (-6 dB cutoff frequency: 0.50 Hz)\n",
      "- Upper passband edge: 40.00 Hz\n",
      "- Upper transition bandwidth: 10.00 Hz (-6 dB cutoff frequency: 45.00 Hz)\n",
      "- Filter length: 1651 samples (3.302 s)\n",
      "\n"
     ]
    },
    {
     "name": "stderr",
     "output_type": "stream",
     "text": [
      "[Parallel(n_jobs=1)]: Done  17 tasks      | elapsed:    0.1s\n"
     ]
    },
    {
     "name": "stdout",
     "output_type": "stream",
     "text": [
      "Used Annotations descriptions: ['S  1', 'S  2', 'S  3', 'S 50', 'S 51', 'S 52', 'S100', 'S101', 'S200', 'S201', 'boundary']\n",
      "Not setting metadata\n",
      "511 matching events found\n",
      "Setting baseline interval to [-0.2, 0.0] s\n",
      "Applying baseline correction (mode: mean)\n",
      "0 projection items activated\n",
      "Using data from preloaded Raw for 511 events and 351 original time points ...\n",
      "1 bad epochs dropped\n",
      "    Using multitaper spectrum estimation with 7 DPSS windows\n"
     ]
    },
    {
     "data": {
      "text/plain": [
       "array([[ 3.19355231e-04,  1.44500796e-04,  1.04500588e-05,\n",
       "         1.89622193e-06,  5.15565377e-07, -2.47271096e-05,\n",
       "         9.23275691e-08, -9.91062469e-01,  1.81069777e+00,\n",
       "         2.58580155e-03]])"
      ]
     },
     "execution_count": 226,
     "metadata": {},
     "output_type": "execute_result"
    }
   ],
   "source": [
    "import os\n",
    "import mne\n",
    "import numpy as np\n",
    "import pandas as pd\n",
    "from scipy.stats import skew, kurtosis\n",
    "from scipy.signal import find_peaks\n",
    "from mne.time_frequency import psd_array_multitaper\n",
    "import joblib\n",
    "\n",
    "\n",
    "# Define the band ranges used during training\n",
    "band_ranges = {\n",
    "    'delta': (0.5, 4),\n",
    "    'theta': (4, 8),\n",
    "    'alpha': (8, 13),\n",
    "    'beta': (13, 30),\n",
    "    'gamma': (30, 100)\n",
    "}\n",
    "  \n",
    "# Preprocess and extract features for the single EEG sample\n",
    "single_features = preprocess_single_eeg(raw, band_ranges)\n",
    "\n",
    "# Reshape to match the input format expected by the model (1 sample, n_features)\n",
    "single_features = single_features.reshape(1, -1)\n",
    "single_features"
   ]
  },
  {
   "cell_type": "code",
   "execution_count": 227,
   "metadata": {},
   "outputs": [
    {
     "name": "stdout",
     "output_type": "stream",
     "text": [
      "Model loaded successfully!\n"
     ]
    }
   ],
   "source": [
    "import joblib\n",
    "import numpy as np\n",
    "\n",
    "model_path = \"random_forest_model.pkl\"\n",
    "# Load the trained Random Forest model\n",
    "try:\n",
    "    model = joblib.load(model_path)\n",
    "    print(\"Model loaded successfully!\")\n",
    "except FileNotFoundError:\n",
    "    print(f\"Model file not found at: {model_path}\")\n",
    "    raise"
   ]
  },
  {
   "cell_type": "code",
   "execution_count": 228,
   "metadata": {},
   "outputs": [
    {
     "name": "stdout",
     "output_type": "stream",
     "text": [
      "Predicted Class: 0\n",
      "Predicted Probabilities: [0.81 0.19]\n"
     ]
    },
    {
     "name": "stderr",
     "output_type": "stream",
     "text": [
      "/opt/anaconda3/envs/tf/lib/python3.11/site-packages/sklearn/base.py:493: UserWarning: X does not have valid feature names, but RandomForestClassifier was fitted with feature names\n",
      "  warnings.warn(\n",
      "/opt/anaconda3/envs/tf/lib/python3.11/site-packages/sklearn/base.py:493: UserWarning: X does not have valid feature names, but RandomForestClassifier was fitted with feature names\n",
      "  warnings.warn(\n"
     ]
    }
   ],
   "source": [
    "# Predict the class\n",
    "predicted_class = model.predict(single_features)[0]\n",
    "\n",
    "# Predict the probability of each class\n",
    "predicted_probabilities = model.predict_proba(single_features)[0]\n",
    "\n",
    "print(f\"Predicted Class: {predicted_class}\")\n",
    "print(f\"Predicted Probabilities: {predicted_probabilities}\")"
   ]
  },
  {
   "cell_type": "code",
   "execution_count": null,
   "metadata": {},
   "outputs": [],
   "source": []
  }
 ],
 "metadata": {
  "kernelspec": {
   "display_name": "tf",
   "language": "python",
   "name": "python3"
  },
  "language_info": {
   "codemirror_mode": {
    "name": "ipython",
    "version": 3
   },
   "file_extension": ".py",
   "mimetype": "text/x-python",
   "name": "python",
   "nbconvert_exporter": "python",
   "pygments_lexer": "ipython3",
   "version": "3.11.5"
  }
 },
 "nbformat": 4,
 "nbformat_minor": 4
}

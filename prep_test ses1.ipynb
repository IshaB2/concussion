{
 "cells": [
  {
   "cell_type": "code",
   "execution_count": 1,
   "metadata": {},
   "outputs": [],
   "source": [
    "import os\n",
    "import mne\n",
    "import numpy as np\n",
    "import pandas as pd\n",
    "from scipy.stats import skew, kurtosis\n",
    "from scipy.signal import find_peaks\n",
    "from mne.time_frequency import psd_array_multitaper"
   ]
  },
  {
   "cell_type": "code",
   "execution_count": 2,
   "metadata": {},
   "outputs": [],
   "source": [
    "# Path to the dataset root\n",
    "data_dir = './ds003523'\n",
    "\n",
    "# Initialize lists for features and labels\n",
    "all_features = []\n",
    "all_labels = []\n",
    "\n",
    "# Define frequency bands\n",
    "band_ranges = {\n",
    "    'delta': (0.5, 4),\n",
    "    'theta': (4, 8),\n",
    "    'alpha': (8, 13),\n",
    "    'beta': (13, 30),\n",
    "    'gamma': (30, 100)\n",
    "}\n",
    "\n",
    "\n",
    "# Load participants.tsv to get the Group labels\n",
    "participants_file = os.path.join(data_dir, 'participants.tsv')\n",
    "participants = pd.read_csv(participants_file, sep='\\t')\n",
    "\n"
   ]
  },
  {
   "cell_type": "code",
   "execution_count": 3,
   "metadata": {},
   "outputs": [
    {
     "data": {
      "text/html": [
       "<div>\n",
       "<style scoped>\n",
       "    .dataframe tbody tr th:only-of-type {\n",
       "        vertical-align: middle;\n",
       "    }\n",
       "\n",
       "    .dataframe tbody tr th {\n",
       "        vertical-align: top;\n",
       "    }\n",
       "\n",
       "    .dataframe thead th {\n",
       "        text-align: right;\n",
       "    }\n",
       "</style>\n",
       "<table border=\"1\" class=\"dataframe\">\n",
       "  <thead>\n",
       "    <tr style=\"text-align: right;\">\n",
       "      <th></th>\n",
       "      <th>participant_id</th>\n",
       "      <th>Original_ID</th>\n",
       "      <th>URSI</th>\n",
       "      <th>sex</th>\n",
       "      <th>age</th>\n",
       "      <th>Group</th>\n",
       "    </tr>\n",
       "  </thead>\n",
       "  <tbody>\n",
       "    <tr>\n",
       "      <th>0</th>\n",
       "      <td>sub-001</td>\n",
       "      <td>3044</td>\n",
       "      <td>M87102477</td>\n",
       "      <td>1</td>\n",
       "      <td>23</td>\n",
       "      <td>0</td>\n",
       "    </tr>\n",
       "    <tr>\n",
       "      <th>1</th>\n",
       "      <td>sub-002</td>\n",
       "      <td>3009</td>\n",
       "      <td>M87104171</td>\n",
       "      <td>0</td>\n",
       "      <td>30</td>\n",
       "      <td>1</td>\n",
       "    </tr>\n",
       "    <tr>\n",
       "      <th>2</th>\n",
       "      <td>sub-003</td>\n",
       "      <td>3042</td>\n",
       "      <td>M87104582</td>\n",
       "      <td>0</td>\n",
       "      <td>19</td>\n",
       "      <td>0</td>\n",
       "    </tr>\n",
       "    <tr>\n",
       "      <th>3</th>\n",
       "      <td>sub-004</td>\n",
       "      <td>3074</td>\n",
       "      <td>M87106278</td>\n",
       "      <td>0</td>\n",
       "      <td>19</td>\n",
       "      <td>0</td>\n",
       "    </tr>\n",
       "    <tr>\n",
       "      <th>4</th>\n",
       "      <td>sub-005</td>\n",
       "      <td>3076</td>\n",
       "      <td>M87107075</td>\n",
       "      <td>0</td>\n",
       "      <td>22</td>\n",
       "      <td>0</td>\n",
       "    </tr>\n",
       "    <tr>\n",
       "      <th>...</th>\n",
       "      <td>...</td>\n",
       "      <td>...</td>\n",
       "      <td>...</td>\n",
       "      <td>...</td>\n",
       "      <td>...</td>\n",
       "      <td>...</td>\n",
       "    </tr>\n",
       "    <tr>\n",
       "      <th>86</th>\n",
       "      <td>sub-087</td>\n",
       "      <td>3084</td>\n",
       "      <td>M87192041</td>\n",
       "      <td>0</td>\n",
       "      <td>34</td>\n",
       "      <td>0</td>\n",
       "    </tr>\n",
       "    <tr>\n",
       "      <th>87</th>\n",
       "      <td>sub-088</td>\n",
       "      <td>3063</td>\n",
       "      <td>M87192146</td>\n",
       "      <td>1</td>\n",
       "      <td>30</td>\n",
       "      <td>1</td>\n",
       "    </tr>\n",
       "    <tr>\n",
       "      <th>88</th>\n",
       "      <td>sub-089</td>\n",
       "      <td>3082</td>\n",
       "      <td>M87196019</td>\n",
       "      <td>0</td>\n",
       "      <td>24</td>\n",
       "      <td>0</td>\n",
       "    </tr>\n",
       "    <tr>\n",
       "      <th>89</th>\n",
       "      <td>sub-090</td>\n",
       "      <td>3007</td>\n",
       "      <td>M87196158</td>\n",
       "      <td>1</td>\n",
       "      <td>26</td>\n",
       "      <td>1</td>\n",
       "    </tr>\n",
       "    <tr>\n",
       "      <th>90</th>\n",
       "      <td>sub-091</td>\n",
       "      <td>3030</td>\n",
       "      <td>M87196898</td>\n",
       "      <td>0</td>\n",
       "      <td>18</td>\n",
       "      <td>0</td>\n",
       "    </tr>\n",
       "  </tbody>\n",
       "</table>\n",
       "<p>91 rows × 6 columns</p>\n",
       "</div>"
      ],
      "text/plain": [
       "   participant_id  Original_ID       URSI  sex  age  Group\n",
       "0         sub-001         3044  M87102477    1   23      0\n",
       "1         sub-002         3009  M87104171    0   30      1\n",
       "2         sub-003         3042  M87104582    0   19      0\n",
       "3         sub-004         3074  M87106278    0   19      0\n",
       "4         sub-005         3076  M87107075    0   22      0\n",
       "..            ...          ...        ...  ...  ...    ...\n",
       "86        sub-087         3084  M87192041    0   34      0\n",
       "87        sub-088         3063  M87192146    1   30      1\n",
       "88        sub-089         3082  M87196019    0   24      0\n",
       "89        sub-090         3007  M87196158    1   26      1\n",
       "90        sub-091         3030  M87196898    0   18      0\n",
       "\n",
       "[91 rows x 6 columns]"
      ]
     },
     "execution_count": 3,
     "metadata": {},
     "output_type": "execute_result"
    }
   ],
   "source": [
    "participants_file = os.path.join(data_dir, 'participants.tsv')\n",
    "participants = pd.read_csv(participants_file, sep='\\t')\n",
    "participants"
   ]
  },
  {
   "cell_type": "code",
   "execution_count": 4,
   "metadata": {},
   "outputs": [
    {
     "data": {
      "text/plain": [
       "Group\n",
       "0    57\n",
       "1    34\n",
       "Name: count, dtype: int64"
      ]
     },
     "execution_count": 4,
     "metadata": {},
     "output_type": "execute_result"
    }
   ],
   "source": [
    "participants.Group.value_counts()"
   ]
  },
  {
   "cell_type": "markdown",
   "metadata": {},
   "source": [
    "### Helper Functions"
   ]
  },
  {
   "cell_type": "code",
   "execution_count": 5,
   "metadata": {},
   "outputs": [],
   "source": [
    "# Function to compute additional features\n",
    "def compute_additional_features(epoch_data):\n",
    "    \"\"\"\n",
    "    Computes additional features like:\n",
    "    - Mean, variance, skewness, and kurtosis for time-domain data\n",
    "    - Line length (signal complexity)\n",
    "    \"\"\"\n",
    "    from scipy.stats import skew, kurtosis\n",
    "\n",
    "    # Mean and variance across time points\n",
    "    mean_values = epoch_data.mean(axis=1)\n",
    "    var_values = epoch_data.var(axis=1)\n",
    "\n",
    "    # Skewness and kurtosis across time points\n",
    "    skew_values = skew(epoch_data, axis=1)\n",
    "    kurtosis_values = kurtosis(epoch_data, axis=1)\n",
    "\n",
    "    # Line length (sum of absolute differences between consecutive samples)\n",
    "    line_length = np.sum(np.abs(np.diff(epoch_data, axis=1)), axis=1)\n",
    "\n",
    "    return mean_values, var_values, skew_values, kurtosis_values, line_length"
   ]
  },
  {
   "cell_type": "code",
   "execution_count": 6,
   "metadata": {},
   "outputs": [],
   "source": [
    "# X = np.vstack(all_features)  # Features for all subjects and sessions\n",
    "# y = np.hstack(all_labels)  "
   ]
  },
  {
   "cell_type": "code",
   "execution_count": 7,
   "metadata": {},
   "outputs": [
    {
     "name": "stdout",
     "output_type": "stream",
     "text": [
      "Processing sub-000\n",
      "Subject sub-000 not found in participants.tsv. Skipping.\n",
      "Processing sub-001\n"
     ]
    },
    {
     "name": "stderr",
     "output_type": "stream",
     "text": [
      "[ERROR] NoDatasetFound(No dataset found at '/Users/ishabharti/EEG Project' for the purpose \"get content of <<['./ds003523/s++15 chars++eg']>>\".  Specify a dataset to work with by providing its path via the `dataset` option, or change the current working directory to be in a dataset.) (NoDatasetFound) \n",
      "usage: datalad get [-h] [-s LABEL] [-d PATH] [-r] [-R LEVELS] [-n]\n",
      "                   [-D DESCRIPTION] [--reckless [auto|ephemeral|shared-...]]\n",
      "                   [-J NJOBS] [--version]\n",
      "                   [PATH ...]\n"
     ]
    },
    {
     "name": "stdout",
     "output_type": "stream",
     "text": [
      "Reading /Users/ishabharti/EEG Project/ds003523/sub-001/ses-01/eeg/sub-001_ses-01_task-VisualWorkingMemory_eeg.fdt\n",
      "Reading 0 ... 697174  =      0.000 ...  1394.348 secs...\n",
      "Filtering raw data in 1 contiguous segment\n",
      "Setting up band-pass filter from 0.5 - 1e+02 Hz\n",
      "\n",
      "FIR filter parameters\n",
      "---------------------\n",
      "Designing a one-pass, zero-phase, non-causal bandpass filter:\n",
      "- Windowed time-domain design (firwin) method\n",
      "- Hamming window with 0.0194 passband ripple and 53 dB stopband attenuation\n",
      "- Lower passband edge: 0.50\n",
      "- Lower transition bandwidth: 0.50 Hz (-6 dB cutoff frequency: 0.25 Hz)\n",
      "- Upper passband edge: 100.00 Hz\n",
      "- Upper transition bandwidth: 25.00 Hz (-6 dB cutoff frequency: 112.50 Hz)\n",
      "- Filter length: 3301 samples (6.602 s)\n",
      "\n"
     ]
    },
    {
     "name": "stderr",
     "output_type": "stream",
     "text": [
      "/var/folders/dl/zd_s8q0x20zbxpy0_dzhksbh0000gn/T/ipykernel_68894/1038661286.py:78: RuntimeWarning: The data contains 'boundary' events, indicating data discontinuities. Be cautious of filtering and epoching around these events.\n",
      "  raw = mne.io.read_raw_eeglab(eeg_file, preload=True)\n",
      "[Parallel(n_jobs=1)]: Done  17 tasks      | elapsed:    0.1s\n"
     ]
    },
    {
     "name": "stdout",
     "output_type": "stream",
     "text": [
      "Used Annotations descriptions: ['S  1', 'S  2', 'S  3', 'S 50', 'S 51', 'S 52', 'S100', 'S101', 'S200', 'S201', 'boundary']\n",
      "Not setting metadata\n",
      "511 matching events found\n",
      "Setting baseline interval to [-0.2, 0.0] s\n",
      "Applying baseline correction (mode: mean)\n",
      "0 projection items activated\n",
      "Using data from preloaded Raw for 511 events and 351 original time points ...\n",
      "1 bad epochs dropped\n",
      "    Using multitaper spectrum estimation with 7 DPSS windows\n",
      "Session features shape for sub-001, ses-01: (510, 10)\n",
      "Processing sub-002\n",
      "Reading /Users/ishabharti/EEG Project/ds003523/sub-002/ses-01/eeg/sub-002_ses-01_task-VisualWorkingMemory_eeg.fdt\n",
      "Reading 0 ... 766849  =      0.000 ...  1533.698 secs...\n"
     ]
    },
    {
     "name": "stderr",
     "output_type": "stream",
     "text": [
      "[ERROR] NoDatasetFound(No dataset found at '/Users/ishabharti/EEG Project' for the purpose \"get content of <<['./ds003523/s++15 chars++eg']>>\".  Specify a dataset to work with by providing its path via the `dataset` option, or change the current working directory to be in a dataset.) (NoDatasetFound) \n",
      "usage: datalad get [-h] [-s LABEL] [-d PATH] [-r] [-R LEVELS] [-n]\n",
      "                   [-D DESCRIPTION] [--reckless [auto|ephemeral|shared-...]]\n",
      "                   [-J NJOBS] [--version]\n",
      "                   [PATH ...]\n"
     ]
    },
    {
     "name": "stdout",
     "output_type": "stream",
     "text": [
      "Filtering raw data in 1 contiguous segment\n",
      "Setting up band-pass filter from 0.5 - 1e+02 Hz\n",
      "\n",
      "FIR filter parameters\n",
      "---------------------\n",
      "Designing a one-pass, zero-phase, non-causal bandpass filter:\n",
      "- Windowed time-domain design (firwin) method\n",
      "- Hamming window with 0.0194 passband ripple and 53 dB stopband attenuation\n",
      "- Lower passband edge: 0.50\n",
      "- Lower transition bandwidth: 0.50 Hz (-6 dB cutoff frequency: 0.25 Hz)\n",
      "- Upper passband edge: 100.00 Hz\n",
      "- Upper transition bandwidth: 25.00 Hz (-6 dB cutoff frequency: 112.50 Hz)\n",
      "- Filter length: 3301 samples (6.602 s)\n",
      "\n"
     ]
    },
    {
     "name": "stderr",
     "output_type": "stream",
     "text": [
      "/var/folders/dl/zd_s8q0x20zbxpy0_dzhksbh0000gn/T/ipykernel_68894/1038661286.py:78: RuntimeWarning: The data contains 'boundary' events, indicating data discontinuities. Be cautious of filtering and epoching around these events.\n",
      "  raw = mne.io.read_raw_eeglab(eeg_file, preload=True)\n",
      "[Parallel(n_jobs=1)]: Done  17 tasks      | elapsed:    0.2s\n"
     ]
    },
    {
     "name": "stdout",
     "output_type": "stream",
     "text": [
      "Used Annotations descriptions: ['S  1', 'S  2', 'S  3', 'S 50', 'S 51', 'S 52', 'S100', 'S101', 'S200', 'S201', 'boundary']\n",
      "Not setting metadata\n",
      "511 matching events found\n",
      "Setting baseline interval to [-0.2, 0.0] s\n",
      "Applying baseline correction (mode: mean)\n",
      "0 projection items activated\n",
      "Using data from preloaded Raw for 511 events and 351 original time points ...\n",
      "1 bad epochs dropped\n",
      "    Using multitaper spectrum estimation with 7 DPSS windows\n",
      "Session features shape for sub-002, ses-01: (510, 10)\n",
      "Processing sub-003\n",
      "Reading /Users/ishabharti/EEG Project/ds003523/sub-003/ses-01/eeg/sub-003_ses-01_task-VisualWorkingMemory_eeg.fdt\n",
      "Reading 0 ... 856724  =      0.000 ...  1713.448 secs...\n"
     ]
    },
    {
     "name": "stderr",
     "output_type": "stream",
     "text": [
      "[ERROR] NoDatasetFound(No dataset found at '/Users/ishabharti/EEG Project' for the purpose \"get content of <<['./ds003523/s++15 chars++eg']>>\".  Specify a dataset to work with by providing its path via the `dataset` option, or change the current working directory to be in a dataset.) (NoDatasetFound) \n",
      "usage: datalad get [-h] [-s LABEL] [-d PATH] [-r] [-R LEVELS] [-n]\n",
      "                   [-D DESCRIPTION] [--reckless [auto|ephemeral|shared-...]]\n",
      "                   [-J NJOBS] [--version]\n",
      "                   [PATH ...]\n"
     ]
    },
    {
     "name": "stdout",
     "output_type": "stream",
     "text": [
      "Filtering raw data in 1 contiguous segment\n",
      "Setting up band-pass filter from 0.5 - 1e+02 Hz\n",
      "\n",
      "FIR filter parameters\n",
      "---------------------\n",
      "Designing a one-pass, zero-phase, non-causal bandpass filter:\n",
      "- Windowed time-domain design (firwin) method\n",
      "- Hamming window with 0.0194 passband ripple and 53 dB stopband attenuation\n",
      "- Lower passband edge: 0.50\n",
      "- Lower transition bandwidth: 0.50 Hz (-6 dB cutoff frequency: 0.25 Hz)\n",
      "- Upper passband edge: 100.00 Hz\n",
      "- Upper transition bandwidth: 25.00 Hz (-6 dB cutoff frequency: 112.50 Hz)\n",
      "- Filter length: 3301 samples (6.602 s)\n",
      "\n"
     ]
    },
    {
     "name": "stderr",
     "output_type": "stream",
     "text": [
      "/var/folders/dl/zd_s8q0x20zbxpy0_dzhksbh0000gn/T/ipykernel_68894/1038661286.py:78: RuntimeWarning: The data contains 'boundary' events, indicating data discontinuities. Be cautious of filtering and epoching around these events.\n",
      "  raw = mne.io.read_raw_eeglab(eeg_file, preload=True)\n",
      "[Parallel(n_jobs=1)]: Done  17 tasks      | elapsed:    0.2s\n"
     ]
    },
    {
     "name": "stdout",
     "output_type": "stream",
     "text": [
      "Used Annotations descriptions: ['S  1', 'S  2', 'S  3', 'S 50', 'S 51', 'S 52', 'S100', 'S101', 'S200', 'S201', 'boundary']\n",
      "Not setting metadata\n",
      "510 matching events found\n",
      "Setting baseline interval to [-0.2, 0.0] s\n",
      "Applying baseline correction (mode: mean)\n",
      "0 projection items activated\n",
      "Using data from preloaded Raw for 510 events and 351 original time points ...\n",
      "1 bad epochs dropped\n",
      "    Using multitaper spectrum estimation with 7 DPSS windows\n",
      "Session features shape for sub-003, ses-01: (509, 10)\n",
      "Processing sub-004\n",
      "Reading /Users/ishabharti/EEG Project/ds003523/sub-004/ses-01/eeg/sub-004_ses-01_task-VisualWorkingMemory_eeg.fdt\n",
      "Reading 0 ... 724399  =      0.000 ...  1448.798 secs...\n"
     ]
    },
    {
     "name": "stderr",
     "output_type": "stream",
     "text": [
      "[ERROR] NoDatasetFound(No dataset found at '/Users/ishabharti/EEG Project' for the purpose \"get content of <<['./ds003523/s++15 chars++eg']>>\".  Specify a dataset to work with by providing its path via the `dataset` option, or change the current working directory to be in a dataset.) (NoDatasetFound) \n",
      "usage: datalad get [-h] [-s LABEL] [-d PATH] [-r] [-R LEVELS] [-n]\n",
      "                   [-D DESCRIPTION] [--reckless [auto|ephemeral|shared-...]]\n",
      "                   [-J NJOBS] [--version]\n",
      "                   [PATH ...]\n"
     ]
    },
    {
     "name": "stdout",
     "output_type": "stream",
     "text": [
      "Filtering raw data in 1 contiguous segment\n",
      "Setting up band-pass filter from 0.5 - 1e+02 Hz\n",
      "\n",
      "FIR filter parameters\n",
      "---------------------\n",
      "Designing a one-pass, zero-phase, non-causal bandpass filter:\n",
      "- Windowed time-domain design (firwin) method\n",
      "- Hamming window with 0.0194 passband ripple and 53 dB stopband attenuation\n",
      "- Lower passband edge: 0.50\n",
      "- Lower transition bandwidth: 0.50 Hz (-6 dB cutoff frequency: 0.25 Hz)\n",
      "- Upper passband edge: 100.00 Hz\n",
      "- Upper transition bandwidth: 25.00 Hz (-6 dB cutoff frequency: 112.50 Hz)\n",
      "- Filter length: 3301 samples (6.602 s)\n",
      "\n"
     ]
    },
    {
     "name": "stderr",
     "output_type": "stream",
     "text": [
      "/var/folders/dl/zd_s8q0x20zbxpy0_dzhksbh0000gn/T/ipykernel_68894/1038661286.py:78: RuntimeWarning: The data contains 'boundary' events, indicating data discontinuities. Be cautious of filtering and epoching around these events.\n",
      "  raw = mne.io.read_raw_eeglab(eeg_file, preload=True)\n",
      "[Parallel(n_jobs=1)]: Done  17 tasks      | elapsed:    0.1s\n"
     ]
    },
    {
     "name": "stdout",
     "output_type": "stream",
     "text": [
      "Used Annotations descriptions: ['S  1', 'S  2', 'S  3', 'S 50', 'S 51', 'S 52', 'S100', 'S101', 'S200', 'S201', 'boundary']\n",
      "Not setting metadata\n",
      "503 matching events found\n",
      "Setting baseline interval to [-0.2, 0.0] s\n",
      "Applying baseline correction (mode: mean)\n",
      "0 projection items activated\n",
      "Using data from preloaded Raw for 503 events and 351 original time points ...\n",
      "1 bad epochs dropped\n",
      "    Using multitaper spectrum estimation with 7 DPSS windows\n",
      "Session features shape for sub-004, ses-01: (502, 10)\n",
      "Processing sub-005\n",
      "Reading /Users/ishabharti/EEG Project/ds003523/sub-005/ses-01/eeg/sub-005_ses-01_task-VisualWorkingMemory_eeg.fdt\n",
      "Reading 0 ... 683049  =      0.000 ...  1366.098 secs...\n"
     ]
    },
    {
     "name": "stderr",
     "output_type": "stream",
     "text": [
      "[ERROR] NoDatasetFound(No dataset found at '/Users/ishabharti/EEG Project' for the purpose \"get content of <<['./ds003523/s++15 chars++eg']>>\".  Specify a dataset to work with by providing its path via the `dataset` option, or change the current working directory to be in a dataset.) (NoDatasetFound) \n",
      "usage: datalad get [-h] [-s LABEL] [-d PATH] [-r] [-R LEVELS] [-n]\n",
      "                   [-D DESCRIPTION] [--reckless [auto|ephemeral|shared-...]]\n",
      "                   [-J NJOBS] [--version]\n",
      "                   [PATH ...]\n"
     ]
    },
    {
     "name": "stdout",
     "output_type": "stream",
     "text": [
      "Filtering raw data in 1 contiguous segment\n",
      "Setting up band-pass filter from 0.5 - 1e+02 Hz\n",
      "\n",
      "FIR filter parameters\n",
      "---------------------\n",
      "Designing a one-pass, zero-phase, non-causal bandpass filter:\n",
      "- Windowed time-domain design (firwin) method\n",
      "- Hamming window with 0.0194 passband ripple and 53 dB stopband attenuation\n",
      "- Lower passband edge: 0.50\n",
      "- Lower transition bandwidth: 0.50 Hz (-6 dB cutoff frequency: 0.25 Hz)\n",
      "- Upper passband edge: 100.00 Hz\n",
      "- Upper transition bandwidth: 25.00 Hz (-6 dB cutoff frequency: 112.50 Hz)\n",
      "- Filter length: 3301 samples (6.602 s)\n",
      "\n"
     ]
    },
    {
     "name": "stderr",
     "output_type": "stream",
     "text": [
      "/var/folders/dl/zd_s8q0x20zbxpy0_dzhksbh0000gn/T/ipykernel_68894/1038661286.py:78: RuntimeWarning: The data contains 'boundary' events, indicating data discontinuities. Be cautious of filtering and epoching around these events.\n",
      "  raw = mne.io.read_raw_eeglab(eeg_file, preload=True)\n",
      "[Parallel(n_jobs=1)]: Done  17 tasks      | elapsed:    0.2s\n"
     ]
    },
    {
     "name": "stdout",
     "output_type": "stream",
     "text": [
      "Used Annotations descriptions: ['S  1', 'S  2', 'S  3', 'S 50', 'S 52', 'S100', 'S101', 'S200', 'S201', 'boundary']\n",
      "Not setting metadata\n",
      "511 matching events found\n",
      "Setting baseline interval to [-0.2, 0.0] s\n",
      "Applying baseline correction (mode: mean)\n",
      "0 projection items activated\n",
      "Using data from preloaded Raw for 511 events and 351 original time points ...\n",
      "1 bad epochs dropped\n",
      "    Using multitaper spectrum estimation with 7 DPSS windows\n",
      "Session features shape for sub-005, ses-01: (510, 10)\n",
      "Processing sub-006\n",
      "Reading /Users/ishabharti/EEG Project/ds003523/sub-006/ses-01/eeg/sub-006_ses-01_task-VisualWorkingMemory_eeg.fdt\n",
      "Reading 0 ... 689024  =      0.000 ...  1378.048 secs...\n"
     ]
    },
    {
     "name": "stderr",
     "output_type": "stream",
     "text": [
      "[ERROR] NoDatasetFound(No dataset found at '/Users/ishabharti/EEG Project' for the purpose \"get content of <<['./ds003523/s++15 chars++eg']>>\".  Specify a dataset to work with by providing its path via the `dataset` option, or change the current working directory to be in a dataset.) (NoDatasetFound) \n",
      "usage: datalad get [-h] [-s LABEL] [-d PATH] [-r] [-R LEVELS] [-n]\n",
      "                   [-D DESCRIPTION] [--reckless [auto|ephemeral|shared-...]]\n",
      "                   [-J NJOBS] [--version]\n",
      "                   [PATH ...]\n"
     ]
    },
    {
     "name": "stdout",
     "output_type": "stream",
     "text": [
      "Filtering raw data in 1 contiguous segment\n",
      "Setting up band-pass filter from 0.5 - 1e+02 Hz\n",
      "\n",
      "FIR filter parameters\n",
      "---------------------\n",
      "Designing a one-pass, zero-phase, non-causal bandpass filter:\n",
      "- Windowed time-domain design (firwin) method\n",
      "- Hamming window with 0.0194 passband ripple and 53 dB stopband attenuation\n",
      "- Lower passband edge: 0.50\n",
      "- Lower transition bandwidth: 0.50 Hz (-6 dB cutoff frequency: 0.25 Hz)\n",
      "- Upper passband edge: 100.00 Hz\n",
      "- Upper transition bandwidth: 25.00 Hz (-6 dB cutoff frequency: 112.50 Hz)\n",
      "- Filter length: 3301 samples (6.602 s)\n",
      "\n"
     ]
    },
    {
     "name": "stderr",
     "output_type": "stream",
     "text": [
      "/var/folders/dl/zd_s8q0x20zbxpy0_dzhksbh0000gn/T/ipykernel_68894/1038661286.py:78: RuntimeWarning: The data contains 'boundary' events, indicating data discontinuities. Be cautious of filtering and epoching around these events.\n",
      "  raw = mne.io.read_raw_eeglab(eeg_file, preload=True)\n",
      "[Parallel(n_jobs=1)]: Done  17 tasks      | elapsed:    0.1s\n"
     ]
    },
    {
     "name": "stdout",
     "output_type": "stream",
     "text": [
      "Used Annotations descriptions: ['S  1', 'S  2', 'S  3', 'S 50', 'S 51', 'S 52', 'S100', 'S101', 'S200', 'S201', 'boundary']\n",
      "Not setting metadata\n",
      "511 matching events found\n",
      "Setting baseline interval to [-0.2, 0.0] s\n",
      "Applying baseline correction (mode: mean)\n",
      "0 projection items activated\n",
      "Using data from preloaded Raw for 511 events and 351 original time points ...\n",
      "1 bad epochs dropped\n",
      "    Using multitaper spectrum estimation with 7 DPSS windows\n",
      "Session features shape for sub-006, ses-01: (510, 10)\n",
      "Processing sub-007\n",
      "Reading /Users/ishabharti/EEG Project/ds003523/sub-007/ses-01/eeg/sub-007_ses-01_task-VisualWorkingMemory_eeg.fdt\n",
      "Reading 0 ... 838274  =      0.000 ...  1676.548 secs...\n"
     ]
    },
    {
     "name": "stderr",
     "output_type": "stream",
     "text": [
      "[ERROR] NoDatasetFound(No dataset found at '/Users/ishabharti/EEG Project' for the purpose \"get content of <<['./ds003523/s++15 chars++eg']>>\".  Specify a dataset to work with by providing its path via the `dataset` option, or change the current working directory to be in a dataset.) (NoDatasetFound) \n",
      "usage: datalad get [-h] [-s LABEL] [-d PATH] [-r] [-R LEVELS] [-n]\n",
      "                   [-D DESCRIPTION] [--reckless [auto|ephemeral|shared-...]]\n",
      "                   [-J NJOBS] [--version]\n",
      "                   [PATH ...]\n"
     ]
    },
    {
     "name": "stdout",
     "output_type": "stream",
     "text": [
      "Filtering raw data in 1 contiguous segment\n",
      "Setting up band-pass filter from 0.5 - 1e+02 Hz\n",
      "\n",
      "FIR filter parameters\n",
      "---------------------\n",
      "Designing a one-pass, zero-phase, non-causal bandpass filter:\n",
      "- Windowed time-domain design (firwin) method\n",
      "- Hamming window with 0.0194 passband ripple and 53 dB stopband attenuation\n",
      "- Lower passband edge: 0.50\n",
      "- Lower transition bandwidth: 0.50 Hz (-6 dB cutoff frequency: 0.25 Hz)\n",
      "- Upper passband edge: 100.00 Hz\n",
      "- Upper transition bandwidth: 25.00 Hz (-6 dB cutoff frequency: 112.50 Hz)\n",
      "- Filter length: 3301 samples (6.602 s)\n",
      "\n"
     ]
    },
    {
     "name": "stderr",
     "output_type": "stream",
     "text": [
      "/var/folders/dl/zd_s8q0x20zbxpy0_dzhksbh0000gn/T/ipykernel_68894/1038661286.py:78: RuntimeWarning: The data contains 'boundary' events, indicating data discontinuities. Be cautious of filtering and epoching around these events.\n",
      "  raw = mne.io.read_raw_eeglab(eeg_file, preload=True)\n",
      "[Parallel(n_jobs=1)]: Done  17 tasks      | elapsed:    0.2s\n"
     ]
    },
    {
     "name": "stdout",
     "output_type": "stream",
     "text": [
      "Used Annotations descriptions: ['S  1', 'S  2', 'S  3', 'S 50', 'S 51', 'S 52', 'S100', 'S101', 'S200', 'S201', 'boundary']\n",
      "Not setting metadata\n",
      "511 matching events found\n",
      "Setting baseline interval to [-0.2, 0.0] s\n",
      "Applying baseline correction (mode: mean)\n",
      "0 projection items activated\n",
      "Using data from preloaded Raw for 511 events and 351 original time points ...\n",
      "1 bad epochs dropped\n",
      "    Using multitaper spectrum estimation with 7 DPSS windows\n",
      "Session features shape for sub-007, ses-01: (510, 10)\n",
      "Processing sub-008\n",
      "Reading /Users/ishabharti/EEG Project/ds003523/sub-008/ses-01/eeg/sub-008_ses-01_task-VisualWorkingMemory_eeg.fdt\n",
      "Reading 0 ... 665024  =      0.000 ...  1330.048 secs...\n"
     ]
    },
    {
     "name": "stderr",
     "output_type": "stream",
     "text": [
      "[ERROR] NoDatasetFound(No dataset found at '/Users/ishabharti/EEG Project' for the purpose \"get content of <<['./ds003523/s++15 chars++eg']>>\".  Specify a dataset to work with by providing its path via the `dataset` option, or change the current working directory to be in a dataset.) (NoDatasetFound) \n",
      "usage: datalad get [-h] [-s LABEL] [-d PATH] [-r] [-R LEVELS] [-n]\n",
      "                   [-D DESCRIPTION] [--reckless [auto|ephemeral|shared-...]]\n",
      "                   [-J NJOBS] [--version]\n",
      "                   [PATH ...]\n"
     ]
    },
    {
     "name": "stdout",
     "output_type": "stream",
     "text": [
      "Filtering raw data in 1 contiguous segment\n",
      "Setting up band-pass filter from 0.5 - 1e+02 Hz\n",
      "\n",
      "FIR filter parameters\n",
      "---------------------\n",
      "Designing a one-pass, zero-phase, non-causal bandpass filter:\n",
      "- Windowed time-domain design (firwin) method\n",
      "- Hamming window with 0.0194 passband ripple and 53 dB stopband attenuation\n",
      "- Lower passband edge: 0.50\n",
      "- Lower transition bandwidth: 0.50 Hz (-6 dB cutoff frequency: 0.25 Hz)\n",
      "- Upper passband edge: 100.00 Hz\n",
      "- Upper transition bandwidth: 25.00 Hz (-6 dB cutoff frequency: 112.50 Hz)\n",
      "- Filter length: 3301 samples (6.602 s)\n",
      "\n"
     ]
    },
    {
     "name": "stderr",
     "output_type": "stream",
     "text": [
      "/var/folders/dl/zd_s8q0x20zbxpy0_dzhksbh0000gn/T/ipykernel_68894/1038661286.py:78: RuntimeWarning: The data contains 'boundary' events, indicating data discontinuities. Be cautious of filtering and epoching around these events.\n",
      "  raw = mne.io.read_raw_eeglab(eeg_file, preload=True)\n",
      "[Parallel(n_jobs=1)]: Done  17 tasks      | elapsed:    0.1s\n"
     ]
    },
    {
     "name": "stdout",
     "output_type": "stream",
     "text": [
      "Used Annotations descriptions: ['S  1', 'S  2', 'S  3', 'S 50', 'S 51', 'S 52', 'S100', 'S101', 'S200', 'S201', 'boundary']\n",
      "Not setting metadata\n",
      "510 matching events found\n",
      "Setting baseline interval to [-0.2, 0.0] s\n",
      "Applying baseline correction (mode: mean)\n",
      "0 projection items activated\n",
      "Using data from preloaded Raw for 510 events and 351 original time points ...\n",
      "1 bad epochs dropped\n",
      "    Using multitaper spectrum estimation with 7 DPSS windows\n",
      "Session features shape for sub-008, ses-01: (509, 10)\n",
      "Processing sub-009\n",
      "Reading /Users/ishabharti/EEG Project/ds003523/sub-009/ses-01/eeg/sub-009_ses-01_task-VisualWorkingMemory_eeg.fdt\n",
      "Reading 0 ... 765624  =      0.000 ...  1531.248 secs...\n"
     ]
    },
    {
     "name": "stderr",
     "output_type": "stream",
     "text": [
      "[ERROR] NoDatasetFound(No dataset found at '/Users/ishabharti/EEG Project' for the purpose \"get content of <<['./ds003523/s++15 chars++eg']>>\".  Specify a dataset to work with by providing its path via the `dataset` option, or change the current working directory to be in a dataset.) (NoDatasetFound) \n",
      "usage: datalad get [-h] [-s LABEL] [-d PATH] [-r] [-R LEVELS] [-n]\n",
      "                   [-D DESCRIPTION] [--reckless [auto|ephemeral|shared-...]]\n",
      "                   [-J NJOBS] [--version]\n",
      "                   [PATH ...]\n"
     ]
    },
    {
     "name": "stdout",
     "output_type": "stream",
     "text": [
      "Filtering raw data in 1 contiguous segment\n",
      "Setting up band-pass filter from 0.5 - 1e+02 Hz\n",
      "\n",
      "FIR filter parameters\n",
      "---------------------\n",
      "Designing a one-pass, zero-phase, non-causal bandpass filter:\n",
      "- Windowed time-domain design (firwin) method\n",
      "- Hamming window with 0.0194 passband ripple and 53 dB stopband attenuation\n",
      "- Lower passband edge: 0.50\n",
      "- Lower transition bandwidth: 0.50 Hz (-6 dB cutoff frequency: 0.25 Hz)\n",
      "- Upper passband edge: 100.00 Hz\n",
      "- Upper transition bandwidth: 25.00 Hz (-6 dB cutoff frequency: 112.50 Hz)\n",
      "- Filter length: 3301 samples (6.602 s)\n",
      "\n"
     ]
    },
    {
     "name": "stderr",
     "output_type": "stream",
     "text": [
      "/var/folders/dl/zd_s8q0x20zbxpy0_dzhksbh0000gn/T/ipykernel_68894/1038661286.py:78: RuntimeWarning: The data contains 'boundary' events, indicating data discontinuities. Be cautious of filtering and epoching around these events.\n",
      "  raw = mne.io.read_raw_eeglab(eeg_file, preload=True)\n",
      "[Parallel(n_jobs=1)]: Done  17 tasks      | elapsed:    0.1s\n"
     ]
    },
    {
     "name": "stdout",
     "output_type": "stream",
     "text": [
      "Used Annotations descriptions: ['S  1', 'S  2', 'S  3', 'S 50', 'S 52', 'S100', 'S101', 'S200', 'S201', 'boundary']\n",
      "Not setting metadata\n",
      "511 matching events found\n",
      "Setting baseline interval to [-0.2, 0.0] s\n",
      "Applying baseline correction (mode: mean)\n",
      "0 projection items activated\n",
      "Using data from preloaded Raw for 511 events and 351 original time points ...\n",
      "1 bad epochs dropped\n",
      "    Using multitaper spectrum estimation with 7 DPSS windows\n",
      "Session features shape for sub-009, ses-01: (510, 10)\n",
      "Processing sub-010\n",
      "Reading /Users/ishabharti/EEG Project/ds003523/sub-010/ses-01/eeg/sub-010_ses-01_task-VisualWorkingMemory_eeg.fdt\n",
      "Reading 0 ... 708874  =      0.000 ...  1417.748 secs...\n"
     ]
    },
    {
     "name": "stderr",
     "output_type": "stream",
     "text": [
      "[ERROR] NoDatasetFound(No dataset found at '/Users/ishabharti/EEG Project' for the purpose \"get content of <<['./ds003523/s++15 chars++eg']>>\".  Specify a dataset to work with by providing its path via the `dataset` option, or change the current working directory to be in a dataset.) (NoDatasetFound) \n",
      "usage: datalad get [-h] [-s LABEL] [-d PATH] [-r] [-R LEVELS] [-n]\n",
      "                   [-D DESCRIPTION] [--reckless [auto|ephemeral|shared-...]]\n",
      "                   [-J NJOBS] [--version]\n",
      "                   [PATH ...]\n"
     ]
    },
    {
     "name": "stdout",
     "output_type": "stream",
     "text": [
      "Filtering raw data in 1 contiguous segment\n",
      "Setting up band-pass filter from 0.5 - 1e+02 Hz\n",
      "\n",
      "FIR filter parameters\n",
      "---------------------\n",
      "Designing a one-pass, zero-phase, non-causal bandpass filter:\n",
      "- Windowed time-domain design (firwin) method\n",
      "- Hamming window with 0.0194 passband ripple and 53 dB stopband attenuation\n",
      "- Lower passband edge: 0.50\n",
      "- Lower transition bandwidth: 0.50 Hz (-6 dB cutoff frequency: 0.25 Hz)\n",
      "- Upper passband edge: 100.00 Hz\n",
      "- Upper transition bandwidth: 25.00 Hz (-6 dB cutoff frequency: 112.50 Hz)\n",
      "- Filter length: 3301 samples (6.602 s)\n",
      "\n"
     ]
    },
    {
     "name": "stderr",
     "output_type": "stream",
     "text": [
      "/var/folders/dl/zd_s8q0x20zbxpy0_dzhksbh0000gn/T/ipykernel_68894/1038661286.py:78: RuntimeWarning: The data contains 'boundary' events, indicating data discontinuities. Be cautious of filtering and epoching around these events.\n",
      "  raw = mne.io.read_raw_eeglab(eeg_file, preload=True)\n",
      "[Parallel(n_jobs=1)]: Done  17 tasks      | elapsed:    0.1s\n"
     ]
    },
    {
     "name": "stdout",
     "output_type": "stream",
     "text": [
      "Used Annotations descriptions: ['S  1', 'S  2', 'S  3', 'S 50', 'S 51', 'S 52', 'S100', 'S101', 'S200', 'S201', 'boundary']\n",
      "Not setting metadata\n",
      "508 matching events found\n",
      "Setting baseline interval to [-0.2, 0.0] s\n",
      "Applying baseline correction (mode: mean)\n",
      "0 projection items activated\n",
      "Using data from preloaded Raw for 508 events and 351 original time points ...\n",
      "1 bad epochs dropped\n",
      "    Using multitaper spectrum estimation with 7 DPSS windows\n",
      "Session features shape for sub-010, ses-01: (507, 10)\n",
      "Processing sub-011\n",
      "Reading /Users/ishabharti/EEG Project/ds003523/sub-011/ses-01/eeg/sub-011_ses-01_task-VisualWorkingMemory_eeg.fdt\n",
      "Reading 0 ... 688924  =      0.000 ...  1377.848 secs...\n"
     ]
    },
    {
     "name": "stderr",
     "output_type": "stream",
     "text": [
      "[ERROR] NoDatasetFound(No dataset found at '/Users/ishabharti/EEG Project' for the purpose \"get content of <<['./ds003523/s++15 chars++eg']>>\".  Specify a dataset to work with by providing its path via the `dataset` option, or change the current working directory to be in a dataset.) (NoDatasetFound) \n",
      "usage: datalad get [-h] [-s LABEL] [-d PATH] [-r] [-R LEVELS] [-n]\n",
      "                   [-D DESCRIPTION] [--reckless [auto|ephemeral|shared-...]]\n",
      "                   [-J NJOBS] [--version]\n",
      "                   [PATH ...]\n"
     ]
    },
    {
     "name": "stdout",
     "output_type": "stream",
     "text": [
      "Filtering raw data in 1 contiguous segment\n",
      "Setting up band-pass filter from 0.5 - 1e+02 Hz\n",
      "\n",
      "FIR filter parameters\n",
      "---------------------\n",
      "Designing a one-pass, zero-phase, non-causal bandpass filter:\n",
      "- Windowed time-domain design (firwin) method\n",
      "- Hamming window with 0.0194 passband ripple and 53 dB stopband attenuation\n",
      "- Lower passband edge: 0.50\n",
      "- Lower transition bandwidth: 0.50 Hz (-6 dB cutoff frequency: 0.25 Hz)\n",
      "- Upper passband edge: 100.00 Hz\n",
      "- Upper transition bandwidth: 25.00 Hz (-6 dB cutoff frequency: 112.50 Hz)\n",
      "- Filter length: 3301 samples (6.602 s)\n",
      "\n"
     ]
    },
    {
     "name": "stderr",
     "output_type": "stream",
     "text": [
      "/var/folders/dl/zd_s8q0x20zbxpy0_dzhksbh0000gn/T/ipykernel_68894/1038661286.py:78: RuntimeWarning: The data contains 'boundary' events, indicating data discontinuities. Be cautious of filtering and epoching around these events.\n",
      "  raw = mne.io.read_raw_eeglab(eeg_file, preload=True)\n",
      "[Parallel(n_jobs=1)]: Done  17 tasks      | elapsed:    0.2s\n"
     ]
    },
    {
     "name": "stdout",
     "output_type": "stream",
     "text": [
      "Used Annotations descriptions: ['S  1', 'S  2', 'S  3', 'S 50', 'S 51', 'S 52', 'S100', 'S101', 'S200', 'S201', 'boundary']\n",
      "Not setting metadata\n",
      "509 matching events found\n",
      "Setting baseline interval to [-0.2, 0.0] s\n",
      "Applying baseline correction (mode: mean)\n",
      "0 projection items activated\n",
      "Using data from preloaded Raw for 509 events and 351 original time points ...\n",
      "1 bad epochs dropped\n",
      "    Using multitaper spectrum estimation with 7 DPSS windows\n",
      "Session features shape for sub-011, ses-01: (508, 10)\n",
      "Processing sub-012\n",
      "Reading /Users/ishabharti/EEG Project/ds003523/sub-012/ses-01/eeg/sub-012_ses-01_task-VisualWorkingMemory_eeg.fdt\n",
      "Reading 0 ... 742824  =      0.000 ...  1485.648 secs...\n"
     ]
    },
    {
     "name": "stderr",
     "output_type": "stream",
     "text": [
      "[ERROR] NoDatasetFound(No dataset found at '/Users/ishabharti/EEG Project' for the purpose \"get content of <<['./ds003523/s++15 chars++eg']>>\".  Specify a dataset to work with by providing its path via the `dataset` option, or change the current working directory to be in a dataset.) (NoDatasetFound) \n",
      "usage: datalad get [-h] [-s LABEL] [-d PATH] [-r] [-R LEVELS] [-n]\n",
      "                   [-D DESCRIPTION] [--reckless [auto|ephemeral|shared-...]]\n",
      "                   [-J NJOBS] [--version]\n",
      "                   [PATH ...]\n"
     ]
    },
    {
     "name": "stdout",
     "output_type": "stream",
     "text": [
      "Filtering raw data in 1 contiguous segment\n",
      "Setting up band-pass filter from 0.5 - 1e+02 Hz\n",
      "\n",
      "FIR filter parameters\n",
      "---------------------\n",
      "Designing a one-pass, zero-phase, non-causal bandpass filter:\n",
      "- Windowed time-domain design (firwin) method\n",
      "- Hamming window with 0.0194 passband ripple and 53 dB stopband attenuation\n",
      "- Lower passband edge: 0.50\n",
      "- Lower transition bandwidth: 0.50 Hz (-6 dB cutoff frequency: 0.25 Hz)\n",
      "- Upper passband edge: 100.00 Hz\n",
      "- Upper transition bandwidth: 25.00 Hz (-6 dB cutoff frequency: 112.50 Hz)\n",
      "- Filter length: 3301 samples (6.602 s)\n",
      "\n"
     ]
    },
    {
     "name": "stderr",
     "output_type": "stream",
     "text": [
      "/var/folders/dl/zd_s8q0x20zbxpy0_dzhksbh0000gn/T/ipykernel_68894/1038661286.py:78: RuntimeWarning: The data contains 'boundary' events, indicating data discontinuities. Be cautious of filtering and epoching around these events.\n",
      "  raw = mne.io.read_raw_eeglab(eeg_file, preload=True)\n",
      "[Parallel(n_jobs=1)]: Done  17 tasks      | elapsed:    0.2s\n"
     ]
    },
    {
     "name": "stdout",
     "output_type": "stream",
     "text": [
      "Used Annotations descriptions: ['S  1', 'S  2', 'S  3', 'S 50', 'S 51', 'S 52', 'S100', 'S101', 'S200', 'S201', 'boundary']\n",
      "Not setting metadata\n",
      "500 matching events found\n",
      "Setting baseline interval to [-0.2, 0.0] s\n",
      "Applying baseline correction (mode: mean)\n",
      "0 projection items activated\n",
      "Using data from preloaded Raw for 500 events and 351 original time points ...\n",
      "1 bad epochs dropped\n",
      "    Using multitaper spectrum estimation with 7 DPSS windows\n",
      "Session features shape for sub-012, ses-01: (499, 10)\n",
      "Processing sub-013\n",
      "Reading /Users/ishabharti/EEG Project/ds003523/sub-013/ses-01/eeg/sub-013_ses-01_task-VisualWorkingMemory_eeg.fdt\n",
      "Reading 0 ... 773324  =      0.000 ...  1546.648 secs...\n"
     ]
    },
    {
     "name": "stderr",
     "output_type": "stream",
     "text": [
      "[ERROR] NoDatasetFound(No dataset found at '/Users/ishabharti/EEG Project' for the purpose \"get content of <<['./ds003523/s++15 chars++eg']>>\".  Specify a dataset to work with by providing its path via the `dataset` option, or change the current working directory to be in a dataset.) (NoDatasetFound) \n",
      "usage: datalad get [-h] [-s LABEL] [-d PATH] [-r] [-R LEVELS] [-n]\n",
      "                   [-D DESCRIPTION] [--reckless [auto|ephemeral|shared-...]]\n",
      "                   [-J NJOBS] [--version]\n",
      "                   [PATH ...]\n"
     ]
    },
    {
     "name": "stdout",
     "output_type": "stream",
     "text": [
      "Filtering raw data in 1 contiguous segment\n",
      "Setting up band-pass filter from 0.5 - 1e+02 Hz\n",
      "\n",
      "FIR filter parameters\n",
      "---------------------\n",
      "Designing a one-pass, zero-phase, non-causal bandpass filter:\n",
      "- Windowed time-domain design (firwin) method\n",
      "- Hamming window with 0.0194 passband ripple and 53 dB stopband attenuation\n",
      "- Lower passband edge: 0.50\n",
      "- Lower transition bandwidth: 0.50 Hz (-6 dB cutoff frequency: 0.25 Hz)\n",
      "- Upper passband edge: 100.00 Hz\n",
      "- Upper transition bandwidth: 25.00 Hz (-6 dB cutoff frequency: 112.50 Hz)\n",
      "- Filter length: 3301 samples (6.602 s)\n",
      "\n"
     ]
    },
    {
     "name": "stderr",
     "output_type": "stream",
     "text": [
      "/var/folders/dl/zd_s8q0x20zbxpy0_dzhksbh0000gn/T/ipykernel_68894/1038661286.py:78: RuntimeWarning: The data contains 'boundary' events, indicating data discontinuities. Be cautious of filtering and epoching around these events.\n",
      "  raw = mne.io.read_raw_eeglab(eeg_file, preload=True)\n",
      "[Parallel(n_jobs=1)]: Done  17 tasks      | elapsed:    0.2s\n"
     ]
    },
    {
     "name": "stdout",
     "output_type": "stream",
     "text": [
      "Used Annotations descriptions: ['S  1', 'S  2', 'S  3', 'S 50', 'S 51', 'S 52', 'S100', 'S101', 'S200', 'S201', 'boundary']\n",
      "Not setting metadata\n",
      "511 matching events found\n",
      "Setting baseline interval to [-0.2, 0.0] s\n",
      "Applying baseline correction (mode: mean)\n",
      "0 projection items activated\n",
      "Using data from preloaded Raw for 511 events and 351 original time points ...\n",
      "1 bad epochs dropped\n",
      "    Using multitaper spectrum estimation with 7 DPSS windows\n",
      "Session features shape for sub-013, ses-01: (510, 10)\n",
      "Processing sub-014\n",
      "Reading /Users/ishabharti/EEG Project/ds003523/sub-014/ses-01/eeg/sub-014_ses-01_task-VisualWorkingMemory_eeg.fdt\n",
      "Reading 0 ... 732749  =      0.000 ...  1465.498 secs...\n"
     ]
    },
    {
     "name": "stderr",
     "output_type": "stream",
     "text": [
      "[ERROR] NoDatasetFound(No dataset found at '/Users/ishabharti/EEG Project' for the purpose \"get content of <<['./ds003523/s++15 chars++eg']>>\".  Specify a dataset to work with by providing its path via the `dataset` option, or change the current working directory to be in a dataset.) (NoDatasetFound) \n",
      "usage: datalad get [-h] [-s LABEL] [-d PATH] [-r] [-R LEVELS] [-n]\n",
      "                   [-D DESCRIPTION] [--reckless [auto|ephemeral|shared-...]]\n",
      "                   [-J NJOBS] [--version]\n",
      "                   [PATH ...]\n"
     ]
    },
    {
     "name": "stdout",
     "output_type": "stream",
     "text": [
      "Filtering raw data in 1 contiguous segment\n",
      "Setting up band-pass filter from 0.5 - 1e+02 Hz\n",
      "\n",
      "FIR filter parameters\n",
      "---------------------\n",
      "Designing a one-pass, zero-phase, non-causal bandpass filter:\n",
      "- Windowed time-domain design (firwin) method\n",
      "- Hamming window with 0.0194 passband ripple and 53 dB stopband attenuation\n",
      "- Lower passband edge: 0.50\n",
      "- Lower transition bandwidth: 0.50 Hz (-6 dB cutoff frequency: 0.25 Hz)\n",
      "- Upper passband edge: 100.00 Hz\n",
      "- Upper transition bandwidth: 25.00 Hz (-6 dB cutoff frequency: 112.50 Hz)\n",
      "- Filter length: 3301 samples (6.602 s)\n",
      "\n"
     ]
    },
    {
     "name": "stderr",
     "output_type": "stream",
     "text": [
      "/var/folders/dl/zd_s8q0x20zbxpy0_dzhksbh0000gn/T/ipykernel_68894/1038661286.py:78: RuntimeWarning: The data contains 'boundary' events, indicating data discontinuities. Be cautious of filtering and epoching around these events.\n",
      "  raw = mne.io.read_raw_eeglab(eeg_file, preload=True)\n",
      "[Parallel(n_jobs=1)]: Done  17 tasks      | elapsed:    0.1s\n"
     ]
    },
    {
     "name": "stdout",
     "output_type": "stream",
     "text": [
      "Used Annotations descriptions: ['S  1', 'S  2', 'S  3', 'S 50', 'S 52', 'S100', 'S101', 'S200', 'S201', 'boundary']\n",
      "Not setting metadata\n",
      "505 matching events found\n",
      "Setting baseline interval to [-0.2, 0.0] s\n",
      "Applying baseline correction (mode: mean)\n",
      "0 projection items activated\n",
      "Using data from preloaded Raw for 505 events and 351 original time points ...\n",
      "1 bad epochs dropped\n",
      "    Using multitaper spectrum estimation with 7 DPSS windows\n",
      "Session features shape for sub-014, ses-01: (504, 10)\n",
      "Processing sub-015\n",
      "Reading /Users/ishabharti/EEG Project/ds003523/sub-015/ses-01/eeg/sub-015_ses-01_task-VisualWorkingMemory_eeg.fdt\n",
      "Reading 0 ... 713374  =      0.000 ...  1426.748 secs...\n"
     ]
    },
    {
     "name": "stderr",
     "output_type": "stream",
     "text": [
      "[ERROR] NoDatasetFound(No dataset found at '/Users/ishabharti/EEG Project' for the purpose \"get content of <<['./ds003523/s++15 chars++eg']>>\".  Specify a dataset to work with by providing its path via the `dataset` option, or change the current working directory to be in a dataset.) (NoDatasetFound) \n",
      "usage: datalad get [-h] [-s LABEL] [-d PATH] [-r] [-R LEVELS] [-n]\n",
      "                   [-D DESCRIPTION] [--reckless [auto|ephemeral|shared-...]]\n",
      "                   [-J NJOBS] [--version]\n",
      "                   [PATH ...]\n"
     ]
    },
    {
     "name": "stdout",
     "output_type": "stream",
     "text": [
      "Filtering raw data in 1 contiguous segment\n",
      "Setting up band-pass filter from 0.5 - 1e+02 Hz\n",
      "\n",
      "FIR filter parameters\n",
      "---------------------\n",
      "Designing a one-pass, zero-phase, non-causal bandpass filter:\n",
      "- Windowed time-domain design (firwin) method\n",
      "- Hamming window with 0.0194 passband ripple and 53 dB stopband attenuation\n",
      "- Lower passband edge: 0.50\n",
      "- Lower transition bandwidth: 0.50 Hz (-6 dB cutoff frequency: 0.25 Hz)\n",
      "- Upper passband edge: 100.00 Hz\n",
      "- Upper transition bandwidth: 25.00 Hz (-6 dB cutoff frequency: 112.50 Hz)\n",
      "- Filter length: 3301 samples (6.602 s)\n",
      "\n"
     ]
    },
    {
     "name": "stderr",
     "output_type": "stream",
     "text": [
      "/var/folders/dl/zd_s8q0x20zbxpy0_dzhksbh0000gn/T/ipykernel_68894/1038661286.py:78: RuntimeWarning: The data contains 'boundary' events, indicating data discontinuities. Be cautious of filtering and epoching around these events.\n",
      "  raw = mne.io.read_raw_eeglab(eeg_file, preload=True)\n",
      "[Parallel(n_jobs=1)]: Done  17 tasks      | elapsed:    0.1s\n"
     ]
    },
    {
     "name": "stdout",
     "output_type": "stream",
     "text": [
      "Used Annotations descriptions: ['S  1', 'S  2', 'S  3', 'S 50', 'S 51', 'S 52', 'S100', 'S101', 'S200', 'S201', 'boundary']\n",
      "Not setting metadata\n",
      "496 matching events found\n",
      "Setting baseline interval to [-0.2, 0.0] s\n",
      "Applying baseline correction (mode: mean)\n",
      "0 projection items activated\n",
      "Using data from preloaded Raw for 496 events and 351 original time points ...\n",
      "1 bad epochs dropped\n",
      "    Using multitaper spectrum estimation with 7 DPSS windows\n",
      "Session features shape for sub-015, ses-01: (495, 10)\n",
      "Processing sub-016\n",
      "Reading /Users/ishabharti/EEG Project/ds003523/sub-016/ses-01/eeg/sub-016_ses-01_task-VisualWorkingMemory_eeg.fdt\n",
      "Reading 0 ... 685999  =      0.000 ...  1371.998 secs...\n"
     ]
    },
    {
     "name": "stderr",
     "output_type": "stream",
     "text": [
      "[ERROR] NoDatasetFound(No dataset found at '/Users/ishabharti/EEG Project' for the purpose \"get content of <<['./ds003523/s++15 chars++eg']>>\".  Specify a dataset to work with by providing its path via the `dataset` option, or change the current working directory to be in a dataset.) (NoDatasetFound) \n",
      "usage: datalad get [-h] [-s LABEL] [-d PATH] [-r] [-R LEVELS] [-n]\n",
      "                   [-D DESCRIPTION] [--reckless [auto|ephemeral|shared-...]]\n",
      "                   [-J NJOBS] [--version]\n",
      "                   [PATH ...]\n"
     ]
    },
    {
     "name": "stdout",
     "output_type": "stream",
     "text": [
      "Filtering raw data in 1 contiguous segment\n",
      "Setting up band-pass filter from 0.5 - 1e+02 Hz\n",
      "\n",
      "FIR filter parameters\n",
      "---------------------\n",
      "Designing a one-pass, zero-phase, non-causal bandpass filter:\n",
      "- Windowed time-domain design (firwin) method\n",
      "- Hamming window with 0.0194 passband ripple and 53 dB stopband attenuation\n",
      "- Lower passband edge: 0.50\n",
      "- Lower transition bandwidth: 0.50 Hz (-6 dB cutoff frequency: 0.25 Hz)\n",
      "- Upper passband edge: 100.00 Hz\n",
      "- Upper transition bandwidth: 25.00 Hz (-6 dB cutoff frequency: 112.50 Hz)\n",
      "- Filter length: 3301 samples (6.602 s)\n",
      "\n"
     ]
    },
    {
     "name": "stderr",
     "output_type": "stream",
     "text": [
      "/var/folders/dl/zd_s8q0x20zbxpy0_dzhksbh0000gn/T/ipykernel_68894/1038661286.py:78: RuntimeWarning: The data contains 'boundary' events, indicating data discontinuities. Be cautious of filtering and epoching around these events.\n",
      "  raw = mne.io.read_raw_eeglab(eeg_file, preload=True)\n",
      "[Parallel(n_jobs=1)]: Done  17 tasks      | elapsed:    0.1s\n"
     ]
    },
    {
     "name": "stdout",
     "output_type": "stream",
     "text": [
      "Used Annotations descriptions: ['S  1', 'S  2', 'S  3', 'S 50', 'S 51', 'S 52', 'S100', 'S101', 'S200', 'S201', 'boundary']\n",
      "Not setting metadata\n",
      "511 matching events found\n",
      "Setting baseline interval to [-0.2, 0.0] s\n",
      "Applying baseline correction (mode: mean)\n",
      "0 projection items activated\n",
      "Using data from preloaded Raw for 511 events and 351 original time points ...\n",
      "1 bad epochs dropped\n",
      "    Using multitaper spectrum estimation with 7 DPSS windows\n",
      "Session features shape for sub-016, ses-01: (510, 10)\n",
      "Processing sub-017\n",
      "Reading /Users/ishabharti/EEG Project/ds003523/sub-017/ses-01/eeg/sub-017_ses-01_task-VisualWorkingMemory_eeg.fdt\n",
      "Reading 0 ... 692249  =      0.000 ...  1384.498 secs...\n"
     ]
    },
    {
     "name": "stderr",
     "output_type": "stream",
     "text": [
      "[ERROR] NoDatasetFound(No dataset found at '/Users/ishabharti/EEG Project' for the purpose \"get content of <<['./ds003523/s++15 chars++eg']>>\".  Specify a dataset to work with by providing its path via the `dataset` option, or change the current working directory to be in a dataset.) (NoDatasetFound) \n",
      "usage: datalad get [-h] [-s LABEL] [-d PATH] [-r] [-R LEVELS] [-n]\n",
      "                   [-D DESCRIPTION] [--reckless [auto|ephemeral|shared-...]]\n",
      "                   [-J NJOBS] [--version]\n",
      "                   [PATH ...]\n"
     ]
    },
    {
     "name": "stdout",
     "output_type": "stream",
     "text": [
      "Filtering raw data in 1 contiguous segment\n",
      "Setting up band-pass filter from 0.5 - 1e+02 Hz\n",
      "\n",
      "FIR filter parameters\n",
      "---------------------\n",
      "Designing a one-pass, zero-phase, non-causal bandpass filter:\n",
      "- Windowed time-domain design (firwin) method\n",
      "- Hamming window with 0.0194 passband ripple and 53 dB stopband attenuation\n",
      "- Lower passband edge: 0.50\n",
      "- Lower transition bandwidth: 0.50 Hz (-6 dB cutoff frequency: 0.25 Hz)\n",
      "- Upper passband edge: 100.00 Hz\n",
      "- Upper transition bandwidth: 25.00 Hz (-6 dB cutoff frequency: 112.50 Hz)\n",
      "- Filter length: 3301 samples (6.602 s)\n",
      "\n"
     ]
    },
    {
     "name": "stderr",
     "output_type": "stream",
     "text": [
      "/var/folders/dl/zd_s8q0x20zbxpy0_dzhksbh0000gn/T/ipykernel_68894/1038661286.py:78: RuntimeWarning: The data contains 'boundary' events, indicating data discontinuities. Be cautious of filtering and epoching around these events.\n",
      "  raw = mne.io.read_raw_eeglab(eeg_file, preload=True)\n",
      "[Parallel(n_jobs=1)]: Done  17 tasks      | elapsed:    0.1s\n"
     ]
    },
    {
     "name": "stdout",
     "output_type": "stream",
     "text": [
      "Used Annotations descriptions: ['S  1', 'S  2', 'S  3', 'S 50', 'S 51', 'S 52', 'S100', 'S101', 'S200', 'S201', 'boundary']\n",
      "Not setting metadata\n",
      "510 matching events found\n",
      "Setting baseline interval to [-0.2, 0.0] s\n",
      "Applying baseline correction (mode: mean)\n",
      "0 projection items activated\n",
      "Using data from preloaded Raw for 510 events and 351 original time points ...\n",
      "1 bad epochs dropped\n",
      "    Using multitaper spectrum estimation with 7 DPSS windows\n",
      "Session features shape for sub-017, ses-01: (509, 10)\n",
      "Processing sub-018\n",
      "Reading /Users/ishabharti/EEG Project/ds003523/sub-018/ses-01/eeg/sub-018_ses-01_task-VisualWorkingMemory_eeg.fdt\n",
      "Reading 0 ... 709024  =      0.000 ...  1418.048 secs...\n"
     ]
    },
    {
     "name": "stderr",
     "output_type": "stream",
     "text": [
      "[ERROR] NoDatasetFound(No dataset found at '/Users/ishabharti/EEG Project' for the purpose \"get content of <<['./ds003523/s++15 chars++eg']>>\".  Specify a dataset to work with by providing its path via the `dataset` option, or change the current working directory to be in a dataset.) (NoDatasetFound) \n",
      "usage: datalad get [-h] [-s LABEL] [-d PATH] [-r] [-R LEVELS] [-n]\n",
      "                   [-D DESCRIPTION] [--reckless [auto|ephemeral|shared-...]]\n",
      "                   [-J NJOBS] [--version]\n",
      "                   [PATH ...]\n"
     ]
    },
    {
     "name": "stdout",
     "output_type": "stream",
     "text": [
      "Filtering raw data in 1 contiguous segment\n",
      "Setting up band-pass filter from 0.5 - 1e+02 Hz\n",
      "\n",
      "FIR filter parameters\n",
      "---------------------\n",
      "Designing a one-pass, zero-phase, non-causal bandpass filter:\n",
      "- Windowed time-domain design (firwin) method\n",
      "- Hamming window with 0.0194 passband ripple and 53 dB stopband attenuation\n",
      "- Lower passband edge: 0.50\n",
      "- Lower transition bandwidth: 0.50 Hz (-6 dB cutoff frequency: 0.25 Hz)\n",
      "- Upper passband edge: 100.00 Hz\n",
      "- Upper transition bandwidth: 25.00 Hz (-6 dB cutoff frequency: 112.50 Hz)\n",
      "- Filter length: 3301 samples (6.602 s)\n",
      "\n"
     ]
    },
    {
     "name": "stderr",
     "output_type": "stream",
     "text": [
      "/var/folders/dl/zd_s8q0x20zbxpy0_dzhksbh0000gn/T/ipykernel_68894/1038661286.py:78: RuntimeWarning: The data contains 'boundary' events, indicating data discontinuities. Be cautious of filtering and epoching around these events.\n",
      "  raw = mne.io.read_raw_eeglab(eeg_file, preload=True)\n",
      "[Parallel(n_jobs=1)]: Done  17 tasks      | elapsed:    0.2s\n"
     ]
    },
    {
     "name": "stdout",
     "output_type": "stream",
     "text": [
      "Used Annotations descriptions: ['S  1', 'S  2', 'S  3', 'S 50', 'S 51', 'S 52', 'S100', 'S101', 'S200', 'S201', 'boundary']\n",
      "Not setting metadata\n",
      "511 matching events found\n",
      "Setting baseline interval to [-0.2, 0.0] s\n",
      "Applying baseline correction (mode: mean)\n",
      "0 projection items activated\n",
      "Using data from preloaded Raw for 511 events and 351 original time points ...\n",
      "1 bad epochs dropped\n",
      "    Using multitaper spectrum estimation with 7 DPSS windows\n",
      "Session features shape for sub-018, ses-01: (510, 10)\n",
      "Processing sub-019\n",
      "Reading /Users/ishabharti/EEG Project/ds003523/sub-019/ses-01/eeg/sub-019_ses-01_task-VisualWorkingMemory_eeg.fdt\n",
      "Reading 0 ... 693374  =      0.000 ...  1386.748 secs...\n"
     ]
    },
    {
     "name": "stderr",
     "output_type": "stream",
     "text": [
      "[ERROR] NoDatasetFound(No dataset found at '/Users/ishabharti/EEG Project' for the purpose \"get content of <<['./ds003523/s++15 chars++eg']>>\".  Specify a dataset to work with by providing its path via the `dataset` option, or change the current working directory to be in a dataset.) (NoDatasetFound) \n",
      "usage: datalad get [-h] [-s LABEL] [-d PATH] [-r] [-R LEVELS] [-n]\n",
      "                   [-D DESCRIPTION] [--reckless [auto|ephemeral|shared-...]]\n",
      "                   [-J NJOBS] [--version]\n",
      "                   [PATH ...]\n"
     ]
    },
    {
     "name": "stdout",
     "output_type": "stream",
     "text": [
      "Filtering raw data in 1 contiguous segment\n",
      "Setting up band-pass filter from 0.5 - 1e+02 Hz\n",
      "\n",
      "FIR filter parameters\n",
      "---------------------\n",
      "Designing a one-pass, zero-phase, non-causal bandpass filter:\n",
      "- Windowed time-domain design (firwin) method\n",
      "- Hamming window with 0.0194 passband ripple and 53 dB stopband attenuation\n",
      "- Lower passband edge: 0.50\n",
      "- Lower transition bandwidth: 0.50 Hz (-6 dB cutoff frequency: 0.25 Hz)\n",
      "- Upper passband edge: 100.00 Hz\n",
      "- Upper transition bandwidth: 25.00 Hz (-6 dB cutoff frequency: 112.50 Hz)\n",
      "- Filter length: 3301 samples (6.602 s)\n",
      "\n"
     ]
    },
    {
     "name": "stderr",
     "output_type": "stream",
     "text": [
      "/var/folders/dl/zd_s8q0x20zbxpy0_dzhksbh0000gn/T/ipykernel_68894/1038661286.py:78: RuntimeWarning: The data contains 'boundary' events, indicating data discontinuities. Be cautious of filtering and epoching around these events.\n",
      "  raw = mne.io.read_raw_eeglab(eeg_file, preload=True)\n",
      "[Parallel(n_jobs=1)]: Done  17 tasks      | elapsed:    0.1s\n"
     ]
    },
    {
     "name": "stdout",
     "output_type": "stream",
     "text": [
      "Used Annotations descriptions: ['S  1', 'S  2', 'S  3', 'S 50', 'S 51', 'S 52', 'S100', 'S101', 'S200', 'S201', 'boundary']\n",
      "Not setting metadata\n",
      "481 matching events found\n",
      "Setting baseline interval to [-0.2, 0.0] s\n",
      "Applying baseline correction (mode: mean)\n",
      "0 projection items activated\n",
      "Using data from preloaded Raw for 481 events and 351 original time points ...\n",
      "1 bad epochs dropped\n",
      "    Using multitaper spectrum estimation with 7 DPSS windows\n",
      "Session features shape for sub-019, ses-01: (480, 10)\n",
      "Processing sub-020\n",
      "Reading /Users/ishabharti/EEG Project/ds003523/sub-020/ses-01/eeg/sub-020_ses-01_task-VisualWorkingMemory_eeg.fdt\n",
      "Reading 0 ... 718824  =      0.000 ...  1437.648 secs...\n"
     ]
    },
    {
     "name": "stderr",
     "output_type": "stream",
     "text": [
      "[ERROR] NoDatasetFound(No dataset found at '/Users/ishabharti/EEG Project' for the purpose \"get content of <<['./ds003523/s++15 chars++eg']>>\".  Specify a dataset to work with by providing its path via the `dataset` option, or change the current working directory to be in a dataset.) (NoDatasetFound) \n",
      "usage: datalad get [-h] [-s LABEL] [-d PATH] [-r] [-R LEVELS] [-n]\n",
      "                   [-D DESCRIPTION] [--reckless [auto|ephemeral|shared-...]]\n",
      "                   [-J NJOBS] [--version]\n",
      "                   [PATH ...]\n"
     ]
    },
    {
     "name": "stdout",
     "output_type": "stream",
     "text": [
      "Filtering raw data in 1 contiguous segment\n",
      "Setting up band-pass filter from 0.5 - 1e+02 Hz\n",
      "\n",
      "FIR filter parameters\n",
      "---------------------\n",
      "Designing a one-pass, zero-phase, non-causal bandpass filter:\n",
      "- Windowed time-domain design (firwin) method\n",
      "- Hamming window with 0.0194 passband ripple and 53 dB stopband attenuation\n",
      "- Lower passband edge: 0.50\n",
      "- Lower transition bandwidth: 0.50 Hz (-6 dB cutoff frequency: 0.25 Hz)\n",
      "- Upper passband edge: 100.00 Hz\n",
      "- Upper transition bandwidth: 25.00 Hz (-6 dB cutoff frequency: 112.50 Hz)\n",
      "- Filter length: 3301 samples (6.602 s)\n",
      "\n"
     ]
    },
    {
     "name": "stderr",
     "output_type": "stream",
     "text": [
      "/var/folders/dl/zd_s8q0x20zbxpy0_dzhksbh0000gn/T/ipykernel_68894/1038661286.py:78: RuntimeWarning: The data contains 'boundary' events, indicating data discontinuities. Be cautious of filtering and epoching around these events.\n",
      "  raw = mne.io.read_raw_eeglab(eeg_file, preload=True)\n",
      "[Parallel(n_jobs=1)]: Done  17 tasks      | elapsed:    0.1s\n"
     ]
    },
    {
     "name": "stdout",
     "output_type": "stream",
     "text": [
      "Used Annotations descriptions: ['S  1', 'S  2', 'S  3', 'S 50', 'S 51', 'S 52', 'S100', 'S101', 'S200', 'S201', 'boundary']\n",
      "Not setting metadata\n",
      "510 matching events found\n",
      "Setting baseline interval to [-0.2, 0.0] s\n",
      "Applying baseline correction (mode: mean)\n",
      "0 projection items activated\n",
      "Using data from preloaded Raw for 510 events and 351 original time points ...\n",
      "1 bad epochs dropped\n",
      "    Using multitaper spectrum estimation with 7 DPSS windows\n",
      "Session features shape for sub-020, ses-01: (509, 10)\n",
      "Processing sub-021\n",
      "Reading /Users/ishabharti/EEG Project/ds003523/sub-021/ses-01/eeg/sub-021_ses-01_task-VisualWorkingMemory_eeg.fdt\n",
      "Reading 0 ... 720749  =      0.000 ...  1441.498 secs...\n"
     ]
    },
    {
     "name": "stderr",
     "output_type": "stream",
     "text": [
      "[ERROR] NoDatasetFound(No dataset found at '/Users/ishabharti/EEG Project' for the purpose \"get content of <<['./ds003523/s++15 chars++eg']>>\".  Specify a dataset to work with by providing its path via the `dataset` option, or change the current working directory to be in a dataset.) (NoDatasetFound) \n",
      "usage: datalad get [-h] [-s LABEL] [-d PATH] [-r] [-R LEVELS] [-n]\n",
      "                   [-D DESCRIPTION] [--reckless [auto|ephemeral|shared-...]]\n",
      "                   [-J NJOBS] [--version]\n",
      "                   [PATH ...]\n"
     ]
    },
    {
     "name": "stdout",
     "output_type": "stream",
     "text": [
      "Filtering raw data in 1 contiguous segment\n",
      "Setting up band-pass filter from 0.5 - 1e+02 Hz\n",
      "\n",
      "FIR filter parameters\n",
      "---------------------\n",
      "Designing a one-pass, zero-phase, non-causal bandpass filter:\n",
      "- Windowed time-domain design (firwin) method\n",
      "- Hamming window with 0.0194 passband ripple and 53 dB stopband attenuation\n",
      "- Lower passband edge: 0.50\n",
      "- Lower transition bandwidth: 0.50 Hz (-6 dB cutoff frequency: 0.25 Hz)\n",
      "- Upper passband edge: 100.00 Hz\n",
      "- Upper transition bandwidth: 25.00 Hz (-6 dB cutoff frequency: 112.50 Hz)\n",
      "- Filter length: 3301 samples (6.602 s)\n",
      "\n"
     ]
    },
    {
     "name": "stderr",
     "output_type": "stream",
     "text": [
      "/var/folders/dl/zd_s8q0x20zbxpy0_dzhksbh0000gn/T/ipykernel_68894/1038661286.py:78: RuntimeWarning: The data contains 'boundary' events, indicating data discontinuities. Be cautious of filtering and epoching around these events.\n",
      "  raw = mne.io.read_raw_eeglab(eeg_file, preload=True)\n",
      "[Parallel(n_jobs=1)]: Done  17 tasks      | elapsed:    0.1s\n"
     ]
    },
    {
     "name": "stdout",
     "output_type": "stream",
     "text": [
      "Used Annotations descriptions: ['S  1', 'S  2', 'S  3', 'S 50', 'S 51', 'S 52', 'S100', 'S101', 'S200', 'S201', 'boundary']\n",
      "Not setting metadata\n",
      "508 matching events found\n",
      "Setting baseline interval to [-0.2, 0.0] s\n",
      "Applying baseline correction (mode: mean)\n",
      "0 projection items activated\n",
      "Using data from preloaded Raw for 508 events and 351 original time points ...\n",
      "1 bad epochs dropped\n",
      "    Using multitaper spectrum estimation with 7 DPSS windows\n",
      "Session features shape for sub-021, ses-01: (507, 10)\n",
      "Processing sub-022\n",
      "Reading /Users/ishabharti/EEG Project/ds003523/sub-022/ses-01/eeg/sub-022_ses-01_task-VisualWorkingMemory_eeg.fdt\n",
      "Reading 0 ... 745999  =      0.000 ...  1491.998 secs...\n"
     ]
    },
    {
     "name": "stderr",
     "output_type": "stream",
     "text": [
      "[ERROR] NoDatasetFound(No dataset found at '/Users/ishabharti/EEG Project' for the purpose \"get content of <<['./ds003523/s++15 chars++eg']>>\".  Specify a dataset to work with by providing its path via the `dataset` option, or change the current working directory to be in a dataset.) (NoDatasetFound) \n",
      "usage: datalad get [-h] [-s LABEL] [-d PATH] [-r] [-R LEVELS] [-n]\n",
      "                   [-D DESCRIPTION] [--reckless [auto|ephemeral|shared-...]]\n",
      "                   [-J NJOBS] [--version]\n",
      "                   [PATH ...]\n"
     ]
    },
    {
     "name": "stdout",
     "output_type": "stream",
     "text": [
      "Filtering raw data in 1 contiguous segment\n",
      "Setting up band-pass filter from 0.5 - 1e+02 Hz\n",
      "\n",
      "FIR filter parameters\n",
      "---------------------\n",
      "Designing a one-pass, zero-phase, non-causal bandpass filter:\n",
      "- Windowed time-domain design (firwin) method\n",
      "- Hamming window with 0.0194 passband ripple and 53 dB stopband attenuation\n",
      "- Lower passband edge: 0.50\n",
      "- Lower transition bandwidth: 0.50 Hz (-6 dB cutoff frequency: 0.25 Hz)\n",
      "- Upper passband edge: 100.00 Hz\n",
      "- Upper transition bandwidth: 25.00 Hz (-6 dB cutoff frequency: 112.50 Hz)\n",
      "- Filter length: 3301 samples (6.602 s)\n",
      "\n"
     ]
    },
    {
     "name": "stderr",
     "output_type": "stream",
     "text": [
      "/var/folders/dl/zd_s8q0x20zbxpy0_dzhksbh0000gn/T/ipykernel_68894/1038661286.py:78: RuntimeWarning: The data contains 'boundary' events, indicating data discontinuities. Be cautious of filtering and epoching around these events.\n",
      "  raw = mne.io.read_raw_eeglab(eeg_file, preload=True)\n",
      "[Parallel(n_jobs=1)]: Done  17 tasks      | elapsed:    0.1s\n"
     ]
    },
    {
     "name": "stdout",
     "output_type": "stream",
     "text": [
      "Used Annotations descriptions: ['S  1', 'S  2', 'S  3', 'S 50', 'S 51', 'S100', 'S101', 'S200', 'S201', 'boundary']\n",
      "Not setting metadata\n",
      "508 matching events found\n",
      "Setting baseline interval to [-0.2, 0.0] s\n",
      "Applying baseline correction (mode: mean)\n",
      "0 projection items activated\n",
      "Using data from preloaded Raw for 508 events and 351 original time points ...\n",
      "1 bad epochs dropped\n",
      "    Using multitaper spectrum estimation with 7 DPSS windows\n",
      "Session features shape for sub-022, ses-01: (507, 10)\n",
      "Processing sub-023\n",
      "Reading /Users/ishabharti/EEG Project/ds003523/sub-023/ses-01/eeg/sub-023_ses-01_task-VisualWorkingMemory_eeg.fdt\n",
      "Reading 0 ... 707624  =      0.000 ...  1415.248 secs...\n"
     ]
    },
    {
     "name": "stderr",
     "output_type": "stream",
     "text": [
      "[ERROR] NoDatasetFound(No dataset found at '/Users/ishabharti/EEG Project' for the purpose \"get content of <<['./ds003523/s++15 chars++eg']>>\".  Specify a dataset to work with by providing its path via the `dataset` option, or change the current working directory to be in a dataset.) (NoDatasetFound) \n",
      "usage: datalad get [-h] [-s LABEL] [-d PATH] [-r] [-R LEVELS] [-n]\n",
      "                   [-D DESCRIPTION] [--reckless [auto|ephemeral|shared-...]]\n",
      "                   [-J NJOBS] [--version]\n",
      "                   [PATH ...]\n"
     ]
    },
    {
     "name": "stdout",
     "output_type": "stream",
     "text": [
      "Filtering raw data in 1 contiguous segment\n",
      "Setting up band-pass filter from 0.5 - 1e+02 Hz\n",
      "\n",
      "FIR filter parameters\n",
      "---------------------\n",
      "Designing a one-pass, zero-phase, non-causal bandpass filter:\n",
      "- Windowed time-domain design (firwin) method\n",
      "- Hamming window with 0.0194 passband ripple and 53 dB stopband attenuation\n",
      "- Lower passband edge: 0.50\n",
      "- Lower transition bandwidth: 0.50 Hz (-6 dB cutoff frequency: 0.25 Hz)\n",
      "- Upper passband edge: 100.00 Hz\n",
      "- Upper transition bandwidth: 25.00 Hz (-6 dB cutoff frequency: 112.50 Hz)\n",
      "- Filter length: 3301 samples (6.602 s)\n",
      "\n"
     ]
    },
    {
     "name": "stderr",
     "output_type": "stream",
     "text": [
      "/var/folders/dl/zd_s8q0x20zbxpy0_dzhksbh0000gn/T/ipykernel_68894/1038661286.py:78: RuntimeWarning: The data contains 'boundary' events, indicating data discontinuities. Be cautious of filtering and epoching around these events.\n",
      "  raw = mne.io.read_raw_eeglab(eeg_file, preload=True)\n",
      "[Parallel(n_jobs=1)]: Done  17 tasks      | elapsed:    0.1s\n"
     ]
    },
    {
     "name": "stdout",
     "output_type": "stream",
     "text": [
      "Used Annotations descriptions: ['S  1', 'S  2', 'S  3', 'S 50', 'S 51', 'S 52', 'S100', 'S101', 'S200', 'S201', 'boundary']\n",
      "Not setting metadata\n",
      "506 matching events found\n",
      "Setting baseline interval to [-0.2, 0.0] s\n",
      "Applying baseline correction (mode: mean)\n",
      "0 projection items activated\n",
      "Using data from preloaded Raw for 506 events and 351 original time points ...\n",
      "1 bad epochs dropped\n",
      "    Using multitaper spectrum estimation with 7 DPSS windows\n",
      "Session features shape for sub-023, ses-01: (505, 10)\n",
      "Processing sub-024\n",
      "Reading /Users/ishabharti/EEG Project/ds003523/sub-024/ses-01/eeg/sub-024_ses-01_task-VisualWorkingMemory_eeg.fdt\n",
      "Reading 0 ... 745549  =      0.000 ...  1491.098 secs...\n"
     ]
    },
    {
     "name": "stderr",
     "output_type": "stream",
     "text": [
      "[ERROR] NoDatasetFound(No dataset found at '/Users/ishabharti/EEG Project' for the purpose \"get content of <<['./ds003523/s++15 chars++eg']>>\".  Specify a dataset to work with by providing its path via the `dataset` option, or change the current working directory to be in a dataset.) (NoDatasetFound) \n",
      "usage: datalad get [-h] [-s LABEL] [-d PATH] [-r] [-R LEVELS] [-n]\n",
      "                   [-D DESCRIPTION] [--reckless [auto|ephemeral|shared-...]]\n",
      "                   [-J NJOBS] [--version]\n",
      "                   [PATH ...]\n"
     ]
    },
    {
     "name": "stdout",
     "output_type": "stream",
     "text": [
      "Filtering raw data in 1 contiguous segment\n",
      "Setting up band-pass filter from 0.5 - 1e+02 Hz\n",
      "\n",
      "FIR filter parameters\n",
      "---------------------\n",
      "Designing a one-pass, zero-phase, non-causal bandpass filter:\n",
      "- Windowed time-domain design (firwin) method\n",
      "- Hamming window with 0.0194 passband ripple and 53 dB stopband attenuation\n",
      "- Lower passband edge: 0.50\n",
      "- Lower transition bandwidth: 0.50 Hz (-6 dB cutoff frequency: 0.25 Hz)\n",
      "- Upper passband edge: 100.00 Hz\n",
      "- Upper transition bandwidth: 25.00 Hz (-6 dB cutoff frequency: 112.50 Hz)\n",
      "- Filter length: 3301 samples (6.602 s)\n",
      "\n"
     ]
    },
    {
     "name": "stderr",
     "output_type": "stream",
     "text": [
      "/var/folders/dl/zd_s8q0x20zbxpy0_dzhksbh0000gn/T/ipykernel_68894/1038661286.py:78: RuntimeWarning: The data contains 'boundary' events, indicating data discontinuities. Be cautious of filtering and epoching around these events.\n",
      "  raw = mne.io.read_raw_eeglab(eeg_file, preload=True)\n",
      "[Parallel(n_jobs=1)]: Done  17 tasks      | elapsed:    0.1s\n"
     ]
    },
    {
     "name": "stdout",
     "output_type": "stream",
     "text": [
      "Used Annotations descriptions: ['S  1', 'S  2', 'S  3', 'S 50', 'S 51', 'S 52', 'S100', 'S101', 'S200', 'S201', 'boundary']\n",
      "Not setting metadata\n",
      "509 matching events found\n",
      "Setting baseline interval to [-0.2, 0.0] s\n",
      "Applying baseline correction (mode: mean)\n",
      "0 projection items activated\n",
      "Using data from preloaded Raw for 509 events and 351 original time points ...\n",
      "1 bad epochs dropped\n",
      "    Using multitaper spectrum estimation with 7 DPSS windows\n",
      "Session features shape for sub-024, ses-01: (508, 10)\n",
      "Processing sub-025\n",
      "Reading /Users/ishabharti/EEG Project/ds003523/sub-025/ses-01/eeg/sub-025_ses-01_task-VisualWorkingMemory_eeg.fdt\n",
      "Reading 0 ... 665824  =      0.000 ...  1331.648 secs...\n"
     ]
    },
    {
     "name": "stderr",
     "output_type": "stream",
     "text": [
      "[ERROR] NoDatasetFound(No dataset found at '/Users/ishabharti/EEG Project' for the purpose \"get content of <<['./ds003523/s++15 chars++eg']>>\".  Specify a dataset to work with by providing its path via the `dataset` option, or change the current working directory to be in a dataset.) (NoDatasetFound) \n",
      "usage: datalad get [-h] [-s LABEL] [-d PATH] [-r] [-R LEVELS] [-n]\n",
      "                   [-D DESCRIPTION] [--reckless [auto|ephemeral|shared-...]]\n",
      "                   [-J NJOBS] [--version]\n",
      "                   [PATH ...]\n"
     ]
    },
    {
     "name": "stdout",
     "output_type": "stream",
     "text": [
      "Filtering raw data in 1 contiguous segment\n",
      "Setting up band-pass filter from 0.5 - 1e+02 Hz\n",
      "\n",
      "FIR filter parameters\n",
      "---------------------\n",
      "Designing a one-pass, zero-phase, non-causal bandpass filter:\n",
      "- Windowed time-domain design (firwin) method\n",
      "- Hamming window with 0.0194 passband ripple and 53 dB stopband attenuation\n",
      "- Lower passband edge: 0.50\n",
      "- Lower transition bandwidth: 0.50 Hz (-6 dB cutoff frequency: 0.25 Hz)\n",
      "- Upper passband edge: 100.00 Hz\n",
      "- Upper transition bandwidth: 25.00 Hz (-6 dB cutoff frequency: 112.50 Hz)\n",
      "- Filter length: 3301 samples (6.602 s)\n",
      "\n"
     ]
    },
    {
     "name": "stderr",
     "output_type": "stream",
     "text": [
      "/var/folders/dl/zd_s8q0x20zbxpy0_dzhksbh0000gn/T/ipykernel_68894/1038661286.py:78: RuntimeWarning: The data contains 'boundary' events, indicating data discontinuities. Be cautious of filtering and epoching around these events.\n",
      "  raw = mne.io.read_raw_eeglab(eeg_file, preload=True)\n",
      "[Parallel(n_jobs=1)]: Done  17 tasks      | elapsed:    0.1s\n"
     ]
    },
    {
     "name": "stdout",
     "output_type": "stream",
     "text": [
      "Used Annotations descriptions: ['S  1', 'S  2', 'S  3', 'S 50', 'S 51', 'S 52', 'S100', 'S101', 'S200', 'S201', 'boundary']\n",
      "Not setting metadata\n",
      "511 matching events found\n",
      "Setting baseline interval to [-0.2, 0.0] s\n",
      "Applying baseline correction (mode: mean)\n",
      "0 projection items activated\n",
      "Using data from preloaded Raw for 511 events and 351 original time points ...\n",
      "1 bad epochs dropped\n",
      "    Using multitaper spectrum estimation with 7 DPSS windows\n",
      "Session features shape for sub-025, ses-01: (510, 10)\n",
      "Processing sub-026\n",
      "Reading /Users/ishabharti/EEG Project/ds003523/sub-026/ses-01/eeg/sub-026_ses-01_task-VisualWorkingMemory_eeg.fdt\n",
      "Reading 0 ... 551649  =      0.000 ...  1103.298 secs...\n"
     ]
    },
    {
     "name": "stderr",
     "output_type": "stream",
     "text": [
      "[ERROR] NoDatasetFound(No dataset found at '/Users/ishabharti/EEG Project' for the purpose \"get content of <<['./ds003523/s++15 chars++eg']>>\".  Specify a dataset to work with by providing its path via the `dataset` option, or change the current working directory to be in a dataset.) (NoDatasetFound) \n",
      "usage: datalad get [-h] [-s LABEL] [-d PATH] [-r] [-R LEVELS] [-n]\n",
      "                   [-D DESCRIPTION] [--reckless [auto|ephemeral|shared-...]]\n",
      "                   [-J NJOBS] [--version]\n",
      "                   [PATH ...]\n"
     ]
    },
    {
     "name": "stdout",
     "output_type": "stream",
     "text": [
      "Filtering raw data in 1 contiguous segment\n",
      "Setting up band-pass filter from 0.5 - 1e+02 Hz\n",
      "\n",
      "FIR filter parameters\n",
      "---------------------\n",
      "Designing a one-pass, zero-phase, non-causal bandpass filter:\n",
      "- Windowed time-domain design (firwin) method\n",
      "- Hamming window with 0.0194 passband ripple and 53 dB stopband attenuation\n",
      "- Lower passband edge: 0.50\n",
      "- Lower transition bandwidth: 0.50 Hz (-6 dB cutoff frequency: 0.25 Hz)\n",
      "- Upper passband edge: 100.00 Hz\n",
      "- Upper transition bandwidth: 25.00 Hz (-6 dB cutoff frequency: 112.50 Hz)\n",
      "- Filter length: 3301 samples (6.602 s)\n",
      "\n"
     ]
    },
    {
     "name": "stderr",
     "output_type": "stream",
     "text": [
      "/var/folders/dl/zd_s8q0x20zbxpy0_dzhksbh0000gn/T/ipykernel_68894/1038661286.py:78: RuntimeWarning: The data contains 'boundary' events, indicating data discontinuities. Be cautious of filtering and epoching around these events.\n",
      "  raw = mne.io.read_raw_eeglab(eeg_file, preload=True)\n",
      "[Parallel(n_jobs=1)]: Done  17 tasks      | elapsed:    0.1s\n"
     ]
    },
    {
     "name": "stdout",
     "output_type": "stream",
     "text": [
      "Used Annotations descriptions: ['S  1', 'S  2', 'S  3', 'S 50', 'S 51', 'S 52', 'S100', 'S101', 'S200', 'S201', 'boundary']\n",
      "Not setting metadata\n",
      "395 matching events found\n",
      "Setting baseline interval to [-0.2, 0.0] s\n",
      "Applying baseline correction (mode: mean)\n",
      "0 projection items activated\n",
      "Using data from preloaded Raw for 395 events and 351 original time points ...\n",
      "2 bad epochs dropped\n",
      "    Using multitaper spectrum estimation with 7 DPSS windows\n",
      "Session features shape for sub-026, ses-01: (393, 10)\n",
      "Processing sub-027\n",
      "Reading /Users/ishabharti/EEG Project/ds003523/sub-027/ses-01/eeg/sub-027_ses-01_task-VisualWorkingMemory_eeg.fdt\n",
      "Reading 0 ... 688124  =      0.000 ...  1376.248 secs...\n"
     ]
    },
    {
     "name": "stderr",
     "output_type": "stream",
     "text": [
      "[ERROR] NoDatasetFound(No dataset found at '/Users/ishabharti/EEG Project' for the purpose \"get content of <<['./ds003523/s++15 chars++eg']>>\".  Specify a dataset to work with by providing its path via the `dataset` option, or change the current working directory to be in a dataset.) (NoDatasetFound) \n",
      "usage: datalad get [-h] [-s LABEL] [-d PATH] [-r] [-R LEVELS] [-n]\n",
      "                   [-D DESCRIPTION] [--reckless [auto|ephemeral|shared-...]]\n",
      "                   [-J NJOBS] [--version]\n",
      "                   [PATH ...]\n"
     ]
    },
    {
     "name": "stdout",
     "output_type": "stream",
     "text": [
      "Filtering raw data in 1 contiguous segment\n",
      "Setting up band-pass filter from 0.5 - 1e+02 Hz\n",
      "\n",
      "FIR filter parameters\n",
      "---------------------\n",
      "Designing a one-pass, zero-phase, non-causal bandpass filter:\n",
      "- Windowed time-domain design (firwin) method\n",
      "- Hamming window with 0.0194 passband ripple and 53 dB stopband attenuation\n",
      "- Lower passband edge: 0.50\n",
      "- Lower transition bandwidth: 0.50 Hz (-6 dB cutoff frequency: 0.25 Hz)\n",
      "- Upper passband edge: 100.00 Hz\n",
      "- Upper transition bandwidth: 25.00 Hz (-6 dB cutoff frequency: 112.50 Hz)\n",
      "- Filter length: 3301 samples (6.602 s)\n",
      "\n"
     ]
    },
    {
     "name": "stderr",
     "output_type": "stream",
     "text": [
      "/var/folders/dl/zd_s8q0x20zbxpy0_dzhksbh0000gn/T/ipykernel_68894/1038661286.py:78: RuntimeWarning: The data contains 'boundary' events, indicating data discontinuities. Be cautious of filtering and epoching around these events.\n",
      "  raw = mne.io.read_raw_eeglab(eeg_file, preload=True)\n",
      "[Parallel(n_jobs=1)]: Done  17 tasks      | elapsed:    0.1s\n"
     ]
    },
    {
     "name": "stdout",
     "output_type": "stream",
     "text": [
      "Used Annotations descriptions: ['S  1', 'S  2', 'S  3', 'S 50', 'S 51', 'S 52', 'S100', 'S101', 'S200', 'S201', 'boundary']\n",
      "Not setting metadata\n",
      "507 matching events found\n",
      "Setting baseline interval to [-0.2, 0.0] s\n",
      "Applying baseline correction (mode: mean)\n",
      "0 projection items activated\n",
      "Using data from preloaded Raw for 507 events and 351 original time points ...\n",
      "1 bad epochs dropped\n",
      "    Using multitaper spectrum estimation with 7 DPSS windows\n",
      "Session features shape for sub-027, ses-01: (506, 10)\n",
      "Processing sub-028\n",
      "Reading /Users/ishabharti/EEG Project/ds003523/sub-028/ses-01/eeg/sub-028_ses-01_task-VisualWorkingMemory_eeg.fdt\n",
      "Reading 0 ... 692474  =      0.000 ...  1384.948 secs...\n"
     ]
    },
    {
     "name": "stderr",
     "output_type": "stream",
     "text": [
      "[ERROR] NoDatasetFound(No dataset found at '/Users/ishabharti/EEG Project' for the purpose \"get content of <<['./ds003523/s++15 chars++eg']>>\".  Specify a dataset to work with by providing its path via the `dataset` option, or change the current working directory to be in a dataset.) (NoDatasetFound) \n",
      "usage: datalad get [-h] [-s LABEL] [-d PATH] [-r] [-R LEVELS] [-n]\n",
      "                   [-D DESCRIPTION] [--reckless [auto|ephemeral|shared-...]]\n",
      "                   [-J NJOBS] [--version]\n",
      "                   [PATH ...]\n"
     ]
    },
    {
     "name": "stdout",
     "output_type": "stream",
     "text": [
      "Filtering raw data in 1 contiguous segment\n",
      "Setting up band-pass filter from 0.5 - 1e+02 Hz\n",
      "\n",
      "FIR filter parameters\n",
      "---------------------\n",
      "Designing a one-pass, zero-phase, non-causal bandpass filter:\n",
      "- Windowed time-domain design (firwin) method\n",
      "- Hamming window with 0.0194 passband ripple and 53 dB stopband attenuation\n",
      "- Lower passband edge: 0.50\n",
      "- Lower transition bandwidth: 0.50 Hz (-6 dB cutoff frequency: 0.25 Hz)\n",
      "- Upper passband edge: 100.00 Hz\n",
      "- Upper transition bandwidth: 25.00 Hz (-6 dB cutoff frequency: 112.50 Hz)\n",
      "- Filter length: 3301 samples (6.602 s)\n",
      "\n"
     ]
    },
    {
     "name": "stderr",
     "output_type": "stream",
     "text": [
      "/var/folders/dl/zd_s8q0x20zbxpy0_dzhksbh0000gn/T/ipykernel_68894/1038661286.py:78: RuntimeWarning: The data contains 'boundary' events, indicating data discontinuities. Be cautious of filtering and epoching around these events.\n",
      "  raw = mne.io.read_raw_eeglab(eeg_file, preload=True)\n",
      "[Parallel(n_jobs=1)]: Done  17 tasks      | elapsed:    0.1s\n"
     ]
    },
    {
     "name": "stdout",
     "output_type": "stream",
     "text": [
      "Used Annotations descriptions: ['S  1', 'S  2', 'S  3', 'S 50', 'S 51', 'S 52', 'S100', 'S101', 'S200', 'S201', 'boundary']\n",
      "Not setting metadata\n",
      "510 matching events found\n",
      "Setting baseline interval to [-0.2, 0.0] s\n",
      "Applying baseline correction (mode: mean)\n",
      "0 projection items activated\n",
      "Using data from preloaded Raw for 510 events and 351 original time points ...\n",
      "1 bad epochs dropped\n",
      "    Using multitaper spectrum estimation with 7 DPSS windows\n",
      "Session features shape for sub-028, ses-01: (509, 10)\n",
      "Processing sub-029\n",
      "Reading /Users/ishabharti/EEG Project/ds003523/sub-029/ses-01/eeg/sub-029_ses-01_task-VisualWorkingMemory_eeg.fdt\n",
      "Reading 0 ... 739524  =      0.000 ...  1479.048 secs...\n"
     ]
    },
    {
     "name": "stderr",
     "output_type": "stream",
     "text": [
      "[ERROR] NoDatasetFound(No dataset found at '/Users/ishabharti/EEG Project' for the purpose \"get content of <<['./ds003523/s++15 chars++eg']>>\".  Specify a dataset to work with by providing its path via the `dataset` option, or change the current working directory to be in a dataset.) (NoDatasetFound) \n",
      "usage: datalad get [-h] [-s LABEL] [-d PATH] [-r] [-R LEVELS] [-n]\n",
      "                   [-D DESCRIPTION] [--reckless [auto|ephemeral|shared-...]]\n",
      "                   [-J NJOBS] [--version]\n",
      "                   [PATH ...]\n"
     ]
    },
    {
     "name": "stdout",
     "output_type": "stream",
     "text": [
      "Filtering raw data in 1 contiguous segment\n",
      "Setting up band-pass filter from 0.5 - 1e+02 Hz\n",
      "\n",
      "FIR filter parameters\n",
      "---------------------\n",
      "Designing a one-pass, zero-phase, non-causal bandpass filter:\n",
      "- Windowed time-domain design (firwin) method\n",
      "- Hamming window with 0.0194 passband ripple and 53 dB stopband attenuation\n",
      "- Lower passband edge: 0.50\n",
      "- Lower transition bandwidth: 0.50 Hz (-6 dB cutoff frequency: 0.25 Hz)\n",
      "- Upper passband edge: 100.00 Hz\n",
      "- Upper transition bandwidth: 25.00 Hz (-6 dB cutoff frequency: 112.50 Hz)\n",
      "- Filter length: 3301 samples (6.602 s)\n",
      "\n"
     ]
    },
    {
     "name": "stderr",
     "output_type": "stream",
     "text": [
      "/var/folders/dl/zd_s8q0x20zbxpy0_dzhksbh0000gn/T/ipykernel_68894/1038661286.py:78: RuntimeWarning: The data contains 'boundary' events, indicating data discontinuities. Be cautious of filtering and epoching around these events.\n",
      "  raw = mne.io.read_raw_eeglab(eeg_file, preload=True)\n",
      "[Parallel(n_jobs=1)]: Done  17 tasks      | elapsed:    0.1s\n"
     ]
    },
    {
     "name": "stdout",
     "output_type": "stream",
     "text": [
      "Used Annotations descriptions: ['S  1', 'S  2', 'S  3', 'S 50', 'S 51', 'S 52', 'S100', 'S101', 'S200', 'S201', 'boundary']\n",
      "Not setting metadata\n",
      "504 matching events found\n",
      "Setting baseline interval to [-0.2, 0.0] s\n",
      "Applying baseline correction (mode: mean)\n",
      "0 projection items activated\n",
      "Using data from preloaded Raw for 504 events and 351 original time points ...\n",
      "1 bad epochs dropped\n",
      "    Using multitaper spectrum estimation with 7 DPSS windows\n",
      "Session features shape for sub-029, ses-01: (503, 10)\n",
      "Processing sub-030\n",
      "Reading /Users/ishabharti/EEG Project/ds003523/sub-030/ses-01/eeg/sub-030_ses-01_task-VisualWorkingMemory_eeg.fdt\n",
      "Reading 0 ... 755524  =      0.000 ...  1511.048 secs...\n"
     ]
    },
    {
     "name": "stderr",
     "output_type": "stream",
     "text": [
      "[ERROR] NoDatasetFound(No dataset found at '/Users/ishabharti/EEG Project' for the purpose \"get content of <<['./ds003523/s++15 chars++eg']>>\".  Specify a dataset to work with by providing its path via the `dataset` option, or change the current working directory to be in a dataset.) (NoDatasetFound) \n",
      "usage: datalad get [-h] [-s LABEL] [-d PATH] [-r] [-R LEVELS] [-n]\n",
      "                   [-D DESCRIPTION] [--reckless [auto|ephemeral|shared-...]]\n",
      "                   [-J NJOBS] [--version]\n",
      "                   [PATH ...]\n"
     ]
    },
    {
     "name": "stdout",
     "output_type": "stream",
     "text": [
      "Filtering raw data in 1 contiguous segment\n",
      "Setting up band-pass filter from 0.5 - 1e+02 Hz\n",
      "\n",
      "FIR filter parameters\n",
      "---------------------\n",
      "Designing a one-pass, zero-phase, non-causal bandpass filter:\n",
      "- Windowed time-domain design (firwin) method\n",
      "- Hamming window with 0.0194 passband ripple and 53 dB stopband attenuation\n",
      "- Lower passband edge: 0.50\n",
      "- Lower transition bandwidth: 0.50 Hz (-6 dB cutoff frequency: 0.25 Hz)\n",
      "- Upper passband edge: 100.00 Hz\n",
      "- Upper transition bandwidth: 25.00 Hz (-6 dB cutoff frequency: 112.50 Hz)\n",
      "- Filter length: 3301 samples (6.602 s)\n",
      "\n"
     ]
    },
    {
     "name": "stderr",
     "output_type": "stream",
     "text": [
      "/var/folders/dl/zd_s8q0x20zbxpy0_dzhksbh0000gn/T/ipykernel_68894/1038661286.py:78: RuntimeWarning: The data contains 'boundary' events, indicating data discontinuities. Be cautious of filtering and epoching around these events.\n",
      "  raw = mne.io.read_raw_eeglab(eeg_file, preload=True)\n",
      "[Parallel(n_jobs=1)]: Done  17 tasks      | elapsed:    0.1s\n"
     ]
    },
    {
     "name": "stdout",
     "output_type": "stream",
     "text": [
      "Used Annotations descriptions: ['S  1', 'S  2', 'S  3', 'S 50', 'S 51', 'S 52', 'S100', 'S101', 'S200', 'S201', 'boundary']\n",
      "Not setting metadata\n",
      "510 matching events found\n",
      "Setting baseline interval to [-0.2, 0.0] s\n",
      "Applying baseline correction (mode: mean)\n",
      "0 projection items activated\n",
      "Using data from preloaded Raw for 510 events and 351 original time points ...\n",
      "1 bad epochs dropped\n",
      "    Using multitaper spectrum estimation with 7 DPSS windows\n",
      "Session features shape for sub-030, ses-01: (509, 10)\n",
      "Processing sub-031\n",
      "Reading /Users/ishabharti/EEG Project/ds003523/sub-031/ses-01/eeg/sub-031_ses-01_task-VisualWorkingMemory_eeg.fdt\n",
      "Reading 0 ... 681174  =      0.000 ...  1362.348 secs...\n"
     ]
    },
    {
     "name": "stderr",
     "output_type": "stream",
     "text": [
      "[ERROR] NoDatasetFound(No dataset found at '/Users/ishabharti/EEG Project' for the purpose \"get content of <<['./ds003523/s++15 chars++eg']>>\".  Specify a dataset to work with by providing its path via the `dataset` option, or change the current working directory to be in a dataset.) (NoDatasetFound) \n",
      "usage: datalad get [-h] [-s LABEL] [-d PATH] [-r] [-R LEVELS] [-n]\n",
      "                   [-D DESCRIPTION] [--reckless [auto|ephemeral|shared-...]]\n",
      "                   [-J NJOBS] [--version]\n",
      "                   [PATH ...]\n"
     ]
    },
    {
     "name": "stdout",
     "output_type": "stream",
     "text": [
      "Filtering raw data in 1 contiguous segment\n",
      "Setting up band-pass filter from 0.5 - 1e+02 Hz\n",
      "\n",
      "FIR filter parameters\n",
      "---------------------\n",
      "Designing a one-pass, zero-phase, non-causal bandpass filter:\n",
      "- Windowed time-domain design (firwin) method\n",
      "- Hamming window with 0.0194 passband ripple and 53 dB stopband attenuation\n",
      "- Lower passband edge: 0.50\n",
      "- Lower transition bandwidth: 0.50 Hz (-6 dB cutoff frequency: 0.25 Hz)\n",
      "- Upper passband edge: 100.00 Hz\n",
      "- Upper transition bandwidth: 25.00 Hz (-6 dB cutoff frequency: 112.50 Hz)\n",
      "- Filter length: 3301 samples (6.602 s)\n",
      "\n"
     ]
    },
    {
     "name": "stderr",
     "output_type": "stream",
     "text": [
      "/var/folders/dl/zd_s8q0x20zbxpy0_dzhksbh0000gn/T/ipykernel_68894/1038661286.py:78: RuntimeWarning: The data contains 'boundary' events, indicating data discontinuities. Be cautious of filtering and epoching around these events.\n",
      "  raw = mne.io.read_raw_eeglab(eeg_file, preload=True)\n",
      "[Parallel(n_jobs=1)]: Done  17 tasks      | elapsed:    0.1s\n"
     ]
    },
    {
     "name": "stdout",
     "output_type": "stream",
     "text": [
      "Used Annotations descriptions: ['S  1', 'S  2', 'S  3', 'S 50', 'S 51', 'S 52', 'S100', 'S101', 'S200', 'S201', 'boundary']\n",
      "Not setting metadata\n",
      "511 matching events found\n",
      "Setting baseline interval to [-0.2, 0.0] s\n",
      "Applying baseline correction (mode: mean)\n",
      "0 projection items activated\n",
      "Using data from preloaded Raw for 511 events and 351 original time points ...\n",
      "1 bad epochs dropped\n",
      "    Using multitaper spectrum estimation with 7 DPSS windows\n",
      "Session features shape for sub-031, ses-01: (510, 10)\n",
      "Processing sub-032\n",
      "Reading /Users/ishabharti/EEG Project/ds003523/sub-032/ses-01/eeg/sub-032_ses-01_task-VisualWorkingMemory_eeg.fdt\n",
      "Reading 0 ... 739874  =      0.000 ...  1479.748 secs...\n"
     ]
    },
    {
     "name": "stderr",
     "output_type": "stream",
     "text": [
      "[ERROR] NoDatasetFound(No dataset found at '/Users/ishabharti/EEG Project' for the purpose \"get content of <<['./ds003523/s++15 chars++eg']>>\".  Specify a dataset to work with by providing its path via the `dataset` option, or change the current working directory to be in a dataset.) (NoDatasetFound) \n",
      "usage: datalad get [-h] [-s LABEL] [-d PATH] [-r] [-R LEVELS] [-n]\n",
      "                   [-D DESCRIPTION] [--reckless [auto|ephemeral|shared-...]]\n",
      "                   [-J NJOBS] [--version]\n",
      "                   [PATH ...]\n"
     ]
    },
    {
     "name": "stdout",
     "output_type": "stream",
     "text": [
      "Filtering raw data in 1 contiguous segment\n",
      "Setting up band-pass filter from 0.5 - 1e+02 Hz\n",
      "\n",
      "FIR filter parameters\n",
      "---------------------\n",
      "Designing a one-pass, zero-phase, non-causal bandpass filter:\n",
      "- Windowed time-domain design (firwin) method\n",
      "- Hamming window with 0.0194 passband ripple and 53 dB stopband attenuation\n",
      "- Lower passband edge: 0.50\n",
      "- Lower transition bandwidth: 0.50 Hz (-6 dB cutoff frequency: 0.25 Hz)\n",
      "- Upper passband edge: 100.00 Hz\n",
      "- Upper transition bandwidth: 25.00 Hz (-6 dB cutoff frequency: 112.50 Hz)\n",
      "- Filter length: 3301 samples (6.602 s)\n",
      "\n"
     ]
    },
    {
     "name": "stderr",
     "output_type": "stream",
     "text": [
      "/var/folders/dl/zd_s8q0x20zbxpy0_dzhksbh0000gn/T/ipykernel_68894/1038661286.py:78: RuntimeWarning: The data contains 'boundary' events, indicating data discontinuities. Be cautious of filtering and epoching around these events.\n",
      "  raw = mne.io.read_raw_eeglab(eeg_file, preload=True)\n",
      "[Parallel(n_jobs=1)]: Done  17 tasks      | elapsed:    0.2s\n"
     ]
    },
    {
     "name": "stdout",
     "output_type": "stream",
     "text": [
      "Used Annotations descriptions: ['S  1', 'S  2', 'S  3', 'S 50', 'S 51', 'S 52', 'S100', 'S101', 'S200', 'S201', 'boundary']\n",
      "Not setting metadata\n",
      "511 matching events found\n",
      "Setting baseline interval to [-0.2, 0.0] s\n",
      "Applying baseline correction (mode: mean)\n",
      "0 projection items activated\n",
      "Using data from preloaded Raw for 511 events and 351 original time points ...\n",
      "1 bad epochs dropped\n",
      "    Using multitaper spectrum estimation with 7 DPSS windows\n",
      "Session features shape for sub-032, ses-01: (510, 10)\n",
      "Processing sub-033\n",
      "Reading /Users/ishabharti/EEG Project/ds003523/sub-033/ses-01/eeg/sub-033_ses-01_task-VisualWorkingMemory_eeg.fdt\n",
      "Reading 0 ... 693824  =      0.000 ...  1387.648 secs...\n"
     ]
    },
    {
     "name": "stderr",
     "output_type": "stream",
     "text": [
      "[ERROR] NoDatasetFound(No dataset found at '/Users/ishabharti/EEG Project' for the purpose \"get content of <<['./ds003523/s++15 chars++eg']>>\".  Specify a dataset to work with by providing its path via the `dataset` option, or change the current working directory to be in a dataset.) (NoDatasetFound) \n",
      "usage: datalad get [-h] [-s LABEL] [-d PATH] [-r] [-R LEVELS] [-n]\n",
      "                   [-D DESCRIPTION] [--reckless [auto|ephemeral|shared-...]]\n",
      "                   [-J NJOBS] [--version]\n",
      "                   [PATH ...]\n"
     ]
    },
    {
     "name": "stdout",
     "output_type": "stream",
     "text": [
      "Filtering raw data in 1 contiguous segment\n",
      "Setting up band-pass filter from 0.5 - 1e+02 Hz\n",
      "\n",
      "FIR filter parameters\n",
      "---------------------\n",
      "Designing a one-pass, zero-phase, non-causal bandpass filter:\n",
      "- Windowed time-domain design (firwin) method\n",
      "- Hamming window with 0.0194 passband ripple and 53 dB stopband attenuation\n",
      "- Lower passband edge: 0.50\n",
      "- Lower transition bandwidth: 0.50 Hz (-6 dB cutoff frequency: 0.25 Hz)\n",
      "- Upper passband edge: 100.00 Hz\n",
      "- Upper transition bandwidth: 25.00 Hz (-6 dB cutoff frequency: 112.50 Hz)\n",
      "- Filter length: 3301 samples (6.602 s)\n",
      "\n"
     ]
    },
    {
     "name": "stderr",
     "output_type": "stream",
     "text": [
      "/var/folders/dl/zd_s8q0x20zbxpy0_dzhksbh0000gn/T/ipykernel_68894/1038661286.py:78: RuntimeWarning: The data contains 'boundary' events, indicating data discontinuities. Be cautious of filtering and epoching around these events.\n",
      "  raw = mne.io.read_raw_eeglab(eeg_file, preload=True)\n",
      "[Parallel(n_jobs=1)]: Done  17 tasks      | elapsed:    0.1s\n"
     ]
    },
    {
     "name": "stdout",
     "output_type": "stream",
     "text": [
      "Used Annotations descriptions: ['S  1', 'S  2', 'S  3', 'S 50', 'S 51', 'S 52', 'S100', 'S101', 'S200', 'S201', 'boundary']\n",
      "Not setting metadata\n",
      "509 matching events found\n",
      "Setting baseline interval to [-0.2, 0.0] s\n",
      "Applying baseline correction (mode: mean)\n",
      "0 projection items activated\n",
      "Using data from preloaded Raw for 509 events and 351 original time points ...\n",
      "1 bad epochs dropped\n",
      "    Using multitaper spectrum estimation with 7 DPSS windows\n",
      "Session features shape for sub-033, ses-01: (508, 10)\n",
      "Processing sub-034\n",
      "Reading /Users/ishabharti/EEG Project/ds003523/sub-034/ses-01/eeg/sub-034_ses-01_task-VisualWorkingMemory_eeg.fdt\n",
      "Reading 0 ... 683549  =      0.000 ...  1367.098 secs...\n"
     ]
    },
    {
     "name": "stderr",
     "output_type": "stream",
     "text": [
      "[ERROR] NoDatasetFound(No dataset found at '/Users/ishabharti/EEG Project' for the purpose \"get content of <<['./ds003523/s++15 chars++eg']>>\".  Specify a dataset to work with by providing its path via the `dataset` option, or change the current working directory to be in a dataset.) (NoDatasetFound) \n",
      "usage: datalad get [-h] [-s LABEL] [-d PATH] [-r] [-R LEVELS] [-n]\n",
      "                   [-D DESCRIPTION] [--reckless [auto|ephemeral|shared-...]]\n",
      "                   [-J NJOBS] [--version]\n",
      "                   [PATH ...]\n"
     ]
    },
    {
     "name": "stdout",
     "output_type": "stream",
     "text": [
      "Filtering raw data in 1 contiguous segment\n",
      "Setting up band-pass filter from 0.5 - 1e+02 Hz\n",
      "\n",
      "FIR filter parameters\n",
      "---------------------\n",
      "Designing a one-pass, zero-phase, non-causal bandpass filter:\n",
      "- Windowed time-domain design (firwin) method\n",
      "- Hamming window with 0.0194 passband ripple and 53 dB stopband attenuation\n",
      "- Lower passband edge: 0.50\n",
      "- Lower transition bandwidth: 0.50 Hz (-6 dB cutoff frequency: 0.25 Hz)\n",
      "- Upper passband edge: 100.00 Hz\n",
      "- Upper transition bandwidth: 25.00 Hz (-6 dB cutoff frequency: 112.50 Hz)\n",
      "- Filter length: 3301 samples (6.602 s)\n",
      "\n"
     ]
    },
    {
     "name": "stderr",
     "output_type": "stream",
     "text": [
      "/var/folders/dl/zd_s8q0x20zbxpy0_dzhksbh0000gn/T/ipykernel_68894/1038661286.py:78: RuntimeWarning: The data contains 'boundary' events, indicating data discontinuities. Be cautious of filtering and epoching around these events.\n",
      "  raw = mne.io.read_raw_eeglab(eeg_file, preload=True)\n",
      "[Parallel(n_jobs=1)]: Done  17 tasks      | elapsed:    0.1s\n"
     ]
    },
    {
     "name": "stdout",
     "output_type": "stream",
     "text": [
      "Used Annotations descriptions: ['S  1', 'S  2', 'S  3', 'S 50', 'S 52', 'S100', 'S101', 'S200', 'S201', 'boundary']\n",
      "Not setting metadata\n",
      "511 matching events found\n",
      "Setting baseline interval to [-0.2, 0.0] s\n",
      "Applying baseline correction (mode: mean)\n",
      "0 projection items activated\n",
      "Using data from preloaded Raw for 511 events and 351 original time points ...\n",
      "1 bad epochs dropped\n",
      "    Using multitaper spectrum estimation with 7 DPSS windows\n",
      "Session features shape for sub-034, ses-01: (510, 10)\n",
      "Processing sub-035\n",
      "Reading /Users/ishabharti/EEG Project/ds003523/sub-035/ses-01/eeg/sub-035_ses-01_task-VisualWorkingMemory_eeg.fdt\n",
      "Reading 0 ... 691474  =      0.000 ...  1382.948 secs...\n"
     ]
    },
    {
     "name": "stderr",
     "output_type": "stream",
     "text": [
      "[ERROR] NoDatasetFound(No dataset found at '/Users/ishabharti/EEG Project' for the purpose \"get content of <<['./ds003523/s++15 chars++eg']>>\".  Specify a dataset to work with by providing its path via the `dataset` option, or change the current working directory to be in a dataset.) (NoDatasetFound) \n",
      "usage: datalad get [-h] [-s LABEL] [-d PATH] [-r] [-R LEVELS] [-n]\n",
      "                   [-D DESCRIPTION] [--reckless [auto|ephemeral|shared-...]]\n",
      "                   [-J NJOBS] [--version]\n",
      "                   [PATH ...]\n"
     ]
    },
    {
     "name": "stdout",
     "output_type": "stream",
     "text": [
      "Filtering raw data in 1 contiguous segment\n",
      "Setting up band-pass filter from 0.5 - 1e+02 Hz\n",
      "\n",
      "FIR filter parameters\n",
      "---------------------\n",
      "Designing a one-pass, zero-phase, non-causal bandpass filter:\n",
      "- Windowed time-domain design (firwin) method\n",
      "- Hamming window with 0.0194 passband ripple and 53 dB stopband attenuation\n",
      "- Lower passband edge: 0.50\n",
      "- Lower transition bandwidth: 0.50 Hz (-6 dB cutoff frequency: 0.25 Hz)\n",
      "- Upper passband edge: 100.00 Hz\n",
      "- Upper transition bandwidth: 25.00 Hz (-6 dB cutoff frequency: 112.50 Hz)\n",
      "- Filter length: 3301 samples (6.602 s)\n",
      "\n"
     ]
    },
    {
     "name": "stderr",
     "output_type": "stream",
     "text": [
      "/var/folders/dl/zd_s8q0x20zbxpy0_dzhksbh0000gn/T/ipykernel_68894/1038661286.py:78: RuntimeWarning: The data contains 'boundary' events, indicating data discontinuities. Be cautious of filtering and epoching around these events.\n",
      "  raw = mne.io.read_raw_eeglab(eeg_file, preload=True)\n",
      "[Parallel(n_jobs=1)]: Done  17 tasks      | elapsed:    0.1s\n"
     ]
    },
    {
     "name": "stdout",
     "output_type": "stream",
     "text": [
      "Used Annotations descriptions: ['S  1', 'S  2', 'S  3', 'S 50', 'S 51', 'S 52', 'S100', 'S101', 'S200', 'S201', 'boundary']\n",
      "Not setting metadata\n",
      "508 matching events found\n",
      "Setting baseline interval to [-0.2, 0.0] s\n",
      "Applying baseline correction (mode: mean)\n",
      "0 projection items activated\n",
      "Using data from preloaded Raw for 508 events and 351 original time points ...\n",
      "1 bad epochs dropped\n",
      "    Using multitaper spectrum estimation with 7 DPSS windows\n",
      "Session features shape for sub-035, ses-01: (507, 10)\n",
      "Processing sub-036\n",
      "Reading /Users/ishabharti/EEG Project/ds003523/sub-036/ses-01/eeg/sub-036_ses-01_task-VisualWorkingMemory_eeg.fdt\n",
      "Reading 0 ... 716499  =      0.000 ...  1432.998 secs...\n"
     ]
    },
    {
     "name": "stderr",
     "output_type": "stream",
     "text": [
      "[ERROR] NoDatasetFound(No dataset found at '/Users/ishabharti/EEG Project' for the purpose \"get content of <<['./ds003523/s++15 chars++eg']>>\".  Specify a dataset to work with by providing its path via the `dataset` option, or change the current working directory to be in a dataset.) (NoDatasetFound) \n",
      "usage: datalad get [-h] [-s LABEL] [-d PATH] [-r] [-R LEVELS] [-n]\n",
      "                   [-D DESCRIPTION] [--reckless [auto|ephemeral|shared-...]]\n",
      "                   [-J NJOBS] [--version]\n",
      "                   [PATH ...]\n"
     ]
    },
    {
     "name": "stdout",
     "output_type": "stream",
     "text": [
      "Filtering raw data in 1 contiguous segment\n",
      "Setting up band-pass filter from 0.5 - 1e+02 Hz\n",
      "\n",
      "FIR filter parameters\n",
      "---------------------\n",
      "Designing a one-pass, zero-phase, non-causal bandpass filter:\n",
      "- Windowed time-domain design (firwin) method\n",
      "- Hamming window with 0.0194 passband ripple and 53 dB stopband attenuation\n",
      "- Lower passband edge: 0.50\n",
      "- Lower transition bandwidth: 0.50 Hz (-6 dB cutoff frequency: 0.25 Hz)\n",
      "- Upper passband edge: 100.00 Hz\n",
      "- Upper transition bandwidth: 25.00 Hz (-6 dB cutoff frequency: 112.50 Hz)\n",
      "- Filter length: 3301 samples (6.602 s)\n",
      "\n"
     ]
    },
    {
     "name": "stderr",
     "output_type": "stream",
     "text": [
      "/var/folders/dl/zd_s8q0x20zbxpy0_dzhksbh0000gn/T/ipykernel_68894/1038661286.py:78: RuntimeWarning: The data contains 'boundary' events, indicating data discontinuities. Be cautious of filtering and epoching around these events.\n",
      "  raw = mne.io.read_raw_eeglab(eeg_file, preload=True)\n",
      "[Parallel(n_jobs=1)]: Done  17 tasks      | elapsed:    0.1s\n"
     ]
    },
    {
     "name": "stdout",
     "output_type": "stream",
     "text": [
      "Used Annotations descriptions: ['S  1', 'S  2', 'S  3', 'S 50', 'S 51', 'S 52', 'S100', 'S101', 'S200', 'S201', 'boundary']\n",
      "Not setting metadata\n",
      "495 matching events found\n",
      "Setting baseline interval to [-0.2, 0.0] s\n",
      "Applying baseline correction (mode: mean)\n",
      "0 projection items activated\n",
      "Using data from preloaded Raw for 495 events and 351 original time points ...\n",
      "1 bad epochs dropped\n",
      "    Using multitaper spectrum estimation with 7 DPSS windows\n",
      "Session features shape for sub-036, ses-01: (494, 10)\n",
      "Processing sub-037\n",
      "Reading /Users/ishabharti/EEG Project/ds003523/sub-037/ses-01/eeg/sub-037_ses-01_task-VisualWorkingMemory_eeg.fdt\n",
      "Reading 0 ... 716499  =      0.000 ...  1432.998 secs...\n"
     ]
    },
    {
     "name": "stderr",
     "output_type": "stream",
     "text": [
      "[ERROR] NoDatasetFound(No dataset found at '/Users/ishabharti/EEG Project' for the purpose \"get content of <<['./ds003523/s++15 chars++eg']>>\".  Specify a dataset to work with by providing its path via the `dataset` option, or change the current working directory to be in a dataset.) (NoDatasetFound) \n",
      "usage: datalad get [-h] [-s LABEL] [-d PATH] [-r] [-R LEVELS] [-n]\n",
      "                   [-D DESCRIPTION] [--reckless [auto|ephemeral|shared-...]]\n",
      "                   [-J NJOBS] [--version]\n",
      "                   [PATH ...]\n"
     ]
    },
    {
     "name": "stdout",
     "output_type": "stream",
     "text": [
      "Filtering raw data in 1 contiguous segment\n",
      "Setting up band-pass filter from 0.5 - 1e+02 Hz\n",
      "\n",
      "FIR filter parameters\n",
      "---------------------\n",
      "Designing a one-pass, zero-phase, non-causal bandpass filter:\n",
      "- Windowed time-domain design (firwin) method\n",
      "- Hamming window with 0.0194 passband ripple and 53 dB stopband attenuation\n",
      "- Lower passband edge: 0.50\n",
      "- Lower transition bandwidth: 0.50 Hz (-6 dB cutoff frequency: 0.25 Hz)\n",
      "- Upper passband edge: 100.00 Hz\n",
      "- Upper transition bandwidth: 25.00 Hz (-6 dB cutoff frequency: 112.50 Hz)\n",
      "- Filter length: 3301 samples (6.602 s)\n",
      "\n"
     ]
    },
    {
     "name": "stderr",
     "output_type": "stream",
     "text": [
      "/var/folders/dl/zd_s8q0x20zbxpy0_dzhksbh0000gn/T/ipykernel_68894/1038661286.py:78: RuntimeWarning: The data contains 'boundary' events, indicating data discontinuities. Be cautious of filtering and epoching around these events.\n",
      "  raw = mne.io.read_raw_eeglab(eeg_file, preload=True)\n",
      "[Parallel(n_jobs=1)]: Done  17 tasks      | elapsed:    0.1s\n"
     ]
    },
    {
     "name": "stdout",
     "output_type": "stream",
     "text": [
      "Used Annotations descriptions: ['S  1', 'S  2', 'S  3', 'S 50', 'S 51', 'S 52', 'S100', 'S101', 'S200', 'S201', 'boundary']\n",
      "Not setting metadata\n",
      "495 matching events found\n",
      "Setting baseline interval to [-0.2, 0.0] s\n",
      "Applying baseline correction (mode: mean)\n",
      "0 projection items activated\n",
      "Using data from preloaded Raw for 495 events and 351 original time points ...\n",
      "1 bad epochs dropped\n",
      "    Using multitaper spectrum estimation with 7 DPSS windows\n",
      "Session features shape for sub-037, ses-01: (494, 10)\n",
      "Processing sub-038\n",
      "Reading /Users/ishabharti/EEG Project/ds003523/sub-038/ses-01/eeg/sub-038_ses-01_task-VisualWorkingMemory_eeg.fdt\n",
      "Reading 0 ... 720624  =      0.000 ...  1441.248 secs...\n"
     ]
    },
    {
     "name": "stderr",
     "output_type": "stream",
     "text": [
      "[ERROR] NoDatasetFound(No dataset found at '/Users/ishabharti/EEG Project' for the purpose \"get content of <<['./ds003523/s++15 chars++eg']>>\".  Specify a dataset to work with by providing its path via the `dataset` option, or change the current working directory to be in a dataset.) (NoDatasetFound) \n",
      "usage: datalad get [-h] [-s LABEL] [-d PATH] [-r] [-R LEVELS] [-n]\n",
      "                   [-D DESCRIPTION] [--reckless [auto|ephemeral|shared-...]]\n",
      "                   [-J NJOBS] [--version]\n",
      "                   [PATH ...]\n"
     ]
    },
    {
     "name": "stdout",
     "output_type": "stream",
     "text": [
      "Filtering raw data in 1 contiguous segment\n",
      "Setting up band-pass filter from 0.5 - 1e+02 Hz\n",
      "\n",
      "FIR filter parameters\n",
      "---------------------\n",
      "Designing a one-pass, zero-phase, non-causal bandpass filter:\n",
      "- Windowed time-domain design (firwin) method\n",
      "- Hamming window with 0.0194 passband ripple and 53 dB stopband attenuation\n",
      "- Lower passband edge: 0.50\n",
      "- Lower transition bandwidth: 0.50 Hz (-6 dB cutoff frequency: 0.25 Hz)\n",
      "- Upper passband edge: 100.00 Hz\n",
      "- Upper transition bandwidth: 25.00 Hz (-6 dB cutoff frequency: 112.50 Hz)\n",
      "- Filter length: 3301 samples (6.602 s)\n",
      "\n"
     ]
    },
    {
     "name": "stderr",
     "output_type": "stream",
     "text": [
      "/var/folders/dl/zd_s8q0x20zbxpy0_dzhksbh0000gn/T/ipykernel_68894/1038661286.py:78: RuntimeWarning: The data contains 'boundary' events, indicating data discontinuities. Be cautious of filtering and epoching around these events.\n",
      "  raw = mne.io.read_raw_eeglab(eeg_file, preload=True)\n",
      "[Parallel(n_jobs=1)]: Done  17 tasks      | elapsed:    0.1s\n"
     ]
    },
    {
     "name": "stdout",
     "output_type": "stream",
     "text": [
      "Used Annotations descriptions: ['S  1', 'S  2', 'S  3', 'S 50', 'S 51', 'S 52', 'S100', 'S101', 'S200', 'S201', 'boundary']\n",
      "Not setting metadata\n",
      "511 matching events found\n",
      "Setting baseline interval to [-0.2, 0.0] s\n",
      "Applying baseline correction (mode: mean)\n",
      "0 projection items activated\n",
      "Using data from preloaded Raw for 511 events and 351 original time points ...\n",
      "1 bad epochs dropped\n",
      "    Using multitaper spectrum estimation with 7 DPSS windows\n",
      "Session features shape for sub-038, ses-01: (510, 10)\n",
      "Processing sub-039\n",
      "Reading /Users/ishabharti/EEG Project/ds003523/sub-039/ses-01/eeg/sub-039_ses-01_task-VisualWorkingMemory_eeg.fdt\n",
      "Reading 0 ... 678499  =      0.000 ...  1356.998 secs...\n"
     ]
    },
    {
     "name": "stderr",
     "output_type": "stream",
     "text": [
      "[ERROR] NoDatasetFound(No dataset found at '/Users/ishabharti/EEG Project' for the purpose \"get content of <<['./ds003523/s++15 chars++eg']>>\".  Specify a dataset to work with by providing its path via the `dataset` option, or change the current working directory to be in a dataset.) (NoDatasetFound) \n",
      "usage: datalad get [-h] [-s LABEL] [-d PATH] [-r] [-R LEVELS] [-n]\n",
      "                   [-D DESCRIPTION] [--reckless [auto|ephemeral|shared-...]]\n",
      "                   [-J NJOBS] [--version]\n",
      "                   [PATH ...]\n"
     ]
    },
    {
     "name": "stdout",
     "output_type": "stream",
     "text": [
      "Filtering raw data in 1 contiguous segment\n",
      "Setting up band-pass filter from 0.5 - 1e+02 Hz\n",
      "\n",
      "FIR filter parameters\n",
      "---------------------\n",
      "Designing a one-pass, zero-phase, non-causal bandpass filter:\n",
      "- Windowed time-domain design (firwin) method\n",
      "- Hamming window with 0.0194 passband ripple and 53 dB stopband attenuation\n",
      "- Lower passband edge: 0.50\n",
      "- Lower transition bandwidth: 0.50 Hz (-6 dB cutoff frequency: 0.25 Hz)\n",
      "- Upper passband edge: 100.00 Hz\n",
      "- Upper transition bandwidth: 25.00 Hz (-6 dB cutoff frequency: 112.50 Hz)\n",
      "- Filter length: 3301 samples (6.602 s)\n",
      "\n"
     ]
    },
    {
     "name": "stderr",
     "output_type": "stream",
     "text": [
      "/var/folders/dl/zd_s8q0x20zbxpy0_dzhksbh0000gn/T/ipykernel_68894/1038661286.py:78: RuntimeWarning: The data contains 'boundary' events, indicating data discontinuities. Be cautious of filtering and epoching around these events.\n",
      "  raw = mne.io.read_raw_eeglab(eeg_file, preload=True)\n",
      "[Parallel(n_jobs=1)]: Done  17 tasks      | elapsed:    0.1s\n"
     ]
    },
    {
     "name": "stdout",
     "output_type": "stream",
     "text": [
      "Used Annotations descriptions: ['S  1', 'S  2', 'S  3', 'S 50', 'S 51', 'S 52', 'S100', 'S101', 'S200', 'S201', 'boundary']\n",
      "Not setting metadata\n",
      "510 matching events found\n",
      "Setting baseline interval to [-0.2, 0.0] s\n",
      "Applying baseline correction (mode: mean)\n",
      "0 projection items activated\n",
      "Using data from preloaded Raw for 510 events and 351 original time points ...\n",
      "1 bad epochs dropped\n",
      "    Using multitaper spectrum estimation with 7 DPSS windows\n",
      "Session features shape for sub-039, ses-01: (509, 10)\n",
      "Processing sub-040\n",
      "Reading /Users/ishabharti/EEG Project/ds003523/sub-040/ses-01/eeg/sub-040_ses-01_task-VisualWorkingMemory_eeg.fdt\n",
      "Reading 0 ... 682174  =      0.000 ...  1364.348 secs...\n"
     ]
    },
    {
     "name": "stderr",
     "output_type": "stream",
     "text": [
      "[ERROR] NoDatasetFound(No dataset found at '/Users/ishabharti/EEG Project' for the purpose \"get content of <<['./ds003523/s++15 chars++eg']>>\".  Specify a dataset to work with by providing its path via the `dataset` option, or change the current working directory to be in a dataset.) (NoDatasetFound) \n",
      "usage: datalad get [-h] [-s LABEL] [-d PATH] [-r] [-R LEVELS] [-n]\n",
      "                   [-D DESCRIPTION] [--reckless [auto|ephemeral|shared-...]]\n",
      "                   [-J NJOBS] [--version]\n",
      "                   [PATH ...]\n"
     ]
    },
    {
     "name": "stdout",
     "output_type": "stream",
     "text": [
      "Filtering raw data in 1 contiguous segment\n",
      "Setting up band-pass filter from 0.5 - 1e+02 Hz\n",
      "\n",
      "FIR filter parameters\n",
      "---------------------\n",
      "Designing a one-pass, zero-phase, non-causal bandpass filter:\n",
      "- Windowed time-domain design (firwin) method\n",
      "- Hamming window with 0.0194 passband ripple and 53 dB stopband attenuation\n",
      "- Lower passband edge: 0.50\n",
      "- Lower transition bandwidth: 0.50 Hz (-6 dB cutoff frequency: 0.25 Hz)\n",
      "- Upper passband edge: 100.00 Hz\n",
      "- Upper transition bandwidth: 25.00 Hz (-6 dB cutoff frequency: 112.50 Hz)\n",
      "- Filter length: 3301 samples (6.602 s)\n",
      "\n"
     ]
    },
    {
     "name": "stderr",
     "output_type": "stream",
     "text": [
      "/var/folders/dl/zd_s8q0x20zbxpy0_dzhksbh0000gn/T/ipykernel_68894/1038661286.py:78: RuntimeWarning: The data contains 'boundary' events, indicating data discontinuities. Be cautious of filtering and epoching around these events.\n",
      "  raw = mne.io.read_raw_eeglab(eeg_file, preload=True)\n",
      "[Parallel(n_jobs=1)]: Done  17 tasks      | elapsed:    0.1s\n"
     ]
    },
    {
     "name": "stdout",
     "output_type": "stream",
     "text": [
      "Used Annotations descriptions: ['S  1', 'S  2', 'S  3', 'S 50', 'S 51', 'S 52', 'S100', 'S101', 'S200', 'S201', 'boundary']\n",
      "Not setting metadata\n",
      "511 matching events found\n",
      "Setting baseline interval to [-0.2, 0.0] s\n",
      "Applying baseline correction (mode: mean)\n",
      "0 projection items activated\n",
      "Using data from preloaded Raw for 511 events and 351 original time points ...\n",
      "1 bad epochs dropped\n",
      "    Using multitaper spectrum estimation with 7 DPSS windows\n",
      "Session features shape for sub-040, ses-01: (510, 10)\n",
      "Processing sub-041\n",
      "Reading /Users/ishabharti/EEG Project/ds003523/sub-041/ses-01/eeg/sub-041_ses-01_task-VisualWorkingMemory_eeg.fdt\n",
      "Reading 0 ... 703624  =      0.000 ...  1407.248 secs...\n"
     ]
    },
    {
     "name": "stderr",
     "output_type": "stream",
     "text": [
      "[ERROR] NoDatasetFound(No dataset found at '/Users/ishabharti/EEG Project' for the purpose \"get content of <<['./ds003523/s++15 chars++eg']>>\".  Specify a dataset to work with by providing its path via the `dataset` option, or change the current working directory to be in a dataset.) (NoDatasetFound) \n",
      "usage: datalad get [-h] [-s LABEL] [-d PATH] [-r] [-R LEVELS] [-n]\n",
      "                   [-D DESCRIPTION] [--reckless [auto|ephemeral|shared-...]]\n",
      "                   [-J NJOBS] [--version]\n",
      "                   [PATH ...]\n"
     ]
    },
    {
     "name": "stdout",
     "output_type": "stream",
     "text": [
      "Filtering raw data in 1 contiguous segment\n",
      "Setting up band-pass filter from 0.5 - 1e+02 Hz\n",
      "\n",
      "FIR filter parameters\n",
      "---------------------\n",
      "Designing a one-pass, zero-phase, non-causal bandpass filter:\n",
      "- Windowed time-domain design (firwin) method\n",
      "- Hamming window with 0.0194 passband ripple and 53 dB stopband attenuation\n",
      "- Lower passband edge: 0.50\n",
      "- Lower transition bandwidth: 0.50 Hz (-6 dB cutoff frequency: 0.25 Hz)\n",
      "- Upper passband edge: 100.00 Hz\n",
      "- Upper transition bandwidth: 25.00 Hz (-6 dB cutoff frequency: 112.50 Hz)\n",
      "- Filter length: 3301 samples (6.602 s)\n",
      "\n"
     ]
    },
    {
     "name": "stderr",
     "output_type": "stream",
     "text": [
      "/var/folders/dl/zd_s8q0x20zbxpy0_dzhksbh0000gn/T/ipykernel_68894/1038661286.py:78: RuntimeWarning: The data contains 'boundary' events, indicating data discontinuities. Be cautious of filtering and epoching around these events.\n",
      "  raw = mne.io.read_raw_eeglab(eeg_file, preload=True)\n",
      "[Parallel(n_jobs=1)]: Done  17 tasks      | elapsed:    0.1s\n"
     ]
    },
    {
     "name": "stdout",
     "output_type": "stream",
     "text": [
      "Used Annotations descriptions: ['S  1', 'S  2', 'S  3', 'S 50', 'S 51', 'S 52', 'S100', 'S101', 'S200', 'S201', 'boundary']\n",
      "Not setting metadata\n",
      "511 matching events found\n",
      "Setting baseline interval to [-0.2, 0.0] s\n",
      "Applying baseline correction (mode: mean)\n",
      "0 projection items activated\n",
      "Using data from preloaded Raw for 511 events and 351 original time points ...\n",
      "1 bad epochs dropped\n",
      "    Using multitaper spectrum estimation with 7 DPSS windows\n",
      "Session features shape for sub-041, ses-01: (510, 10)\n",
      "Processing sub-042\n",
      "Reading /Users/ishabharti/EEG Project/ds003523/sub-042/ses-01/eeg/sub-042_ses-01_task-VisualWorkingMemory_eeg.fdt\n",
      "Reading 0 ... 695249  =      0.000 ...  1390.498 secs...\n"
     ]
    },
    {
     "name": "stderr",
     "output_type": "stream",
     "text": [
      "[ERROR] NoDatasetFound(No dataset found at '/Users/ishabharti/EEG Project' for the purpose \"get content of <<['./ds003523/s++15 chars++eg']>>\".  Specify a dataset to work with by providing its path via the `dataset` option, or change the current working directory to be in a dataset.) (NoDatasetFound) \n",
      "usage: datalad get [-h] [-s LABEL] [-d PATH] [-r] [-R LEVELS] [-n]\n",
      "                   [-D DESCRIPTION] [--reckless [auto|ephemeral|shared-...]]\n",
      "                   [-J NJOBS] [--version]\n",
      "                   [PATH ...]\n"
     ]
    },
    {
     "name": "stdout",
     "output_type": "stream",
     "text": [
      "Filtering raw data in 1 contiguous segment\n",
      "Setting up band-pass filter from 0.5 - 1e+02 Hz\n",
      "\n",
      "FIR filter parameters\n",
      "---------------------\n",
      "Designing a one-pass, zero-phase, non-causal bandpass filter:\n",
      "- Windowed time-domain design (firwin) method\n",
      "- Hamming window with 0.0194 passband ripple and 53 dB stopband attenuation\n",
      "- Lower passband edge: 0.50\n",
      "- Lower transition bandwidth: 0.50 Hz (-6 dB cutoff frequency: 0.25 Hz)\n",
      "- Upper passband edge: 100.00 Hz\n",
      "- Upper transition bandwidth: 25.00 Hz (-6 dB cutoff frequency: 112.50 Hz)\n",
      "- Filter length: 3301 samples (6.602 s)\n",
      "\n"
     ]
    },
    {
     "name": "stderr",
     "output_type": "stream",
     "text": [
      "/var/folders/dl/zd_s8q0x20zbxpy0_dzhksbh0000gn/T/ipykernel_68894/1038661286.py:78: RuntimeWarning: The data contains 'boundary' events, indicating data discontinuities. Be cautious of filtering and epoching around these events.\n",
      "  raw = mne.io.read_raw_eeglab(eeg_file, preload=True)\n",
      "[Parallel(n_jobs=1)]: Done  17 tasks      | elapsed:    0.1s\n"
     ]
    },
    {
     "name": "stdout",
     "output_type": "stream",
     "text": [
      "Used Annotations descriptions: ['S  1', 'S  2', 'S  3', 'S 50', 'S 52', 'S100', 'S101', 'S200', 'S201', 'boundary']\n",
      "Not setting metadata\n",
      "511 matching events found\n",
      "Setting baseline interval to [-0.2, 0.0] s\n",
      "Applying baseline correction (mode: mean)\n",
      "0 projection items activated\n",
      "Using data from preloaded Raw for 511 events and 351 original time points ...\n",
      "1 bad epochs dropped\n",
      "    Using multitaper spectrum estimation with 7 DPSS windows\n",
      "Session features shape for sub-042, ses-01: (510, 10)\n",
      "Processing sub-043\n",
      "Reading /Users/ishabharti/EEG Project/ds003523/sub-043/ses-01/eeg/sub-043_ses-01_task-VisualWorkingMemory_eeg.fdt\n",
      "Reading 0 ... 695499  =      0.000 ...  1390.998 secs...\n"
     ]
    },
    {
     "name": "stderr",
     "output_type": "stream",
     "text": [
      "[ERROR] NoDatasetFound(No dataset found at '/Users/ishabharti/EEG Project' for the purpose \"get content of <<['./ds003523/s++15 chars++eg']>>\".  Specify a dataset to work with by providing its path via the `dataset` option, or change the current working directory to be in a dataset.) (NoDatasetFound) \n",
      "usage: datalad get [-h] [-s LABEL] [-d PATH] [-r] [-R LEVELS] [-n]\n",
      "                   [-D DESCRIPTION] [--reckless [auto|ephemeral|shared-...]]\n",
      "                   [-J NJOBS] [--version]\n",
      "                   [PATH ...]\n"
     ]
    },
    {
     "name": "stdout",
     "output_type": "stream",
     "text": [
      "Filtering raw data in 1 contiguous segment\n",
      "Setting up band-pass filter from 0.5 - 1e+02 Hz\n",
      "\n",
      "FIR filter parameters\n",
      "---------------------\n",
      "Designing a one-pass, zero-phase, non-causal bandpass filter:\n",
      "- Windowed time-domain design (firwin) method\n",
      "- Hamming window with 0.0194 passband ripple and 53 dB stopband attenuation\n",
      "- Lower passband edge: 0.50\n",
      "- Lower transition bandwidth: 0.50 Hz (-6 dB cutoff frequency: 0.25 Hz)\n",
      "- Upper passband edge: 100.00 Hz\n",
      "- Upper transition bandwidth: 25.00 Hz (-6 dB cutoff frequency: 112.50 Hz)\n",
      "- Filter length: 3301 samples (6.602 s)\n",
      "\n"
     ]
    },
    {
     "name": "stderr",
     "output_type": "stream",
     "text": [
      "/var/folders/dl/zd_s8q0x20zbxpy0_dzhksbh0000gn/T/ipykernel_68894/1038661286.py:78: RuntimeWarning: The data contains 'boundary' events, indicating data discontinuities. Be cautious of filtering and epoching around these events.\n",
      "  raw = mne.io.read_raw_eeglab(eeg_file, preload=True)\n",
      "[Parallel(n_jobs=1)]: Done  17 tasks      | elapsed:    0.1s\n"
     ]
    },
    {
     "name": "stdout",
     "output_type": "stream",
     "text": [
      "Used Annotations descriptions: ['S  1', 'S  2', 'S  3', 'S 50', 'S 51', 'S 52', 'S100', 'S101', 'S200', 'S201', 'boundary']\n",
      "Not setting metadata\n",
      "509 matching events found\n",
      "Setting baseline interval to [-0.2, 0.0] s\n",
      "Applying baseline correction (mode: mean)\n",
      "0 projection items activated\n",
      "Using data from preloaded Raw for 509 events and 351 original time points ...\n",
      "1 bad epochs dropped\n",
      "    Using multitaper spectrum estimation with 7 DPSS windows\n",
      "Session features shape for sub-043, ses-01: (508, 10)\n",
      "Processing sub-044\n",
      "Reading /Users/ishabharti/EEG Project/ds003523/sub-044/ses-01/eeg/sub-044_ses-01_task-VisualWorkingMemory_eeg.fdt\n",
      "Reading 0 ... 713549  =      0.000 ...  1427.098 secs...\n"
     ]
    },
    {
     "name": "stderr",
     "output_type": "stream",
     "text": [
      "[ERROR] NoDatasetFound(No dataset found at '/Users/ishabharti/EEG Project' for the purpose \"get content of <<['./ds003523/s++15 chars++eg']>>\".  Specify a dataset to work with by providing its path via the `dataset` option, or change the current working directory to be in a dataset.) (NoDatasetFound) \n",
      "usage: datalad get [-h] [-s LABEL] [-d PATH] [-r] [-R LEVELS] [-n]\n",
      "                   [-D DESCRIPTION] [--reckless [auto|ephemeral|shared-...]]\n",
      "                   [-J NJOBS] [--version]\n",
      "                   [PATH ...]\n"
     ]
    },
    {
     "name": "stdout",
     "output_type": "stream",
     "text": [
      "Filtering raw data in 1 contiguous segment\n",
      "Setting up band-pass filter from 0.5 - 1e+02 Hz\n",
      "\n",
      "FIR filter parameters\n",
      "---------------------\n",
      "Designing a one-pass, zero-phase, non-causal bandpass filter:\n",
      "- Windowed time-domain design (firwin) method\n",
      "- Hamming window with 0.0194 passband ripple and 53 dB stopband attenuation\n",
      "- Lower passband edge: 0.50\n",
      "- Lower transition bandwidth: 0.50 Hz (-6 dB cutoff frequency: 0.25 Hz)\n",
      "- Upper passband edge: 100.00 Hz\n",
      "- Upper transition bandwidth: 25.00 Hz (-6 dB cutoff frequency: 112.50 Hz)\n",
      "- Filter length: 3301 samples (6.602 s)\n",
      "\n"
     ]
    },
    {
     "name": "stderr",
     "output_type": "stream",
     "text": [
      "/var/folders/dl/zd_s8q0x20zbxpy0_dzhksbh0000gn/T/ipykernel_68894/1038661286.py:78: RuntimeWarning: The data contains 'boundary' events, indicating data discontinuities. Be cautious of filtering and epoching around these events.\n",
      "  raw = mne.io.read_raw_eeglab(eeg_file, preload=True)\n",
      "[Parallel(n_jobs=1)]: Done  17 tasks      | elapsed:    0.1s\n"
     ]
    },
    {
     "name": "stdout",
     "output_type": "stream",
     "text": [
      "Used Annotations descriptions: ['S  1', 'S  2', 'S  3', 'S 50', 'S 51', 'S 52', 'S100', 'S101', 'S200', 'S201', 'boundary']\n",
      "Not setting metadata\n",
      "511 matching events found\n",
      "Setting baseline interval to [-0.2, 0.0] s\n",
      "Applying baseline correction (mode: mean)\n",
      "0 projection items activated\n",
      "Using data from preloaded Raw for 511 events and 351 original time points ...\n",
      "1 bad epochs dropped\n",
      "    Using multitaper spectrum estimation with 7 DPSS windows\n",
      "Session features shape for sub-044, ses-01: (510, 10)\n",
      "Processing sub-045\n",
      "Reading /Users/ishabharti/EEG Project/ds003523/sub-045/ses-01/eeg/sub-045_ses-01_task-VisualWorkingMemory_eeg.fdt\n",
      "Reading 0 ... 680999  =      0.000 ...  1361.998 secs...\n"
     ]
    },
    {
     "name": "stderr",
     "output_type": "stream",
     "text": [
      "[ERROR] NoDatasetFound(No dataset found at '/Users/ishabharti/EEG Project' for the purpose \"get content of <<['./ds003523/s++15 chars++eg']>>\".  Specify a dataset to work with by providing its path via the `dataset` option, or change the current working directory to be in a dataset.) (NoDatasetFound) \n",
      "usage: datalad get [-h] [-s LABEL] [-d PATH] [-r] [-R LEVELS] [-n]\n",
      "                   [-D DESCRIPTION] [--reckless [auto|ephemeral|shared-...]]\n",
      "                   [-J NJOBS] [--version]\n",
      "                   [PATH ...]\n"
     ]
    },
    {
     "name": "stdout",
     "output_type": "stream",
     "text": [
      "Filtering raw data in 1 contiguous segment\n",
      "Setting up band-pass filter from 0.5 - 1e+02 Hz\n",
      "\n",
      "FIR filter parameters\n",
      "---------------------\n",
      "Designing a one-pass, zero-phase, non-causal bandpass filter:\n",
      "- Windowed time-domain design (firwin) method\n",
      "- Hamming window with 0.0194 passband ripple and 53 dB stopband attenuation\n",
      "- Lower passband edge: 0.50\n",
      "- Lower transition bandwidth: 0.50 Hz (-6 dB cutoff frequency: 0.25 Hz)\n",
      "- Upper passband edge: 100.00 Hz\n",
      "- Upper transition bandwidth: 25.00 Hz (-6 dB cutoff frequency: 112.50 Hz)\n",
      "- Filter length: 3301 samples (6.602 s)\n",
      "\n"
     ]
    },
    {
     "name": "stderr",
     "output_type": "stream",
     "text": [
      "/var/folders/dl/zd_s8q0x20zbxpy0_dzhksbh0000gn/T/ipykernel_68894/1038661286.py:78: RuntimeWarning: The data contains 'boundary' events, indicating data discontinuities. Be cautious of filtering and epoching around these events.\n",
      "  raw = mne.io.read_raw_eeglab(eeg_file, preload=True)\n",
      "[Parallel(n_jobs=1)]: Done  17 tasks      | elapsed:    0.1s\n"
     ]
    },
    {
     "name": "stdout",
     "output_type": "stream",
     "text": [
      "Used Annotations descriptions: ['S  1', 'S  2', 'S  3', 'S 50', 'S 51', 'S 52', 'S100', 'S101', 'S200', 'S201', 'boundary']\n",
      "Not setting metadata\n",
      "511 matching events found\n",
      "Setting baseline interval to [-0.2, 0.0] s\n",
      "Applying baseline correction (mode: mean)\n",
      "0 projection items activated\n",
      "Using data from preloaded Raw for 511 events and 351 original time points ...\n",
      "1 bad epochs dropped\n",
      "    Using multitaper spectrum estimation with 7 DPSS windows\n",
      "Session features shape for sub-045, ses-01: (510, 10)\n",
      "Processing sub-046\n",
      "Reading /Users/ishabharti/EEG Project/ds003523/sub-046/ses-01/eeg/sub-046_ses-01_task-VisualWorkingMemory_eeg.fdt\n",
      "Reading 0 ... 684399  =      0.000 ...  1368.798 secs...\n"
     ]
    },
    {
     "name": "stderr",
     "output_type": "stream",
     "text": [
      "[ERROR] NoDatasetFound(No dataset found at '/Users/ishabharti/EEG Project' for the purpose \"get content of <<['./ds003523/s++15 chars++eg']>>\".  Specify a dataset to work with by providing its path via the `dataset` option, or change the current working directory to be in a dataset.) (NoDatasetFound) \n",
      "usage: datalad get [-h] [-s LABEL] [-d PATH] [-r] [-R LEVELS] [-n]\n",
      "                   [-D DESCRIPTION] [--reckless [auto|ephemeral|shared-...]]\n",
      "                   [-J NJOBS] [--version]\n",
      "                   [PATH ...]\n"
     ]
    },
    {
     "name": "stdout",
     "output_type": "stream",
     "text": [
      "Filtering raw data in 1 contiguous segment\n",
      "Setting up band-pass filter from 0.5 - 1e+02 Hz\n",
      "\n",
      "FIR filter parameters\n",
      "---------------------\n",
      "Designing a one-pass, zero-phase, non-causal bandpass filter:\n",
      "- Windowed time-domain design (firwin) method\n",
      "- Hamming window with 0.0194 passband ripple and 53 dB stopband attenuation\n",
      "- Lower passband edge: 0.50\n",
      "- Lower transition bandwidth: 0.50 Hz (-6 dB cutoff frequency: 0.25 Hz)\n",
      "- Upper passband edge: 100.00 Hz\n",
      "- Upper transition bandwidth: 25.00 Hz (-6 dB cutoff frequency: 112.50 Hz)\n",
      "- Filter length: 3301 samples (6.602 s)\n",
      "\n"
     ]
    },
    {
     "name": "stderr",
     "output_type": "stream",
     "text": [
      "/var/folders/dl/zd_s8q0x20zbxpy0_dzhksbh0000gn/T/ipykernel_68894/1038661286.py:78: RuntimeWarning: The data contains 'boundary' events, indicating data discontinuities. Be cautious of filtering and epoching around these events.\n",
      "  raw = mne.io.read_raw_eeglab(eeg_file, preload=True)\n",
      "[Parallel(n_jobs=1)]: Done  17 tasks      | elapsed:    0.1s\n"
     ]
    },
    {
     "name": "stdout",
     "output_type": "stream",
     "text": [
      "Used Annotations descriptions: ['S  1', 'S  2', 'S  3', 'S 50', 'S 51', 'S 52', 'S100', 'S101', 'S200', 'S201', 'boundary']\n",
      "Not setting metadata\n",
      "511 matching events found\n",
      "Setting baseline interval to [-0.2, 0.0] s\n",
      "Applying baseline correction (mode: mean)\n",
      "0 projection items activated\n",
      "Using data from preloaded Raw for 511 events and 351 original time points ...\n",
      "1 bad epochs dropped\n",
      "    Using multitaper spectrum estimation with 7 DPSS windows\n",
      "Session features shape for sub-046, ses-01: (510, 10)\n",
      "Processing sub-047\n",
      "Reading /Users/ishabharti/EEG Project/ds003523/sub-047/ses-01/eeg/sub-047_ses-01_task-VisualWorkingMemory_eeg.fdt\n",
      "Reading 0 ... 676499  =      0.000 ...  1352.998 secs...\n"
     ]
    },
    {
     "name": "stderr",
     "output_type": "stream",
     "text": [
      "[ERROR] NoDatasetFound(No dataset found at '/Users/ishabharti/EEG Project' for the purpose \"get content of <<['./ds003523/s++15 chars++eg']>>\".  Specify a dataset to work with by providing its path via the `dataset` option, or change the current working directory to be in a dataset.) (NoDatasetFound) \n",
      "usage: datalad get [-h] [-s LABEL] [-d PATH] [-r] [-R LEVELS] [-n]\n",
      "                   [-D DESCRIPTION] [--reckless [auto|ephemeral|shared-...]]\n",
      "                   [-J NJOBS] [--version]\n",
      "                   [PATH ...]\n"
     ]
    },
    {
     "name": "stdout",
     "output_type": "stream",
     "text": [
      "Filtering raw data in 1 contiguous segment\n",
      "Setting up band-pass filter from 0.5 - 1e+02 Hz\n",
      "\n",
      "FIR filter parameters\n",
      "---------------------\n",
      "Designing a one-pass, zero-phase, non-causal bandpass filter:\n",
      "- Windowed time-domain design (firwin) method\n",
      "- Hamming window with 0.0194 passband ripple and 53 dB stopband attenuation\n",
      "- Lower passband edge: 0.50\n",
      "- Lower transition bandwidth: 0.50 Hz (-6 dB cutoff frequency: 0.25 Hz)\n",
      "- Upper passband edge: 100.00 Hz\n",
      "- Upper transition bandwidth: 25.00 Hz (-6 dB cutoff frequency: 112.50 Hz)\n",
      "- Filter length: 3301 samples (6.602 s)\n",
      "\n"
     ]
    },
    {
     "name": "stderr",
     "output_type": "stream",
     "text": [
      "/var/folders/dl/zd_s8q0x20zbxpy0_dzhksbh0000gn/T/ipykernel_68894/1038661286.py:78: RuntimeWarning: The data contains 'boundary' events, indicating data discontinuities. Be cautious of filtering and epoching around these events.\n",
      "  raw = mne.io.read_raw_eeglab(eeg_file, preload=True)\n",
      "[Parallel(n_jobs=1)]: Done  17 tasks      | elapsed:    0.1s\n"
     ]
    },
    {
     "name": "stdout",
     "output_type": "stream",
     "text": [
      "Used Annotations descriptions: ['S  1', 'S  2', 'S  3', 'S 50', 'S 51', 'S 52', 'S100', 'S101', 'S200', 'S201', 'boundary']\n",
      "Not setting metadata\n",
      "510 matching events found\n",
      "Setting baseline interval to [-0.2, 0.0] s\n",
      "Applying baseline correction (mode: mean)\n",
      "0 projection items activated\n",
      "Using data from preloaded Raw for 510 events and 351 original time points ...\n",
      "1 bad epochs dropped\n",
      "    Using multitaper spectrum estimation with 7 DPSS windows\n",
      "Session features shape for sub-047, ses-01: (509, 10)\n",
      "Processing sub-048\n",
      "Reading /Users/ishabharti/EEG Project/ds003523/sub-048/ses-01/eeg/sub-048_ses-01_task-VisualWorkingMemory_eeg.fdt\n",
      "Reading 0 ... 682824  =      0.000 ...  1365.648 secs...\n"
     ]
    },
    {
     "name": "stderr",
     "output_type": "stream",
     "text": [
      "[ERROR] NoDatasetFound(No dataset found at '/Users/ishabharti/EEG Project' for the purpose \"get content of <<['./ds003523/s++15 chars++eg']>>\".  Specify a dataset to work with by providing its path via the `dataset` option, or change the current working directory to be in a dataset.) (NoDatasetFound) \n",
      "usage: datalad get [-h] [-s LABEL] [-d PATH] [-r] [-R LEVELS] [-n]\n",
      "                   [-D DESCRIPTION] [--reckless [auto|ephemeral|shared-...]]\n",
      "                   [-J NJOBS] [--version]\n",
      "                   [PATH ...]\n"
     ]
    },
    {
     "name": "stdout",
     "output_type": "stream",
     "text": [
      "Filtering raw data in 1 contiguous segment\n",
      "Setting up band-pass filter from 0.5 - 1e+02 Hz\n",
      "\n",
      "FIR filter parameters\n",
      "---------------------\n",
      "Designing a one-pass, zero-phase, non-causal bandpass filter:\n",
      "- Windowed time-domain design (firwin) method\n",
      "- Hamming window with 0.0194 passband ripple and 53 dB stopband attenuation\n",
      "- Lower passband edge: 0.50\n",
      "- Lower transition bandwidth: 0.50 Hz (-6 dB cutoff frequency: 0.25 Hz)\n",
      "- Upper passband edge: 100.00 Hz\n",
      "- Upper transition bandwidth: 25.00 Hz (-6 dB cutoff frequency: 112.50 Hz)\n",
      "- Filter length: 3301 samples (6.602 s)\n",
      "\n"
     ]
    },
    {
     "name": "stderr",
     "output_type": "stream",
     "text": [
      "/var/folders/dl/zd_s8q0x20zbxpy0_dzhksbh0000gn/T/ipykernel_68894/1038661286.py:78: RuntimeWarning: The data contains 'boundary' events, indicating data discontinuities. Be cautious of filtering and epoching around these events.\n",
      "  raw = mne.io.read_raw_eeglab(eeg_file, preload=True)\n",
      "[Parallel(n_jobs=1)]: Done  17 tasks      | elapsed:    0.1s\n"
     ]
    },
    {
     "name": "stdout",
     "output_type": "stream",
     "text": [
      "Used Annotations descriptions: ['S  1', 'S  2', 'S  3', 'S 50', 'S 51', 'S 52', 'S100', 'S101', 'S200', 'S201', 'boundary']\n",
      "Not setting metadata\n",
      "511 matching events found\n",
      "Setting baseline interval to [-0.2, 0.0] s\n",
      "Applying baseline correction (mode: mean)\n",
      "0 projection items activated\n",
      "Using data from preloaded Raw for 511 events and 351 original time points ...\n",
      "1 bad epochs dropped\n",
      "    Using multitaper spectrum estimation with 7 DPSS windows\n",
      "Session features shape for sub-048, ses-01: (510, 10)\n",
      "Processing sub-049\n",
      "Reading /Users/ishabharti/EEG Project/ds003523/sub-049/ses-01/eeg/sub-049_ses-01_task-VisualWorkingMemory_eeg.fdt\n",
      "Reading 0 ... 546774  =      0.000 ...  1093.548 secs...\n"
     ]
    },
    {
     "name": "stderr",
     "output_type": "stream",
     "text": [
      "[ERROR] NoDatasetFound(No dataset found at '/Users/ishabharti/EEG Project' for the purpose \"get content of <<['./ds003523/s++15 chars++eg']>>\".  Specify a dataset to work with by providing its path via the `dataset` option, or change the current working directory to be in a dataset.) (NoDatasetFound) \n",
      "usage: datalad get [-h] [-s LABEL] [-d PATH] [-r] [-R LEVELS] [-n]\n",
      "                   [-D DESCRIPTION] [--reckless [auto|ephemeral|shared-...]]\n",
      "                   [-J NJOBS] [--version]\n",
      "                   [PATH ...]\n"
     ]
    },
    {
     "name": "stdout",
     "output_type": "stream",
     "text": [
      "Filtering raw data in 1 contiguous segment\n",
      "Setting up band-pass filter from 0.5 - 1e+02 Hz\n",
      "\n",
      "FIR filter parameters\n",
      "---------------------\n",
      "Designing a one-pass, zero-phase, non-causal bandpass filter:\n",
      "- Windowed time-domain design (firwin) method\n",
      "- Hamming window with 0.0194 passband ripple and 53 dB stopband attenuation\n",
      "- Lower passband edge: 0.50\n",
      "- Lower transition bandwidth: 0.50 Hz (-6 dB cutoff frequency: 0.25 Hz)\n",
      "- Upper passband edge: 100.00 Hz\n",
      "- Upper transition bandwidth: 25.00 Hz (-6 dB cutoff frequency: 112.50 Hz)\n",
      "- Filter length: 3301 samples (6.602 s)\n",
      "\n"
     ]
    },
    {
     "name": "stderr",
     "output_type": "stream",
     "text": [
      "/var/folders/dl/zd_s8q0x20zbxpy0_dzhksbh0000gn/T/ipykernel_68894/1038661286.py:78: RuntimeWarning: The data contains 'boundary' events, indicating data discontinuities. Be cautious of filtering and epoching around these events.\n",
      "  raw = mne.io.read_raw_eeglab(eeg_file, preload=True)\n",
      "[Parallel(n_jobs=1)]: Done  17 tasks      | elapsed:    0.1s\n"
     ]
    },
    {
     "name": "stdout",
     "output_type": "stream",
     "text": [
      "Used Annotations descriptions: ['S  1', 'S  2', 'S  3', 'S 50', 'S 51', 'S 52', 'S100', 'S101', 'S200', 'S201', 'boundary']\n",
      "Not setting metadata\n",
      "403 matching events found\n",
      "Setting baseline interval to [-0.2, 0.0] s\n",
      "Applying baseline correction (mode: mean)\n",
      "0 projection items activated\n",
      "Using data from preloaded Raw for 403 events and 351 original time points ...\n",
      "2 bad epochs dropped\n",
      "    Using multitaper spectrum estimation with 7 DPSS windows\n",
      "Session features shape for sub-049, ses-01: (401, 10)\n",
      "Processing sub-050\n",
      "Reading /Users/ishabharti/EEG Project/ds003523/sub-050/ses-01/eeg/sub-050_ses-01_task-VisualWorkingMemory_eeg.fdt\n",
      "Reading 0 ... 698924  =      0.000 ...  1397.848 secs...\n"
     ]
    },
    {
     "name": "stderr",
     "output_type": "stream",
     "text": [
      "[ERROR] NoDatasetFound(No dataset found at '/Users/ishabharti/EEG Project' for the purpose \"get content of <<['./ds003523/s++15 chars++eg']>>\".  Specify a dataset to work with by providing its path via the `dataset` option, or change the current working directory to be in a dataset.) (NoDatasetFound) \n",
      "usage: datalad get [-h] [-s LABEL] [-d PATH] [-r] [-R LEVELS] [-n]\n",
      "                   [-D DESCRIPTION] [--reckless [auto|ephemeral|shared-...]]\n",
      "                   [-J NJOBS] [--version]\n",
      "                   [PATH ...]\n"
     ]
    },
    {
     "name": "stdout",
     "output_type": "stream",
     "text": [
      "Filtering raw data in 1 contiguous segment\n",
      "Setting up band-pass filter from 0.5 - 1e+02 Hz\n",
      "\n",
      "FIR filter parameters\n",
      "---------------------\n",
      "Designing a one-pass, zero-phase, non-causal bandpass filter:\n",
      "- Windowed time-domain design (firwin) method\n",
      "- Hamming window with 0.0194 passband ripple and 53 dB stopband attenuation\n",
      "- Lower passband edge: 0.50\n",
      "- Lower transition bandwidth: 0.50 Hz (-6 dB cutoff frequency: 0.25 Hz)\n",
      "- Upper passband edge: 100.00 Hz\n",
      "- Upper transition bandwidth: 25.00 Hz (-6 dB cutoff frequency: 112.50 Hz)\n",
      "- Filter length: 3301 samples (6.602 s)\n",
      "\n"
     ]
    },
    {
     "name": "stderr",
     "output_type": "stream",
     "text": [
      "/var/folders/dl/zd_s8q0x20zbxpy0_dzhksbh0000gn/T/ipykernel_68894/1038661286.py:78: RuntimeWarning: The data contains 'boundary' events, indicating data discontinuities. Be cautious of filtering and epoching around these events.\n",
      "  raw = mne.io.read_raw_eeglab(eeg_file, preload=True)\n",
      "[Parallel(n_jobs=1)]: Done  17 tasks      | elapsed:    0.1s\n"
     ]
    },
    {
     "name": "stdout",
     "output_type": "stream",
     "text": [
      "Used Annotations descriptions: ['S  1', 'S  2', 'S  3', 'S 50', 'S 51', 'S 52', 'S100', 'S101', 'S200', 'S201', 'boundary']\n",
      "Not setting metadata\n",
      "510 matching events found\n",
      "Setting baseline interval to [-0.2, 0.0] s\n",
      "Applying baseline correction (mode: mean)\n",
      "0 projection items activated\n",
      "Using data from preloaded Raw for 510 events and 351 original time points ...\n",
      "1 bad epochs dropped\n",
      "    Using multitaper spectrum estimation with 7 DPSS windows\n",
      "Session features shape for sub-050, ses-01: (509, 10)\n",
      "Processing sub-051\n",
      "Reading /Users/ishabharti/EEG Project/ds003523/sub-051/ses-01/eeg/sub-051_ses-01_task-VisualWorkingMemory_eeg.fdt\n",
      "Reading 0 ... 672024  =      0.000 ...  1344.048 secs...\n"
     ]
    },
    {
     "name": "stderr",
     "output_type": "stream",
     "text": [
      "[ERROR] NoDatasetFound(No dataset found at '/Users/ishabharti/EEG Project' for the purpose \"get content of <<['./ds003523/s++15 chars++eg']>>\".  Specify a dataset to work with by providing its path via the `dataset` option, or change the current working directory to be in a dataset.) (NoDatasetFound) \n",
      "usage: datalad get [-h] [-s LABEL] [-d PATH] [-r] [-R LEVELS] [-n]\n",
      "                   [-D DESCRIPTION] [--reckless [auto|ephemeral|shared-...]]\n",
      "                   [-J NJOBS] [--version]\n",
      "                   [PATH ...]\n"
     ]
    },
    {
     "name": "stdout",
     "output_type": "stream",
     "text": [
      "Filtering raw data in 1 contiguous segment\n",
      "Setting up band-pass filter from 0.5 - 1e+02 Hz\n",
      "\n",
      "FIR filter parameters\n",
      "---------------------\n",
      "Designing a one-pass, zero-phase, non-causal bandpass filter:\n",
      "- Windowed time-domain design (firwin) method\n",
      "- Hamming window with 0.0194 passband ripple and 53 dB stopband attenuation\n",
      "- Lower passband edge: 0.50\n",
      "- Lower transition bandwidth: 0.50 Hz (-6 dB cutoff frequency: 0.25 Hz)\n",
      "- Upper passband edge: 100.00 Hz\n",
      "- Upper transition bandwidth: 25.00 Hz (-6 dB cutoff frequency: 112.50 Hz)\n",
      "- Filter length: 3301 samples (6.602 s)\n",
      "\n"
     ]
    },
    {
     "name": "stderr",
     "output_type": "stream",
     "text": [
      "/var/folders/dl/zd_s8q0x20zbxpy0_dzhksbh0000gn/T/ipykernel_68894/1038661286.py:78: RuntimeWarning: The data contains 'boundary' events, indicating data discontinuities. Be cautious of filtering and epoching around these events.\n",
      "  raw = mne.io.read_raw_eeglab(eeg_file, preload=True)\n",
      "[Parallel(n_jobs=1)]: Done  17 tasks      | elapsed:    0.1s\n"
     ]
    },
    {
     "name": "stdout",
     "output_type": "stream",
     "text": [
      "Used Annotations descriptions: ['S  1', 'S  2', 'S  3', 'S 50', 'S 51', 'S 52', 'S100', 'S101', 'S200', 'S201', 'boundary']\n",
      "Not setting metadata\n",
      "509 matching events found\n",
      "Setting baseline interval to [-0.2, 0.0] s\n",
      "Applying baseline correction (mode: mean)\n",
      "0 projection items activated\n",
      "Using data from preloaded Raw for 509 events and 351 original time points ...\n",
      "1 bad epochs dropped\n",
      "    Using multitaper spectrum estimation with 7 DPSS windows\n",
      "Session features shape for sub-051, ses-01: (508, 10)\n",
      "Processing sub-052\n",
      "Reading /Users/ishabharti/EEG Project/ds003523/sub-052/ses-01/eeg/sub-052_ses-01_task-VisualWorkingMemory_eeg.fdt\n",
      "Reading 0 ... 695749  =      0.000 ...  1391.498 secs...\n"
     ]
    },
    {
     "name": "stderr",
     "output_type": "stream",
     "text": [
      "[ERROR] NoDatasetFound(No dataset found at '/Users/ishabharti/EEG Project' for the purpose \"get content of <<['./ds003523/s++15 chars++eg']>>\".  Specify a dataset to work with by providing its path via the `dataset` option, or change the current working directory to be in a dataset.) (NoDatasetFound) \n",
      "usage: datalad get [-h] [-s LABEL] [-d PATH] [-r] [-R LEVELS] [-n]\n",
      "                   [-D DESCRIPTION] [--reckless [auto|ephemeral|shared-...]]\n",
      "                   [-J NJOBS] [--version]\n",
      "                   [PATH ...]\n"
     ]
    },
    {
     "name": "stdout",
     "output_type": "stream",
     "text": [
      "Filtering raw data in 1 contiguous segment\n",
      "Setting up band-pass filter from 0.5 - 1e+02 Hz\n",
      "\n",
      "FIR filter parameters\n",
      "---------------------\n",
      "Designing a one-pass, zero-phase, non-causal bandpass filter:\n",
      "- Windowed time-domain design (firwin) method\n",
      "- Hamming window with 0.0194 passband ripple and 53 dB stopband attenuation\n",
      "- Lower passband edge: 0.50\n",
      "- Lower transition bandwidth: 0.50 Hz (-6 dB cutoff frequency: 0.25 Hz)\n",
      "- Upper passband edge: 100.00 Hz\n",
      "- Upper transition bandwidth: 25.00 Hz (-6 dB cutoff frequency: 112.50 Hz)\n",
      "- Filter length: 3301 samples (6.602 s)\n",
      "\n"
     ]
    },
    {
     "name": "stderr",
     "output_type": "stream",
     "text": [
      "/var/folders/dl/zd_s8q0x20zbxpy0_dzhksbh0000gn/T/ipykernel_68894/1038661286.py:78: RuntimeWarning: The data contains 'boundary' events, indicating data discontinuities. Be cautious of filtering and epoching around these events.\n",
      "  raw = mne.io.read_raw_eeglab(eeg_file, preload=True)\n",
      "[Parallel(n_jobs=1)]: Done  17 tasks      | elapsed:    0.1s\n"
     ]
    },
    {
     "name": "stdout",
     "output_type": "stream",
     "text": [
      "Used Annotations descriptions: ['S  1', 'S  2', 'S  3', 'S 50', 'S 51', 'S 52', 'S100', 'S101', 'S200', 'S201', 'boundary']\n",
      "Not setting metadata\n",
      "507 matching events found\n",
      "Setting baseline interval to [-0.2, 0.0] s\n",
      "Applying baseline correction (mode: mean)\n",
      "0 projection items activated\n",
      "Using data from preloaded Raw for 507 events and 351 original time points ...\n",
      "1 bad epochs dropped\n",
      "    Using multitaper spectrum estimation with 7 DPSS windows\n",
      "Session features shape for sub-052, ses-01: (506, 10)\n",
      "Processing sub-053\n",
      "Reading /Users/ishabharti/EEG Project/ds003523/sub-053/ses-01/eeg/sub-053_ses-01_task-VisualWorkingMemory_eeg.fdt\n",
      "Reading 0 ... 686149  =      0.000 ...  1372.298 secs...\n"
     ]
    },
    {
     "name": "stderr",
     "output_type": "stream",
     "text": [
      "[ERROR] NoDatasetFound(No dataset found at '/Users/ishabharti/EEG Project' for the purpose \"get content of <<['./ds003523/s++15 chars++eg']>>\".  Specify a dataset to work with by providing its path via the `dataset` option, or change the current working directory to be in a dataset.) (NoDatasetFound) \n",
      "usage: datalad get [-h] [-s LABEL] [-d PATH] [-r] [-R LEVELS] [-n]\n",
      "                   [-D DESCRIPTION] [--reckless [auto|ephemeral|shared-...]]\n",
      "                   [-J NJOBS] [--version]\n",
      "                   [PATH ...]\n"
     ]
    },
    {
     "name": "stdout",
     "output_type": "stream",
     "text": [
      "Filtering raw data in 1 contiguous segment\n",
      "Setting up band-pass filter from 0.5 - 1e+02 Hz\n",
      "\n",
      "FIR filter parameters\n",
      "---------------------\n",
      "Designing a one-pass, zero-phase, non-causal bandpass filter:\n",
      "- Windowed time-domain design (firwin) method\n",
      "- Hamming window with 0.0194 passband ripple and 53 dB stopband attenuation\n",
      "- Lower passband edge: 0.50\n",
      "- Lower transition bandwidth: 0.50 Hz (-6 dB cutoff frequency: 0.25 Hz)\n",
      "- Upper passband edge: 100.00 Hz\n",
      "- Upper transition bandwidth: 25.00 Hz (-6 dB cutoff frequency: 112.50 Hz)\n",
      "- Filter length: 3301 samples (6.602 s)\n",
      "\n"
     ]
    },
    {
     "name": "stderr",
     "output_type": "stream",
     "text": [
      "/var/folders/dl/zd_s8q0x20zbxpy0_dzhksbh0000gn/T/ipykernel_68894/1038661286.py:78: RuntimeWarning: The data contains 'boundary' events, indicating data discontinuities. Be cautious of filtering and epoching around these events.\n",
      "  raw = mne.io.read_raw_eeglab(eeg_file, preload=True)\n",
      "[Parallel(n_jobs=1)]: Done  17 tasks      | elapsed:    0.1s\n"
     ]
    },
    {
     "name": "stdout",
     "output_type": "stream",
     "text": [
      "Used Annotations descriptions: ['S  1', 'S  2', 'S  3', 'S 50', 'S 52', 'S100', 'S101', 'S200', 'S201', 'boundary']\n",
      "Not setting metadata\n",
      "510 matching events found\n",
      "Setting baseline interval to [-0.2, 0.0] s\n",
      "Applying baseline correction (mode: mean)\n",
      "0 projection items activated\n",
      "Using data from preloaded Raw for 510 events and 351 original time points ...\n",
      "1 bad epochs dropped\n",
      "    Using multitaper spectrum estimation with 7 DPSS windows\n",
      "Session features shape for sub-053, ses-01: (509, 10)\n",
      "Processing sub-054\n",
      "Reading /Users/ishabharti/EEG Project/ds003523/sub-054/ses-01/eeg/sub-054_ses-01_task-VisualWorkingMemory_eeg.fdt\n",
      "Reading 0 ... 690424  =      0.000 ...  1380.848 secs...\n"
     ]
    },
    {
     "name": "stderr",
     "output_type": "stream",
     "text": [
      "[ERROR] NoDatasetFound(No dataset found at '/Users/ishabharti/EEG Project' for the purpose \"get content of <<['./ds003523/s++15 chars++eg']>>\".  Specify a dataset to work with by providing its path via the `dataset` option, or change the current working directory to be in a dataset.) (NoDatasetFound) \n",
      "usage: datalad get [-h] [-s LABEL] [-d PATH] [-r] [-R LEVELS] [-n]\n",
      "                   [-D DESCRIPTION] [--reckless [auto|ephemeral|shared-...]]\n",
      "                   [-J NJOBS] [--version]\n",
      "                   [PATH ...]\n"
     ]
    },
    {
     "name": "stdout",
     "output_type": "stream",
     "text": [
      "Filtering raw data in 1 contiguous segment\n",
      "Setting up band-pass filter from 0.5 - 1e+02 Hz\n",
      "\n",
      "FIR filter parameters\n",
      "---------------------\n",
      "Designing a one-pass, zero-phase, non-causal bandpass filter:\n",
      "- Windowed time-domain design (firwin) method\n",
      "- Hamming window with 0.0194 passband ripple and 53 dB stopband attenuation\n",
      "- Lower passband edge: 0.50\n",
      "- Lower transition bandwidth: 0.50 Hz (-6 dB cutoff frequency: 0.25 Hz)\n",
      "- Upper passband edge: 100.00 Hz\n",
      "- Upper transition bandwidth: 25.00 Hz (-6 dB cutoff frequency: 112.50 Hz)\n",
      "- Filter length: 3301 samples (6.602 s)\n",
      "\n"
     ]
    },
    {
     "name": "stderr",
     "output_type": "stream",
     "text": [
      "/var/folders/dl/zd_s8q0x20zbxpy0_dzhksbh0000gn/T/ipykernel_68894/1038661286.py:78: RuntimeWarning: The data contains 'boundary' events, indicating data discontinuities. Be cautious of filtering and epoching around these events.\n",
      "  raw = mne.io.read_raw_eeglab(eeg_file, preload=True)\n",
      "[Parallel(n_jobs=1)]: Done  17 tasks      | elapsed:    0.1s\n"
     ]
    },
    {
     "name": "stdout",
     "output_type": "stream",
     "text": [
      "Used Annotations descriptions: ['S  1', 'S  2', 'S  3', 'S 50', 'S 51', 'S 52', 'S100', 'S101', 'S200', 'S201', 'boundary']\n",
      "Not setting metadata\n",
      "510 matching events found\n",
      "Setting baseline interval to [-0.2, 0.0] s\n",
      "Applying baseline correction (mode: mean)\n",
      "0 projection items activated\n",
      "Using data from preloaded Raw for 510 events and 351 original time points ...\n",
      "1 bad epochs dropped\n",
      "    Using multitaper spectrum estimation with 7 DPSS windows\n",
      "Session features shape for sub-054, ses-01: (509, 10)\n",
      "Processing sub-055\n",
      "Reading /Users/ishabharti/EEG Project/ds003523/sub-055/ses-01/eeg/sub-055_ses-01_task-VisualWorkingMemory_eeg.fdt\n",
      "Reading 0 ... 685549  =      0.000 ...  1371.098 secs...\n"
     ]
    },
    {
     "name": "stderr",
     "output_type": "stream",
     "text": [
      "[ERROR] NoDatasetFound(No dataset found at '/Users/ishabharti/EEG Project' for the purpose \"get content of <<['./ds003523/s++15 chars++eg']>>\".  Specify a dataset to work with by providing its path via the `dataset` option, or change the current working directory to be in a dataset.) (NoDatasetFound) \n",
      "usage: datalad get [-h] [-s LABEL] [-d PATH] [-r] [-R LEVELS] [-n]\n",
      "                   [-D DESCRIPTION] [--reckless [auto|ephemeral|shared-...]]\n",
      "                   [-J NJOBS] [--version]\n",
      "                   [PATH ...]\n"
     ]
    },
    {
     "name": "stdout",
     "output_type": "stream",
     "text": [
      "Filtering raw data in 1 contiguous segment\n",
      "Setting up band-pass filter from 0.5 - 1e+02 Hz\n",
      "\n",
      "FIR filter parameters\n",
      "---------------------\n",
      "Designing a one-pass, zero-phase, non-causal bandpass filter:\n",
      "- Windowed time-domain design (firwin) method\n",
      "- Hamming window with 0.0194 passband ripple and 53 dB stopband attenuation\n",
      "- Lower passband edge: 0.50\n",
      "- Lower transition bandwidth: 0.50 Hz (-6 dB cutoff frequency: 0.25 Hz)\n",
      "- Upper passband edge: 100.00 Hz\n",
      "- Upper transition bandwidth: 25.00 Hz (-6 dB cutoff frequency: 112.50 Hz)\n",
      "- Filter length: 3301 samples (6.602 s)\n",
      "\n"
     ]
    },
    {
     "name": "stderr",
     "output_type": "stream",
     "text": [
      "/var/folders/dl/zd_s8q0x20zbxpy0_dzhksbh0000gn/T/ipykernel_68894/1038661286.py:78: RuntimeWarning: The data contains 'boundary' events, indicating data discontinuities. Be cautious of filtering and epoching around these events.\n",
      "  raw = mne.io.read_raw_eeglab(eeg_file, preload=True)\n",
      "[Parallel(n_jobs=1)]: Done  17 tasks      | elapsed:    0.1s\n"
     ]
    },
    {
     "name": "stdout",
     "output_type": "stream",
     "text": [
      "Used Annotations descriptions: ['S  1', 'S  2', 'S  3', 'S 50', 'S 51', 'S 52', 'S100', 'S101', 'S200', 'S201', 'boundary']\n",
      "Not setting metadata\n",
      "511 matching events found\n",
      "Setting baseline interval to [-0.2, 0.0] s\n",
      "Applying baseline correction (mode: mean)\n",
      "0 projection items activated\n",
      "Using data from preloaded Raw for 511 events and 351 original time points ...\n",
      "1 bad epochs dropped\n",
      "    Using multitaper spectrum estimation with 7 DPSS windows\n",
      "Session features shape for sub-055, ses-01: (510, 10)\n",
      "Processing sub-057\n",
      "Reading /Users/ishabharti/EEG Project/ds003523/sub-057/ses-01/eeg/sub-057_ses-01_task-VisualWorkingMemory_eeg.fdt\n",
      "Reading 0 ... 688849  =      0.000 ...  1377.698 secs...\n"
     ]
    },
    {
     "name": "stderr",
     "output_type": "stream",
     "text": [
      "[ERROR] NoDatasetFound(No dataset found at '/Users/ishabharti/EEG Project' for the purpose \"get content of <<['./ds003523/s++15 chars++eg']>>\".  Specify a dataset to work with by providing its path via the `dataset` option, or change the current working directory to be in a dataset.) (NoDatasetFound) \n",
      "usage: datalad get [-h] [-s LABEL] [-d PATH] [-r] [-R LEVELS] [-n]\n",
      "                   [-D DESCRIPTION] [--reckless [auto|ephemeral|shared-...]]\n",
      "                   [-J NJOBS] [--version]\n",
      "                   [PATH ...]\n"
     ]
    },
    {
     "name": "stdout",
     "output_type": "stream",
     "text": [
      "Filtering raw data in 1 contiguous segment\n",
      "Setting up band-pass filter from 0.5 - 1e+02 Hz\n",
      "\n",
      "FIR filter parameters\n",
      "---------------------\n",
      "Designing a one-pass, zero-phase, non-causal bandpass filter:\n",
      "- Windowed time-domain design (firwin) method\n",
      "- Hamming window with 0.0194 passband ripple and 53 dB stopband attenuation\n",
      "- Lower passband edge: 0.50\n",
      "- Lower transition bandwidth: 0.50 Hz (-6 dB cutoff frequency: 0.25 Hz)\n",
      "- Upper passband edge: 100.00 Hz\n",
      "- Upper transition bandwidth: 25.00 Hz (-6 dB cutoff frequency: 112.50 Hz)\n",
      "- Filter length: 3301 samples (6.602 s)\n",
      "\n"
     ]
    },
    {
     "name": "stderr",
     "output_type": "stream",
     "text": [
      "/var/folders/dl/zd_s8q0x20zbxpy0_dzhksbh0000gn/T/ipykernel_68894/1038661286.py:78: RuntimeWarning: The data contains 'boundary' events, indicating data discontinuities. Be cautious of filtering and epoching around these events.\n",
      "  raw = mne.io.read_raw_eeglab(eeg_file, preload=True)\n",
      "[Parallel(n_jobs=1)]: Done  17 tasks      | elapsed:    0.1s\n"
     ]
    },
    {
     "name": "stdout",
     "output_type": "stream",
     "text": [
      "Used Annotations descriptions: ['S  1', 'S  2', 'S  3', 'S 50', 'S 51', 'S 52', 'S100', 'S101', 'S200', 'S201', 'boundary']\n",
      "Not setting metadata\n",
      "511 matching events found\n",
      "Setting baseline interval to [-0.2, 0.0] s\n",
      "Applying baseline correction (mode: mean)\n",
      "0 projection items activated\n",
      "Using data from preloaded Raw for 511 events and 351 original time points ...\n",
      "1 bad epochs dropped\n",
      "    Using multitaper spectrum estimation with 7 DPSS windows\n",
      "Session features shape for sub-057, ses-01: (510, 10)\n",
      "Processing sub-058\n",
      "Reading /Users/ishabharti/EEG Project/ds003523/sub-058/ses-01/eeg/sub-058_ses-01_task-VisualWorkingMemory_eeg.fdt\n",
      "Reading 0 ... 698849  =      0.000 ...  1397.698 secs...\n"
     ]
    },
    {
     "name": "stderr",
     "output_type": "stream",
     "text": [
      "[ERROR] NoDatasetFound(No dataset found at '/Users/ishabharti/EEG Project' for the purpose \"get content of <<['./ds003523/s++15 chars++eg']>>\".  Specify a dataset to work with by providing its path via the `dataset` option, or change the current working directory to be in a dataset.) (NoDatasetFound) \n",
      "usage: datalad get [-h] [-s LABEL] [-d PATH] [-r] [-R LEVELS] [-n]\n",
      "                   [-D DESCRIPTION] [--reckless [auto|ephemeral|shared-...]]\n",
      "                   [-J NJOBS] [--version]\n",
      "                   [PATH ...]\n"
     ]
    },
    {
     "name": "stdout",
     "output_type": "stream",
     "text": [
      "Filtering raw data in 1 contiguous segment\n",
      "Setting up band-pass filter from 0.5 - 1e+02 Hz\n",
      "\n",
      "FIR filter parameters\n",
      "---------------------\n",
      "Designing a one-pass, zero-phase, non-causal bandpass filter:\n",
      "- Windowed time-domain design (firwin) method\n",
      "- Hamming window with 0.0194 passband ripple and 53 dB stopband attenuation\n",
      "- Lower passband edge: 0.50\n",
      "- Lower transition bandwidth: 0.50 Hz (-6 dB cutoff frequency: 0.25 Hz)\n",
      "- Upper passband edge: 100.00 Hz\n",
      "- Upper transition bandwidth: 25.00 Hz (-6 dB cutoff frequency: 112.50 Hz)\n",
      "- Filter length: 3301 samples (6.602 s)\n",
      "\n"
     ]
    },
    {
     "name": "stderr",
     "output_type": "stream",
     "text": [
      "/var/folders/dl/zd_s8q0x20zbxpy0_dzhksbh0000gn/T/ipykernel_68894/1038661286.py:78: RuntimeWarning: The data contains 'boundary' events, indicating data discontinuities. Be cautious of filtering and epoching around these events.\n",
      "  raw = mne.io.read_raw_eeglab(eeg_file, preload=True)\n",
      "[Parallel(n_jobs=1)]: Done  17 tasks      | elapsed:    0.1s\n"
     ]
    },
    {
     "name": "stdout",
     "output_type": "stream",
     "text": [
      "Used Annotations descriptions: ['S  1', 'S  2', 'S  3', 'S 50', 'S 51', 'S 52', 'S100', 'S101', 'S200', 'S201', 'boundary']\n",
      "Not setting metadata\n",
      "509 matching events found\n",
      "Setting baseline interval to [-0.2, 0.0] s\n",
      "Applying baseline correction (mode: mean)\n",
      "0 projection items activated\n",
      "Using data from preloaded Raw for 509 events and 351 original time points ...\n",
      "1 bad epochs dropped\n",
      "    Using multitaper spectrum estimation with 7 DPSS windows\n",
      "Session features shape for sub-058, ses-01: (508, 10)\n",
      "Processing sub-059\n",
      "Reading /Users/ishabharti/EEG Project/ds003523/sub-059/ses-01/eeg/sub-059_ses-01_task-VisualWorkingMemory_eeg.fdt\n",
      "Reading 0 ... 728949  =      0.000 ...  1457.898 secs...\n"
     ]
    },
    {
     "name": "stderr",
     "output_type": "stream",
     "text": [
      "[ERROR] NoDatasetFound(No dataset found at '/Users/ishabharti/EEG Project' for the purpose \"get content of <<['./ds003523/s++15 chars++eg']>>\".  Specify a dataset to work with by providing its path via the `dataset` option, or change the current working directory to be in a dataset.) (NoDatasetFound) \n",
      "usage: datalad get [-h] [-s LABEL] [-d PATH] [-r] [-R LEVELS] [-n]\n",
      "                   [-D DESCRIPTION] [--reckless [auto|ephemeral|shared-...]]\n",
      "                   [-J NJOBS] [--version]\n",
      "                   [PATH ...]\n"
     ]
    },
    {
     "name": "stdout",
     "output_type": "stream",
     "text": [
      "Filtering raw data in 1 contiguous segment\n",
      "Setting up band-pass filter from 0.5 - 1e+02 Hz\n",
      "\n",
      "FIR filter parameters\n",
      "---------------------\n",
      "Designing a one-pass, zero-phase, non-causal bandpass filter:\n",
      "- Windowed time-domain design (firwin) method\n",
      "- Hamming window with 0.0194 passband ripple and 53 dB stopband attenuation\n",
      "- Lower passband edge: 0.50\n",
      "- Lower transition bandwidth: 0.50 Hz (-6 dB cutoff frequency: 0.25 Hz)\n",
      "- Upper passband edge: 100.00 Hz\n",
      "- Upper transition bandwidth: 25.00 Hz (-6 dB cutoff frequency: 112.50 Hz)\n",
      "- Filter length: 3301 samples (6.602 s)\n",
      "\n"
     ]
    },
    {
     "name": "stderr",
     "output_type": "stream",
     "text": [
      "/var/folders/dl/zd_s8q0x20zbxpy0_dzhksbh0000gn/T/ipykernel_68894/1038661286.py:78: RuntimeWarning: The data contains 'boundary' events, indicating data discontinuities. Be cautious of filtering and epoching around these events.\n",
      "  raw = mne.io.read_raw_eeglab(eeg_file, preload=True)\n",
      "[Parallel(n_jobs=1)]: Done  17 tasks      | elapsed:    0.1s\n"
     ]
    },
    {
     "name": "stdout",
     "output_type": "stream",
     "text": [
      "Used Annotations descriptions: ['S  1', 'S  2', 'S  3', 'S 50', 'S 51', 'S 52', 'S100', 'S101', 'S200', 'S201', 'boundary']\n",
      "Not setting metadata\n",
      "511 matching events found\n",
      "Setting baseline interval to [-0.2, 0.0] s\n",
      "Applying baseline correction (mode: mean)\n",
      "0 projection items activated\n",
      "Using data from preloaded Raw for 511 events and 351 original time points ...\n",
      "1 bad epochs dropped\n",
      "    Using multitaper spectrum estimation with 7 DPSS windows\n",
      "Session features shape for sub-059, ses-01: (510, 10)\n",
      "Processing sub-060\n",
      "Reading /Users/ishabharti/EEG Project/ds003523/sub-060/ses-01/eeg/sub-060_ses-01_task-VisualWorkingMemory_eeg.fdt\n",
      "Reading 0 ... 712124  =      0.000 ...  1424.248 secs...\n"
     ]
    },
    {
     "name": "stderr",
     "output_type": "stream",
     "text": [
      "[ERROR] NoDatasetFound(No dataset found at '/Users/ishabharti/EEG Project' for the purpose \"get content of <<['./ds003523/s++15 chars++eg']>>\".  Specify a dataset to work with by providing its path via the `dataset` option, or change the current working directory to be in a dataset.) (NoDatasetFound) \n",
      "usage: datalad get [-h] [-s LABEL] [-d PATH] [-r] [-R LEVELS] [-n]\n",
      "                   [-D DESCRIPTION] [--reckless [auto|ephemeral|shared-...]]\n",
      "                   [-J NJOBS] [--version]\n",
      "                   [PATH ...]\n"
     ]
    },
    {
     "name": "stdout",
     "output_type": "stream",
     "text": [
      "Filtering raw data in 1 contiguous segment\n",
      "Setting up band-pass filter from 0.5 - 1e+02 Hz\n",
      "\n",
      "FIR filter parameters\n",
      "---------------------\n",
      "Designing a one-pass, zero-phase, non-causal bandpass filter:\n",
      "- Windowed time-domain design (firwin) method\n",
      "- Hamming window with 0.0194 passband ripple and 53 dB stopband attenuation\n",
      "- Lower passband edge: 0.50\n",
      "- Lower transition bandwidth: 0.50 Hz (-6 dB cutoff frequency: 0.25 Hz)\n",
      "- Upper passband edge: 100.00 Hz\n",
      "- Upper transition bandwidth: 25.00 Hz (-6 dB cutoff frequency: 112.50 Hz)\n",
      "- Filter length: 3301 samples (6.602 s)\n",
      "\n"
     ]
    },
    {
     "name": "stderr",
     "output_type": "stream",
     "text": [
      "/var/folders/dl/zd_s8q0x20zbxpy0_dzhksbh0000gn/T/ipykernel_68894/1038661286.py:78: RuntimeWarning: The data contains 'boundary' events, indicating data discontinuities. Be cautious of filtering and epoching around these events.\n",
      "  raw = mne.io.read_raw_eeglab(eeg_file, preload=True)\n",
      "[Parallel(n_jobs=1)]: Done  17 tasks      | elapsed:    0.1s\n"
     ]
    },
    {
     "name": "stdout",
     "output_type": "stream",
     "text": [
      "Used Annotations descriptions: ['S  1', 'S  2', 'S  3', 'S 50', 'S 51', 'S 52', 'S100', 'S101', 'S200', 'S201', 'boundary']\n",
      "Not setting metadata\n",
      "510 matching events found\n",
      "Setting baseline interval to [-0.2, 0.0] s\n",
      "Applying baseline correction (mode: mean)\n",
      "0 projection items activated\n",
      "Using data from preloaded Raw for 510 events and 351 original time points ...\n",
      "1 bad epochs dropped\n",
      "    Using multitaper spectrum estimation with 7 DPSS windows\n",
      "Session features shape for sub-060, ses-01: (509, 10)\n",
      "Processing sub-061\n",
      "Reading /Users/ishabharti/EEG Project/ds003523/sub-061/ses-01/eeg/sub-061_ses-01_task-VisualWorkingMemory_eeg.fdt\n",
      "Reading 0 ... 807774  =      0.000 ...  1615.548 secs...\n"
     ]
    },
    {
     "name": "stderr",
     "output_type": "stream",
     "text": [
      "[ERROR] NoDatasetFound(No dataset found at '/Users/ishabharti/EEG Project' for the purpose \"get content of <<['./ds003523/s++15 chars++eg']>>\".  Specify a dataset to work with by providing its path via the `dataset` option, or change the current working directory to be in a dataset.) (NoDatasetFound) \n",
      "usage: datalad get [-h] [-s LABEL] [-d PATH] [-r] [-R LEVELS] [-n]\n",
      "                   [-D DESCRIPTION] [--reckless [auto|ephemeral|shared-...]]\n",
      "                   [-J NJOBS] [--version]\n",
      "                   [PATH ...]\n"
     ]
    },
    {
     "name": "stdout",
     "output_type": "stream",
     "text": [
      "Filtering raw data in 1 contiguous segment\n",
      "Setting up band-pass filter from 0.5 - 1e+02 Hz\n",
      "\n",
      "FIR filter parameters\n",
      "---------------------\n",
      "Designing a one-pass, zero-phase, non-causal bandpass filter:\n",
      "- Windowed time-domain design (firwin) method\n",
      "- Hamming window with 0.0194 passband ripple and 53 dB stopband attenuation\n",
      "- Lower passband edge: 0.50\n",
      "- Lower transition bandwidth: 0.50 Hz (-6 dB cutoff frequency: 0.25 Hz)\n",
      "- Upper passband edge: 100.00 Hz\n",
      "- Upper transition bandwidth: 25.00 Hz (-6 dB cutoff frequency: 112.50 Hz)\n",
      "- Filter length: 3301 samples (6.602 s)\n",
      "\n"
     ]
    },
    {
     "name": "stderr",
     "output_type": "stream",
     "text": [
      "/var/folders/dl/zd_s8q0x20zbxpy0_dzhksbh0000gn/T/ipykernel_68894/1038661286.py:78: RuntimeWarning: The data contains 'boundary' events, indicating data discontinuities. Be cautious of filtering and epoching around these events.\n",
      "  raw = mne.io.read_raw_eeglab(eeg_file, preload=True)\n",
      "[Parallel(n_jobs=1)]: Done  17 tasks      | elapsed:    0.2s\n"
     ]
    },
    {
     "name": "stdout",
     "output_type": "stream",
     "text": [
      "Used Annotations descriptions: ['S  1', 'S  2', 'S  3', 'S 50', 'S 51', 'S 52', 'S100', 'S101', 'S200', 'S201', 'boundary']\n",
      "Not setting metadata\n",
      "496 matching events found\n",
      "Setting baseline interval to [-0.2, 0.0] s\n",
      "Applying baseline correction (mode: mean)\n",
      "0 projection items activated\n",
      "Using data from preloaded Raw for 496 events and 351 original time points ...\n",
      "1 bad epochs dropped\n",
      "    Using multitaper spectrum estimation with 7 DPSS windows\n",
      "Session features shape for sub-061, ses-01: (495, 10)\n",
      "Processing sub-062\n",
      "Reading /Users/ishabharti/EEG Project/ds003523/sub-062/ses-01/eeg/sub-062_ses-01_task-VisualWorkingMemory_eeg.fdt\n",
      "Reading 0 ... 822674  =      0.000 ...  1645.348 secs...\n"
     ]
    },
    {
     "name": "stderr",
     "output_type": "stream",
     "text": [
      "[ERROR] NoDatasetFound(No dataset found at '/Users/ishabharti/EEG Project' for the purpose \"get content of <<['./ds003523/s++15 chars++eg']>>\".  Specify a dataset to work with by providing its path via the `dataset` option, or change the current working directory to be in a dataset.) (NoDatasetFound) \n",
      "usage: datalad get [-h] [-s LABEL] [-d PATH] [-r] [-R LEVELS] [-n]\n",
      "                   [-D DESCRIPTION] [--reckless [auto|ephemeral|shared-...]]\n",
      "                   [-J NJOBS] [--version]\n",
      "                   [PATH ...]\n"
     ]
    },
    {
     "name": "stdout",
     "output_type": "stream",
     "text": [
      "Filtering raw data in 1 contiguous segment\n",
      "Setting up band-pass filter from 0.5 - 1e+02 Hz\n",
      "\n",
      "FIR filter parameters\n",
      "---------------------\n",
      "Designing a one-pass, zero-phase, non-causal bandpass filter:\n",
      "- Windowed time-domain design (firwin) method\n",
      "- Hamming window with 0.0194 passband ripple and 53 dB stopband attenuation\n",
      "- Lower passband edge: 0.50\n",
      "- Lower transition bandwidth: 0.50 Hz (-6 dB cutoff frequency: 0.25 Hz)\n",
      "- Upper passband edge: 100.00 Hz\n",
      "- Upper transition bandwidth: 25.00 Hz (-6 dB cutoff frequency: 112.50 Hz)\n",
      "- Filter length: 3301 samples (6.602 s)\n",
      "\n"
     ]
    },
    {
     "name": "stderr",
     "output_type": "stream",
     "text": [
      "/var/folders/dl/zd_s8q0x20zbxpy0_dzhksbh0000gn/T/ipykernel_68894/1038661286.py:78: RuntimeWarning: The data contains 'boundary' events, indicating data discontinuities. Be cautious of filtering and epoching around these events.\n",
      "  raw = mne.io.read_raw_eeglab(eeg_file, preload=True)\n",
      "[Parallel(n_jobs=1)]: Done  17 tasks      | elapsed:    0.2s\n"
     ]
    },
    {
     "name": "stdout",
     "output_type": "stream",
     "text": [
      "Used Annotations descriptions: ['S  1', 'S  2', 'S  3', 'S 50', 'S 51', 'S 52', 'S100', 'S101', 'S200', 'S201', 'boundary']\n",
      "Not setting metadata\n",
      "480 matching events found\n",
      "Setting baseline interval to [-0.2, 0.0] s\n",
      "Applying baseline correction (mode: mean)\n",
      "0 projection items activated\n",
      "Using data from preloaded Raw for 480 events and 351 original time points ...\n",
      "1 bad epochs dropped\n",
      "    Using multitaper spectrum estimation with 7 DPSS windows\n",
      "Session features shape for sub-062, ses-01: (479, 10)\n",
      "Processing sub-063\n",
      "Reading /Users/ishabharti/EEG Project/ds003523/sub-063/ses-01/eeg/sub-063_ses-01_task-VisualWorkingMemory_eeg.fdt\n",
      "Reading 0 ... 692124  =      0.000 ...  1384.248 secs...\n"
     ]
    },
    {
     "name": "stderr",
     "output_type": "stream",
     "text": [
      "[ERROR] NoDatasetFound(No dataset found at '/Users/ishabharti/EEG Project' for the purpose \"get content of <<['./ds003523/s++15 chars++eg']>>\".  Specify a dataset to work with by providing its path via the `dataset` option, or change the current working directory to be in a dataset.) (NoDatasetFound) \n",
      "usage: datalad get [-h] [-s LABEL] [-d PATH] [-r] [-R LEVELS] [-n]\n",
      "                   [-D DESCRIPTION] [--reckless [auto|ephemeral|shared-...]]\n",
      "                   [-J NJOBS] [--version]\n",
      "                   [PATH ...]\n"
     ]
    },
    {
     "name": "stdout",
     "output_type": "stream",
     "text": [
      "Filtering raw data in 1 contiguous segment\n",
      "Setting up band-pass filter from 0.5 - 1e+02 Hz\n",
      "\n",
      "FIR filter parameters\n",
      "---------------------\n",
      "Designing a one-pass, zero-phase, non-causal bandpass filter:\n",
      "- Windowed time-domain design (firwin) method\n",
      "- Hamming window with 0.0194 passband ripple and 53 dB stopband attenuation\n",
      "- Lower passband edge: 0.50\n",
      "- Lower transition bandwidth: 0.50 Hz (-6 dB cutoff frequency: 0.25 Hz)\n",
      "- Upper passband edge: 100.00 Hz\n",
      "- Upper transition bandwidth: 25.00 Hz (-6 dB cutoff frequency: 112.50 Hz)\n",
      "- Filter length: 3301 samples (6.602 s)\n",
      "\n"
     ]
    },
    {
     "name": "stderr",
     "output_type": "stream",
     "text": [
      "/var/folders/dl/zd_s8q0x20zbxpy0_dzhksbh0000gn/T/ipykernel_68894/1038661286.py:78: RuntimeWarning: The data contains 'boundary' events, indicating data discontinuities. Be cautious of filtering and epoching around these events.\n",
      "  raw = mne.io.read_raw_eeglab(eeg_file, preload=True)\n",
      "[Parallel(n_jobs=1)]: Done  17 tasks      | elapsed:    0.1s\n"
     ]
    },
    {
     "name": "stdout",
     "output_type": "stream",
     "text": [
      "Used Annotations descriptions: ['S  1', 'S  2', 'S  3', 'S 50', 'S 51', 'S 52', 'S100', 'S101', 'S200', 'S201', 'boundary']\n",
      "Not setting metadata\n",
      "510 matching events found\n",
      "Setting baseline interval to [-0.2, 0.0] s\n",
      "Applying baseline correction (mode: mean)\n",
      "0 projection items activated\n",
      "Using data from preloaded Raw for 510 events and 351 original time points ...\n",
      "1 bad epochs dropped\n",
      "    Using multitaper spectrum estimation with 7 DPSS windows\n",
      "Session features shape for sub-063, ses-01: (509, 10)\n",
      "Processing sub-064\n",
      "Reading /Users/ishabharti/EEG Project/ds003523/sub-064/ses-01/eeg/sub-064_ses-01_task-VisualWorkingMemory_eeg.fdt\n",
      "Reading 0 ... 735924  =      0.000 ...  1471.848 secs...\n"
     ]
    },
    {
     "name": "stderr",
     "output_type": "stream",
     "text": [
      "[ERROR] NoDatasetFound(No dataset found at '/Users/ishabharti/EEG Project' for the purpose \"get content of <<['./ds003523/s++15 chars++eg']>>\".  Specify a dataset to work with by providing its path via the `dataset` option, or change the current working directory to be in a dataset.) (NoDatasetFound) \n",
      "usage: datalad get [-h] [-s LABEL] [-d PATH] [-r] [-R LEVELS] [-n]\n",
      "                   [-D DESCRIPTION] [--reckless [auto|ephemeral|shared-...]]\n",
      "                   [-J NJOBS] [--version]\n",
      "                   [PATH ...]\n"
     ]
    },
    {
     "name": "stdout",
     "output_type": "stream",
     "text": [
      "Filtering raw data in 1 contiguous segment\n",
      "Setting up band-pass filter from 0.5 - 1e+02 Hz\n",
      "\n",
      "FIR filter parameters\n",
      "---------------------\n",
      "Designing a one-pass, zero-phase, non-causal bandpass filter:\n",
      "- Windowed time-domain design (firwin) method\n",
      "- Hamming window with 0.0194 passband ripple and 53 dB stopband attenuation\n",
      "- Lower passband edge: 0.50\n",
      "- Lower transition bandwidth: 0.50 Hz (-6 dB cutoff frequency: 0.25 Hz)\n",
      "- Upper passband edge: 100.00 Hz\n",
      "- Upper transition bandwidth: 25.00 Hz (-6 dB cutoff frequency: 112.50 Hz)\n",
      "- Filter length: 3301 samples (6.602 s)\n",
      "\n"
     ]
    },
    {
     "name": "stderr",
     "output_type": "stream",
     "text": [
      "/var/folders/dl/zd_s8q0x20zbxpy0_dzhksbh0000gn/T/ipykernel_68894/1038661286.py:78: RuntimeWarning: The data contains 'boundary' events, indicating data discontinuities. Be cautious of filtering and epoching around these events.\n",
      "  raw = mne.io.read_raw_eeglab(eeg_file, preload=True)\n",
      "[Parallel(n_jobs=1)]: Done  17 tasks      | elapsed:    0.1s\n"
     ]
    },
    {
     "name": "stdout",
     "output_type": "stream",
     "text": [
      "Used Annotations descriptions: ['S  1', 'S  2', 'S  3', 'S 50', 'S 52', 'S100', 'S101', 'S200', 'S201', 'boundary']\n",
      "Not setting metadata\n",
      "511 matching events found\n",
      "Setting baseline interval to [-0.2, 0.0] s\n",
      "Applying baseline correction (mode: mean)\n",
      "0 projection items activated\n",
      "Using data from preloaded Raw for 511 events and 351 original time points ...\n",
      "1 bad epochs dropped\n",
      "    Using multitaper spectrum estimation with 7 DPSS windows\n",
      "Session features shape for sub-064, ses-01: (510, 10)\n",
      "Processing sub-065\n",
      "Reading /Users/ishabharti/EEG Project/ds003523/sub-065/ses-01/eeg/sub-065_ses-01_task-VisualWorkingMemory_eeg.fdt\n",
      "Reading 0 ... 716149  =      0.000 ...  1432.298 secs...\n"
     ]
    },
    {
     "name": "stderr",
     "output_type": "stream",
     "text": [
      "[ERROR] NoDatasetFound(No dataset found at '/Users/ishabharti/EEG Project' for the purpose \"get content of <<['./ds003523/s++15 chars++eg']>>\".  Specify a dataset to work with by providing its path via the `dataset` option, or change the current working directory to be in a dataset.) (NoDatasetFound) \n",
      "usage: datalad get [-h] [-s LABEL] [-d PATH] [-r] [-R LEVELS] [-n]\n",
      "                   [-D DESCRIPTION] [--reckless [auto|ephemeral|shared-...]]\n",
      "                   [-J NJOBS] [--version]\n",
      "                   [PATH ...]\n"
     ]
    },
    {
     "name": "stdout",
     "output_type": "stream",
     "text": [
      "Filtering raw data in 1 contiguous segment\n",
      "Setting up band-pass filter from 0.5 - 1e+02 Hz\n",
      "\n",
      "FIR filter parameters\n",
      "---------------------\n",
      "Designing a one-pass, zero-phase, non-causal bandpass filter:\n",
      "- Windowed time-domain design (firwin) method\n",
      "- Hamming window with 0.0194 passband ripple and 53 dB stopband attenuation\n",
      "- Lower passband edge: 0.50\n",
      "- Lower transition bandwidth: 0.50 Hz (-6 dB cutoff frequency: 0.25 Hz)\n",
      "- Upper passband edge: 100.00 Hz\n",
      "- Upper transition bandwidth: 25.00 Hz (-6 dB cutoff frequency: 112.50 Hz)\n",
      "- Filter length: 3301 samples (6.602 s)\n",
      "\n"
     ]
    },
    {
     "name": "stderr",
     "output_type": "stream",
     "text": [
      "/var/folders/dl/zd_s8q0x20zbxpy0_dzhksbh0000gn/T/ipykernel_68894/1038661286.py:78: RuntimeWarning: The data contains 'boundary' events, indicating data discontinuities. Be cautious of filtering and epoching around these events.\n",
      "  raw = mne.io.read_raw_eeglab(eeg_file, preload=True)\n",
      "[Parallel(n_jobs=1)]: Done  17 tasks      | elapsed:    0.1s\n"
     ]
    },
    {
     "name": "stdout",
     "output_type": "stream",
     "text": [
      "Used Annotations descriptions: ['S  1', 'S  2', 'S  3', 'S 50', 'S 51', 'S 52', 'S100', 'S101', 'S200', 'S201', 'boundary']\n",
      "Not setting metadata\n",
      "511 matching events found\n",
      "Setting baseline interval to [-0.2, 0.0] s\n",
      "Applying baseline correction (mode: mean)\n",
      "0 projection items activated\n",
      "Using data from preloaded Raw for 511 events and 351 original time points ...\n",
      "1 bad epochs dropped\n",
      "    Using multitaper spectrum estimation with 7 DPSS windows\n",
      "Session features shape for sub-065, ses-01: (510, 10)\n",
      "Processing sub-066\n",
      "Reading /Users/ishabharti/EEG Project/ds003523/sub-066/ses-01/eeg/sub-066_ses-01_task-VisualWorkingMemory_eeg.fdt\n",
      "Reading 0 ... 709174  =      0.000 ...  1418.348 secs...\n"
     ]
    },
    {
     "name": "stderr",
     "output_type": "stream",
     "text": [
      "[ERROR] NoDatasetFound(No dataset found at '/Users/ishabharti/EEG Project' for the purpose \"get content of <<['./ds003523/s++15 chars++eg']>>\".  Specify a dataset to work with by providing its path via the `dataset` option, or change the current working directory to be in a dataset.) (NoDatasetFound) \n",
      "usage: datalad get [-h] [-s LABEL] [-d PATH] [-r] [-R LEVELS] [-n]\n",
      "                   [-D DESCRIPTION] [--reckless [auto|ephemeral|shared-...]]\n",
      "                   [-J NJOBS] [--version]\n",
      "                   [PATH ...]\n"
     ]
    },
    {
     "name": "stdout",
     "output_type": "stream",
     "text": [
      "Filtering raw data in 1 contiguous segment\n",
      "Setting up band-pass filter from 0.5 - 1e+02 Hz\n",
      "\n",
      "FIR filter parameters\n",
      "---------------------\n",
      "Designing a one-pass, zero-phase, non-causal bandpass filter:\n",
      "- Windowed time-domain design (firwin) method\n",
      "- Hamming window with 0.0194 passband ripple and 53 dB stopband attenuation\n",
      "- Lower passband edge: 0.50\n",
      "- Lower transition bandwidth: 0.50 Hz (-6 dB cutoff frequency: 0.25 Hz)\n",
      "- Upper passband edge: 100.00 Hz\n",
      "- Upper transition bandwidth: 25.00 Hz (-6 dB cutoff frequency: 112.50 Hz)\n",
      "- Filter length: 3301 samples (6.602 s)\n",
      "\n"
     ]
    },
    {
     "name": "stderr",
     "output_type": "stream",
     "text": [
      "/var/folders/dl/zd_s8q0x20zbxpy0_dzhksbh0000gn/T/ipykernel_68894/1038661286.py:78: RuntimeWarning: The data contains 'boundary' events, indicating data discontinuities. Be cautious of filtering and epoching around these events.\n",
      "  raw = mne.io.read_raw_eeglab(eeg_file, preload=True)\n",
      "[Parallel(n_jobs=1)]: Done  17 tasks      | elapsed:    0.1s\n"
     ]
    },
    {
     "name": "stdout",
     "output_type": "stream",
     "text": [
      "Used Annotations descriptions: ['S  1', 'S  2', 'S  3', 'S 50', 'S 51', 'S 52', 'S100', 'S101', 'S200', 'S201', 'boundary']\n",
      "Not setting metadata\n",
      "505 matching events found\n",
      "Setting baseline interval to [-0.2, 0.0] s\n",
      "Applying baseline correction (mode: mean)\n",
      "0 projection items activated\n",
      "Using data from preloaded Raw for 505 events and 351 original time points ...\n",
      "1 bad epochs dropped\n",
      "    Using multitaper spectrum estimation with 7 DPSS windows\n",
      "Session features shape for sub-066, ses-01: (504, 10)\n",
      "Processing sub-067\n",
      "Reading /Users/ishabharti/EEG Project/ds003523/sub-067/ses-01/eeg/sub-067_ses-01_task-VisualWorkingMemory_eeg.fdt\n",
      "Reading 0 ... 849874  =      0.000 ...  1699.748 secs...\n"
     ]
    },
    {
     "name": "stderr",
     "output_type": "stream",
     "text": [
      "[ERROR] NoDatasetFound(No dataset found at '/Users/ishabharti/EEG Project' for the purpose \"get content of <<['./ds003523/s++15 chars++eg']>>\".  Specify a dataset to work with by providing its path via the `dataset` option, or change the current working directory to be in a dataset.) (NoDatasetFound) \n",
      "usage: datalad get [-h] [-s LABEL] [-d PATH] [-r] [-R LEVELS] [-n]\n",
      "                   [-D DESCRIPTION] [--reckless [auto|ephemeral|shared-...]]\n",
      "                   [-J NJOBS] [--version]\n",
      "                   [PATH ...]\n"
     ]
    },
    {
     "name": "stdout",
     "output_type": "stream",
     "text": [
      "Filtering raw data in 1 contiguous segment\n",
      "Setting up band-pass filter from 0.5 - 1e+02 Hz\n",
      "\n",
      "FIR filter parameters\n",
      "---------------------\n",
      "Designing a one-pass, zero-phase, non-causal bandpass filter:\n",
      "- Windowed time-domain design (firwin) method\n",
      "- Hamming window with 0.0194 passband ripple and 53 dB stopband attenuation\n",
      "- Lower passband edge: 0.50\n",
      "- Lower transition bandwidth: 0.50 Hz (-6 dB cutoff frequency: 0.25 Hz)\n",
      "- Upper passband edge: 100.00 Hz\n",
      "- Upper transition bandwidth: 25.00 Hz (-6 dB cutoff frequency: 112.50 Hz)\n",
      "- Filter length: 3301 samples (6.602 s)\n",
      "\n"
     ]
    },
    {
     "name": "stderr",
     "output_type": "stream",
     "text": [
      "/var/folders/dl/zd_s8q0x20zbxpy0_dzhksbh0000gn/T/ipykernel_68894/1038661286.py:78: RuntimeWarning: The data contains 'boundary' events, indicating data discontinuities. Be cautious of filtering and epoching around these events.\n",
      "  raw = mne.io.read_raw_eeglab(eeg_file, preload=True)\n",
      "[Parallel(n_jobs=1)]: Done  17 tasks      | elapsed:    0.2s\n"
     ]
    },
    {
     "name": "stdout",
     "output_type": "stream",
     "text": [
      "Used Annotations descriptions: ['S  1', 'S  2', 'S  3', 'S 50', 'S 51', 'S 52', 'S100', 'S101', 'S200', 'S201', 'boundary']\n",
      "Not setting metadata\n",
      "511 matching events found\n",
      "Setting baseline interval to [-0.2, 0.0] s\n",
      "Applying baseline correction (mode: mean)\n",
      "0 projection items activated\n",
      "Using data from preloaded Raw for 511 events and 351 original time points ...\n",
      "1 bad epochs dropped\n",
      "    Using multitaper spectrum estimation with 7 DPSS windows\n",
      "Session features shape for sub-067, ses-01: (510, 10)\n",
      "Processing sub-068\n",
      "Reading /Users/ishabharti/EEG Project/ds003523/sub-068/ses-01/eeg/sub-068_ses-01_task-VisualWorkingMemory_eeg.fdt\n",
      "Reading 0 ... 701624  =      0.000 ...  1403.248 secs...\n"
     ]
    },
    {
     "name": "stderr",
     "output_type": "stream",
     "text": [
      "[ERROR] NoDatasetFound(No dataset found at '/Users/ishabharti/EEG Project' for the purpose \"get content of <<['./ds003523/s++15 chars++eg']>>\".  Specify a dataset to work with by providing its path via the `dataset` option, or change the current working directory to be in a dataset.) (NoDatasetFound) \n",
      "usage: datalad get [-h] [-s LABEL] [-d PATH] [-r] [-R LEVELS] [-n]\n",
      "                   [-D DESCRIPTION] [--reckless [auto|ephemeral|shared-...]]\n",
      "                   [-J NJOBS] [--version]\n",
      "                   [PATH ...]\n"
     ]
    },
    {
     "name": "stdout",
     "output_type": "stream",
     "text": [
      "Filtering raw data in 1 contiguous segment\n",
      "Setting up band-pass filter from 0.5 - 1e+02 Hz\n",
      "\n",
      "FIR filter parameters\n",
      "---------------------\n",
      "Designing a one-pass, zero-phase, non-causal bandpass filter:\n",
      "- Windowed time-domain design (firwin) method\n",
      "- Hamming window with 0.0194 passband ripple and 53 dB stopband attenuation\n",
      "- Lower passband edge: 0.50\n",
      "- Lower transition bandwidth: 0.50 Hz (-6 dB cutoff frequency: 0.25 Hz)\n",
      "- Upper passband edge: 100.00 Hz\n",
      "- Upper transition bandwidth: 25.00 Hz (-6 dB cutoff frequency: 112.50 Hz)\n",
      "- Filter length: 3301 samples (6.602 s)\n",
      "\n"
     ]
    },
    {
     "name": "stderr",
     "output_type": "stream",
     "text": [
      "/var/folders/dl/zd_s8q0x20zbxpy0_dzhksbh0000gn/T/ipykernel_68894/1038661286.py:78: RuntimeWarning: The data contains 'boundary' events, indicating data discontinuities. Be cautious of filtering and epoching around these events.\n",
      "  raw = mne.io.read_raw_eeglab(eeg_file, preload=True)\n",
      "[Parallel(n_jobs=1)]: Done  17 tasks      | elapsed:    0.1s\n"
     ]
    },
    {
     "name": "stdout",
     "output_type": "stream",
     "text": [
      "Used Annotations descriptions: ['S  1', 'S  2', 'S  3', 'S 50', 'S 52', 'S100', 'S101', 'S200', 'S201', 'boundary']\n",
      "Not setting metadata\n",
      "484 matching events found\n",
      "Setting baseline interval to [-0.2, 0.0] s\n",
      "Applying baseline correction (mode: mean)\n",
      "0 projection items activated\n",
      "Using data from preloaded Raw for 484 events and 351 original time points ...\n",
      "1 bad epochs dropped\n",
      "    Using multitaper spectrum estimation with 7 DPSS windows\n",
      "Session features shape for sub-068, ses-01: (483, 10)\n",
      "Processing sub-069\n",
      "Reading /Users/ishabharti/EEG Project/ds003523/sub-069/ses-01/eeg/sub-069_ses-01_task-VisualWorkingMemory_eeg.fdt\n",
      "Reading 0 ... 672574  =      0.000 ...  1345.148 secs...\n"
     ]
    },
    {
     "name": "stderr",
     "output_type": "stream",
     "text": [
      "[ERROR] NoDatasetFound(No dataset found at '/Users/ishabharti/EEG Project' for the purpose \"get content of <<['./ds003523/s++15 chars++eg']>>\".  Specify a dataset to work with by providing its path via the `dataset` option, or change the current working directory to be in a dataset.) (NoDatasetFound) \n",
      "usage: datalad get [-h] [-s LABEL] [-d PATH] [-r] [-R LEVELS] [-n]\n",
      "                   [-D DESCRIPTION] [--reckless [auto|ephemeral|shared-...]]\n",
      "                   [-J NJOBS] [--version]\n",
      "                   [PATH ...]\n"
     ]
    },
    {
     "name": "stdout",
     "output_type": "stream",
     "text": [
      "Filtering raw data in 1 contiguous segment\n",
      "Setting up band-pass filter from 0.5 - 1e+02 Hz\n",
      "\n",
      "FIR filter parameters\n",
      "---------------------\n",
      "Designing a one-pass, zero-phase, non-causal bandpass filter:\n",
      "- Windowed time-domain design (firwin) method\n",
      "- Hamming window with 0.0194 passband ripple and 53 dB stopband attenuation\n",
      "- Lower passband edge: 0.50\n",
      "- Lower transition bandwidth: 0.50 Hz (-6 dB cutoff frequency: 0.25 Hz)\n",
      "- Upper passband edge: 100.00 Hz\n",
      "- Upper transition bandwidth: 25.00 Hz (-6 dB cutoff frequency: 112.50 Hz)\n",
      "- Filter length: 3301 samples (6.602 s)\n",
      "\n"
     ]
    },
    {
     "name": "stderr",
     "output_type": "stream",
     "text": [
      "/var/folders/dl/zd_s8q0x20zbxpy0_dzhksbh0000gn/T/ipykernel_68894/1038661286.py:78: RuntimeWarning: The data contains 'boundary' events, indicating data discontinuities. Be cautious of filtering and epoching around these events.\n",
      "  raw = mne.io.read_raw_eeglab(eeg_file, preload=True)\n",
      "[Parallel(n_jobs=1)]: Done  17 tasks      | elapsed:    0.1s\n"
     ]
    },
    {
     "name": "stdout",
     "output_type": "stream",
     "text": [
      "Used Annotations descriptions: ['S  1', 'S  2', 'S  3', 'S 50', 'S 51', 'S 52', 'S100', 'S101', 'S200', 'S201', 'boundary']\n",
      "Not setting metadata\n",
      "483 matching events found\n",
      "Setting baseline interval to [-0.2, 0.0] s\n",
      "Applying baseline correction (mode: mean)\n",
      "0 projection items activated\n",
      "Using data from preloaded Raw for 483 events and 351 original time points ...\n",
      "1 bad epochs dropped\n",
      "    Using multitaper spectrum estimation with 7 DPSS windows\n",
      "Session features shape for sub-069, ses-01: (482, 10)\n",
      "Processing sub-070\n",
      "Reading /Users/ishabharti/EEG Project/ds003523/sub-070/ses-01/eeg/sub-070_ses-01_task-VisualWorkingMemory_eeg.fdt\n",
      "Reading 0 ... 721024  =      0.000 ...  1442.048 secs...\n"
     ]
    },
    {
     "name": "stderr",
     "output_type": "stream",
     "text": [
      "[ERROR] NoDatasetFound(No dataset found at '/Users/ishabharti/EEG Project' for the purpose \"get content of <<['./ds003523/s++15 chars++eg']>>\".  Specify a dataset to work with by providing its path via the `dataset` option, or change the current working directory to be in a dataset.) (NoDatasetFound) \n",
      "usage: datalad get [-h] [-s LABEL] [-d PATH] [-r] [-R LEVELS] [-n]\n",
      "                   [-D DESCRIPTION] [--reckless [auto|ephemeral|shared-...]]\n",
      "                   [-J NJOBS] [--version]\n",
      "                   [PATH ...]\n"
     ]
    },
    {
     "name": "stdout",
     "output_type": "stream",
     "text": [
      "Filtering raw data in 1 contiguous segment\n",
      "Setting up band-pass filter from 0.5 - 1e+02 Hz\n",
      "\n",
      "FIR filter parameters\n",
      "---------------------\n",
      "Designing a one-pass, zero-phase, non-causal bandpass filter:\n",
      "- Windowed time-domain design (firwin) method\n",
      "- Hamming window with 0.0194 passband ripple and 53 dB stopband attenuation\n",
      "- Lower passband edge: 0.50\n",
      "- Lower transition bandwidth: 0.50 Hz (-6 dB cutoff frequency: 0.25 Hz)\n",
      "- Upper passband edge: 100.00 Hz\n",
      "- Upper transition bandwidth: 25.00 Hz (-6 dB cutoff frequency: 112.50 Hz)\n",
      "- Filter length: 3301 samples (6.602 s)\n",
      "\n"
     ]
    },
    {
     "name": "stderr",
     "output_type": "stream",
     "text": [
      "/var/folders/dl/zd_s8q0x20zbxpy0_dzhksbh0000gn/T/ipykernel_68894/1038661286.py:78: RuntimeWarning: The data contains 'boundary' events, indicating data discontinuities. Be cautious of filtering and epoching around these events.\n",
      "  raw = mne.io.read_raw_eeglab(eeg_file, preload=True)\n",
      "[Parallel(n_jobs=1)]: Done  17 tasks      | elapsed:    0.1s\n"
     ]
    },
    {
     "name": "stdout",
     "output_type": "stream",
     "text": [
      "Used Annotations descriptions: ['S  1', 'S  2', 'S  3', 'S 50', 'S 51', 'S 52', 'S100', 'S101', 'S200', 'S201', 'boundary']\n",
      "Not setting metadata\n",
      "511 matching events found\n",
      "Setting baseline interval to [-0.2, 0.0] s\n",
      "Applying baseline correction (mode: mean)\n",
      "0 projection items activated\n",
      "Using data from preloaded Raw for 511 events and 351 original time points ...\n",
      "1 bad epochs dropped\n",
      "    Using multitaper spectrum estimation with 7 DPSS windows\n",
      "Session features shape for sub-070, ses-01: (510, 10)\n",
      "Processing sub-071\n",
      "Reading /Users/ishabharti/EEG Project/ds003523/sub-071/ses-01/eeg/sub-071_ses-01_task-VisualWorkingMemory_eeg.fdt\n",
      "Reading 0 ... 712824  =      0.000 ...  1425.648 secs...\n"
     ]
    },
    {
     "name": "stderr",
     "output_type": "stream",
     "text": [
      "[ERROR] NoDatasetFound(No dataset found at '/Users/ishabharti/EEG Project' for the purpose \"get content of <<['./ds003523/s++15 chars++eg']>>\".  Specify a dataset to work with by providing its path via the `dataset` option, or change the current working directory to be in a dataset.) (NoDatasetFound) \n",
      "usage: datalad get [-h] [-s LABEL] [-d PATH] [-r] [-R LEVELS] [-n]\n",
      "                   [-D DESCRIPTION] [--reckless [auto|ephemeral|shared-...]]\n",
      "                   [-J NJOBS] [--version]\n",
      "                   [PATH ...]\n"
     ]
    },
    {
     "name": "stdout",
     "output_type": "stream",
     "text": [
      "Filtering raw data in 1 contiguous segment\n",
      "Setting up band-pass filter from 0.5 - 1e+02 Hz\n",
      "\n",
      "FIR filter parameters\n",
      "---------------------\n",
      "Designing a one-pass, zero-phase, non-causal bandpass filter:\n",
      "- Windowed time-domain design (firwin) method\n",
      "- Hamming window with 0.0194 passband ripple and 53 dB stopband attenuation\n",
      "- Lower passband edge: 0.50\n",
      "- Lower transition bandwidth: 0.50 Hz (-6 dB cutoff frequency: 0.25 Hz)\n",
      "- Upper passband edge: 100.00 Hz\n",
      "- Upper transition bandwidth: 25.00 Hz (-6 dB cutoff frequency: 112.50 Hz)\n",
      "- Filter length: 3301 samples (6.602 s)\n",
      "\n"
     ]
    },
    {
     "name": "stderr",
     "output_type": "stream",
     "text": [
      "/var/folders/dl/zd_s8q0x20zbxpy0_dzhksbh0000gn/T/ipykernel_68894/1038661286.py:78: RuntimeWarning: The data contains 'boundary' events, indicating data discontinuities. Be cautious of filtering and epoching around these events.\n",
      "  raw = mne.io.read_raw_eeglab(eeg_file, preload=True)\n",
      "[Parallel(n_jobs=1)]: Done  17 tasks      | elapsed:    0.1s\n"
     ]
    },
    {
     "name": "stdout",
     "output_type": "stream",
     "text": [
      "Used Annotations descriptions: ['S  1', 'S  2', 'S  3', 'S 50', 'S 51', 'S 52', 'S100', 'S101', 'S200', 'S201', 'boundary']\n",
      "Not setting metadata\n",
      "511 matching events found\n",
      "Setting baseline interval to [-0.2, 0.0] s\n",
      "Applying baseline correction (mode: mean)\n",
      "0 projection items activated\n",
      "Using data from preloaded Raw for 511 events and 351 original time points ...\n",
      "1 bad epochs dropped\n",
      "    Using multitaper spectrum estimation with 7 DPSS windows\n",
      "Session features shape for sub-071, ses-01: (510, 10)\n",
      "Processing sub-072\n",
      "Reading /Users/ishabharti/EEG Project/ds003523/sub-072/ses-01/eeg/sub-072_ses-01_task-VisualWorkingMemory_eeg.fdt\n",
      "Reading 0 ... 696799  =      0.000 ...  1393.598 secs...\n"
     ]
    },
    {
     "name": "stderr",
     "output_type": "stream",
     "text": [
      "[ERROR] NoDatasetFound(No dataset found at '/Users/ishabharti/EEG Project' for the purpose \"get content of <<['./ds003523/s++15 chars++eg']>>\".  Specify a dataset to work with by providing its path via the `dataset` option, or change the current working directory to be in a dataset.) (NoDatasetFound) \n",
      "usage: datalad get [-h] [-s LABEL] [-d PATH] [-r] [-R LEVELS] [-n]\n",
      "                   [-D DESCRIPTION] [--reckless [auto|ephemeral|shared-...]]\n",
      "                   [-J NJOBS] [--version]\n",
      "                   [PATH ...]\n"
     ]
    },
    {
     "name": "stdout",
     "output_type": "stream",
     "text": [
      "Filtering raw data in 1 contiguous segment\n",
      "Setting up band-pass filter from 0.5 - 1e+02 Hz\n",
      "\n",
      "FIR filter parameters\n",
      "---------------------\n",
      "Designing a one-pass, zero-phase, non-causal bandpass filter:\n",
      "- Windowed time-domain design (firwin) method\n",
      "- Hamming window with 0.0194 passband ripple and 53 dB stopband attenuation\n",
      "- Lower passband edge: 0.50\n",
      "- Lower transition bandwidth: 0.50 Hz (-6 dB cutoff frequency: 0.25 Hz)\n",
      "- Upper passband edge: 100.00 Hz\n",
      "- Upper transition bandwidth: 25.00 Hz (-6 dB cutoff frequency: 112.50 Hz)\n",
      "- Filter length: 3301 samples (6.602 s)\n",
      "\n"
     ]
    },
    {
     "name": "stderr",
     "output_type": "stream",
     "text": [
      "/var/folders/dl/zd_s8q0x20zbxpy0_dzhksbh0000gn/T/ipykernel_68894/1038661286.py:78: RuntimeWarning: The data contains 'boundary' events, indicating data discontinuities. Be cautious of filtering and epoching around these events.\n",
      "  raw = mne.io.read_raw_eeglab(eeg_file, preload=True)\n",
      "[Parallel(n_jobs=1)]: Done  17 tasks      | elapsed:    0.1s\n"
     ]
    },
    {
     "name": "stdout",
     "output_type": "stream",
     "text": [
      "Used Annotations descriptions: ['S  1', 'S  2', 'S  3', 'S 50', 'S 51', 'S 52', 'S100', 'S101', 'S200', 'S201', 'boundary']\n",
      "Not setting metadata\n",
      "511 matching events found\n",
      "Setting baseline interval to [-0.2, 0.0] s\n",
      "Applying baseline correction (mode: mean)\n",
      "0 projection items activated\n",
      "Using data from preloaded Raw for 511 events and 351 original time points ...\n",
      "1 bad epochs dropped\n",
      "    Using multitaper spectrum estimation with 7 DPSS windows\n",
      "Session features shape for sub-072, ses-01: (510, 10)\n",
      "Processing sub-073\n",
      "Reading /Users/ishabharti/EEG Project/ds003523/sub-073/ses-01/eeg/sub-073_ses-01_task-VisualWorkingMemory_eeg.fdt\n",
      "Reading 0 ... 714524  =      0.000 ...  1429.048 secs...\n"
     ]
    },
    {
     "name": "stderr",
     "output_type": "stream",
     "text": [
      "[ERROR] NoDatasetFound(No dataset found at '/Users/ishabharti/EEG Project' for the purpose \"get content of <<['./ds003523/s++15 chars++eg']>>\".  Specify a dataset to work with by providing its path via the `dataset` option, or change the current working directory to be in a dataset.) (NoDatasetFound) \n",
      "usage: datalad get [-h] [-s LABEL] [-d PATH] [-r] [-R LEVELS] [-n]\n",
      "                   [-D DESCRIPTION] [--reckless [auto|ephemeral|shared-...]]\n",
      "                   [-J NJOBS] [--version]\n",
      "                   [PATH ...]\n"
     ]
    },
    {
     "name": "stdout",
     "output_type": "stream",
     "text": [
      "Filtering raw data in 1 contiguous segment\n",
      "Setting up band-pass filter from 0.5 - 1e+02 Hz\n",
      "\n",
      "FIR filter parameters\n",
      "---------------------\n",
      "Designing a one-pass, zero-phase, non-causal bandpass filter:\n",
      "- Windowed time-domain design (firwin) method\n",
      "- Hamming window with 0.0194 passband ripple and 53 dB stopband attenuation\n",
      "- Lower passband edge: 0.50\n",
      "- Lower transition bandwidth: 0.50 Hz (-6 dB cutoff frequency: 0.25 Hz)\n",
      "- Upper passband edge: 100.00 Hz\n",
      "- Upper transition bandwidth: 25.00 Hz (-6 dB cutoff frequency: 112.50 Hz)\n",
      "- Filter length: 3301 samples (6.602 s)\n",
      "\n"
     ]
    },
    {
     "name": "stderr",
     "output_type": "stream",
     "text": [
      "/var/folders/dl/zd_s8q0x20zbxpy0_dzhksbh0000gn/T/ipykernel_68894/1038661286.py:78: RuntimeWarning: The data contains 'boundary' events, indicating data discontinuities. Be cautious of filtering and epoching around these events.\n",
      "  raw = mne.io.read_raw_eeglab(eeg_file, preload=True)\n",
      "[Parallel(n_jobs=1)]: Done  17 tasks      | elapsed:    0.2s\n"
     ]
    },
    {
     "name": "stdout",
     "output_type": "stream",
     "text": [
      "Used Annotations descriptions: ['S  1', 'S  2', 'S  3', 'S 50', 'S 51', 'S 52', 'S100', 'S101', 'S200', 'S201', 'boundary']\n",
      "Not setting metadata\n",
      "509 matching events found\n",
      "Setting baseline interval to [-0.2, 0.0] s\n",
      "Applying baseline correction (mode: mean)\n",
      "0 projection items activated\n",
      "Using data from preloaded Raw for 509 events and 351 original time points ...\n",
      "1 bad epochs dropped\n",
      "    Using multitaper spectrum estimation with 7 DPSS windows\n",
      "Session features shape for sub-073, ses-01: (508, 10)\n",
      "Processing sub-074\n",
      "Reading /Users/ishabharti/EEG Project/ds003523/sub-074/ses-01/eeg/sub-074_ses-01_task-VisualWorkingMemory_eeg.fdt\n",
      "Reading 0 ... 728099  =      0.000 ...  1456.198 secs...\n"
     ]
    },
    {
     "name": "stderr",
     "output_type": "stream",
     "text": [
      "[ERROR] NoDatasetFound(No dataset found at '/Users/ishabharti/EEG Project' for the purpose \"get content of <<['./ds003523/s++15 chars++eg']>>\".  Specify a dataset to work with by providing its path via the `dataset` option, or change the current working directory to be in a dataset.) (NoDatasetFound) \n",
      "usage: datalad get [-h] [-s LABEL] [-d PATH] [-r] [-R LEVELS] [-n]\n",
      "                   [-D DESCRIPTION] [--reckless [auto|ephemeral|shared-...]]\n",
      "                   [-J NJOBS] [--version]\n",
      "                   [PATH ...]\n"
     ]
    },
    {
     "name": "stdout",
     "output_type": "stream",
     "text": [
      "Filtering raw data in 1 contiguous segment\n",
      "Setting up band-pass filter from 0.5 - 1e+02 Hz\n",
      "\n",
      "FIR filter parameters\n",
      "---------------------\n",
      "Designing a one-pass, zero-phase, non-causal bandpass filter:\n",
      "- Windowed time-domain design (firwin) method\n",
      "- Hamming window with 0.0194 passband ripple and 53 dB stopband attenuation\n",
      "- Lower passband edge: 0.50\n",
      "- Lower transition bandwidth: 0.50 Hz (-6 dB cutoff frequency: 0.25 Hz)\n",
      "- Upper passband edge: 100.00 Hz\n",
      "- Upper transition bandwidth: 25.00 Hz (-6 dB cutoff frequency: 112.50 Hz)\n",
      "- Filter length: 3301 samples (6.602 s)\n",
      "\n"
     ]
    },
    {
     "name": "stderr",
     "output_type": "stream",
     "text": [
      "/var/folders/dl/zd_s8q0x20zbxpy0_dzhksbh0000gn/T/ipykernel_68894/1038661286.py:78: RuntimeWarning: The data contains 'boundary' events, indicating data discontinuities. Be cautious of filtering and epoching around these events.\n",
      "  raw = mne.io.read_raw_eeglab(eeg_file, preload=True)\n",
      "[Parallel(n_jobs=1)]: Done  17 tasks      | elapsed:    0.1s\n"
     ]
    },
    {
     "name": "stdout",
     "output_type": "stream",
     "text": [
      "Used Annotations descriptions: ['S  1', 'S  2', 'S  3', 'S 50', 'S 51', 'S 52', 'S100', 'S101', 'S200', 'S201', 'boundary']\n",
      "Not setting metadata\n",
      "510 matching events found\n",
      "Setting baseline interval to [-0.2, 0.0] s\n",
      "Applying baseline correction (mode: mean)\n",
      "0 projection items activated\n",
      "Using data from preloaded Raw for 510 events and 351 original time points ...\n",
      "1 bad epochs dropped\n",
      "    Using multitaper spectrum estimation with 7 DPSS windows\n",
      "Session features shape for sub-074, ses-01: (509, 10)\n",
      "Processing sub-075\n",
      "Reading /Users/ishabharti/EEG Project/ds003523/sub-075/ses-01/eeg/sub-075_ses-01_task-VisualWorkingMemory_eeg.fdt\n",
      "Reading 0 ... 706224  =      0.000 ...  1412.448 secs...\n"
     ]
    },
    {
     "name": "stderr",
     "output_type": "stream",
     "text": [
      "[ERROR] NoDatasetFound(No dataset found at '/Users/ishabharti/EEG Project' for the purpose \"get content of <<['./ds003523/s++15 chars++eg']>>\".  Specify a dataset to work with by providing its path via the `dataset` option, or change the current working directory to be in a dataset.) (NoDatasetFound) \n",
      "usage: datalad get [-h] [-s LABEL] [-d PATH] [-r] [-R LEVELS] [-n]\n",
      "                   [-D DESCRIPTION] [--reckless [auto|ephemeral|shared-...]]\n",
      "                   [-J NJOBS] [--version]\n",
      "                   [PATH ...]\n"
     ]
    },
    {
     "name": "stdout",
     "output_type": "stream",
     "text": [
      "Filtering raw data in 1 contiguous segment\n",
      "Setting up band-pass filter from 0.5 - 1e+02 Hz\n",
      "\n",
      "FIR filter parameters\n",
      "---------------------\n",
      "Designing a one-pass, zero-phase, non-causal bandpass filter:\n",
      "- Windowed time-domain design (firwin) method\n",
      "- Hamming window with 0.0194 passband ripple and 53 dB stopband attenuation\n",
      "- Lower passband edge: 0.50\n",
      "- Lower transition bandwidth: 0.50 Hz (-6 dB cutoff frequency: 0.25 Hz)\n",
      "- Upper passband edge: 100.00 Hz\n",
      "- Upper transition bandwidth: 25.00 Hz (-6 dB cutoff frequency: 112.50 Hz)\n",
      "- Filter length: 3301 samples (6.602 s)\n",
      "\n"
     ]
    },
    {
     "name": "stderr",
     "output_type": "stream",
     "text": [
      "/var/folders/dl/zd_s8q0x20zbxpy0_dzhksbh0000gn/T/ipykernel_68894/1038661286.py:78: RuntimeWarning: The data contains 'boundary' events, indicating data discontinuities. Be cautious of filtering and epoching around these events.\n",
      "  raw = mne.io.read_raw_eeglab(eeg_file, preload=True)\n",
      "[Parallel(n_jobs=1)]: Done  17 tasks      | elapsed:    0.1s\n"
     ]
    },
    {
     "name": "stdout",
     "output_type": "stream",
     "text": [
      "Used Annotations descriptions: ['S  1', 'S  2', 'S  3', 'S 50', 'S 51', 'S 52', 'S100', 'S101', 'S200', 'S201', 'boundary']\n",
      "Not setting metadata\n",
      "511 matching events found\n",
      "Setting baseline interval to [-0.2, 0.0] s\n",
      "Applying baseline correction (mode: mean)\n",
      "0 projection items activated\n",
      "Using data from preloaded Raw for 511 events and 351 original time points ...\n",
      "1 bad epochs dropped\n",
      "    Using multitaper spectrum estimation with 7 DPSS windows\n",
      "Session features shape for sub-075, ses-01: (510, 10)\n",
      "Processing sub-076\n",
      "Reading /Users/ishabharti/EEG Project/ds003523/sub-076/ses-01/eeg/sub-076_ses-01_task-VisualWorkingMemory_eeg.fdt\n",
      "Reading 0 ... 755024  =      0.000 ...  1510.048 secs...\n"
     ]
    },
    {
     "name": "stderr",
     "output_type": "stream",
     "text": [
      "[ERROR] NoDatasetFound(No dataset found at '/Users/ishabharti/EEG Project' for the purpose \"get content of <<['./ds003523/s++15 chars++eg']>>\".  Specify a dataset to work with by providing its path via the `dataset` option, or change the current working directory to be in a dataset.) (NoDatasetFound) \n",
      "usage: datalad get [-h] [-s LABEL] [-d PATH] [-r] [-R LEVELS] [-n]\n",
      "                   [-D DESCRIPTION] [--reckless [auto|ephemeral|shared-...]]\n",
      "                   [-J NJOBS] [--version]\n",
      "                   [PATH ...]\n"
     ]
    },
    {
     "name": "stdout",
     "output_type": "stream",
     "text": [
      "Filtering raw data in 1 contiguous segment\n",
      "Setting up band-pass filter from 0.5 - 1e+02 Hz\n",
      "\n",
      "FIR filter parameters\n",
      "---------------------\n",
      "Designing a one-pass, zero-phase, non-causal bandpass filter:\n",
      "- Windowed time-domain design (firwin) method\n",
      "- Hamming window with 0.0194 passband ripple and 53 dB stopband attenuation\n",
      "- Lower passband edge: 0.50\n",
      "- Lower transition bandwidth: 0.50 Hz (-6 dB cutoff frequency: 0.25 Hz)\n",
      "- Upper passband edge: 100.00 Hz\n",
      "- Upper transition bandwidth: 25.00 Hz (-6 dB cutoff frequency: 112.50 Hz)\n",
      "- Filter length: 3301 samples (6.602 s)\n",
      "\n"
     ]
    },
    {
     "name": "stderr",
     "output_type": "stream",
     "text": [
      "/var/folders/dl/zd_s8q0x20zbxpy0_dzhksbh0000gn/T/ipykernel_68894/1038661286.py:78: RuntimeWarning: The data contains 'boundary' events, indicating data discontinuities. Be cautious of filtering and epoching around these events.\n",
      "  raw = mne.io.read_raw_eeglab(eeg_file, preload=True)\n",
      "[Parallel(n_jobs=1)]: Done  17 tasks      | elapsed:    0.1s\n"
     ]
    },
    {
     "name": "stdout",
     "output_type": "stream",
     "text": [
      "Used Annotations descriptions: ['S  1', 'S  2', 'S  3', 'S 50', 'S 51', 'S 52', 'S100', 'S101', 'S200', 'S201', 'boundary']\n",
      "Not setting metadata\n",
      "505 matching events found\n",
      "Setting baseline interval to [-0.2, 0.0] s\n",
      "Applying baseline correction (mode: mean)\n",
      "0 projection items activated\n",
      "Using data from preloaded Raw for 505 events and 351 original time points ...\n",
      "1 bad epochs dropped\n",
      "    Using multitaper spectrum estimation with 7 DPSS windows\n",
      "Session features shape for sub-076, ses-01: (504, 10)\n",
      "Processing sub-078\n",
      "Reading /Users/ishabharti/EEG Project/ds003523/sub-078/ses-01/eeg/sub-078_ses-01_task-VisualWorkingMemory_eeg.fdt\n",
      "Reading 0 ... 711499  =      0.000 ...  1422.998 secs...\n"
     ]
    },
    {
     "name": "stderr",
     "output_type": "stream",
     "text": [
      "[ERROR] NoDatasetFound(No dataset found at '/Users/ishabharti/EEG Project' for the purpose \"get content of <<['./ds003523/s++15 chars++eg']>>\".  Specify a dataset to work with by providing its path via the `dataset` option, or change the current working directory to be in a dataset.) (NoDatasetFound) \n",
      "usage: datalad get [-h] [-s LABEL] [-d PATH] [-r] [-R LEVELS] [-n]\n",
      "                   [-D DESCRIPTION] [--reckless [auto|ephemeral|shared-...]]\n",
      "                   [-J NJOBS] [--version]\n",
      "                   [PATH ...]\n"
     ]
    },
    {
     "name": "stdout",
     "output_type": "stream",
     "text": [
      "Filtering raw data in 1 contiguous segment\n",
      "Setting up band-pass filter from 0.5 - 1e+02 Hz\n",
      "\n",
      "FIR filter parameters\n",
      "---------------------\n",
      "Designing a one-pass, zero-phase, non-causal bandpass filter:\n",
      "- Windowed time-domain design (firwin) method\n",
      "- Hamming window with 0.0194 passband ripple and 53 dB stopband attenuation\n",
      "- Lower passband edge: 0.50\n",
      "- Lower transition bandwidth: 0.50 Hz (-6 dB cutoff frequency: 0.25 Hz)\n",
      "- Upper passband edge: 100.00 Hz\n",
      "- Upper transition bandwidth: 25.00 Hz (-6 dB cutoff frequency: 112.50 Hz)\n",
      "- Filter length: 3301 samples (6.602 s)\n",
      "\n"
     ]
    },
    {
     "name": "stderr",
     "output_type": "stream",
     "text": [
      "/var/folders/dl/zd_s8q0x20zbxpy0_dzhksbh0000gn/T/ipykernel_68894/1038661286.py:78: RuntimeWarning: The data contains 'boundary' events, indicating data discontinuities. Be cautious of filtering and epoching around these events.\n",
      "  raw = mne.io.read_raw_eeglab(eeg_file, preload=True)\n",
      "[Parallel(n_jobs=1)]: Done  17 tasks      | elapsed:    0.1s\n"
     ]
    },
    {
     "name": "stdout",
     "output_type": "stream",
     "text": [
      "Used Annotations descriptions: ['S  1', 'S  2', 'S  3', 'S 50', 'S 51', 'S 52', 'S100', 'S101', 'S200', 'S201', 'boundary']\n",
      "Not setting metadata\n",
      "511 matching events found\n",
      "Setting baseline interval to [-0.2, 0.0] s\n",
      "Applying baseline correction (mode: mean)\n",
      "0 projection items activated\n",
      "Using data from preloaded Raw for 511 events and 351 original time points ...\n",
      "1 bad epochs dropped\n",
      "    Using multitaper spectrum estimation with 7 DPSS windows\n",
      "Session features shape for sub-078, ses-01: (510, 10)\n",
      "Processing sub-080\n",
      "Reading /Users/ishabharti/EEG Project/ds003523/sub-080/ses-01/eeg/sub-080_ses-01_task-VisualWorkingMemory_eeg.fdt\n",
      "Reading 0 ... 671499  =      0.000 ...  1342.998 secs...\n"
     ]
    },
    {
     "name": "stderr",
     "output_type": "stream",
     "text": [
      "[ERROR] NoDatasetFound(No dataset found at '/Users/ishabharti/EEG Project' for the purpose \"get content of <<['./ds003523/s++15 chars++eg']>>\".  Specify a dataset to work with by providing its path via the `dataset` option, or change the current working directory to be in a dataset.) (NoDatasetFound) \n",
      "usage: datalad get [-h] [-s LABEL] [-d PATH] [-r] [-R LEVELS] [-n]\n",
      "                   [-D DESCRIPTION] [--reckless [auto|ephemeral|shared-...]]\n",
      "                   [-J NJOBS] [--version]\n",
      "                   [PATH ...]\n"
     ]
    },
    {
     "name": "stdout",
     "output_type": "stream",
     "text": [
      "Filtering raw data in 1 contiguous segment\n",
      "Setting up band-pass filter from 0.5 - 1e+02 Hz\n",
      "\n",
      "FIR filter parameters\n",
      "---------------------\n",
      "Designing a one-pass, zero-phase, non-causal bandpass filter:\n",
      "- Windowed time-domain design (firwin) method\n",
      "- Hamming window with 0.0194 passband ripple and 53 dB stopband attenuation\n",
      "- Lower passband edge: 0.50\n",
      "- Lower transition bandwidth: 0.50 Hz (-6 dB cutoff frequency: 0.25 Hz)\n",
      "- Upper passband edge: 100.00 Hz\n",
      "- Upper transition bandwidth: 25.00 Hz (-6 dB cutoff frequency: 112.50 Hz)\n",
      "- Filter length: 3301 samples (6.602 s)\n",
      "\n"
     ]
    },
    {
     "name": "stderr",
     "output_type": "stream",
     "text": [
      "/var/folders/dl/zd_s8q0x20zbxpy0_dzhksbh0000gn/T/ipykernel_68894/1038661286.py:78: RuntimeWarning: The data contains 'boundary' events, indicating data discontinuities. Be cautious of filtering and epoching around these events.\n",
      "  raw = mne.io.read_raw_eeglab(eeg_file, preload=True)\n",
      "[Parallel(n_jobs=1)]: Done  17 tasks      | elapsed:    0.1s\n"
     ]
    },
    {
     "name": "stdout",
     "output_type": "stream",
     "text": [
      "Used Annotations descriptions: ['S  1', 'S  2', 'S  3', 'S 50', 'S 51', 'S 52', 'S100', 'S101', 'S200', 'S201', 'boundary']\n",
      "Not setting metadata\n",
      "510 matching events found\n",
      "Setting baseline interval to [-0.2, 0.0] s\n",
      "Applying baseline correction (mode: mean)\n",
      "0 projection items activated\n",
      "Using data from preloaded Raw for 510 events and 351 original time points ...\n",
      "1 bad epochs dropped\n",
      "    Using multitaper spectrum estimation with 7 DPSS windows\n",
      "Session features shape for sub-080, ses-01: (509, 10)\n",
      "Processing sub-081\n",
      "Reading /Users/ishabharti/EEG Project/ds003523/sub-081/ses-01/eeg/sub-081_ses-01_task-VisualWorkingMemory_eeg.fdt\n",
      "Reading 0 ... 661499  =      0.000 ...  1322.998 secs...\n"
     ]
    },
    {
     "name": "stderr",
     "output_type": "stream",
     "text": [
      "[ERROR] NoDatasetFound(No dataset found at '/Users/ishabharti/EEG Project' for the purpose \"get content of <<['./ds003523/s++15 chars++eg']>>\".  Specify a dataset to work with by providing its path via the `dataset` option, or change the current working directory to be in a dataset.) (NoDatasetFound) \n",
      "usage: datalad get [-h] [-s LABEL] [-d PATH] [-r] [-R LEVELS] [-n]\n",
      "                   [-D DESCRIPTION] [--reckless [auto|ephemeral|shared-...]]\n",
      "                   [-J NJOBS] [--version]\n",
      "                   [PATH ...]\n"
     ]
    },
    {
     "name": "stdout",
     "output_type": "stream",
     "text": [
      "Filtering raw data in 1 contiguous segment\n",
      "Setting up band-pass filter from 0.5 - 1e+02 Hz\n",
      "\n",
      "FIR filter parameters\n",
      "---------------------\n",
      "Designing a one-pass, zero-phase, non-causal bandpass filter:\n",
      "- Windowed time-domain design (firwin) method\n",
      "- Hamming window with 0.0194 passband ripple and 53 dB stopband attenuation\n",
      "- Lower passband edge: 0.50\n",
      "- Lower transition bandwidth: 0.50 Hz (-6 dB cutoff frequency: 0.25 Hz)\n",
      "- Upper passband edge: 100.00 Hz\n",
      "- Upper transition bandwidth: 25.00 Hz (-6 dB cutoff frequency: 112.50 Hz)\n",
      "- Filter length: 3301 samples (6.602 s)\n",
      "\n"
     ]
    },
    {
     "name": "stderr",
     "output_type": "stream",
     "text": [
      "/var/folders/dl/zd_s8q0x20zbxpy0_dzhksbh0000gn/T/ipykernel_68894/1038661286.py:78: RuntimeWarning: The data contains 'boundary' events, indicating data discontinuities. Be cautious of filtering and epoching around these events.\n",
      "  raw = mne.io.read_raw_eeglab(eeg_file, preload=True)\n",
      "[Parallel(n_jobs=1)]: Done  17 tasks      | elapsed:    0.1s\n"
     ]
    },
    {
     "name": "stdout",
     "output_type": "stream",
     "text": [
      "Used Annotations descriptions: ['S  1', 'S  2', 'S  3', 'S 50', 'S 51', 'S 52', 'S100', 'S101', 'S200', 'S201', 'boundary']\n",
      "Not setting metadata\n",
      "511 matching events found\n",
      "Setting baseline interval to [-0.2, 0.0] s\n",
      "Applying baseline correction (mode: mean)\n",
      "0 projection items activated\n",
      "Using data from preloaded Raw for 511 events and 351 original time points ...\n",
      "1 bad epochs dropped\n",
      "    Using multitaper spectrum estimation with 7 DPSS windows\n",
      "Session features shape for sub-081, ses-01: (510, 10)\n",
      "Processing sub-082\n",
      "Reading /Users/ishabharti/EEG Project/ds003523/sub-082/ses-01/eeg/sub-082_ses-01_task-VisualWorkingMemory_eeg.fdt\n",
      "Reading 0 ... 750674  =      0.000 ...  1501.348 secs...\n"
     ]
    },
    {
     "name": "stderr",
     "output_type": "stream",
     "text": [
      "[ERROR] NoDatasetFound(No dataset found at '/Users/ishabharti/EEG Project' for the purpose \"get content of <<['./ds003523/s++15 chars++eg']>>\".  Specify a dataset to work with by providing its path via the `dataset` option, or change the current working directory to be in a dataset.) (NoDatasetFound) \n",
      "usage: datalad get [-h] [-s LABEL] [-d PATH] [-r] [-R LEVELS] [-n]\n",
      "                   [-D DESCRIPTION] [--reckless [auto|ephemeral|shared-...]]\n",
      "                   [-J NJOBS] [--version]\n",
      "                   [PATH ...]\n"
     ]
    },
    {
     "name": "stdout",
     "output_type": "stream",
     "text": [
      "Filtering raw data in 1 contiguous segment\n",
      "Setting up band-pass filter from 0.5 - 1e+02 Hz\n",
      "\n",
      "FIR filter parameters\n",
      "---------------------\n",
      "Designing a one-pass, zero-phase, non-causal bandpass filter:\n",
      "- Windowed time-domain design (firwin) method\n",
      "- Hamming window with 0.0194 passband ripple and 53 dB stopband attenuation\n",
      "- Lower passband edge: 0.50\n",
      "- Lower transition bandwidth: 0.50 Hz (-6 dB cutoff frequency: 0.25 Hz)\n",
      "- Upper passband edge: 100.00 Hz\n",
      "- Upper transition bandwidth: 25.00 Hz (-6 dB cutoff frequency: 112.50 Hz)\n",
      "- Filter length: 3301 samples (6.602 s)\n",
      "\n"
     ]
    },
    {
     "name": "stderr",
     "output_type": "stream",
     "text": [
      "/var/folders/dl/zd_s8q0x20zbxpy0_dzhksbh0000gn/T/ipykernel_68894/1038661286.py:78: RuntimeWarning: The data contains 'boundary' events, indicating data discontinuities. Be cautious of filtering and epoching around these events.\n",
      "  raw = mne.io.read_raw_eeglab(eeg_file, preload=True)\n",
      "[Parallel(n_jobs=1)]: Done  17 tasks      | elapsed:    0.2s\n"
     ]
    },
    {
     "name": "stdout",
     "output_type": "stream",
     "text": [
      "Used Annotations descriptions: ['S  1', 'S  2', 'S  3', 'S 33', 'S 40', 'S 46', 'S 50', 'S 51', 'S 52', 'S 83', 'S100', 'S101', 'S200', 'S201', 'boundary']\n",
      "Not setting metadata\n",
      "516 matching events found\n",
      "Setting baseline interval to [-0.2, 0.0] s\n",
      "Applying baseline correction (mode: mean)\n",
      "0 projection items activated\n",
      "Using data from preloaded Raw for 516 events and 351 original time points ...\n",
      "1 bad epochs dropped\n",
      "    Using multitaper spectrum estimation with 7 DPSS windows\n",
      "Session features shape for sub-082, ses-01: (515, 10)\n",
      "Processing sub-083\n",
      "Reading /Users/ishabharti/EEG Project/ds003523/sub-083/ses-01/eeg/sub-083_ses-01_task-VisualWorkingMemory_eeg.fdt\n",
      "Reading 0 ... 683999  =      0.000 ...  1367.998 secs...\n"
     ]
    },
    {
     "name": "stderr",
     "output_type": "stream",
     "text": [
      "[ERROR] NoDatasetFound(No dataset found at '/Users/ishabharti/EEG Project' for the purpose \"get content of <<['./ds003523/s++15 chars++eg']>>\".  Specify a dataset to work with by providing its path via the `dataset` option, or change the current working directory to be in a dataset.) (NoDatasetFound) \n",
      "usage: datalad get [-h] [-s LABEL] [-d PATH] [-r] [-R LEVELS] [-n]\n",
      "                   [-D DESCRIPTION] [--reckless [auto|ephemeral|shared-...]]\n",
      "                   [-J NJOBS] [--version]\n",
      "                   [PATH ...]\n"
     ]
    },
    {
     "name": "stdout",
     "output_type": "stream",
     "text": [
      "Filtering raw data in 1 contiguous segment\n",
      "Setting up band-pass filter from 0.5 - 1e+02 Hz\n",
      "\n",
      "FIR filter parameters\n",
      "---------------------\n",
      "Designing a one-pass, zero-phase, non-causal bandpass filter:\n",
      "- Windowed time-domain design (firwin) method\n",
      "- Hamming window with 0.0194 passband ripple and 53 dB stopband attenuation\n",
      "- Lower passband edge: 0.50\n",
      "- Lower transition bandwidth: 0.50 Hz (-6 dB cutoff frequency: 0.25 Hz)\n",
      "- Upper passband edge: 100.00 Hz\n",
      "- Upper transition bandwidth: 25.00 Hz (-6 dB cutoff frequency: 112.50 Hz)\n",
      "- Filter length: 3301 samples (6.602 s)\n",
      "\n"
     ]
    },
    {
     "name": "stderr",
     "output_type": "stream",
     "text": [
      "/var/folders/dl/zd_s8q0x20zbxpy0_dzhksbh0000gn/T/ipykernel_68894/1038661286.py:78: RuntimeWarning: The data contains 'boundary' events, indicating data discontinuities. Be cautious of filtering and epoching around these events.\n",
      "  raw = mne.io.read_raw_eeglab(eeg_file, preload=True)\n",
      "[Parallel(n_jobs=1)]: Done  17 tasks      | elapsed:    0.1s\n"
     ]
    },
    {
     "name": "stdout",
     "output_type": "stream",
     "text": [
      "Used Annotations descriptions: ['S  1', 'S  2', 'S  3', 'S 50', 'S 52', 'S100', 'S101', 'S200', 'S201', 'boundary']\n",
      "Not setting metadata\n",
      "510 matching events found\n",
      "Setting baseline interval to [-0.2, 0.0] s\n",
      "Applying baseline correction (mode: mean)\n",
      "0 projection items activated\n",
      "Using data from preloaded Raw for 510 events and 351 original time points ...\n",
      "1 bad epochs dropped\n",
      "    Using multitaper spectrum estimation with 7 DPSS windows\n",
      "Session features shape for sub-083, ses-01: (509, 10)\n",
      "Processing sub-084\n",
      "Reading /Users/ishabharti/EEG Project/ds003523/sub-084/ses-01/eeg/sub-084_ses-01_task-VisualWorkingMemory_eeg.fdt\n",
      "Reading 0 ... 698699  =      0.000 ...  1397.398 secs...\n"
     ]
    },
    {
     "name": "stderr",
     "output_type": "stream",
     "text": [
      "[ERROR] NoDatasetFound(No dataset found at '/Users/ishabharti/EEG Project' for the purpose \"get content of <<['./ds003523/s++15 chars++eg']>>\".  Specify a dataset to work with by providing its path via the `dataset` option, or change the current working directory to be in a dataset.) (NoDatasetFound) \n",
      "usage: datalad get [-h] [-s LABEL] [-d PATH] [-r] [-R LEVELS] [-n]\n",
      "                   [-D DESCRIPTION] [--reckless [auto|ephemeral|shared-...]]\n",
      "                   [-J NJOBS] [--version]\n",
      "                   [PATH ...]\n"
     ]
    },
    {
     "name": "stdout",
     "output_type": "stream",
     "text": [
      "Filtering raw data in 1 contiguous segment\n",
      "Setting up band-pass filter from 0.5 - 1e+02 Hz\n",
      "\n",
      "FIR filter parameters\n",
      "---------------------\n",
      "Designing a one-pass, zero-phase, non-causal bandpass filter:\n",
      "- Windowed time-domain design (firwin) method\n",
      "- Hamming window with 0.0194 passband ripple and 53 dB stopband attenuation\n",
      "- Lower passband edge: 0.50\n",
      "- Lower transition bandwidth: 0.50 Hz (-6 dB cutoff frequency: 0.25 Hz)\n",
      "- Upper passband edge: 100.00 Hz\n",
      "- Upper transition bandwidth: 25.00 Hz (-6 dB cutoff frequency: 112.50 Hz)\n",
      "- Filter length: 3301 samples (6.602 s)\n",
      "\n"
     ]
    },
    {
     "name": "stderr",
     "output_type": "stream",
     "text": [
      "/var/folders/dl/zd_s8q0x20zbxpy0_dzhksbh0000gn/T/ipykernel_68894/1038661286.py:78: RuntimeWarning: The data contains 'boundary' events, indicating data discontinuities. Be cautious of filtering and epoching around these events.\n",
      "  raw = mne.io.read_raw_eeglab(eeg_file, preload=True)\n",
      "[Parallel(n_jobs=1)]: Done  17 tasks      | elapsed:    0.1s\n"
     ]
    },
    {
     "name": "stdout",
     "output_type": "stream",
     "text": [
      "Used Annotations descriptions: ['S  1', 'S  2', 'S  3', 'S 50', 'S 51', 'S 52', 'S100', 'S101', 'S200', 'S201', 'boundary']\n",
      "Not setting metadata\n",
      "510 matching events found\n",
      "Setting baseline interval to [-0.2, 0.0] s\n",
      "Applying baseline correction (mode: mean)\n",
      "0 projection items activated\n",
      "Using data from preloaded Raw for 510 events and 351 original time points ...\n",
      "1 bad epochs dropped\n",
      "    Using multitaper spectrum estimation with 7 DPSS windows\n",
      "Session features shape for sub-084, ses-01: (509, 10)\n",
      "Processing sub-085\n",
      "Reading /Users/ishabharti/EEG Project/ds003523/sub-085/ses-01/eeg/sub-085_ses-01_task-VisualWorkingMemory_eeg.fdt\n",
      "Reading 0 ... 756674  =      0.000 ...  1513.348 secs...\n"
     ]
    },
    {
     "name": "stderr",
     "output_type": "stream",
     "text": [
      "[ERROR] NoDatasetFound(No dataset found at '/Users/ishabharti/EEG Project' for the purpose \"get content of <<['./ds003523/s++15 chars++eg']>>\".  Specify a dataset to work with by providing its path via the `dataset` option, or change the current working directory to be in a dataset.) (NoDatasetFound) \n",
      "usage: datalad get [-h] [-s LABEL] [-d PATH] [-r] [-R LEVELS] [-n]\n",
      "                   [-D DESCRIPTION] [--reckless [auto|ephemeral|shared-...]]\n",
      "                   [-J NJOBS] [--version]\n",
      "                   [PATH ...]\n"
     ]
    },
    {
     "name": "stdout",
     "output_type": "stream",
     "text": [
      "Filtering raw data in 1 contiguous segment\n",
      "Setting up band-pass filter from 0.5 - 1e+02 Hz\n",
      "\n",
      "FIR filter parameters\n",
      "---------------------\n",
      "Designing a one-pass, zero-phase, non-causal bandpass filter:\n",
      "- Windowed time-domain design (firwin) method\n",
      "- Hamming window with 0.0194 passband ripple and 53 dB stopband attenuation\n",
      "- Lower passband edge: 0.50\n",
      "- Lower transition bandwidth: 0.50 Hz (-6 dB cutoff frequency: 0.25 Hz)\n",
      "- Upper passband edge: 100.00 Hz\n",
      "- Upper transition bandwidth: 25.00 Hz (-6 dB cutoff frequency: 112.50 Hz)\n",
      "- Filter length: 3301 samples (6.602 s)\n",
      "\n"
     ]
    },
    {
     "name": "stderr",
     "output_type": "stream",
     "text": [
      "/var/folders/dl/zd_s8q0x20zbxpy0_dzhksbh0000gn/T/ipykernel_68894/1038661286.py:78: RuntimeWarning: The data contains 'boundary' events, indicating data discontinuities. Be cautious of filtering and epoching around these events.\n",
      "  raw = mne.io.read_raw_eeglab(eeg_file, preload=True)\n",
      "[Parallel(n_jobs=1)]: Done  17 tasks      | elapsed:    0.1s\n"
     ]
    },
    {
     "name": "stdout",
     "output_type": "stream",
     "text": [
      "Used Annotations descriptions: ['S  1', 'S  2', 'S  3', 'S 50', 'S 51', 'S 52', 'S100', 'S101', 'S200', 'S201', 'boundary']\n",
      "Not setting metadata\n",
      "510 matching events found\n",
      "Setting baseline interval to [-0.2, 0.0] s\n",
      "Applying baseline correction (mode: mean)\n",
      "0 projection items activated\n",
      "Using data from preloaded Raw for 510 events and 351 original time points ...\n",
      "1 bad epochs dropped\n",
      "    Using multitaper spectrum estimation with 7 DPSS windows\n",
      "Session features shape for sub-085, ses-01: (509, 10)\n",
      "Processing sub-086\n",
      "Reading /Users/ishabharti/EEG Project/ds003523/sub-086/ses-01/eeg/sub-086_ses-01_task-VisualWorkingMemory_eeg.fdt\n",
      "Reading 0 ... 726824  =      0.000 ...  1453.648 secs...\n"
     ]
    },
    {
     "name": "stderr",
     "output_type": "stream",
     "text": [
      "[ERROR] NoDatasetFound(No dataset found at '/Users/ishabharti/EEG Project' for the purpose \"get content of <<['./ds003523/s++15 chars++eg']>>\".  Specify a dataset to work with by providing its path via the `dataset` option, or change the current working directory to be in a dataset.) (NoDatasetFound) \n",
      "usage: datalad get [-h] [-s LABEL] [-d PATH] [-r] [-R LEVELS] [-n]\n",
      "                   [-D DESCRIPTION] [--reckless [auto|ephemeral|shared-...]]\n",
      "                   [-J NJOBS] [--version]\n",
      "                   [PATH ...]\n"
     ]
    },
    {
     "name": "stdout",
     "output_type": "stream",
     "text": [
      "Filtering raw data in 1 contiguous segment\n",
      "Setting up band-pass filter from 0.5 - 1e+02 Hz\n",
      "\n",
      "FIR filter parameters\n",
      "---------------------\n",
      "Designing a one-pass, zero-phase, non-causal bandpass filter:\n",
      "- Windowed time-domain design (firwin) method\n",
      "- Hamming window with 0.0194 passband ripple and 53 dB stopband attenuation\n",
      "- Lower passband edge: 0.50\n",
      "- Lower transition bandwidth: 0.50 Hz (-6 dB cutoff frequency: 0.25 Hz)\n",
      "- Upper passband edge: 100.00 Hz\n",
      "- Upper transition bandwidth: 25.00 Hz (-6 dB cutoff frequency: 112.50 Hz)\n",
      "- Filter length: 3301 samples (6.602 s)\n",
      "\n"
     ]
    },
    {
     "name": "stderr",
     "output_type": "stream",
     "text": [
      "/var/folders/dl/zd_s8q0x20zbxpy0_dzhksbh0000gn/T/ipykernel_68894/1038661286.py:78: RuntimeWarning: The data contains 'boundary' events, indicating data discontinuities. Be cautious of filtering and epoching around these events.\n",
      "  raw = mne.io.read_raw_eeglab(eeg_file, preload=True)\n",
      "[Parallel(n_jobs=1)]: Done  17 tasks      | elapsed:    0.2s\n"
     ]
    },
    {
     "name": "stdout",
     "output_type": "stream",
     "text": [
      "Used Annotations descriptions: ['S  1', 'S  2', 'S  3', 'S 50', 'S 51', 'S 52', 'S100', 'S101', 'S200', 'S201', 'boundary']\n",
      "Not setting metadata\n",
      "511 matching events found\n",
      "Setting baseline interval to [-0.2, 0.0] s\n",
      "Applying baseline correction (mode: mean)\n",
      "0 projection items activated\n",
      "Using data from preloaded Raw for 511 events and 351 original time points ...\n",
      "1 bad epochs dropped\n",
      "    Using multitaper spectrum estimation with 7 DPSS windows\n",
      "Session features shape for sub-086, ses-01: (510, 10)\n",
      "Processing sub-087\n",
      "Reading /Users/ishabharti/EEG Project/ds003523/sub-087/ses-01/eeg/sub-087_ses-01_task-VisualWorkingMemory_eeg.fdt\n",
      "Reading 0 ... 701599  =      0.000 ...  1403.198 secs...\n"
     ]
    },
    {
     "name": "stderr",
     "output_type": "stream",
     "text": [
      "[ERROR] NoDatasetFound(No dataset found at '/Users/ishabharti/EEG Project' for the purpose \"get content of <<['./ds003523/s++15 chars++eg']>>\".  Specify a dataset to work with by providing its path via the `dataset` option, or change the current working directory to be in a dataset.) (NoDatasetFound) \n",
      "usage: datalad get [-h] [-s LABEL] [-d PATH] [-r] [-R LEVELS] [-n]\n",
      "                   [-D DESCRIPTION] [--reckless [auto|ephemeral|shared-...]]\n",
      "                   [-J NJOBS] [--version]\n",
      "                   [PATH ...]\n"
     ]
    },
    {
     "name": "stdout",
     "output_type": "stream",
     "text": [
      "Filtering raw data in 1 contiguous segment\n",
      "Setting up band-pass filter from 0.5 - 1e+02 Hz\n",
      "\n",
      "FIR filter parameters\n",
      "---------------------\n",
      "Designing a one-pass, zero-phase, non-causal bandpass filter:\n",
      "- Windowed time-domain design (firwin) method\n",
      "- Hamming window with 0.0194 passband ripple and 53 dB stopband attenuation\n",
      "- Lower passband edge: 0.50\n",
      "- Lower transition bandwidth: 0.50 Hz (-6 dB cutoff frequency: 0.25 Hz)\n",
      "- Upper passband edge: 100.00 Hz\n",
      "- Upper transition bandwidth: 25.00 Hz (-6 dB cutoff frequency: 112.50 Hz)\n",
      "- Filter length: 3301 samples (6.602 s)\n",
      "\n"
     ]
    },
    {
     "name": "stderr",
     "output_type": "stream",
     "text": [
      "/var/folders/dl/zd_s8q0x20zbxpy0_dzhksbh0000gn/T/ipykernel_68894/1038661286.py:78: RuntimeWarning: The data contains 'boundary' events, indicating data discontinuities. Be cautious of filtering and epoching around these events.\n",
      "  raw = mne.io.read_raw_eeglab(eeg_file, preload=True)\n",
      "[Parallel(n_jobs=1)]: Done  17 tasks      | elapsed:    0.1s\n"
     ]
    },
    {
     "name": "stdout",
     "output_type": "stream",
     "text": [
      "Used Annotations descriptions: ['S  1', 'S  2', 'S  3', 'S 50', 'S 51', 'S 52', 'S100', 'S101', 'S200', 'S201', 'boundary']\n",
      "Not setting metadata\n",
      "510 matching events found\n",
      "Setting baseline interval to [-0.2, 0.0] s\n",
      "Applying baseline correction (mode: mean)\n",
      "0 projection items activated\n",
      "Using data from preloaded Raw for 510 events and 351 original time points ...\n",
      "1 bad epochs dropped\n",
      "    Using multitaper spectrum estimation with 7 DPSS windows\n",
      "Session features shape for sub-087, ses-01: (509, 10)\n",
      "Processing sub-088\n",
      "Reading /Users/ishabharti/EEG Project/ds003523/sub-088/ses-01/eeg/sub-088_ses-01_task-VisualWorkingMemory_eeg.fdt\n",
      "Reading 0 ... 692199  =      0.000 ...  1384.398 secs...\n"
     ]
    },
    {
     "name": "stderr",
     "output_type": "stream",
     "text": [
      "[ERROR] NoDatasetFound(No dataset found at '/Users/ishabharti/EEG Project' for the purpose \"get content of <<['./ds003523/s++15 chars++eg']>>\".  Specify a dataset to work with by providing its path via the `dataset` option, or change the current working directory to be in a dataset.) (NoDatasetFound) \n",
      "usage: datalad get [-h] [-s LABEL] [-d PATH] [-r] [-R LEVELS] [-n]\n",
      "                   [-D DESCRIPTION] [--reckless [auto|ephemeral|shared-...]]\n",
      "                   [-J NJOBS] [--version]\n",
      "                   [PATH ...]\n"
     ]
    },
    {
     "name": "stdout",
     "output_type": "stream",
     "text": [
      "Filtering raw data in 1 contiguous segment\n",
      "Setting up band-pass filter from 0.5 - 1e+02 Hz\n",
      "\n",
      "FIR filter parameters\n",
      "---------------------\n",
      "Designing a one-pass, zero-phase, non-causal bandpass filter:\n",
      "- Windowed time-domain design (firwin) method\n",
      "- Hamming window with 0.0194 passband ripple and 53 dB stopband attenuation\n",
      "- Lower passband edge: 0.50\n",
      "- Lower transition bandwidth: 0.50 Hz (-6 dB cutoff frequency: 0.25 Hz)\n",
      "- Upper passband edge: 100.00 Hz\n",
      "- Upper transition bandwidth: 25.00 Hz (-6 dB cutoff frequency: 112.50 Hz)\n",
      "- Filter length: 3301 samples (6.602 s)\n",
      "\n"
     ]
    },
    {
     "name": "stderr",
     "output_type": "stream",
     "text": [
      "/var/folders/dl/zd_s8q0x20zbxpy0_dzhksbh0000gn/T/ipykernel_68894/1038661286.py:78: RuntimeWarning: The data contains 'boundary' events, indicating data discontinuities. Be cautious of filtering and epoching around these events.\n",
      "  raw = mne.io.read_raw_eeglab(eeg_file, preload=True)\n",
      "[Parallel(n_jobs=1)]: Done  17 tasks      | elapsed:    0.1s\n"
     ]
    },
    {
     "name": "stdout",
     "output_type": "stream",
     "text": [
      "Used Annotations descriptions: ['S  1', 'S  2', 'S  3', 'S 50', 'S 51', 'S 52', 'S100', 'S101', 'S200', 'S201', 'boundary']\n",
      "Not setting metadata\n",
      "511 matching events found\n",
      "Setting baseline interval to [-0.2, 0.0] s\n",
      "Applying baseline correction (mode: mean)\n",
      "0 projection items activated\n",
      "Using data from preloaded Raw for 511 events and 351 original time points ...\n",
      "1 bad epochs dropped\n",
      "    Using multitaper spectrum estimation with 7 DPSS windows\n",
      "Session features shape for sub-088, ses-01: (510, 10)\n",
      "Processing sub-089\n",
      "Reading /Users/ishabharti/EEG Project/ds003523/sub-089/ses-01/eeg/sub-089_ses-01_task-VisualWorkingMemory_eeg.fdt\n",
      "Reading 0 ... 772849  =      0.000 ...  1545.698 secs...\n"
     ]
    },
    {
     "name": "stderr",
     "output_type": "stream",
     "text": [
      "[ERROR] NoDatasetFound(No dataset found at '/Users/ishabharti/EEG Project' for the purpose \"get content of <<['./ds003523/s++15 chars++eg']>>\".  Specify a dataset to work with by providing its path via the `dataset` option, or change the current working directory to be in a dataset.) (NoDatasetFound) \n",
      "usage: datalad get [-h] [-s LABEL] [-d PATH] [-r] [-R LEVELS] [-n]\n",
      "                   [-D DESCRIPTION] [--reckless [auto|ephemeral|shared-...]]\n",
      "                   [-J NJOBS] [--version]\n",
      "                   [PATH ...]\n"
     ]
    },
    {
     "name": "stdout",
     "output_type": "stream",
     "text": [
      "Filtering raw data in 1 contiguous segment\n",
      "Setting up band-pass filter from 0.5 - 1e+02 Hz\n",
      "\n",
      "FIR filter parameters\n",
      "---------------------\n",
      "Designing a one-pass, zero-phase, non-causal bandpass filter:\n",
      "- Windowed time-domain design (firwin) method\n",
      "- Hamming window with 0.0194 passband ripple and 53 dB stopband attenuation\n",
      "- Lower passband edge: 0.50\n",
      "- Lower transition bandwidth: 0.50 Hz (-6 dB cutoff frequency: 0.25 Hz)\n",
      "- Upper passband edge: 100.00 Hz\n",
      "- Upper transition bandwidth: 25.00 Hz (-6 dB cutoff frequency: 112.50 Hz)\n",
      "- Filter length: 3301 samples (6.602 s)\n",
      "\n"
     ]
    },
    {
     "name": "stderr",
     "output_type": "stream",
     "text": [
      "/var/folders/dl/zd_s8q0x20zbxpy0_dzhksbh0000gn/T/ipykernel_68894/1038661286.py:78: RuntimeWarning: The data contains 'boundary' events, indicating data discontinuities. Be cautious of filtering and epoching around these events.\n",
      "  raw = mne.io.read_raw_eeglab(eeg_file, preload=True)\n",
      "[Parallel(n_jobs=1)]: Done  17 tasks      | elapsed:    0.2s\n"
     ]
    },
    {
     "name": "stdout",
     "output_type": "stream",
     "text": [
      "Used Annotations descriptions: ['S  1', 'S  2', 'S  3', 'S 50', 'S 51', 'S 52', 'S100', 'S101', 'S200', 'S201', 'boundary']\n",
      "Not setting metadata\n",
      "503 matching events found\n",
      "Setting baseline interval to [-0.2, 0.0] s\n",
      "Applying baseline correction (mode: mean)\n",
      "0 projection items activated\n",
      "Using data from preloaded Raw for 503 events and 351 original time points ...\n",
      "1 bad epochs dropped\n",
      "    Using multitaper spectrum estimation with 7 DPSS windows\n",
      "Session features shape for sub-089, ses-01: (502, 10)\n",
      "Processing sub-090\n",
      "Reading /Users/ishabharti/EEG Project/ds003523/sub-090/ses-01/eeg/sub-090_ses-01_task-VisualWorkingMemory_eeg.fdt\n",
      "Reading 0 ... 822949  =      0.000 ...  1645.898 secs...\n"
     ]
    },
    {
     "name": "stderr",
     "output_type": "stream",
     "text": [
      "[ERROR] NoDatasetFound(No dataset found at '/Users/ishabharti/EEG Project' for the purpose \"get content of <<['./ds003523/s++15 chars++eg']>>\".  Specify a dataset to work with by providing its path via the `dataset` option, or change the current working directory to be in a dataset.) (NoDatasetFound) \n",
      "usage: datalad get [-h] [-s LABEL] [-d PATH] [-r] [-R LEVELS] [-n]\n",
      "                   [-D DESCRIPTION] [--reckless [auto|ephemeral|shared-...]]\n",
      "                   [-J NJOBS] [--version]\n",
      "                   [PATH ...]\n"
     ]
    },
    {
     "name": "stdout",
     "output_type": "stream",
     "text": [
      "Filtering raw data in 1 contiguous segment\n",
      "Setting up band-pass filter from 0.5 - 1e+02 Hz\n",
      "\n",
      "FIR filter parameters\n",
      "---------------------\n",
      "Designing a one-pass, zero-phase, non-causal bandpass filter:\n",
      "- Windowed time-domain design (firwin) method\n",
      "- Hamming window with 0.0194 passband ripple and 53 dB stopband attenuation\n",
      "- Lower passband edge: 0.50\n",
      "- Lower transition bandwidth: 0.50 Hz (-6 dB cutoff frequency: 0.25 Hz)\n",
      "- Upper passband edge: 100.00 Hz\n",
      "- Upper transition bandwidth: 25.00 Hz (-6 dB cutoff frequency: 112.50 Hz)\n",
      "- Filter length: 3301 samples (6.602 s)\n",
      "\n"
     ]
    },
    {
     "name": "stderr",
     "output_type": "stream",
     "text": [
      "/var/folders/dl/zd_s8q0x20zbxpy0_dzhksbh0000gn/T/ipykernel_68894/1038661286.py:78: RuntimeWarning: The data contains 'boundary' events, indicating data discontinuities. Be cautious of filtering and epoching around these events.\n",
      "  raw = mne.io.read_raw_eeglab(eeg_file, preload=True)\n",
      "[Parallel(n_jobs=1)]: Done  17 tasks      | elapsed:    0.2s\n"
     ]
    },
    {
     "name": "stdout",
     "output_type": "stream",
     "text": [
      "Used Annotations descriptions: ['S  1', 'S  2', 'S  3', 'S 50', 'S 51', 'S 52', 'S100', 'S101', 'S200', 'S201', 'boundary']\n",
      "Not setting metadata\n",
      "511 matching events found\n",
      "Setting baseline interval to [-0.2, 0.0] s\n",
      "Applying baseline correction (mode: mean)\n",
      "0 projection items activated\n",
      "Using data from preloaded Raw for 511 events and 351 original time points ...\n",
      "1 bad epochs dropped\n",
      "    Using multitaper spectrum estimation with 7 DPSS windows\n",
      "Session features shape for sub-090, ses-01: (510, 10)\n",
      "Processing sub-091\n",
      "Reading /Users/ishabharti/EEG Project/ds003523/sub-091/ses-01/eeg/sub-091_ses-01_task-VisualWorkingMemory_eeg.fdt\n",
      "Reading 0 ... 720499  =      0.000 ...  1440.998 secs...\n"
     ]
    },
    {
     "name": "stderr",
     "output_type": "stream",
     "text": [
      "[ERROR] NoDatasetFound(No dataset found at '/Users/ishabharti/EEG Project' for the purpose \"get content of <<['./ds003523/s++15 chars++eg']>>\".  Specify a dataset to work with by providing its path via the `dataset` option, or change the current working directory to be in a dataset.) (NoDatasetFound) \n",
      "usage: datalad get [-h] [-s LABEL] [-d PATH] [-r] [-R LEVELS] [-n]\n",
      "                   [-D DESCRIPTION] [--reckless [auto|ephemeral|shared-...]]\n",
      "                   [-J NJOBS] [--version]\n",
      "                   [PATH ...]\n"
     ]
    },
    {
     "name": "stdout",
     "output_type": "stream",
     "text": [
      "Filtering raw data in 1 contiguous segment\n",
      "Setting up band-pass filter from 0.5 - 1e+02 Hz\n",
      "\n",
      "FIR filter parameters\n",
      "---------------------\n",
      "Designing a one-pass, zero-phase, non-causal bandpass filter:\n",
      "- Windowed time-domain design (firwin) method\n",
      "- Hamming window with 0.0194 passband ripple and 53 dB stopband attenuation\n",
      "- Lower passband edge: 0.50\n",
      "- Lower transition bandwidth: 0.50 Hz (-6 dB cutoff frequency: 0.25 Hz)\n",
      "- Upper passband edge: 100.00 Hz\n",
      "- Upper transition bandwidth: 25.00 Hz (-6 dB cutoff frequency: 112.50 Hz)\n",
      "- Filter length: 3301 samples (6.602 s)\n",
      "\n"
     ]
    },
    {
     "name": "stderr",
     "output_type": "stream",
     "text": [
      "/var/folders/dl/zd_s8q0x20zbxpy0_dzhksbh0000gn/T/ipykernel_68894/1038661286.py:78: RuntimeWarning: The data contains 'boundary' events, indicating data discontinuities. Be cautious of filtering and epoching around these events.\n",
      "  raw = mne.io.read_raw_eeglab(eeg_file, preload=True)\n",
      "[Parallel(n_jobs=1)]: Done  17 tasks      | elapsed:    0.1s\n"
     ]
    },
    {
     "name": "stdout",
     "output_type": "stream",
     "text": [
      "Used Annotations descriptions: ['S  1', 'S  2', 'S  3', 'S 50', 'S 51', 'S 52', 'S100', 'S101', 'S200', 'S201', 'boundary']\n",
      "Not setting metadata\n",
      "507 matching events found\n",
      "Setting baseline interval to [-0.2, 0.0] s\n",
      "Applying baseline correction (mode: mean)\n",
      "0 projection items activated\n",
      "Using data from preloaded Raw for 507 events and 351 original time points ...\n",
      "1 bad epochs dropped\n",
      "    Using multitaper spectrum estimation with 7 DPSS windows\n",
      "Session features shape for sub-091, ses-01: (506, 10)\n"
     ]
    }
   ],
   "source": [
    "# Function to compute additional features (mean, variance, skewness, kurtosis, line length)\n",
    "def compute_additional_features(epoch_data):\n",
    "    if len(epoch_data.shape) != 2:\n",
    "        raise ValueError(f\"Expected 2D array for epoch_data, got {epoch_data.shape}\")\n",
    "\n",
    "    mean_values = epoch_data.mean(axis=1)\n",
    "    var_values = epoch_data.var(axis=1)\n",
    "    skew_values = skew(epoch_data, axis=1)\n",
    "    kurtosis_values = kurtosis(epoch_data, axis=1)\n",
    "    line_length = np.sum(np.abs(np.diff(epoch_data, axis=1)), axis=1)\n",
    "\n",
    "    return mean_values, var_values, skew_values, kurtosis_values, line_length\n",
    "\n",
    "# Initialize variables\n",
    "all_features = []\n",
    "all_labels = []\n",
    "all_subjects = []  # To store subject IDs for each epoch\n",
    "band_ranges = {\n",
    "    'delta': (0.5, 4),\n",
    "    'theta': (4, 8),\n",
    "    'alpha': (8, 13),\n",
    "    'beta': (13, 30),\n",
    "    'gamma': (30, 100)\n",
    "}\n",
    "expected_feature_count = 10  # Total number of features (5 frequency + 5 time-domain)\n",
    "\n",
    "# Loop through each subject\n",
    "    # Loop through each subject\n",
    "for subject in range(0, 92):  # Adjust range as needed\n",
    "    subject_id = f\"sub-{subject:03d}\"  # Format: sub-001, sub-002, etc.\n",
    "    subject_id_lower = subject_id.lower()\n",
    "    \n",
    "    # Condition to skip a specific subject\n",
    "    if subject_id_lower == \"sub-056\":\n",
    "        continue  # Skip this iteration\n",
    "    # Condition to skip a specific subject\n",
    "    if subject_id_lower == \"sub-077\":\n",
    "        continue  # Skip this iteration\n",
    "    # Condition to skip a specific subject\n",
    "    if subject_id_lower == \"sub-079\":\n",
    "        continue  # Skip this iteration\n",
    "\n",
    "    # Your code for processing other subjects\n",
    "    print(f\"Processing {subject_id_lower}\")\n",
    "\n",
    "    # Check if subject exists in participants.tsv\n",
    "    if subject_id_lower not in participants['participant_id'].values:\n",
    "        print(f\"Subject {subject_id} not found in participants.tsv. Skipping.\")\n",
    "        continue\n",
    "\n",
    "    # Locate the subject directory\n",
    "    subject_dir = os.path.join(data_dir, subject_id)\n",
    "    if not os.path.exists(subject_dir):\n",
    "        print(f\"Subject directory {subject_id} not found. Skipping.\")\n",
    "        continue\n",
    "\n",
    "    # Find all available sessions for the subject\n",
    "    #sessions = [s for s in os.listdir(subject_dir) if s.startswith('ses-')]\n",
    "    for session in [\"ses-01\"]:\n",
    "        session_path = os.path.join(subject_dir, session, 'eeg')\n",
    "\n",
    "\n",
    "\n",
    "\n",
    "    for session in [\"ses-01\"]:\n",
    "        session_path = os.path.join(subject_dir, session, 'eeg')\n",
    "\n",
    "        # Retrieve session data using DataLad\n",
    "        os.system(f'datalad get {session_path}')\n",
    "\n",
    "        # Check if the .set file exists for this session\n",
    "        eeg_file = os.path.join(session_path, f\"{subject_id}_{session}_task-VisualWorkingMemory_eeg.set\")\n",
    "        if not os.path.exists(eeg_file):\n",
    "            print(f\"Data for {subject_id}, {session} not found. Skipping.\")\n",
    "            continue\n",
    "\n",
    "        # Load the EEG data\n",
    "        raw = mne.io.read_raw_eeglab(eeg_file, preload=True)\n",
    "\n",
    "        # Preprocess the data\n",
    "        raw.filter(0.5, 100., fir_design='firwin')\n",
    "\n",
    "        # Extract events\n",
    "        events, event_id = mne.events_from_annotations(raw)\n",
    "\n",
    "        # Define epochs\n",
    "        tmin, tmax = -0.2, 0.5\n",
    "        epochs = mne.Epochs(raw, events, event_id, tmin=tmin, tmax=tmax, baseline=(None, 0), preload=True)\n",
    "\n",
    "        # Compute PSD for the entire frequency range\n",
    "        psd = epochs.compute_psd(method='multitaper', fmin=0.5, fmax=100)\n",
    "        psd_data = psd.get_data()  # Shape: (n_epochs, n_channels, n_freqs)\n",
    "        freqs = psd.freqs\n",
    "\n",
    "        # Compute features for each frequency band\n",
    "        band_powers = {}\n",
    "        for band, (fmin, fmax) in band_ranges.items():\n",
    "            band_indices = (freqs >= fmin) & (freqs < fmax)\n",
    "            band_power = psd_data[:, :, band_indices].mean(axis=2)  # Mean PSD within the band\n",
    "            band_powers[band] = band_power.mean(axis=1)  # Aggregate across channels\n",
    "\n",
    "        # Extract time-domain data from epochs\n",
    "        epoch_data = epochs.get_data().mean(axis=1)  # Aggregate across channels (shape: n_epochs, n_times)\n",
    "\n",
    "        # Compute additional features\n",
    "        mean_values, var_values, skew_values, kurtosis_values, line_length = compute_additional_features(epoch_data)\n",
    "\n",
    "        # Combine all features into a single array\n",
    "        try:\n",
    "            session_features = np.column_stack([\n",
    "                band_powers['delta'], band_powers['theta'], band_powers['alpha'],\n",
    "                band_powers['beta'], band_powers['gamma'], mean_values,\n",
    "                var_values, skew_values, kurtosis_values, line_length\n",
    "            ])\n",
    "            print(f\"Session features shape for {subject_id}, {session}: {session_features.shape}\")\n",
    "        except ValueError as e:\n",
    "            print(f\"Feature dimension mismatch for {subject_id}, {session}: {e}\")\n",
    "            continue\n",
    "\n",
    "        # Append subject ID for each epoch\n",
    "        subject_ids = np.repeat(subject_id, session_features.shape[0])\n",
    "\n",
    "        all_features.append(session_features)\n",
    "        all_subjects.append(subject_ids)\n",
    "\n",
    "        # Get the group label for the subject\n",
    "        group_label = participants.loc[participants['participant_id'] == subject_id_lower, 'Group'].values\n",
    "        if len(group_label) == 0 or pd.isna(group_label[0]):\n",
    "            print(f\"No valid group label found for {subject_id}. Skipping.\")\n",
    "            continue\n",
    "\n",
    "        # Repeat the label for each epoch in the session\n",
    "        all_labels.append(np.repeat(group_label[0], session_features.shape[0]))"
   ]
  },
  {
   "cell_type": "code",
   "execution_count": 8,
   "metadata": {},
   "outputs": [],
   "source": [
    "# Combine all features, labels, and subject IDs\n",
    "if not all_features or not all_labels:\n",
    "    print(\"No features or labels collected. Exiting.\")\n",
    "    raise ValueError(\"No features or labels collected.\")\n",
    "\n",
    "X = np.vstack(all_features)\n",
    "y = np.hstack(all_labels)\n",
    "subject_ids = np.hstack(all_subjects)\n",
    "\n",
    "# Save the data with subject IDs\n",
    "feature_columns = [\n",
    "    'delta', 'theta', 'alpha', 'beta', 'gamma',\n",
    "    'mean', 'variance', 'skewness', 'kurtosis', 'line_length'\n",
    "]\n",
    "training_data = pd.DataFrame(X, columns=feature_columns)\n",
    "training_data['label'] = y\n",
    "training_data['subject_id'] = subject_ids\n",
    "training_data.to_csv('eeg_training_data_with_subjects.csv', index=False)"
   ]
  },
  {
   "cell_type": "code",
   "execution_count": 9,
   "metadata": {},
   "outputs": [
    {
     "data": {
      "text/html": [
       "<div>\n",
       "<style scoped>\n",
       "    .dataframe tbody tr th:only-of-type {\n",
       "        vertical-align: middle;\n",
       "    }\n",
       "\n",
       "    .dataframe tbody tr th {\n",
       "        vertical-align: top;\n",
       "    }\n",
       "\n",
       "    .dataframe thead th {\n",
       "        text-align: right;\n",
       "    }\n",
       "</style>\n",
       "<table border=\"1\" class=\"dataframe\">\n",
       "  <thead>\n",
       "    <tr style=\"text-align: right;\">\n",
       "      <th></th>\n",
       "      <th>delta</th>\n",
       "      <th>theta</th>\n",
       "      <th>alpha</th>\n",
       "      <th>beta</th>\n",
       "      <th>gamma</th>\n",
       "      <th>mean</th>\n",
       "      <th>variance</th>\n",
       "      <th>skewness</th>\n",
       "      <th>kurtosis</th>\n",
       "      <th>line_length</th>\n",
       "      <th>label</th>\n",
       "      <th>subject_id</th>\n",
       "    </tr>\n",
       "  </thead>\n",
       "  <tbody>\n",
       "    <tr>\n",
       "      <th>0</th>\n",
       "      <td>0.000123</td>\n",
       "      <td>0.000067</td>\n",
       "      <td>1.039174e-05</td>\n",
       "      <td>4.101177e-07</td>\n",
       "      <td>1.740069e-07</td>\n",
       "      <td>-0.000003</td>\n",
       "      <td>2.089062e-08</td>\n",
       "      <td>-1.763948</td>\n",
       "      <td>2.470575</td>\n",
       "      <td>0.004479</td>\n",
       "      <td>0</td>\n",
       "      <td>sub-001</td>\n",
       "    </tr>\n",
       "    <tr>\n",
       "      <th>1</th>\n",
       "      <td>0.000208</td>\n",
       "      <td>0.000085</td>\n",
       "      <td>9.628139e-07</td>\n",
       "      <td>2.513081e-07</td>\n",
       "      <td>1.123781e-07</td>\n",
       "      <td>0.000125</td>\n",
       "      <td>4.599112e-08</td>\n",
       "      <td>0.497322</td>\n",
       "      <td>-1.170764</td>\n",
       "      <td>0.003333</td>\n",
       "      <td>0</td>\n",
       "      <td>sub-001</td>\n",
       "    </tr>\n",
       "    <tr>\n",
       "      <th>2</th>\n",
       "      <td>0.000917</td>\n",
       "      <td>0.000410</td>\n",
       "      <td>3.276360e-05</td>\n",
       "      <td>4.333310e-06</td>\n",
       "      <td>3.227772e-07</td>\n",
       "      <td>0.000167</td>\n",
       "      <td>1.393151e-07</td>\n",
       "      <td>0.577952</td>\n",
       "      <td>-0.144130</td>\n",
       "      <td>0.005464</td>\n",
       "      <td>0</td>\n",
       "      <td>sub-001</td>\n",
       "    </tr>\n",
       "    <tr>\n",
       "      <th>3</th>\n",
       "      <td>0.000069</td>\n",
       "      <td>0.000030</td>\n",
       "      <td>1.999117e-06</td>\n",
       "      <td>3.742573e-07</td>\n",
       "      <td>1.669777e-07</td>\n",
       "      <td>-0.000084</td>\n",
       "      <td>1.022358e-08</td>\n",
       "      <td>0.009396</td>\n",
       "      <td>-1.516320</td>\n",
       "      <td>0.003864</td>\n",
       "      <td>0</td>\n",
       "      <td>sub-001</td>\n",
       "    </tr>\n",
       "    <tr>\n",
       "      <th>4</th>\n",
       "      <td>0.000231</td>\n",
       "      <td>0.000103</td>\n",
       "      <td>7.266782e-06</td>\n",
       "      <td>3.089532e-06</td>\n",
       "      <td>2.499983e-07</td>\n",
       "      <td>0.000274</td>\n",
       "      <td>4.820566e-08</td>\n",
       "      <td>-0.132097</td>\n",
       "      <td>-0.538502</td>\n",
       "      <td>0.004247</td>\n",
       "      <td>0</td>\n",
       "      <td>sub-001</td>\n",
       "    </tr>\n",
       "    <tr>\n",
       "      <th>...</th>\n",
       "      <td>...</td>\n",
       "      <td>...</td>\n",
       "      <td>...</td>\n",
       "      <td>...</td>\n",
       "      <td>...</td>\n",
       "      <td>...</td>\n",
       "      <td>...</td>\n",
       "      <td>...</td>\n",
       "      <td>...</td>\n",
       "      <td>...</td>\n",
       "      <td>...</td>\n",
       "      <td>...</td>\n",
       "    </tr>\n",
       "    <tr>\n",
       "      <th>44362</th>\n",
       "      <td>0.000013</td>\n",
       "      <td>0.000007</td>\n",
       "      <td>9.744368e-07</td>\n",
       "      <td>5.313773e-07</td>\n",
       "      <td>1.449815e-06</td>\n",
       "      <td>0.000044</td>\n",
       "      <td>4.604022e-09</td>\n",
       "      <td>-0.090585</td>\n",
       "      <td>-0.633751</td>\n",
       "      <td>0.012132</td>\n",
       "      <td>0</td>\n",
       "      <td>sub-091</td>\n",
       "    </tr>\n",
       "    <tr>\n",
       "      <th>44363</th>\n",
       "      <td>0.000120</td>\n",
       "      <td>0.000066</td>\n",
       "      <td>1.038919e-05</td>\n",
       "      <td>6.017075e-07</td>\n",
       "      <td>1.444217e-06</td>\n",
       "      <td>-0.000086</td>\n",
       "      <td>1.725815e-08</td>\n",
       "      <td>-0.060559</td>\n",
       "      <td>0.376205</td>\n",
       "      <td>0.012171</td>\n",
       "      <td>0</td>\n",
       "      <td>sub-091</td>\n",
       "    </tr>\n",
       "    <tr>\n",
       "      <th>44364</th>\n",
       "      <td>0.000022</td>\n",
       "      <td>0.000011</td>\n",
       "      <td>1.920983e-06</td>\n",
       "      <td>2.185408e-06</td>\n",
       "      <td>1.516083e-06</td>\n",
       "      <td>0.000031</td>\n",
       "      <td>7.818443e-09</td>\n",
       "      <td>0.996139</td>\n",
       "      <td>1.549020</td>\n",
       "      <td>0.012272</td>\n",
       "      <td>0</td>\n",
       "      <td>sub-091</td>\n",
       "    </tr>\n",
       "    <tr>\n",
       "      <th>44365</th>\n",
       "      <td>0.000006</td>\n",
       "      <td>0.000004</td>\n",
       "      <td>7.138447e-07</td>\n",
       "      <td>5.277213e-07</td>\n",
       "      <td>1.427296e-06</td>\n",
       "      <td>0.000015</td>\n",
       "      <td>4.114224e-09</td>\n",
       "      <td>-0.093129</td>\n",
       "      <td>-0.464614</td>\n",
       "      <td>0.011401</td>\n",
       "      <td>0</td>\n",
       "      <td>sub-091</td>\n",
       "    </tr>\n",
       "    <tr>\n",
       "      <th>44366</th>\n",
       "      <td>0.000033</td>\n",
       "      <td>0.000015</td>\n",
       "      <td>2.734164e-06</td>\n",
       "      <td>2.491971e-06</td>\n",
       "      <td>1.684599e-06</td>\n",
       "      <td>0.000102</td>\n",
       "      <td>1.793102e-08</td>\n",
       "      <td>-1.532269</td>\n",
       "      <td>3.120465</td>\n",
       "      <td>0.013292</td>\n",
       "      <td>0</td>\n",
       "      <td>sub-091</td>\n",
       "    </tr>\n",
       "  </tbody>\n",
       "</table>\n",
       "<p>44367 rows × 12 columns</p>\n",
       "</div>"
      ],
      "text/plain": [
       "          delta     theta         alpha          beta         gamma      mean  \\\n",
       "0      0.000123  0.000067  1.039174e-05  4.101177e-07  1.740069e-07 -0.000003   \n",
       "1      0.000208  0.000085  9.628139e-07  2.513081e-07  1.123781e-07  0.000125   \n",
       "2      0.000917  0.000410  3.276360e-05  4.333310e-06  3.227772e-07  0.000167   \n",
       "3      0.000069  0.000030  1.999117e-06  3.742573e-07  1.669777e-07 -0.000084   \n",
       "4      0.000231  0.000103  7.266782e-06  3.089532e-06  2.499983e-07  0.000274   \n",
       "...         ...       ...           ...           ...           ...       ...   \n",
       "44362  0.000013  0.000007  9.744368e-07  5.313773e-07  1.449815e-06  0.000044   \n",
       "44363  0.000120  0.000066  1.038919e-05  6.017075e-07  1.444217e-06 -0.000086   \n",
       "44364  0.000022  0.000011  1.920983e-06  2.185408e-06  1.516083e-06  0.000031   \n",
       "44365  0.000006  0.000004  7.138447e-07  5.277213e-07  1.427296e-06  0.000015   \n",
       "44366  0.000033  0.000015  2.734164e-06  2.491971e-06  1.684599e-06  0.000102   \n",
       "\n",
       "           variance  skewness  kurtosis  line_length  label subject_id  \n",
       "0      2.089062e-08 -1.763948  2.470575     0.004479      0    sub-001  \n",
       "1      4.599112e-08  0.497322 -1.170764     0.003333      0    sub-001  \n",
       "2      1.393151e-07  0.577952 -0.144130     0.005464      0    sub-001  \n",
       "3      1.022358e-08  0.009396 -1.516320     0.003864      0    sub-001  \n",
       "4      4.820566e-08 -0.132097 -0.538502     0.004247      0    sub-001  \n",
       "...             ...       ...       ...          ...    ...        ...  \n",
       "44362  4.604022e-09 -0.090585 -0.633751     0.012132      0    sub-091  \n",
       "44363  1.725815e-08 -0.060559  0.376205     0.012171      0    sub-091  \n",
       "44364  7.818443e-09  0.996139  1.549020     0.012272      0    sub-091  \n",
       "44365  4.114224e-09 -0.093129 -0.464614     0.011401      0    sub-091  \n",
       "44366  1.793102e-08 -1.532269  3.120465     0.013292      0    sub-091  \n",
       "\n",
       "[44367 rows x 12 columns]"
      ]
     },
     "execution_count": 9,
     "metadata": {},
     "output_type": "execute_result"
    }
   ],
   "source": [
    "training_data.head(100000)"
   ]
  },
  {
   "cell_type": "code",
   "execution_count": null,
   "metadata": {},
   "outputs": [],
   "source": []
  }
 ],
 "metadata": {
  "kernelspec": {
   "display_name": "tf",
   "language": "python",
   "name": "python3"
  },
  "language_info": {
   "codemirror_mode": {
    "name": "ipython",
    "version": 3
   },
   "file_extension": ".py",
   "mimetype": "text/x-python",
   "name": "python",
   "nbconvert_exporter": "python",
   "pygments_lexer": "ipython3",
   "version": "3.11.5"
  }
 },
 "nbformat": 4,
 "nbformat_minor": 4
}
